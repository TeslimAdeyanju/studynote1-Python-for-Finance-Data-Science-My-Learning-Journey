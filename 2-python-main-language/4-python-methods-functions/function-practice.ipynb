{
 "cells": [
  {
   "cell_type": "code",
   "execution_count": 1,
   "id": "7cbf3b7c",
   "metadata": {},
   "outputs": [],
   "source": [
    "name = 'Teslim'\n",
    "\n",
    "def greet():\n",
    "    print(f'Hello, {name}!')\n",
    "\n",
    "\n",
    "def farewell():\n",
    "    print(f'Goodbye, {name}!')"
   ]
  },
  {
   "cell_type": "code",
   "execution_count": 2,
   "id": "d7669f43",
   "metadata": {},
   "outputs": [
    {
     "name": "stdout",
     "output_type": "stream",
     "text": [
      "Hello, Teslim!\n",
      "Goodbye, Teslim!\n"
     ]
    }
   ],
   "source": [
    "greet()\n",
    "farewell()"
   ]
  },
  {
   "cell_type": "code",
   "execution_count": 3,
   "id": "5e16dae1",
   "metadata": {},
   "outputs": [
    {
     "name": "stdout",
     "output_type": "stream",
     "text": [
      "Value in 1st function: 100\n",
      "Value in 2nd function: 555\n",
      "Value in 3rd function: 555\n",
      "Value in 1st function: 100\n",
      "Value in 2nd function: 555\n",
      "Value in 3rd function: 555\n"
     ]
    }
   ],
   "source": [
    "\n",
    "# Global variable\n",
    "x = 100\n",
    "\n",
    "def function1():\n",
    "    print(\"Value in 1st function:\", x)\n",
    "\n",
    "def function2():\n",
    "    global x  # Tells Python to use the global variable x\n",
    "    x = 555\n",
    "    print(\"Value in 2nd function:\", x)\n",
    "\n",
    "def function3():\n",
    "    print(\"Value in 3rd function:\", x)\n",
    "\n",
    "function1()\n",
    "function2()\n",
    "function3()"
   ]
  },
  {
   "cell_type": "code",
   "execution_count": 2,
   "id": "e5a43831",
   "metadata": {},
   "outputs": [
    {
     "data": {
      "text/plain": [
       "('Teslim', 'United Kingdom', 23000000)"
      ]
     },
     "execution_count": null,
     "metadata": {},
     "output_type": "execute_result"
    }
   ],
   "source": [
    "def student_detail():\n",
    "    name = 'Teslim'\n",
    "    location = 'United Kingdom'\n",
    "    salary = 23_000_000\n",
    "    return name, location, salary \n",
    "\n",
    "# calling the function \n",
    "student_detail()"
   ]
  },
  {
   "cell_type": "code",
   "execution_count": 4,
   "id": "8d05208b",
   "metadata": {},
   "outputs": [
    {
     "ename": "SyntaxError",
     "evalue": "positional argument follows keyword argument (1779554206.py, line 4)",
     "output_type": "error",
     "traceback": [
      "\u001b[0;36m  Cell \u001b[0;32mIn[4], line 4\u001b[0;36m\u001b[0m\n",
      "\u001b[0;31m    get_student(name='Jessa', 12, 'Six')\u001b[0m\n",
      "\u001b[0m                                       ^\u001b[0m\n",
      "\u001b[0;31mSyntaxError\u001b[0m\u001b[0;31m:\u001b[0m positional argument follows keyword argument\n"
     ]
    }
   ],
   "source": [
    "def get_student(name, age, grade):\n",
    "    print(name, age, grade)\n",
    "\n",
    "get_student(name='Jessa', 12, 'Six')"
   ]
  },
  {
   "cell_type": "code",
   "execution_count": null,
   "id": "68137e39",
   "metadata": {},
   "outputs": [],
   "source": [
    "# function with variable-length arguments\n",
    "def percentage(*args):\n",
    "    sum = 0\n",
    "    for i in args:\n",
    "        # get total\n",
    "        sum = sum + i\n",
    "    # calculate average\n",
    "    avg = sum / len(args)\n",
    "    print('Average =', avg)\n",
    "\n",
    "percentage(56, 61, 73)"
   ]
  },
  {
   "cell_type": "code",
   "execution_count": 1,
   "id": "2f493b80",
   "metadata": {},
   "outputs": [
    {
     "name": "stdout",
     "output_type": "stream",
     "text": [
      "average 4.0\n",
      "average 4.0\n"
     ]
    }
   ],
   "source": [
    "def days_of_work(*days_count):\n",
    "    days = 0\n",
    "    for x in days_count:\n",
    "        days = days + x\n",
    "    avg = days/len(days_count)\n",
    "    print('average', avg)\n",
    "\n",
    "days_of_work(3,5,4)"
   ]
  }
 ],
 "metadata": {
  "kernelspec": {
   "display_name": "machine-learning-env",
   "language": "python",
   "name": "python3"
  },
  "language_info": {
   "codemirror_mode": {
    "name": "ipython",
    "version": 3
   },
   "file_extension": ".py",
   "mimetype": "text/x-python",
   "name": "python",
   "nbconvert_exporter": "python",
   "pygments_lexer": "ipython3",
   "version": "3.10.13"
  }
 },
 "nbformat": 4,
 "nbformat_minor": 5
}
