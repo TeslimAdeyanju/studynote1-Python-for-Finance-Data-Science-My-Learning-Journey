{
 "cells": [
  {
   "cell_type": "markdown",
   "metadata": {},
   "source": [
    "# Series"
   ]
  },
  {
   "cell_type": "code",
   "execution_count": 1,
   "metadata": {},
   "outputs": [],
   "source": [
    "import pandas as pd"
   ]
  },
  {
   "cell_type": "markdown",
   "metadata": {
    "slideshow": {
     "slide_type": "-"
    }
   },
   "source": [
    "## Create a Series Object from a List\n",
    "______\n",
    "- A pandas **Series** is a one-dimensional labelled array.\n",
    "- A Series combines the best features of a list and a dictionary.\n",
    "- A Series maintains a single collection of ordered values (i.e. a single column of data).\n",
    "- We can assign each value an identifier, which does not have to *be* unique."
   ]
  },
  {
   "cell_type": "code",
   "execution_count": 2,
   "metadata": {},
   "outputs": [
    {
     "data": {
      "text/plain": [
       "0     Chocolate\n",
       "1       Vanilla\n",
       "2    Strawberry\n",
       "3    Rum Raisin\n",
       "dtype: object"
      ]
     },
     "execution_count": 2,
     "metadata": {},
     "output_type": "execute_result"
    }
   ],
   "source": [
    "ice_cream = [\"Chocolate\", \"Vanilla\", \"Strawberry\", \"Rum Raisin\"]\n",
    "pd.Series(ice_cream)"
   ]
  },
  {
   "cell_type": "code",
   "execution_count": 3,
   "metadata": {},
   "outputs": [
    {
     "data": {
      "text/plain": [
       "0     4\n",
       "1     8\n",
       "2    15\n",
       "3    16\n",
       "4    23\n",
       "5    42\n",
       "dtype: int64"
      ]
     },
     "execution_count": 3,
     "metadata": {},
     "output_type": "execute_result"
    }
   ],
   "source": [
    "lottery_numbers = [4, 8, 15, 16, 23, 42]\n",
    "pd.Series(lottery_numbers)"
   ]
  },
  {
   "cell_type": "code",
   "execution_count": 4,
   "metadata": {},
   "outputs": [
    {
     "data": {
      "text/plain": [
       "0     True\n",
       "1    False\n",
       "2    False\n",
       "3    False\n",
       "4     True\n",
       "dtype: bool"
      ]
     },
     "execution_count": 4,
     "metadata": {},
     "output_type": "execute_result"
    }
   ],
   "source": [
    "registrations = [True, False, False, False, True]\n",
    "pd.Series(registrations)"
   ]
  },
  {
   "cell_type": "markdown",
   "metadata": {},
   "source": [
    "## Create a Series Object from a Dictionary\n",
    "_____"
   ]
  },
  {
   "cell_type": "code",
   "execution_count": 5,
   "metadata": {},
   "outputs": [
    {
     "data": {
      "text/plain": [
       "Salmon    Orange\n",
       "Tuna         Red\n",
       "Eel        Brown\n",
       "dtype: object"
      ]
     },
     "execution_count": 5,
     "metadata": {},
     "output_type": "execute_result"
    }
   ],
   "source": [
    "sushi = {\n",
    "    \"Salmon\": \"Orange\",\n",
    "    \"Tuna\": \"Red\",\n",
    "    \"Eel\": \"Brown\"\n",
    "}\n",
    "\n",
    "pd.Series(sushi)"
   ]
  },
  {
   "cell_type": "markdown",
   "metadata": {},
   "source": [
    "## Intro to Series Methods\n",
    "____\n",
    "- The syntax to invoke a method on any object is `object.method()`.\n",
    "- The `sum` method adds together the **Series'** values.\n",
    "- The `product` method multiplies the **Series'** values.\n",
    "- The `mean` method finds the average of the **Series'** values.\n",
    "- The `std` method finds the standard deviation of the **Series'** values."
   ]
  },
  {
   "cell_type": "code",
   "execution_count": 6,
   "metadata": {
    "tags": []
   },
   "outputs": [
    {
     "data": {
      "text/plain": [
       "0    2.99\n",
       "1    4.45\n",
       "2    1.36\n",
       "dtype: float64"
      ]
     },
     "execution_count": 6,
     "metadata": {},
     "output_type": "execute_result"
    }
   ],
   "source": [
    "prices = pd.Series([2.99, 4.45, 1.36])\n",
    "prices"
   ]
  },
  {
   "cell_type": "code",
   "execution_count": 7,
   "metadata": {
    "tags": []
   },
   "outputs": [
    {
     "data": {
      "text/plain": [
       "8.8"
      ]
     },
     "execution_count": 7,
     "metadata": {},
     "output_type": "execute_result"
    }
   ],
   "source": [
    "prices.sum()"
   ]
  },
  {
   "cell_type": "code",
   "execution_count": 8,
   "metadata": {
    "tags": []
   },
   "outputs": [
    {
     "data": {
      "text/plain": [
       "18.095480000000006"
      ]
     },
     "execution_count": 8,
     "metadata": {},
     "output_type": "execute_result"
    }
   ],
   "source": [
    "prices.product()"
   ]
  },
  {
   "cell_type": "code",
   "execution_count": 9,
   "metadata": {
    "tags": []
   },
   "outputs": [
    {
     "data": {
      "text/plain": [
       "2.9333333333333336"
      ]
     },
     "execution_count": 9,
     "metadata": {},
     "output_type": "execute_result"
    }
   ],
   "source": [
    "prices.mean()"
   ]
  },
  {
   "cell_type": "code",
   "execution_count": 10,
   "metadata": {
    "tags": []
   },
   "outputs": [
    {
     "data": {
      "text/plain": [
       "1.5457791994115246"
      ]
     },
     "execution_count": 10,
     "metadata": {},
     "output_type": "execute_result"
    }
   ],
   "source": [
    "prices.std()"
   ]
  },
  {
   "cell_type": "markdown",
   "metadata": {},
   "source": [
    "## Intro to Attributes\n",
    "_____\n",
    "- An **attribute** is a piece of data that lives on an object.\n",
    "- An **attribute** is a fact, a detail, a characteristic of the object.\n",
    "- Access an attribute with `object.attribute` syntax.\n",
    "- The `size` attribute returns a count of the number of values in the **Series**.\n",
    "- The `is_unique` attribute returns True if the **Series** has no duplicate values.\n",
    "- The `values` and `index` attributes return the underlying objects that holds the **Series'** values and index labels."
   ]
  },
  {
   "cell_type": "code",
   "execution_count": 11,
   "metadata": {
    "tags": []
   },
   "outputs": [
    {
     "data": {
      "text/plain": [
       "0        Smart\n",
       "1     Handsome\n",
       "2     Charming\n",
       "3    Brilliant\n",
       "4       Humble\n",
       "5        Smart\n",
       "dtype: object"
      ]
     },
     "execution_count": 11,
     "metadata": {},
     "output_type": "execute_result"
    }
   ],
   "source": [
    "adjectives = pd.Series([\"Smart\", \"Handsome\", \"Charming\", \"Brilliant\", \"Humble\", \"Smart\"])\n",
    "adjectives"
   ]
  },
  {
   "cell_type": "code",
   "execution_count": 12,
   "metadata": {
    "tags": []
   },
   "outputs": [
    {
     "data": {
      "text/plain": [
       "6"
      ]
     },
     "execution_count": 12,
     "metadata": {},
     "output_type": "execute_result"
    }
   ],
   "source": [
    "adjectives.size"
   ]
  },
  {
   "cell_type": "code",
   "execution_count": 13,
   "metadata": {
    "tags": []
   },
   "outputs": [
    {
     "data": {
      "text/plain": [
       "False"
      ]
     },
     "execution_count": 13,
     "metadata": {},
     "output_type": "execute_result"
    }
   ],
   "source": [
    "adjectives.is_unique"
   ]
  },
  {
   "cell_type": "code",
   "execution_count": 14,
   "metadata": {
    "tags": []
   },
   "outputs": [
    {
     "data": {
      "text/plain": [
       "array(['Smart', 'Handsome', 'Charming', 'Brilliant', 'Humble', 'Smart'],\n",
       "      dtype=object)"
      ]
     },
     "execution_count": 14,
     "metadata": {},
     "output_type": "execute_result"
    }
   ],
   "source": [
    "adjectives.values"
   ]
  },
  {
   "cell_type": "code",
   "execution_count": 15,
   "metadata": {
    "tags": []
   },
   "outputs": [
    {
     "data": {
      "text/plain": [
       "RangeIndex(start=0, stop=6, step=1)"
      ]
     },
     "execution_count": 15,
     "metadata": {},
     "output_type": "execute_result"
    }
   ],
   "source": [
    "adjectives.index"
   ]
  },
  {
   "cell_type": "code",
   "execution_count": 16,
   "metadata": {
    "tags": []
   },
   "outputs": [
    {
     "data": {
      "text/plain": [
       "numpy.ndarray"
      ]
     },
     "execution_count": 16,
     "metadata": {},
     "output_type": "execute_result"
    }
   ],
   "source": [
    "type(adjectives.values)"
   ]
  },
  {
   "cell_type": "code",
   "execution_count": 17,
   "metadata": {
    "tags": []
   },
   "outputs": [
    {
     "data": {
      "text/plain": [
       "pandas.core.indexes.range.RangeIndex"
      ]
     },
     "execution_count": 17,
     "metadata": {},
     "output_type": "execute_result"
    }
   ],
   "source": [
    "type(adjectives.index)"
   ]
  },
  {
   "cell_type": "markdown",
   "metadata": {},
   "source": [
    "## Parameters and Arguments\n",
    "____\n",
    "- A **parameter** is the name for an expected input to a function/method/class instantiation.\n",
    "- An **argument** is the concrete value we provide for a parameter during invocation.\n",
    "- We can pass arguments either sequentially (based on parameter order) or with explicit parameter names written out.\n",
    "- The first two parameters for the **Series** constructor are `data` and `index`, which represent the values and the index labels."
   ]
  },
  {
   "cell_type": "markdown",
   "metadata": {},
   "source": [
    "The syntax for series is thus:\n",
    "```python\n",
    "pd.Series(data=None, index=None, dtype=None, name=None, copy=False, fastpath=False)\n",
    "```"
   ]
  },
  {
   "cell_type": "code",
   "execution_count": 18,
   "metadata": {
    "tags": []
   },
   "outputs": [],
   "source": [
    "fruits = [\"Apple\", \"Orange\", \"Plum\", \"Grape\", \"Blueberry\", \"Watermelon\"]\n",
    "weekdays = [\"Monday\", \"Tuesday\", \"Wednesday\", \"Thursday\", \"Friday\", \"Monday\"]"
   ]
  },
  {
   "cell_type": "code",
   "execution_count": 19,
   "metadata": {
    "tags": []
   },
   "outputs": [
    {
     "data": {
      "text/plain": [
       "Apple            Monday\n",
       "Orange          Tuesday\n",
       "Plum          Wednesday\n",
       "Grape          Thursday\n",
       "Blueberry        Friday\n",
       "Watermelon       Monday\n",
       "dtype: object"
      ]
     },
     "execution_count": 19,
     "metadata": {},
     "output_type": "execute_result"
    }
   ],
   "source": [
    "pd.Series(fruits)\n",
    "pd.Series(weekdays)\n",
    "pd.Series(fruits, weekdays)\n",
    "pd.Series(weekdays, fruits)"
   ]
  },
  {
   "cell_type": "code",
   "execution_count": 20,
   "metadata": {
    "tags": []
   },
   "outputs": [
    {
     "data": {
      "text/plain": [
       "Monday            Apple\n",
       "Tuesday          Orange\n",
       "Wednesday          Plum\n",
       "Thursday          Grape\n",
       "Friday        Blueberry\n",
       "Monday       Watermelon\n",
       "dtype: object"
      ]
     },
     "execution_count": 20,
     "metadata": {},
     "output_type": "execute_result"
    }
   ],
   "source": [
    "pd.Series(data=fruits, index=weekdays)\n",
    "pd.Series(index=weekdays, data=fruits)"
   ]
  },
  {
   "cell_type": "code",
   "execution_count": 21,
   "metadata": {
    "tags": []
   },
   "outputs": [
    {
     "data": {
      "text/plain": [
       "Monday            Apple\n",
       "Tuesday          Orange\n",
       "Wednesday          Plum\n",
       "Thursday          Grape\n",
       "Friday        Blueberry\n",
       "Monday       Watermelon\n",
       "dtype: object"
      ]
     },
     "execution_count": 21,
     "metadata": {},
     "output_type": "execute_result"
    }
   ],
   "source": [
    "pd.Series(fruits, index=weekdays)"
   ]
  },
  {
   "cell_type": "code",
   "execution_count": 22,
   "metadata": {},
   "outputs": [
    {
     "data": {
      "text/plain": [
       "0         Apple\n",
       "1        Orange\n",
       "2          Plum\n",
       "3         Grape\n",
       "4     Blueberry\n",
       "5    Watermelon\n",
       "dtype: object"
      ]
     },
     "execution_count": 22,
     "metadata": {},
     "output_type": "execute_result"
    }
   ],
   "source": [
    "pd.Series(fruits)"
   ]
  },
  {
   "cell_type": "code",
   "execution_count": 23,
   "metadata": {
    "tags": []
   },
   "outputs": [
    {
     "data": {
      "text/plain": [
       "Series([], dtype: object)"
      ]
     },
     "execution_count": 23,
     "metadata": {},
     "output_type": "execute_result"
    }
   ],
   "source": [
    "pd.Series()"
   ]
  },
  {
   "cell_type": "markdown",
   "metadata": {},
   "source": [
    "## Import Series with the pd.read_csv Function\n",
    "_____\n",
    "- A **CSV** is a plain text file that uses line breaks to separate rows and commas to separate row values.\n",
    "- Pandas ships with many different `read_` functions for different types of files.\n",
    "- The `read_csv` function accepts many different parameters. The first one specifies the file name/path.\n",
    "- The `read_csv` function will import the dataset as a **DataFrame**, a 2-dimensional table.\n",
    "- The `usecols` parameter accepts a list of the column(s) to import.\n",
    "- The `squeeze` method converts a **DataFrame** to a **Series**.\n",
    "\n",
    "\n",
    "**The squeeze method**   \n",
    "This is used to convert DataFrame objects of a single column or a single row into a Series object, and to convert a DataFrame with a single element into a scalar. It removes dimensions of length 1 from the DataFrame, simplifying its structure. This can be particularly useful for simplifying the results of certain operations that return DataFrames with only one column or row. The syntax for the squeeze method is as follows:\n",
    "\n",
    "```python\n",
    "DataFrame.squeeze(axis=None)\n",
    "```\n",
    "The axis parameter is optional. It specifies the axis along which the squeeze operation is performed. The axis parameter can take the following values:\n",
    "\n",
    "- axis=0: Squeeze the DataFrame along the row axis.\n",
    "- axis=1: Squeeze the DataFrame along the column axis.\n",
    "- axis=None: Squeeze the DataFrame along both the row and column axes.\n",
    "\n",
    "\n",
    "**usecols**   \n",
    "This parameter is used to specify the columns to import from the CSV file. The usecols parameter can accept the following values:\n",
    "\n",
    "- A list of column names: This will import only the specified columns.\n",
    "- A list of column indices: This will import only the columns at the specified indices.\n",
    "- A callable function: This will import only the columns for which the callable function returns True.\n",
    "- A string: This will import only the columns with the specified names or indices.\n",
    "\n"
   ]
  },
  {
   "cell_type": "markdown",
   "metadata": {},
   "source": [
    "The syntax for reading a CSV file is thus:\n",
    "```python\n",
    "pd.read_csv(filepath_or_buffer, sep=',', delimiter=None, header='infer', names=None, index_col=None, usecols=None, squeeze=False, prefix=None, mangle_dupe_cols=True, dtype=None, engine=None, converters=None, true_values=None, false_values=None, skipinitialspace=False, skiprows=None, skipfooter=0, nrows=None, na_values=None, keep_default_na=True, na_filter=True, verbose=False, skip_blank_lines=True, parse_dates=False, infer_datetime_format=False, keep_date_col=False, date_parser=None, dayfirst=False, cache_dates=True, iterator=False, chunksize=None, compression='infer', thousands=None, decimal=b'.', lineterminator=None, quotechar='\"', quoting=0, doublequote=True, escapechar=None, comment=None, encoding=None, dialect=None, error_bad_lines=True, warn_bad_lines=True, delim_whitespace=False, low_memory=True, memory_map=False, float_precision=None)\n",
    "```"
   ]
  },
  {
   "cell_type": "code",
   "execution_count": 24,
   "metadata": {},
   "outputs": [
    {
     "data": {
      "text/plain": [
       "0          Bulbasaur\n",
       "1            Ivysaur\n",
       "2           Venusaur\n",
       "3         Charmander\n",
       "4         Charmeleon\n",
       "            ...     \n",
       "1005    Iron Valiant\n",
       "1006        Koraidon\n",
       "1007        Miraidon\n",
       "1008    Walking Wake\n",
       "1009     Iron Leaves\n",
       "Name: Name, Length: 1010, dtype: object"
      ]
     },
     "execution_count": 24,
     "metadata": {},
     "output_type": "execute_result"
    }
   ],
   "source": [
    "pokemon = pd.read_csv(\"pokemon.csv\", usecols=[\"Name\"]).squeeze(\"columns\")\n",
    "pokemon"
   ]
  },
  {
   "cell_type": "code",
   "execution_count": 25,
   "metadata": {
    "tags": []
   },
   "outputs": [
    {
     "data": {
      "text/plain": [
       "0         2.490664\n",
       "1         2.515820\n",
       "2         2.758411\n",
       "3         2.770615\n",
       "4         2.614201\n",
       "           ...    \n",
       "4788    132.080002\n",
       "4789    132.998001\n",
       "4790    135.570007\n",
       "4791    137.050003\n",
       "4792    138.429993\n",
       "Name: Price, Length: 4793, dtype: float64"
      ]
     },
     "execution_count": 25,
     "metadata": {},
     "output_type": "execute_result"
    }
   ],
   "source": [
    "google = pd.read_csv(\"google_stock_price.csv\", usecols=[\"Price\"]).squeeze(\"columns\")\n",
    "google"
   ]
  },
  {
   "cell_type": "markdown",
   "metadata": {},
   "source": [
    "## The head and tail Methods\n",
    "____\n",
    "- The `head` method returns a number of rows from the top/beginning of the `Series`.\n",
    "- The `tail` method returns a number of rows from the bottom/end of the `Series`."
   ]
  },
  {
   "cell_type": "code",
   "execution_count": 26,
   "metadata": {
    "tags": []
   },
   "outputs": [],
   "source": [
    "pokemon = pd.read_csv(\"pokemon.csv\", usecols=[\"Name\"]).squeeze(\"columns\")\n",
    "google = pd.read_csv(\"google_stock_price.csv\", usecols=[\"Price\"]).squeeze(\"columns\")"
   ]
  },
  {
   "cell_type": "code",
   "execution_count": 27,
   "metadata": {
    "tags": []
   },
   "outputs": [
    {
     "data": {
      "text/plain": [
       "0    Bulbasaur\n",
       "Name: Name, dtype: object"
      ]
     },
     "execution_count": 27,
     "metadata": {},
     "output_type": "execute_result"
    }
   ],
   "source": [
    "pokemon.head()\n",
    "pokemon.head(5)\n",
    "pokemon.head(n=5)\n",
    "\n",
    "pokemon.head(8)\n",
    "pokemon.head(1)"
   ]
  },
  {
   "cell_type": "code",
   "execution_count": 28,
   "metadata": {
    "tags": []
   },
   "outputs": [
    {
     "data": {
      "text/plain": [
       "4791    137.050003\n",
       "4792    138.429993\n",
       "Name: Price, dtype: float64"
      ]
     },
     "execution_count": 28,
     "metadata": {},
     "output_type": "execute_result"
    }
   ],
   "source": [
    "google.tail()\n",
    "google.tail(5)\n",
    "google.tail(n=5)\n",
    "\n",
    "google.tail(7)\n",
    "google.tail(n=2)"
   ]
  },
  {
   "cell_type": "markdown",
   "metadata": {},
   "source": [
    "## Passing Series to Python's Built-In Functions\n",
    "____\n",
    "- The `len` function returns the length of the **Series**.\n",
    "- The `type` function returns the type of an object.\n",
    "- The `list` function converts the **Series** to a list.\n",
    "- The `dict` function converts the **Series** to a dictionary.\n",
    "- The `sorted` function converts the **Series** to a sorted list.\n",
    "- The `max` function returns the largest value in the **Series**.\n",
    "- The `min` function returns the smalllest value in the **Series**."
   ]
  },
  {
   "cell_type": "code",
   "execution_count": 29,
   "metadata": {
    "tags": []
   },
   "outputs": [],
   "source": [
    "pokemon = pd.read_csv(\"pokemon.csv\", usecols=[\"Name\"]).squeeze(\"columns\")\n",
    "google = pd.read_csv(\"google_stock_price.csv\", usecols=[\"Price\"]).squeeze(\"columns\")"
   ]
  },
  {
   "cell_type": "code",
   "execution_count": 30,
   "metadata": {
    "tags": []
   },
   "outputs": [
    {
     "data": {
      "text/plain": [
       "0     Bulbasaur\n",
       "1       Ivysaur\n",
       "2      Venusaur\n",
       "3    Charmander\n",
       "4    Charmeleon\n",
       "Name: Name, dtype: object"
      ]
     },
     "execution_count": 30,
     "metadata": {},
     "output_type": "execute_result"
    }
   ],
   "source": [
    "pokemon.head()"
   ]
  },
  {
   "cell_type": "code",
   "execution_count": 31,
   "metadata": {
    "tags": []
   },
   "outputs": [
    {
     "name": "stdout",
     "output_type": "stream",
     "text": [
      "1010\n",
      "<class 'pandas.core.series.Series'>\n",
      "['Bulbasaur', 'Ivysaur', 'Venusaur', 'Charmander', 'Charmeleon', 'Charizard', 'Squirtle', 'Wartortle', 'Blastoise', 'Caterpie', 'Metapod', 'Butterfree', 'Weedle', 'Kakuna', 'Beedrill', 'Pidgey', 'Pidgeotto', 'Pidgeot', 'Rattata', 'Raticate', 'Spearow', 'Fearow', 'Ekans', 'Arbok', 'Pikachu', 'Raichu', 'Sandshrew', 'Sandslash', 'Nidoran♀', 'Nidorina', 'Nidoqueen', 'Nidoran♂', 'Nidorino', 'Nidoking', 'Clefairy', 'Clefable', 'Vulpix', 'Ninetales', 'Jigglypuff', 'Wigglytuff', 'Zubat', 'Golbat', 'Oddish', 'Gloom', 'Vileplume', 'Paras', 'Parasect', 'Venonat', 'Venomoth', 'Diglett', 'Dugtrio', 'Meowth', 'Persian', 'Psyduck', 'Golduck', 'Mankey', 'Primeape', 'Growlithe', 'Arcanine', 'Poliwag', 'Poliwhirl', 'Poliwrath', 'Abra', 'Kadabra', 'Alakazam', 'Machop', 'Machoke', 'Machamp', 'Bellsprout', 'Weepinbell', 'Victreebel', 'Tentacool', 'Tentacruel', 'Geodude', 'Graveler', 'Golem', 'Ponyta', 'Rapidash', 'Slowpoke', 'Slowbro', 'Magnemite', 'Magneton', 'Farfetch’d', 'Doduo', 'Dodrio', 'Seel', 'Dewgong', 'Grimer', 'Muk', 'Shellder', 'Cloyster', 'Gastly', 'Haunter', 'Gengar', 'Onix', 'Drowzee', 'Hypno', 'Krabby', 'Kingler', 'Voltorb', 'Electrode', 'Exeggcute', 'Exeggutor', 'Cubone', 'Marowak', 'Hitmonlee', 'Hitmonchan', 'Lickitung', 'Koffing', 'Weezing', 'Rhyhorn', 'Rhydon', 'Chansey', 'Tangela', 'Kangaskhan', 'Horsea', 'Seadra', 'Goldeen', 'Seaking', 'Staryu', 'Starmie', 'Mr. Mime', 'Scyther', 'Jynx', 'Electabuzz', 'Magmar', 'Pinsir', 'Tauros', 'Magikarp', 'Gyarados', 'Lapras', 'Ditto', 'Eevee', 'Vaporeon', 'Jolteon', 'Flareon', 'Porygon', 'Omanyte', 'Omastar', 'Kabuto', 'Kabutops', 'Aerodactyl', 'Snorlax', 'Articuno', 'Zapdos', 'Moltres', 'Dratini', 'Dragonair', 'Dragonite', 'Mewtwo', 'Mew', 'Chikorita', 'Bayleef', 'Meganium', 'Cyndaquil', 'Quilava', 'Typhlosion', 'Totodile', 'Croconaw', 'Feraligatr', 'Sentret', 'Furret', 'Hoothoot', 'Noctowl', 'Ledyba', 'Ledian', 'Spinarak', 'Ariados', 'Crobat', 'Chinchou', 'Lanturn', 'Pichu', 'Cleffa', 'Igglybuff', 'Togepi', 'Togetic', 'Natu', 'Xatu', 'Mareep', 'Flaaffy', 'Ampharos', 'Bellossom', 'Marill', 'Azumarill', 'Sudowoodo', 'Politoed', 'Hoppip', 'Skiploom', 'Jumpluff', 'Aipom', 'Sunkern', 'Sunflora', 'Yanma', 'Wooper', 'Quagsire', 'Espeon', 'Umbreon', 'Murkrow', 'Slowking', 'Misdreavus', 'Unown', 'Wobbuffet', 'Girafarig', 'Pineco', 'Forretress', 'Dunsparce', 'Gligar', 'Steelix', 'Snubbull', 'Granbull', 'Qwilfish', 'Scizor', 'Shuckle', 'Heracross', 'Sneasel', 'Teddiursa', 'Ursaring', 'Slugma', 'Magcargo', 'Swinub', 'Piloswine', 'Corsola', 'Remoraid', 'Octillery', 'Delibird', 'Mantine', 'Skarmory', 'Houndour', 'Houndoom', 'Kingdra', 'Phanpy', 'Donphan', 'Porygon2', 'Stantler', 'Smeargle', 'Tyrogue', 'Hitmontop', 'Smoochum', 'Elekid', 'Magby', 'Miltank', 'Blissey', 'Raikou', 'Entei', 'Suicune', 'Larvitar', 'Pupitar', 'Tyranitar', 'Lugia', 'Ho-Oh', 'Celebi', 'Treecko', 'Grovyle', 'Sceptile', 'Torchic', 'Combusken', 'Blaziken', 'Mudkip', 'Marshtomp', 'Swampert', 'Poochyena', 'Mightyena', 'Zigzagoon', 'Linoone', 'Wurmple', 'Silcoon', 'Beautifly', 'Cascoon', 'Dustox', 'Lotad', 'Lombre', 'Ludicolo', 'Seedot', 'Nuzleaf', 'Shiftry', 'Taillow', 'Swellow', 'Wingull', 'Pelipper', 'Ralts', 'Kirlia', 'Gardevoir', 'Surskit', 'Masquerain', 'Shroomish', 'Breloom', 'Slakoth', 'Vigoroth', 'Slaking', 'Nincada', 'Ninjask', 'Shedinja', 'Whismur', 'Loudred', 'Exploud', 'Makuhita', 'Hariyama', 'Azurill', 'Nosepass', 'Skitty', 'Delcatty', 'Sableye', 'Mawile', 'Aron', 'Lairon', 'Aggron', 'Meditite', 'Medicham', 'Electrike', 'Manectric', 'Plusle', 'Minun', 'Volbeat', 'Illumise', 'Roselia', 'Gulpin', 'Swalot', 'Carvanha', 'Sharpedo', 'Wailmer', 'Wailord', 'Numel', 'Camerupt', 'Torkoal', 'Spoink', 'Grumpig', 'Spinda', 'Trapinch', 'Vibrava', 'Flygon', 'Cacnea', 'Cacturne', 'Swablu', 'Altaria', 'Zangoose', 'Seviper', 'Lunatone', 'Solrock', 'Barboach', 'Whiscash', 'Corphish', 'Crawdaunt', 'Baltoy', 'Claydol', 'Lileep', 'Cradily', 'Anorith', 'Armaldo', 'Feebas', 'Milotic', 'Castform', 'Kecleon', 'Shuppet', 'Banette', 'Duskull', 'Dusclops', 'Tropius', 'Chimecho', 'Absol', 'Wynaut', 'Snorunt', 'Glalie', 'Spheal', 'Sealeo', 'Walrein', 'Clamperl', 'Huntail', 'Gorebyss', 'Relicanth', 'Luvdisc', 'Bagon', 'Shelgon', 'Salamence', 'Beldum', 'Metang', 'Metagross', 'Regirock', 'Regice', 'Registeel', 'Latias', 'Latios', 'Kyogre', 'Groudon', 'Rayquaza', 'Jirachi', 'Deoxys', 'Turtwig', 'Grotle', 'Torterra', 'Chimchar', 'Monferno', 'Infernape', 'Piplup', 'Prinplup', 'Empoleon', 'Starly', 'Staravia', 'Staraptor', 'Bidoof', 'Bibarel', 'Kricketot', 'Kricketune', 'Shinx', 'Luxio', 'Luxray', 'Budew', 'Roserade', 'Cranidos', 'Rampardos', 'Shieldon', 'Bastiodon', 'Burmy', 'Wormadam', 'Mothim', 'Combee', 'Vespiquen', 'Pachirisu', 'Buizel', 'Floatzel', 'Cherubi', 'Cherrim', 'Shellos', 'Gastrodon', 'Ambipom', 'Drifloon', 'Drifblim', 'Buneary', 'Lopunny', 'Mismagius', 'Honchkrow', 'Glameow', 'Purugly', 'Chingling', 'Stunky', 'Skuntank', 'Bronzor', 'Bronzong', 'Bonsly', 'Mime Jr.', 'Happiny', 'Chatot', 'Spiritomb', 'Gible', 'Gabite', 'Garchomp', 'Munchlax', 'Riolu', 'Lucario', 'Hippopotas', 'Hippowdon', 'Skorupi', 'Drapion', 'Croagunk', 'Toxicroak', 'Carnivine', 'Finneon', 'Lumineon', 'Mantyke', 'Snover', 'Abomasnow', 'Weavile', 'Magnezone', 'Lickilicky', 'Rhyperior', 'Tangrowth', 'Electivire', 'Magmortar', 'Togekiss', 'Yanmega', 'Leafeon', 'Glaceon', 'Gliscor', 'Mamoswine', 'Porygon-Z', 'Gallade', 'Probopass', 'Dusknoir', 'Froslass', 'Rotom', 'Uxie', 'Mesprit', 'Azelf', 'Dialga', 'Palkia', 'Heatran', 'Regigigas', 'Giratina', 'Cresselia', 'Phione', 'Manaphy', 'Darkrai', 'Shaymin', 'Arceus', 'Victini', 'Snivy', 'Servine', 'Serperior', 'Tepig', 'Pignite', 'Emboar', 'Oshawott', 'Dewott', 'Samurott', 'Patrat', 'Watchog', 'Lillipup', 'Herdier', 'Stoutland', 'Purrloin', 'Liepard', 'Pansage', 'Simisage', 'Pansear', 'Simisear', 'Panpour', 'Simipour', 'Munna', 'Musharna', 'Pidove', 'Tranquill', 'Unfezant', 'Blitzle', 'Zebstrika', 'Roggenrola', 'Boldore', 'Gigalith', 'Woobat', 'Swoobat', 'Drilbur', 'Excadrill', 'Audino', 'Timburr', 'Gurdurr', 'Conkeldurr', 'Tympole', 'Palpitoad', 'Seismitoad', 'Throh', 'Sawk', 'Sewaddle', 'Swadloon', 'Leavanny', 'Venipede', 'Whirlipede', 'Scolipede', 'Cottonee', 'Whimsicott', 'Petilil', 'Lilligant', 'Basculin', 'Sandile', 'Krokorok', 'Krookodile', 'Darumaka', 'Darmanitan', 'Maractus', 'Dwebble', 'Crustle', 'Scraggy', 'Scrafty', 'Sigilyph', 'Yamask', 'Cofagrigus', 'Tirtouga', 'Carracosta', 'Archen', 'Archeops', 'Trubbish', 'Garbodor', 'Zorua', 'Zoroark', 'Minccino', 'Cinccino', 'Gothita', 'Gothorita', 'Gothitelle', 'Solosis', 'Duosion', 'Reuniclus', 'Ducklett', 'Swanna', 'Vanillite', 'Vanillish', 'Vanilluxe', 'Deerling', 'Sawsbuck', 'Emolga', 'Karrablast', 'Escavalier', 'Foongus', 'Amoonguss', 'Frillish', 'Jellicent', 'Alomomola', 'Joltik', 'Galvantula', 'Ferroseed', 'Ferrothorn', 'Klink', 'Klang', 'Klinklang', 'Tynamo', 'Eelektrik', 'Eelektross', 'Elgyem', 'Beheeyem', 'Litwick', 'Lampent', 'Chandelure', 'Axew', 'Fraxure', 'Haxorus', 'Cubchoo', 'Beartic', 'Cryogonal', 'Shelmet', 'Accelgor', 'Stunfisk', 'Mienfoo', 'Mienshao', 'Druddigon', 'Golett', 'Golurk', 'Pawniard', 'Bisharp', 'Bouffalant', 'Rufflet', 'Braviary', 'Vullaby', 'Mandibuzz', 'Heatmor', 'Durant', 'Deino', 'Zweilous', 'Hydreigon', 'Larvesta', 'Volcarona', 'Cobalion', 'Terrakion', 'Virizion', 'Tornadus', 'Thundurus', 'Reshiram', 'Zekrom', 'Landorus', 'Kyurem', 'Keldeo', 'Meloetta', 'Genesect', 'Chespin', 'Quilladin', 'Chesnaught', 'Fennekin', 'Braixen', 'Delphox', 'Froakie', 'Frogadier', 'Greninja', 'Bunnelby', 'Diggersby', 'Fletchling', 'Fletchinder', 'Talonflame', 'Scatterbug', 'Spewpa', 'Vivillon', 'Litleo', 'Pyroar', 'Flabébé', 'Floette', 'Florges', 'Skiddo', 'Gogoat', 'Pancham', 'Pangoro', 'Furfrou', 'Espurr', 'Meowstic', 'Honedge', 'Doublade', 'Aegislash', 'Spritzee', 'Aromatisse', 'Swirlix', 'Slurpuff', 'Inkay', 'Malamar', 'Binacle', 'Barbaracle', 'Skrelp', 'Dragalge', 'Clauncher', 'Clawitzer', 'Helioptile', 'Heliolisk', 'Tyrunt', 'Tyrantrum', 'Amaura', 'Aurorus', 'Sylveon', 'Hawlucha', 'Dedenne', 'Carbink', 'Goomy', 'Sliggoo', 'Goodra', 'Klefki', 'Phantump', 'Trevenant', 'Pumpkaboo', 'Gourgeist', 'Bergmite', 'Avalugg', 'Noibat', 'Noivern', 'Xerneas', 'Yveltal', 'Zygarde', 'Diancie', 'Hoopa', 'Volcanion', 'Rowlet', 'Dartrix', 'Decidueye', 'Litten', 'Torracat', 'Incineroar', 'Popplio', 'Brionne', 'Primarina', 'Pikipek', 'Trumbeak', 'Toucannon', 'Yungoos', 'Gumshoos', 'Grubbin', 'Charjabug', 'Vikavolt', 'Crabrawler', 'Crabominable', 'Oricorio', 'Cutiefly', 'Ribombee', 'Rockruff', 'Lycanroc', 'Wishiwashi', 'Mareanie', 'Toxapex', 'Mudbray', 'Mudsdale', 'Dewpider', 'Araquanid', 'Fomantis', 'Lurantis', 'Morelull', 'Shiinotic', 'Salandit', 'Salazzle', 'Stufful', 'Bewear', 'Bounsweet', 'Steenee', 'Tsareena', 'Comfey', 'Oranguru', 'Passimian', 'Wimpod', 'Golisopod', 'Sandygast', 'Palossand', 'Pyukumuku', 'Type: Null', 'Silvally', 'Minior', 'Komala', 'Turtonator', 'Togedemaru', 'Mimikyu', 'Bruxish', 'Drampa', 'Dhelmise', 'Jangmo-o', 'Hakamo-o', 'Kommo-o', 'Tapu Koko', 'Tapu Lele', 'Tapu Bulu', 'Tapu Fini', 'Cosmog', 'Cosmoem', 'Solgaleo', 'Lunala', 'Nihilego', 'Buzzwole', 'Pheromosa', 'Xurkitree', 'Celesteela', 'Kartana', 'Guzzlord', 'Necrozma', 'Magearna', 'Marshadow', 'Poipole', 'Naganadel', 'Stakataka', 'Blacephalon', 'Zeraora', 'Meltan', 'Melmetal', 'Grookey', 'Thwackey', 'Rillaboom', 'Scorbunny', 'Raboot', 'Cinderace', 'Sobble', 'Drizzile', 'Inteleon', 'Skwovet', 'Greedent', 'Rookidee', 'Corvisquire', 'Corviknight', 'Blipbug', 'Dottler', 'Orbeetle', 'Nickit', 'Thievul', 'Gossifleur', 'Eldegoss', 'Wooloo', 'Dubwool', 'Chewtle', 'Drednaw', 'Yamper', 'Boltund', 'Rolycoly', 'Carkol', 'Coalossal', 'Applin', 'Flapple', 'Appletun', 'Silicobra', 'Sandaconda', 'Cramorant', 'Arrokuda', 'Barraskewda', 'Toxel', 'Toxtricity', 'Sizzlipede', 'Centiskorch', 'Clobbopus', 'Grapploct', 'Sinistea', 'Polteageist', 'Hatenna', 'Hattrem', 'Hatterene', 'Impidimp', 'Morgrem', 'Grimmsnarl', 'Obstagoon', 'Perrserker', 'Cursola', 'Sirfetch’d', 'Mr. Rime', 'Runerigus', 'Milcery', 'Alcremie', 'Falinks', 'Pincurchin', 'Snom', 'Frosmoth', 'Stonjourner', 'Eiscue', 'Indeedee', 'Morpeko', 'Cufant', 'Copperajah', 'Dracozolt', 'Arctozolt', 'Dracovish', 'Arctovish', 'Duraludon', 'Dreepy', 'Drakloak', 'Dragapult', 'Zacian', 'Zamazenta', 'Eternatus', 'Kubfu', 'Urshifu', 'Zarude', 'Regieleki', 'Regidrago', 'Glastrier', 'Spectrier', 'Calyrex', 'Wyrdeer', 'Kleavor', 'Ursaluna', 'Basculegion', 'Sneasler', 'Overqwil', 'Enamorus', 'Sprigatito', 'Floragato', 'Meowscarada', 'Fuecoco', 'Crocalor', 'Skeledirge', 'Quaxly', 'Quaxwell', 'Quaquaval', 'Lechonk', 'Oinkologne', 'Tarountula', 'Spidops', 'Nymble', 'Lokix', 'Pawmi', 'Pawmo', 'Pawmot', 'Tandemaus', 'Maushold', 'Fidough', 'Dachsbun', 'Smoliv', 'Dolliv', 'Arboliva', 'Squawkabilly', 'Nacli', 'Naclstack', 'Garganacl', 'Charcadet', 'Armarouge', 'Ceruledge', 'Tadbulb', 'Bellibolt', 'Wattrel', 'Kilowattrel', 'Maschiff', 'Mabosstiff', 'Shroodle', 'Grafaiai', 'Bramblin', 'Brambleghast', 'Toedscool', 'Toedscruel', 'Klawf', 'Capsakid', 'Scovillain', 'Rellor', 'Rabsca', 'Flittle', 'Espathra', 'Tinkatink', 'Tinkatuff', 'Tinkaton', 'Wiglett', 'Wugtrio', 'Bombirdier', 'Finizen', 'Palafin', 'Varoom', 'Revavroom', 'Cyclizar', 'Orthworm', 'Glimmet', 'Glimmora', 'Greavard', 'Houndstone', 'Flamigo', 'Cetoddle', 'Cetitan', 'Veluza', 'Dondozo', 'Tatsugiri', 'Annihilape', 'Clodsire', 'Farigiraf', 'Dudunsparce', 'Kingambit', 'Great Tusk', 'Scream Tail', 'Brute Bonnet', 'Flutter Mane', 'Slither Wing', 'Sandy Shocks', 'Iron Treads', 'Iron Bundle', 'Iron Hands', 'Iron Jugulis', 'Iron Moth', 'Iron Thorns', 'Frigibax', 'Arctibax', 'Baxcalibur', 'Gimmighoul', 'Gholdengo', 'Wo-Chien', 'Chien-Pao', 'Ting-Lu', 'Chi-Yu', 'Roaring Moon', 'Iron Valiant', 'Koraidon', 'Miraidon', 'Walking Wake', 'Iron Leaves']\n",
      "['Abomasnow', 'Abra', 'Absol', 'Accelgor', 'Aegislash', 'Aerodactyl', 'Aggron', 'Aipom', 'Alakazam', 'Alcremie', 'Alomomola', 'Altaria', 'Amaura', 'Ambipom', 'Amoonguss', 'Ampharos', 'Annihilape', 'Anorith', 'Appletun', 'Applin', 'Araquanid', 'Arbok', 'Arboliva', 'Arcanine', 'Arceus', 'Archen', 'Archeops', 'Arctibax', 'Arctovish', 'Arctozolt', 'Ariados', 'Armaldo', 'Armarouge', 'Aromatisse', 'Aron', 'Arrokuda', 'Articuno', 'Audino', 'Aurorus', 'Avalugg', 'Axew', 'Azelf', 'Azumarill', 'Azurill', 'Bagon', 'Baltoy', 'Banette', 'Barbaracle', 'Barboach', 'Barraskewda', 'Basculegion', 'Basculin', 'Bastiodon', 'Baxcalibur', 'Bayleef', 'Beartic', 'Beautifly', 'Beedrill', 'Beheeyem', 'Beldum', 'Bellibolt', 'Bellossom', 'Bellsprout', 'Bergmite', 'Bewear', 'Bibarel', 'Bidoof', 'Binacle', 'Bisharp', 'Blacephalon', 'Blastoise', 'Blaziken', 'Blipbug', 'Blissey', 'Blitzle', 'Boldore', 'Boltund', 'Bombirdier', 'Bonsly', 'Bouffalant', 'Bounsweet', 'Braixen', 'Brambleghast', 'Bramblin', 'Braviary', 'Breloom', 'Brionne', 'Bronzong', 'Bronzor', 'Brute Bonnet', 'Bruxish', 'Budew', 'Buizel', 'Bulbasaur', 'Buneary', 'Bunnelby', 'Burmy', 'Butterfree', 'Buzzwole', 'Cacnea', 'Cacturne', 'Calyrex', 'Camerupt', 'Capsakid', 'Carbink', 'Carkol', 'Carnivine', 'Carracosta', 'Carvanha', 'Cascoon', 'Castform', 'Caterpie', 'Celebi', 'Celesteela', 'Centiskorch', 'Ceruledge', 'Cetitan', 'Cetoddle', 'Chandelure', 'Chansey', 'Charcadet', 'Charizard', 'Charjabug', 'Charmander', 'Charmeleon', 'Chatot', 'Cherrim', 'Cherubi', 'Chesnaught', 'Chespin', 'Chewtle', 'Chi-Yu', 'Chien-Pao', 'Chikorita', 'Chimchar', 'Chimecho', 'Chinchou', 'Chingling', 'Cinccino', 'Cinderace', 'Clamperl', 'Clauncher', 'Clawitzer', 'Claydol', 'Clefable', 'Clefairy', 'Cleffa', 'Clobbopus', 'Clodsire', 'Cloyster', 'Coalossal', 'Cobalion', 'Cofagrigus', 'Combee', 'Combusken', 'Comfey', 'Conkeldurr', 'Copperajah', 'Corphish', 'Corsola', 'Corviknight', 'Corvisquire', 'Cosmoem', 'Cosmog', 'Cottonee', 'Crabominable', 'Crabrawler', 'Cradily', 'Cramorant', 'Cranidos', 'Crawdaunt', 'Cresselia', 'Croagunk', 'Crobat', 'Crocalor', 'Croconaw', 'Crustle', 'Cryogonal', 'Cubchoo', 'Cubone', 'Cufant', 'Cursola', 'Cutiefly', 'Cyclizar', 'Cyndaquil', 'Dachsbun', 'Darkrai', 'Darmanitan', 'Dartrix', 'Darumaka', 'Decidueye', 'Dedenne', 'Deerling', 'Deino', 'Delcatty', 'Delibird', 'Delphox', 'Deoxys', 'Dewgong', 'Dewott', 'Dewpider', 'Dhelmise', 'Dialga', 'Diancie', 'Diggersby', 'Diglett', 'Ditto', 'Dodrio', 'Doduo', 'Dolliv', 'Dondozo', 'Donphan', 'Dottler', 'Doublade', 'Dracovish', 'Dracozolt', 'Dragalge', 'Dragapult', 'Dragonair', 'Dragonite', 'Drakloak', 'Drampa', 'Drapion', 'Dratini', 'Drednaw', 'Dreepy', 'Drifblim', 'Drifloon', 'Drilbur', 'Drizzile', 'Drowzee', 'Druddigon', 'Dubwool', 'Ducklett', 'Dudunsparce', 'Dugtrio', 'Dunsparce', 'Duosion', 'Duraludon', 'Durant', 'Dusclops', 'Dusknoir', 'Duskull', 'Dustox', 'Dwebble', 'Eelektrik', 'Eelektross', 'Eevee', 'Eiscue', 'Ekans', 'Eldegoss', 'Electabuzz', 'Electivire', 'Electrike', 'Electrode', 'Elekid', 'Elgyem', 'Emboar', 'Emolga', 'Empoleon', 'Enamorus', 'Entei', 'Escavalier', 'Espathra', 'Espeon', 'Espurr', 'Eternatus', 'Excadrill', 'Exeggcute', 'Exeggutor', 'Exploud', 'Falinks', 'Farfetch’d', 'Farigiraf', 'Fearow', 'Feebas', 'Fennekin', 'Feraligatr', 'Ferroseed', 'Ferrothorn', 'Fidough', 'Finizen', 'Finneon', 'Flaaffy', 'Flabébé', 'Flamigo', 'Flapple', 'Flareon', 'Fletchinder', 'Fletchling', 'Flittle', 'Floatzel', 'Floette', 'Floragato', 'Florges', 'Flutter Mane', 'Flygon', 'Fomantis', 'Foongus', 'Forretress', 'Fraxure', 'Frigibax', 'Frillish', 'Froakie', 'Frogadier', 'Froslass', 'Frosmoth', 'Fuecoco', 'Furfrou', 'Furret', 'Gabite', 'Gallade', 'Galvantula', 'Garbodor', 'Garchomp', 'Gardevoir', 'Garganacl', 'Gastly', 'Gastrodon', 'Genesect', 'Gengar', 'Geodude', 'Gholdengo', 'Gible', 'Gigalith', 'Gimmighoul', 'Girafarig', 'Giratina', 'Glaceon', 'Glalie', 'Glameow', 'Glastrier', 'Gligar', 'Glimmet', 'Glimmora', 'Gliscor', 'Gloom', 'Gogoat', 'Golbat', 'Goldeen', 'Golduck', 'Golem', 'Golett', 'Golisopod', 'Golurk', 'Goodra', 'Goomy', 'Gorebyss', 'Gossifleur', 'Gothita', 'Gothitelle', 'Gothorita', 'Gourgeist', 'Grafaiai', 'Granbull', 'Grapploct', 'Graveler', 'Great Tusk', 'Greavard', 'Greedent', 'Greninja', 'Grimer', 'Grimmsnarl', 'Grookey', 'Grotle', 'Groudon', 'Grovyle', 'Growlithe', 'Grubbin', 'Grumpig', 'Gulpin', 'Gumshoos', 'Gurdurr', 'Guzzlord', 'Gyarados', 'Hakamo-o', 'Happiny', 'Hariyama', 'Hatenna', 'Hatterene', 'Hattrem', 'Haunter', 'Hawlucha', 'Haxorus', 'Heatmor', 'Heatran', 'Heliolisk', 'Helioptile', 'Heracross', 'Herdier', 'Hippopotas', 'Hippowdon', 'Hitmonchan', 'Hitmonlee', 'Hitmontop', 'Ho-Oh', 'Honchkrow', 'Honedge', 'Hoopa', 'Hoothoot', 'Hoppip', 'Horsea', 'Houndoom', 'Houndour', 'Houndstone', 'Huntail', 'Hydreigon', 'Hypno', 'Igglybuff', 'Illumise', 'Impidimp', 'Incineroar', 'Indeedee', 'Infernape', 'Inkay', 'Inteleon', 'Iron Bundle', 'Iron Hands', 'Iron Jugulis', 'Iron Leaves', 'Iron Moth', 'Iron Thorns', 'Iron Treads', 'Iron Valiant', 'Ivysaur', 'Jangmo-o', 'Jellicent', 'Jigglypuff', 'Jirachi', 'Jolteon', 'Joltik', 'Jumpluff', 'Jynx', 'Kabuto', 'Kabutops', 'Kadabra', 'Kakuna', 'Kangaskhan', 'Karrablast', 'Kartana', 'Kecleon', 'Keldeo', 'Kilowattrel', 'Kingambit', 'Kingdra', 'Kingler', 'Kirlia', 'Klang', 'Klawf', 'Kleavor', 'Klefki', 'Klink', 'Klinklang', 'Koffing', 'Komala', 'Kommo-o', 'Koraidon', 'Krabby', 'Kricketot', 'Kricketune', 'Krokorok', 'Krookodile', 'Kubfu', 'Kyogre', 'Kyurem', 'Lairon', 'Lampent', 'Landorus', 'Lanturn', 'Lapras', 'Larvesta', 'Larvitar', 'Latias', 'Latios', 'Leafeon', 'Leavanny', 'Lechonk', 'Ledian', 'Ledyba', 'Lickilicky', 'Lickitung', 'Liepard', 'Lileep', 'Lilligant', 'Lillipup', 'Linoone', 'Litleo', 'Litten', 'Litwick', 'Lokix', 'Lombre', 'Lopunny', 'Lotad', 'Loudred', 'Lucario', 'Ludicolo', 'Lugia', 'Lumineon', 'Lunala', 'Lunatone', 'Lurantis', 'Luvdisc', 'Luxio', 'Luxray', 'Lycanroc', 'Mabosstiff', 'Machamp', 'Machoke', 'Machop', 'Magby', 'Magcargo', 'Magearna', 'Magikarp', 'Magmar', 'Magmortar', 'Magnemite', 'Magneton', 'Magnezone', 'Makuhita', 'Malamar', 'Mamoswine', 'Manaphy', 'Mandibuzz', 'Manectric', 'Mankey', 'Mantine', 'Mantyke', 'Maractus', 'Mareanie', 'Mareep', 'Marill', 'Marowak', 'Marshadow', 'Marshtomp', 'Maschiff', 'Masquerain', 'Maushold', 'Mawile', 'Medicham', 'Meditite', 'Meganium', 'Melmetal', 'Meloetta', 'Meltan', 'Meowscarada', 'Meowstic', 'Meowth', 'Mesprit', 'Metagross', 'Metang', 'Metapod', 'Mew', 'Mewtwo', 'Mienfoo', 'Mienshao', 'Mightyena', 'Milcery', 'Milotic', 'Miltank', 'Mime Jr.', 'Mimikyu', 'Minccino', 'Minior', 'Minun', 'Miraidon', 'Misdreavus', 'Mismagius', 'Moltres', 'Monferno', 'Morelull', 'Morgrem', 'Morpeko', 'Mothim', 'Mr. Mime', 'Mr. Rime', 'Mudbray', 'Mudkip', 'Mudsdale', 'Muk', 'Munchlax', 'Munna', 'Murkrow', 'Musharna', 'Nacli', 'Naclstack', 'Naganadel', 'Natu', 'Necrozma', 'Nickit', 'Nidoking', 'Nidoqueen', 'Nidoran♀', 'Nidoran♂', 'Nidorina', 'Nidorino', 'Nihilego', 'Nincada', 'Ninetales', 'Ninjask', 'Noctowl', 'Noibat', 'Noivern', 'Nosepass', 'Numel', 'Nuzleaf', 'Nymble', 'Obstagoon', 'Octillery', 'Oddish', 'Oinkologne', 'Omanyte', 'Omastar', 'Onix', 'Oranguru', 'Orbeetle', 'Oricorio', 'Orthworm', 'Oshawott', 'Overqwil', 'Pachirisu', 'Palafin', 'Palkia', 'Palossand', 'Palpitoad', 'Pancham', 'Pangoro', 'Panpour', 'Pansage', 'Pansear', 'Paras', 'Parasect', 'Passimian', 'Patrat', 'Pawmi', 'Pawmo', 'Pawmot', 'Pawniard', 'Pelipper', 'Perrserker', 'Persian', 'Petilil', 'Phanpy', 'Phantump', 'Pheromosa', 'Phione', 'Pichu', 'Pidgeot', 'Pidgeotto', 'Pidgey', 'Pidove', 'Pignite', 'Pikachu', 'Pikipek', 'Piloswine', 'Pincurchin', 'Pineco', 'Pinsir', 'Piplup', 'Plusle', 'Poipole', 'Politoed', 'Poliwag', 'Poliwhirl', 'Poliwrath', 'Polteageist', 'Ponyta', 'Poochyena', 'Popplio', 'Porygon', 'Porygon-Z', 'Porygon2', 'Primarina', 'Primeape', 'Prinplup', 'Probopass', 'Psyduck', 'Pumpkaboo', 'Pupitar', 'Purrloin', 'Purugly', 'Pyroar', 'Pyukumuku', 'Quagsire', 'Quaquaval', 'Quaxly', 'Quaxwell', 'Quilava', 'Quilladin', 'Qwilfish', 'Raboot', 'Rabsca', 'Raichu', 'Raikou', 'Ralts', 'Rampardos', 'Rapidash', 'Raticate', 'Rattata', 'Rayquaza', 'Regice', 'Regidrago', 'Regieleki', 'Regigigas', 'Regirock', 'Registeel', 'Relicanth', 'Rellor', 'Remoraid', 'Reshiram', 'Reuniclus', 'Revavroom', 'Rhydon', 'Rhyhorn', 'Rhyperior', 'Ribombee', 'Rillaboom', 'Riolu', 'Roaring Moon', 'Rockruff', 'Roggenrola', 'Rolycoly', 'Rookidee', 'Roselia', 'Roserade', 'Rotom', 'Rowlet', 'Rufflet', 'Runerigus', 'Sableye', 'Salamence', 'Salandit', 'Salazzle', 'Samurott', 'Sandaconda', 'Sandile', 'Sandshrew', 'Sandslash', 'Sandy Shocks', 'Sandygast', 'Sawk', 'Sawsbuck', 'Scatterbug', 'Sceptile', 'Scizor', 'Scolipede', 'Scorbunny', 'Scovillain', 'Scrafty', 'Scraggy', 'Scream Tail', 'Scyther', 'Seadra', 'Seaking', 'Sealeo', 'Seedot', 'Seel', 'Seismitoad', 'Sentret', 'Serperior', 'Servine', 'Seviper', 'Sewaddle', 'Sharpedo', 'Shaymin', 'Shedinja', 'Shelgon', 'Shellder', 'Shellos', 'Shelmet', 'Shieldon', 'Shiftry', 'Shiinotic', 'Shinx', 'Shroodle', 'Shroomish', 'Shuckle', 'Shuppet', 'Sigilyph', 'Silcoon', 'Silicobra', 'Silvally', 'Simipour', 'Simisage', 'Simisear', 'Sinistea', 'Sirfetch’d', 'Sizzlipede', 'Skarmory', 'Skeledirge', 'Skiddo', 'Skiploom', 'Skitty', 'Skorupi', 'Skrelp', 'Skuntank', 'Skwovet', 'Slaking', 'Slakoth', 'Sliggoo', 'Slither Wing', 'Slowbro', 'Slowking', 'Slowpoke', 'Slugma', 'Slurpuff', 'Smeargle', 'Smoliv', 'Smoochum', 'Sneasel', 'Sneasler', 'Snivy', 'Snom', 'Snorlax', 'Snorunt', 'Snover', 'Snubbull', 'Sobble', 'Solgaleo', 'Solosis', 'Solrock', 'Spearow', 'Spectrier', 'Spewpa', 'Spheal', 'Spidops', 'Spinarak', 'Spinda', 'Spiritomb', 'Spoink', 'Sprigatito', 'Spritzee', 'Squawkabilly', 'Squirtle', 'Stakataka', 'Stantler', 'Staraptor', 'Staravia', 'Starly', 'Starmie', 'Staryu', 'Steelix', 'Steenee', 'Stonjourner', 'Stoutland', 'Stufful', 'Stunfisk', 'Stunky', 'Sudowoodo', 'Suicune', 'Sunflora', 'Sunkern', 'Surskit', 'Swablu', 'Swadloon', 'Swalot', 'Swampert', 'Swanna', 'Swellow', 'Swinub', 'Swirlix', 'Swoobat', 'Sylveon', 'Tadbulb', 'Taillow', 'Talonflame', 'Tandemaus', 'Tangela', 'Tangrowth', 'Tapu Bulu', 'Tapu Fini', 'Tapu Koko', 'Tapu Lele', 'Tarountula', 'Tatsugiri', 'Tauros', 'Teddiursa', 'Tentacool', 'Tentacruel', 'Tepig', 'Terrakion', 'Thievul', 'Throh', 'Thundurus', 'Thwackey', 'Timburr', 'Ting-Lu', 'Tinkatink', 'Tinkaton', 'Tinkatuff', 'Tirtouga', 'Toedscool', 'Toedscruel', 'Togedemaru', 'Togekiss', 'Togepi', 'Togetic', 'Torchic', 'Torkoal', 'Tornadus', 'Torracat', 'Torterra', 'Totodile', 'Toucannon', 'Toxapex', 'Toxel', 'Toxicroak', 'Toxtricity', 'Tranquill', 'Trapinch', 'Treecko', 'Trevenant', 'Tropius', 'Trubbish', 'Trumbeak', 'Tsareena', 'Turtonator', 'Turtwig', 'Tympole', 'Tynamo', 'Type: Null', 'Typhlosion', 'Tyranitar', 'Tyrantrum', 'Tyrogue', 'Tyrunt', 'Umbreon', 'Unfezant', 'Unown', 'Ursaluna', 'Ursaring', 'Urshifu', 'Uxie', 'Vanillish', 'Vanillite', 'Vanilluxe', 'Vaporeon', 'Varoom', 'Veluza', 'Venipede', 'Venomoth', 'Venonat', 'Venusaur', 'Vespiquen', 'Vibrava', 'Victini', 'Victreebel', 'Vigoroth', 'Vikavolt', 'Vileplume', 'Virizion', 'Vivillon', 'Volbeat', 'Volcanion', 'Volcarona', 'Voltorb', 'Vullaby', 'Vulpix', 'Wailmer', 'Wailord', 'Walking Wake', 'Walrein', 'Wartortle', 'Watchog', 'Wattrel', 'Weavile', 'Weedle', 'Weepinbell', 'Weezing', 'Whimsicott', 'Whirlipede', 'Whiscash', 'Whismur', 'Wigglytuff', 'Wiglett', 'Wimpod', 'Wingull', 'Wishiwashi', 'Wo-Chien', 'Wobbuffet', 'Woobat', 'Wooloo', 'Wooper', 'Wormadam', 'Wugtrio', 'Wurmple', 'Wynaut', 'Wyrdeer', 'Xatu', 'Xerneas', 'Xurkitree', 'Yamask', 'Yamper', 'Yanma', 'Yanmega', 'Yungoos', 'Yveltal', 'Zacian', 'Zamazenta', 'Zangoose', 'Zapdos', 'Zarude', 'Zebstrika', 'Zekrom', 'Zeraora', 'Zigzagoon', 'Zoroark', 'Zorua', 'Zubat', 'Zweilous', 'Zygarde']\n",
      "<class 'list'>\n",
      "[2.47049, 2.490664, 2.509095, 2.514326, 2.51582, 2.51582, 2.530515, 2.54795, 2.553678, 2.557912, 2.613952, 2.614201, 2.622171, 2.655795, 2.676219, 2.692408, 2.753679, 2.758411, 2.770615, 2.798012, 2.849818, 2.912832, 2.92404, 2.959906, 2.977838, 2.984065, 3.012209, 3.021176, 3.155672, 3.235373, 3.257789, 3.348449, 3.353929, 3.368624, 3.410218, 3.41221, 3.425909, 3.45505, 3.512086, 3.566631, 3.56962, 3.596519, 3.60972, 3.68693, 3.74845, 4.096396, 4.183569, 4.209721, 4.211713, 4.212461, 4.240356, 4.241352, 4.242847, 4.247579, 4.250817, 4.257293, 4.259036, 4.288177, 4.319559, 4.336247, 4.354179, 4.366135, 4.378588, 4.383569, 4.393532, 4.401004, 4.402498, 4.407231, 4.411714, 4.420929, 4.432137, 4.432635, 4.433134, 4.441602, 4.453557, 4.461527, 4.465014, 4.465014, 4.480705, 4.481951, 4.481951, 4.492162, 4.494155, 4.494404, 4.499136, 4.500631, 4.50088, 4.508352, 4.509348, 4.512586, 4.525039, 4.527032, 4.531515, 4.531764, 4.532511, 4.533009, 4.550942, 4.55418, 4.567131, 4.580332, 4.588053, 4.597268, 4.613458, 4.63139, 4.632636, 4.635874, 4.640357, 4.641104, 4.649074, 4.649572, 4.65007, 4.66875, 4.675724, 4.67697, 4.693408, 4.699635, 4.701378, 4.701876, 4.709846, 4.711092, 4.711092, 4.713333, 4.714579, 4.715575, 4.73276, 4.734753, 4.748203, 4.776596, 4.781328, 4.784815, 4.794529, 4.806235, 4.806982, 4.809224, 4.813707, 4.814454, 4.81819, 4.818688, 4.820681, 4.821926, 4.824168, 4.824168, 4.840108, 4.841353, 4.844342, 4.845338, 4.849324, 4.858788, 4.86626, 4.872238, 4.881702, 4.894156, 4.905613, 4.916571, 4.927281, 4.935999, 4.944218, 4.945961, 4.950943, 4.953682, 4.962151, 4.99179, 5.000258, 5.005488, 5.016198, 5.097145, 5.112338, 5.13052, 5.142475, 5.368627, 5.425165, 5.429399, 5.467008, 5.484941, 5.525539, 5.527033, 5.53052, 5.551691, 5.615701, 5.659537, 5.678715, 5.688677, 5.694157, 5.702874, 5.708105, 5.720558, 5.742476, 5.748702, 5.818441, 5.986063, 6.007732, 6.0563, 6.294656, 6.400011, 6.487184, 6.499638, 6.538243, 6.691917, 6.706363, 6.710597, 6.718069, 6.721058, 6.750199, 6.830896, 6.846587, 6.849327, 6.871992, 6.876475, 6.878219, 6.887434, 6.913337, 6.938742, 6.948954, 6.969377, 6.980834, 6.998518, 7.004744, 7.029651, 7.033387, 7.037372, 7.053562, 7.057547, 7.060535, 7.09142, 7.095405, 7.111096, 7.12056, 7.12056, 7.121059, 7.136003, 7.140237, 7.142976, 7.147958, 7.15792, 7.173113, 7.174857, 7.176102, 7.178842, 7.181831, 7.191295, 7.19802, 7.207734, 7.214708, 7.217945, 7.222678, 7.237373, 7.245343, 7.255305, 7.262777, 7.267011, 7.271744, 7.275231, 7.276227, 7.285442, 7.293911, 7.30736, 7.312591, 7.331022, 7.343226, 7.347709, 7.348456, 7.357174, 7.361159, 7.365144, 7.378593, 7.382329, 7.399764, 7.404247, 7.404745, 7.407485, 7.409727, 7.409727, 7.41147, 7.414459, 7.415704, 7.42218, 7.423176, 7.428407, 7.444596, 7.450573, 7.460038, 7.469502, 7.471495, 7.471993, 7.477473, 7.482703, 7.491918, 7.4969, 7.502877, 7.508855, 7.511097, 7.51558, 7.521806, 7.523052, 7.524297, 7.53152, 7.53426, 7.546713, 7.55294, 7.57162, 7.572118, 7.573363, 7.575854, 7.576601, 7.59553, 7.597024, 7.601508, 7.604995, 7.610723, 7.625169, 7.628407, 7.630648, 7.63837, 7.651819, 7.681458, 7.685194, 7.68619, 7.688432, 7.689428, 7.696153, 7.702131, 7.702878, 7.720811, 7.72106, 7.72355, 7.736253, 7.745717, 7.75842, 7.765144, 7.788058, 7.79578, 7.799765, 7.803501, 7.811471, 7.820935, 7.821931, 7.824173, 7.826166, 7.826166, 7.833638, 7.840362, 7.844347, 7.87822, 7.882455, 7.887934, 7.908856, 7.927287, 7.936253, 7.957673, 7.968881, 7.974609, 7.995033, 8.048831, 8.090923, 8.119317, 8.122057, 8.130774, 8.131272, 8.156926, 8.169379, 8.177349, 8.220936, 8.223178, 8.226664, 8.244597, 8.261036, 8.287935, 8.292667, 8.293414, 8.296901, 8.302132, 8.30786, 8.326042, 8.338993, 8.338993, 8.397026, 8.417947, 8.419691, 8.438371, 8.444598, 8.462032, 8.467512, 8.470002, 8.490924, 8.491422, 8.49989, 8.521808, 8.52654, 8.526789, 8.531771, 8.532269, 8.552194, 8.555432, 8.562406, 8.580837, 8.581335, 8.585071, 8.601011, 8.60948, 8.612219, 8.612717, 8.616702, 8.624673, 8.630152, 8.630401, 8.633639, 8.642605, 8.648583, 8.682705, 8.690675, 8.717325, 8.717574, 8.727288, 8.736503, 8.795283, 8.79603, 8.803004, 8.808235, 8.815208, 8.833141, 8.848583, 8.851572, 8.861535, 8.87075, 8.878222, 8.881709, 8.891423, 8.903378, 8.906118, 8.94024, 8.972369, 9.01496, 9.019941, 9.020937, 9.031149, 9.048833, 9.053565, 9.072992, 9.078472, 9.090427, 9.091423, 9.106118, 9.110601, 9.126791, 9.140738, 9.14298, 9.143229, 9.144474, 9.161909, 9.177102, 9.1776, 9.179593, 9.181087, 9.203005, 9.211971, 9.230651, 9.245346, 9.247339, 9.248584, 9.252818, 9.252818, 9.258049, 9.261785, 9.274985, 9.292171, 9.297152, 9.298397, 9.303628, 9.310103, 9.312096, 9.314587, 9.317825, 9.320315, 9.325047, 9.326044, 9.354935, 9.355184, 9.363155, 9.3644, 9.364649, 9.369132, 9.369381, 9.379344, 9.382831, 9.38831, 9.397277, 9.398522, 9.405745, 9.407987, 9.417202, 9.421187, 9.421685, 9.423678, 9.434139, 9.438622, 9.441611, 9.444848, 9.449332, 9.453566, 9.458298, 9.461287, 9.46303, 9.483952, 9.486941, 9.48719, 9.489182, 9.496156, 9.501636, 9.501885, 9.506866, 9.508111, 9.514338, 9.516829, 9.52455, 9.534263, 9.534761, 9.538996, 9.5512, 9.552694, 9.557925, 9.571623, 9.572619, 9.57785, 9.589058, 9.589556, 9.591798, 9.596779, 9.613217, 9.614463, 9.61521, 9.617451, 9.6177, 9.621686, 9.623678, 9.629407, 9.630652, 9.634886, 9.648087, 9.651574, 9.657551, 9.663778, 9.664525, 9.668759, 9.672246, 9.682209, 9.683703, 9.689432, 9.691175, 9.693417, 9.701885, 9.709357, 9.7111, 9.713093, 9.734762, 9.739992, 9.740988, 9.762159, 9.766393, 9.768137, 9.783828, 9.793292, 9.794289, 9.801512, 9.803753, 9.815459, 9.819444, 9.822682, 9.8314, 9.838373, 9.838871, 9.838871, 9.840615, 9.840864, 9.841113, 9.84186, 9.855559, 9.857053, 9.862533, 9.865522, 9.868012, 9.870503, 9.871748, 9.879469, 9.896655, 9.902882, 9.917078, 9.941985, 9.962159, 9.962658, 9.97013, 9.989557, 9.994787, 10.00201, 10.007489, 10.00998, 10.014712, 10.0314, 10.032396, 10.033641, 10.047838, 10.048585, 10.049582, 10.057801, 10.062533, 10.064277, 10.064775, 10.06876, 10.069258, 10.069756, 10.077975, 10.086444, 10.086693, 10.090429, 10.094663, 10.099644, 10.101637, 10.103131, 10.104874, 10.115086, 10.116082, 10.119569, 10.124302, 10.124551, 10.128287, 10.130777, 10.131774, 10.137004, 10.138997, 10.139495, 10.146469, 10.148959, 10.160167, 10.161662, 10.166892, 10.167888, 10.169632, 10.170628, 10.177602, 10.1781, 10.178847, 10.179345, 10.180342, 10.186817, 10.191799, 10.201263, 10.205497, 10.206494, 10.211724, 10.211973, 10.217203, 10.219943, 10.23688, 10.240367, 10.264277, 10.271749, 10.273991, 10.275734, 10.30338, 10.311351, 10.327042, 10.328785, 10.336257, 10.346469, 10.347714, 10.351201, 10.353194, 10.365398, 10.365896, 10.371625, 10.384576, 10.384825, 10.38607, 10.387067, 10.387067, 10.392795, 10.416207, 10.422683, 10.423679, 10.426668, 10.429159, 10.438623, 10.443605, 10.448586, 10.461787, 10.466519, 10.468262, 10.49815, 10.498648, 10.512845, 10.523555, 10.526544, 10.533269, 10.535261, 10.539744, 10.544975, 10.546469, 10.553194, 10.560417, 10.560417, 10.565398, 10.568885, 10.571874, 10.572123, 10.580342, 10.585822, 10.591799, 10.593792, 10.604751, 10.609234, 10.61023, 10.61023, 10.611476, 10.616457, 10.63165, 10.643107, 10.652572, 10.653568, 10.654066, 10.656557, 10.659545, 10.659794, 10.660044, 10.660044, 10.673991, 10.67698, 10.680716, 10.681961, 10.684452, 10.690679, 10.701389, 10.705374, 10.706868, 10.715087, 10.718325, 10.724054, 10.733269, 10.748711, 10.753942, 10.753942, 10.756183, 10.763406, 10.764651, 10.776358, 10.784577, 10.790803, 10.798275, 10.83439, 10.841862, 10.85033, 10.854564, 10.860044, 10.865025, 10.876233, 10.884701, 10.889932, 10.916831, 10.91982, 10.921065, 10.923556, 10.926545, 10.930032, 10.943979, 10.94647, 10.947466, 10.949708, 10.958674, 10.959172, 10.98383, 10.98657, 10.999272, 11.02393, 11.025424, 11.033145, 11.039372, 11.03987, 11.056059, 11.05855, 11.068512, 11.0852, 11.085947, 11.086196, 11.089683, 11.090679, 11.090928, 11.095661, 11.099646, 11.103133, 11.108363, 11.108363, 11.109359, 11.140742, 11.144727, 11.144976, 11.150455, 11.151701, 11.154689, 11.176607, 11.180592, 11.192299, 11.207492, 11.20799, 11.210729, 11.210729, 11.218201, 11.231651, 11.23713, 11.239372, 11.24535, 11.257803, 11.258301, 11.271751, 11.272, 11.272498, 11.296408, 11.299397, 11.310854, 11.315088, 11.331527, 11.332025, 11.332523, 11.33601, 11.342735, 11.347716, 11.348214, 11.34921, 11.352946, 11.352946, 11.35743, 11.358924, 11.370381, 11.379098, 11.382585, 11.386321, 11.393793, 11.39479, 11.396533, 11.399771, 11.401265, 11.407243, 11.410481, 11.4319, 11.433644, 11.435885, 11.435885, 11.437629, 11.449086, 11.451826, 11.457056, 11.457056, 11.457056, 11.460294, 11.470755, 11.473993, 11.481963, 11.482212, 11.48271, 11.486944, 11.493171, 11.494416, 11.499896, 11.500145, 11.502635, 11.503632, 11.505873, 11.506869, 11.50936, 11.50936, 11.510605, 11.513843, 11.524055, 11.526297, 11.526795, 11.527791, 11.53327, 11.542735, 11.545475, 11.556683, 11.557928, 11.558426, 11.561166, 11.563906, 11.564404, 11.567144, 11.569136, 11.570381, 11.580593, 11.586322, 11.593545, 11.595039, 11.606496, 11.606496, 11.60799, 11.609734, 11.610232, 11.611975, 11.616708, 11.622685, 11.624429, 11.632399, 11.633644, 11.634391, 11.64012, 11.643856, 11.646098, 11.655562, 11.657555, 11.6588, 11.659298, 11.660045, 11.667517, 11.667766, 11.668015, 11.670755, 11.672499, 11.674491, 11.681216, 11.68271, 11.684205, 11.684454, 11.684454, 11.687692, 11.694416, 11.699896, 11.702138, 11.703632, 11.706123, 11.709111, 11.71484, 11.716085, 11.718576, 11.718825, 11.719074, 11.737505, 11.737754, 11.738501, 11.743732, 11.747219, 11.752698, 11.75494, 11.756683, 11.759423, 11.759423, 11.760668, 11.761664, 11.765151, 11.767393, 11.76814, 11.768638, 11.770631, 11.774865, 11.776608, 11.780344, 11.780843, 11.781839, 11.798775, 11.799024, 11.800021, 11.80027, 11.800768, 11.801266, 11.805749, 11.818202, 11.819697, 11.826173, 11.828165, 11.832648, 11.834392, 11.849336, 11.862536, 11.868016, 11.874741, 11.879224, 11.881216, 11.881963, 11.892673, 11.892922, 11.901142, 11.90687, 11.907866, 11.914591, 11.920569, 11.922561, 11.924305, 11.930781, 11.934018, 11.937754, 11.946472, 11.946721, 11.947717, 11.950208, 11.953944, 11.953944, 11.955189, 11.956932, 11.95768, 11.958925, 11.961416, 11.964404, 11.965899, 11.972126, 11.972624, 11.973371, 11.974367, 11.974865, 11.975612, 11.977107, 11.977605, 11.980345, 11.983334, 11.995289, 12.003508, 12.005002, 12.005251, 12.006746, 12.00824, 12.011229, 12.017456, 12.017456, 12.017705, 12.020195, 12.020943, 12.027916, 12.029909, 12.031901, 12.035637, 12.041366, 12.046845, 12.04834, 12.048589, 12.05108, 12.052325, 12.053321, 12.054816, 12.055314, 12.059548, 12.065525, 12.066024, 12.067269, 12.072001, 12.07773, 12.078477, 12.079722, 12.079722, 12.081466, 12.09093, 12.092176, 12.103384, 12.104131, 12.107369, 12.116833, 12.121565, 12.126796, 12.128539, 12.134268, 12.135015, 12.139498, 12.145725, 12.146472, 12.146721, 12.147966, 12.150706, 12.153944, 12.167643, 12.1791, 12.179349, 12.18159, 12.190059, 12.201267, 12.201765, 12.205003, 12.209984, 12.214965, 12.215214, 12.216709, 12.217207, 12.218452, 12.218701, 12.227419, 12.24037, 12.241615, 12.246597, 12.247344, 12.254567, 12.25631, 12.258552, 12.265775, 12.266522, 12.266522, 12.2725, 12.278975, 12.285202, 12.289685, 12.303882, 12.30986, 12.311105, 12.315837, 12.316833, 12.321815, 12.324804, 12.327294, 12.328789, 12.331528, 12.357929, 12.360171, 12.362413, 12.3659, 12.367145, 12.367145, 12.37113, 12.372873, 12.375115, 12.383583, 12.389561, 12.396037, 12.396784, 12.401267, 12.403509, 12.412226, 12.413471, 12.426921, 12.428415, 12.42991, 12.436884, 12.441616, 12.446348, 12.450831, 12.452575, 12.453322, 12.465028, 12.46727, 12.472749, 12.476236, 12.47773, 12.478229, 12.478229, 12.487444, 12.493173, 12.502886, 12.502886, 12.503135, 12.50463, 12.509362, 12.511853, 12.514592, 12.515838, 12.52331, 12.528042, 12.537755, 12.53925, 12.540495, 12.540744, 12.552948, 12.565402, 12.578602, 12.58732, 12.587818, 12.600022, 12.601516, 12.602762, 12.607245, 12.607245, 12.621193, 12.622189, 12.627419, 12.62991, 12.640122, 12.641367, 12.64859, 12.656311, 12.657307, 12.665776, 12.670259, 12.671006, 12.671255, 12.677482, 12.679225, 12.684954, 12.687693, 12.694418, 12.696162, 12.696162, 12.69666, 12.698403, 12.698652, 12.701392, 12.702388, 12.702388, 12.703634, 12.706872, 12.714842, 12.722314, 12.726548, 12.726797, 12.730782, 12.740495, 12.749711, 12.753198, 12.761168, 12.767395, 12.773372, 12.773621, 12.775116, 12.779599, 12.795041, 12.801268, 12.802264, 12.802513, 12.803011, 12.804007, 12.812725, 12.817208, 12.82742, 12.837631, 12.843609, 12.844854, 12.851828, 12.85681, 12.858802, 12.862289, 12.864282, 12.865029, 12.865776, 12.866772, 12.868018, 12.870508, 12.872501, 12.875739, 12.876237, 12.876486, 12.884954, 12.894169, 12.898155, 12.900645, 12.913597, 12.926797, 12.934767, 12.935016, 12.939998, 12.940745, 12.940994, 12.945228, 12.951206, 12.951455, 12.956685, 12.957183, 12.96067, 12.964406, 12.964655, 12.97138, 12.983335, 12.994792, 13.001268, 13.013721, 13.023435, 13.031156, 13.035888, 13.036137, 13.036635, 13.037881, 13.039624, 13.052576, 13.060795, 13.062787, 13.072999, 13.074743, 13.075988, 13.075988, 13.080471, 13.082215, 13.08346, 13.088192, 13.098404, 13.101393, 13.107121, 13.108616, 13.111355, 13.113348, 13.113846, 13.113846, 13.113846, 13.114095, 13.12879, 13.132028, 13.136262, 13.138006, 13.139998, 13.142738, 13.146972, 13.151704, 13.154693, 13.155191, 13.158429, 13.160172, 13.160671, 13.167395, 13.167395, 13.171879, 13.174369, 13.175116, 13.1796, 13.180596, 13.184581, 13.189064, 13.199276, 13.200521, 13.20077, 13.209986, 13.211729, 13.222439, 13.226922, 13.228666, 13.235391, 13.245353, 13.250334, 13.252825, 13.261792, 13.262041, 13.262788, 13.265029, 13.268516, 13.268516, 13.269513, 13.273996, 13.274494, 13.283211, 13.284457, 13.286698, 13.287196, 13.287694, 13.293921, 13.295166, 13.296661, 13.29965, 13.301891, 13.304133, 13.314096, 13.315092, 13.315341, 13.32356, 13.324058, 13.325054, 13.329289, 13.330285, 13.331032, 13.33701, 13.337508, 13.339002, 13.350957, 13.355191, 13.362414, 13.362663, 13.37163, 13.374868, 13.374868, 13.37686, 13.378106, 13.388317, 13.389064, 13.399027, 13.399774, 13.401269, 13.40351, 13.404507, 13.404756, 13.408492, 13.41173, 13.411979, 13.424681, 13.42493, 13.42767, 13.431157, 13.431406, 13.434395, 13.438131, 13.449588, 13.449588, 13.450335, 13.452576, 13.453075, 13.458305, 13.462788, 13.468268, 13.469513, 13.474494, 13.480721, 13.481219, 13.486948, 13.499401, 13.506873, 13.508367, 13.524308, 13.524308, 13.524557, 13.536512, 13.539501, 13.543984, 13.551705, 13.553697, 13.561418, 13.567645, 13.56914, 13.573125, 13.573374, 13.573374, 13.574121, 13.577608, 13.581344, 13.583087, 13.586823, 13.591556, 13.595541, 13.596039, 13.598778, 13.611481, 13.613722, 13.622938, 13.623934, 13.623934, 13.630161, 13.632153, 13.632651, 13.64112, 13.641867, 13.645603, 13.646599, 13.652079, 13.667521, 13.66777, 13.674246, 13.67848, 13.68371, 13.687695, 13.696412, 13.698654, 13.698654, 13.699401, 13.706126, 13.717583, 13.719327, 13.722814, 13.730784, 13.739501, 13.747222, 13.748467, 13.759177, 13.765653, 13.784084, 13.784831, 13.793797, 13.795541, 13.802515, 13.824184, 13.829414, 13.831905, 13.834395, 13.841867, 13.850834, 13.854072, 13.856562, 13.859551, 13.872502, 13.873997, 13.885454, 13.896413, 13.917833, 13.923312, 13.943985, 13.947721, 13.956189, 13.959427, 13.965404, 13.972627, 13.972627, 13.980099, 13.981344, 13.982092, 13.984831, 13.99056, 13.9933, 13.998281, 14.002764, 14.012976, 14.015716, 14.016463, 14.018206, 14.021942, 14.02244, 14.02244, 14.02244, 14.030411, 14.041369, 14.047347, 14.059302, 14.0598, 14.060049, 14.063287, 14.06528, 14.066774, 14.073499, 14.076986, 14.078979, 14.080473, 14.09467, 14.109614, 14.114097, 14.122067, 14.125056, 14.129539, 14.130286, 14.130784, 14.134271, 14.139502, 14.145479, 14.146974, 14.147223, 14.148468, 14.154446, 14.163412, 14.179103, 14.183088, 14.183337, 14.184334, 14.184334, 14.185828, 14.191058, 14.19604, 14.202266, 14.202266, 14.20675, 14.208742, 14.216214, 14.219203, 14.220946, 14.230411, 14.239875, 14.24137, 14.246102, 14.2466, 14.250336, 14.251083, 14.259801, 14.266526, 14.286202, 14.290685, 14.302889, 14.304384, 14.312105, 14.315094, 14.31609, 14.318082, 14.320324, 14.32132, 14.32132, 14.326052, 14.326052, 14.330038, 14.332528, 14.334023, 14.339502, 14.342491, 14.346227, 14.351208, 14.353699, 14.354944, 14.355442, 14.358182, 14.358431, 14.358431, 14.35868, 14.362416, 14.370635, 14.373126, 14.377858, 14.383836, 14.397285, 14.40152, 14.403761, 14.40675, 14.408992, 14.409739, 14.420947, 14.420947, 14.430162, 14.439627, 14.441121, 14.441868, 14.445853, 14.446102, 14.448344, 14.450586, 14.46005, 14.461545, 14.472753, 14.475741, 14.48147, 14.491183, 14.493176, 14.49741, 14.50812, 14.508618, 14.509116, 14.520573, 14.520573, 14.530038, 14.531532, 14.532279, 14.533027, 14.538506, 14.542989, 14.55071, 14.55071, 14.554944, 14.567149, 14.567647, 14.567896, 14.568892, 14.569141, 14.570387, 14.572628, 14.581096, 14.581346, 14.594795, 14.595293, 14.59878, 14.600275, 14.601022, 14.60152, 14.603263, 14.605505, 14.607498, 14.613226, 14.617211, 14.6202, 14.620449, 14.62294, 14.627921, 14.628668, 14.631906, 14.632653, 14.635144, 14.639129, 14.642118, 14.648344, 14.648593, 14.649092, 14.663039, 14.664036, 14.664036, 14.670013, 14.671009, 14.674247, 14.682716, 14.683712, 14.696414, 14.699652, 14.701645, 14.705879, 14.706377, 14.70812, 14.711358, 14.719826, 14.719826, 14.719826, 14.719826, 14.726551, 14.740001, 14.743986, 14.744733, 14.748967, 14.755941, 14.756937, 14.763662, 14.765904, 14.767149, 14.767896, 14.76964, 14.770138, 14.77213, 14.773127, 14.777112, 14.77761, 14.778108, 14.782093, 14.791558, 14.795294, 14.799528, 14.801271, 14.807, 14.807498, 14.810736, 14.811483, 14.819453, 14.819453, 14.819702, 14.821695, 14.82817, 14.839627, 14.845107, 14.847847, 14.855319, 14.856315, 14.862791, 14.869266, 14.871508, 14.872255, 14.88172, 14.884459, 14.885456, 14.892928, 14.894173, 14.900151, 14.904634, 14.906377, 14.90837, 14.909117, 14.915593, 14.925804, 14.930786, 14.939005, 14.943986, 14.943986, 14.94573, 14.955941, 14.956689, 14.957685, 14.957685, 14.963413, 14.968893, 14.973874, 14.976365, 14.977361, 14.985082, 14.9938, 14.9938, 14.995045, 14.998283, 15.01223, 15.014223, 15.020699, 15.03116, 15.03365, 15.038382, 15.040375, 15.043613, 15.043613, 15.049341, 15.04984, 15.050089, 15.05507, 15.055817, 15.067772, 15.073252, 15.076988, 15.077237, 15.078233, 15.08172, 15.083962, 15.085705, 15.091434, 15.091683, 15.093426, 15.102891, 15.108121, 15.11385, 15.118333, 15.122069, 15.12705, 15.13253, 15.140251, 15.141994, 15.143239, 15.144485, 15.144485, 15.146726, 15.148221, 15.15121, 15.151459, 15.152206, 15.157187, 15.15918, 15.161919, 15.162168, 15.16441, 15.168146, 15.169391, 15.172131, 15.178109, 15.180101, 15.183588, 15.193053, 15.193053, 15.194049, 15.194298, 15.196789, 15.197038, 15.201272, 15.20177, 15.205506, 15.209989, 15.215718, 15.217959, 15.223439, 15.227673, 15.230662, 15.231409, 15.239379, 15.240873, 15.24187, 15.243364, 15.244859, 15.262791, 15.266029, 15.266029, 15.266776, 15.267524, 15.270263, 15.276739, 15.278732, 15.287449, 15.290189, 15.29243, 15.312605, 15.315842, 15.317586, 15.317586, 15.317586, 15.318084, 15.320326, 15.332281, 15.335768, 15.336764, 15.340251, 15.357437, 15.364161, 15.366652, 15.368645, 15.369143, 15.371882, 15.377362, 15.379853, 15.385083, 15.386826, 15.389566, 15.39131, 15.392306, 15.393551, 15.40451, 15.404759, 15.40725, 15.408993, 15.414473, 15.418956, 15.42593, 15.434647, 15.442866, 15.443364, 15.450338, 15.452829, 15.461048, 15.464286, 15.468022, 15.473252, 15.475992, 15.483464, 15.483962, 15.488196, 15.488944, 15.491932, 15.493925, 15.498408, 15.504884, 15.51659, 15.516839, 15.519828, 15.521322, 15.525307, 15.529292, 15.541248, 15.542244, 15.549716, 15.557686, 15.560177, 15.560426, 15.569143, 15.579355, 15.582344, 15.588072, 15.591559, 15.593053, 15.598035, 15.60725, 15.61522, 15.620949, 15.624436, 15.632406, 15.640127, 15.641372, 15.641621, 15.647848, 15.653327, 15.660301, 15.665532, 15.680974, 15.684959, 15.691186, 15.691435, 15.692182, 15.702394, 15.7141, 15.721572, 15.740501, 15.740999, 15.742244, 15.746229, 15.746976, 15.778857, 15.781846, 15.786578, 15.789318, 15.790065, 15.806005, 15.825931, 15.841871, 15.852581, 15.873004, 15.901647, 15.902145, 15.902892, 15.904636, 15.905134, 15.907126, 15.916591, 15.929791, 15.930538, 15.940252, 15.95943, 15.96491, 15.977363, 15.984835, 15.990563, 15.993054, 15.998783, 16.0075, 16.008745, 16.034149, 16.052582, 16.064535, 16.064785, 16.065035, 16.074997, 16.0872, 16.089443, 16.102144, 16.104635, 16.115347, 16.125059, 16.128298, 16.189318, 16.217712, 16.232904, 16.23988, 16.262545, 16.264038, 16.274998, 16.287451, 16.302893, 16.305134, 16.331285, 16.382095, 16.417213, 16.419704, 16.442619, 16.454823, 16.469519, 16.491436, 16.512856, 16.513105, 16.531784, 16.562918, 16.563665, 16.598783, 16.622196, 16.625435, 16.637886, 16.662296, 16.675247, 16.686705, 16.68745, 16.692432, 16.694426, 16.737514, 16.754948, 16.764912, 16.769144, 16.787825, 16.790068, 16.791063, 16.792309, 16.793802, 16.807003, 16.811985, 16.824438, 16.826929, 16.831411, 16.849344, 16.871014, 16.8745, 16.880976, 16.894426, 16.903641, 16.924065, 16.928797, 16.933031, 16.936518, 16.936518, 16.9415, 16.961674, 16.989071, 17.036144, 17.042122, 17.048597, 17.049843, 17.067528, 17.070765, 17.073006, 17.081724, 17.084961, 17.105883, 17.123568, 17.125559, 17.130291, 17.135771, 17.170889, 17.185583, 17.204264, 17.210739, 17.218212, 17.239134, 17.253578, 17.257067, 17.262547, 17.304888, 17.309868, 17.310118, 17.310118, 17.342745, 17.379856, 17.381849, 17.383841, 17.399035, 17.409494, 17.413979, 17.415474, 17.43465, 17.43465, 17.451836, 17.476744, 17.490442, 17.504141, 17.550716, 17.55744, 17.571636, 17.573629, 17.608747, 17.610741, 17.612484, 17.628424, 17.635647, 17.636644, 17.673754, 17.677738, 17.692682, 17.696419, 17.708624, 17.782597, 17.783344, 17.796045, 17.808001, 17.831163, 17.832909, 17.848101, 17.870518, 17.875748, 17.916096, 17.918339, 17.93129, 17.950466, 17.992559, 18.013979, 18.044115, 18.055573, 18.165413, 18.206757, 18.236895, 18.238388, 18.296421, 18.317591, 18.319834, 18.331041, 18.356195, 18.370144, 18.434155, 18.459061, 18.461802, 18.477243, 18.479235, 18.48073, 18.501402, 18.529299, 18.599035, 18.676247, 18.692684, 18.699162, 18.72382, 18.726061, 18.752213, 18.755947, 18.773134, 18.783344, 18.817966, 18.822449, 18.884216, 18.905388, 18.905886, 18.92083, 18.927805, 18.953957, 18.957193, 18.997543, 19.058563, 19.120581, 19.157194, 19.170645, 19.195799, 19.315102, 19.387333, 19.396049, 19.420458, 19.43042, 19.43042, 19.47077, 19.49991, 19.560432, 19.575377, 19.578115, 19.591316, 19.595303, 19.61149, 19.725813, 19.74798, 19.795799, 19.800781, 19.801031, 19.825439, 19.87052, 19.875502, 19.906883, 19.94026, 19.950222, 19.952711, 19.982599, 20.006262, 20.024693, 20.031168, 20.038391, 20.049849, 20.05732, 20.05732, 20.09169, 20.114607, 20.127308, 20.205267, 20.206511, 20.234406, 20.260557, 20.261555, 20.292439, 20.330048, 20.344494, 20.386087, 20.39854, 20.42594, 20.504644, 20.597546, 20.620211, 20.645864, 20.690199, 20.714607, 20.773636, 20.784594, 20.845865, 20.947235, 21.12731, 21.147484, 21.176874, 21.27924, 21.31411, 21.327061, 21.344994, 21.362677, 21.41025, 21.428431, 21.451593, 21.482229, 21.494682, 21.515354, 21.526812, 21.530298, 21.552217, 21.569901, 21.585592, 21.605268, 21.615231, 21.621956, 21.627684, 21.643375, 21.645866, 21.666788, 21.668779, 21.679241, 21.684969, 21.689701, 21.715605, 21.736029, 21.7435, 21.755953, 21.76218, 21.78883, 21.790823, 21.793312, 21.799789, 21.801035, 21.810997, 21.812243, 21.843126, 21.849602, 21.855579, 21.863798, 21.875505, 21.877249, 21.887959, 21.8902, 21.898668, 21.915356, 21.920338, 21.924072, 21.97015, 21.978619, 21.985842, 22.00502, 22.010748, 22.016726, 22.039888, 22.053837, 22.053837, 22.064049, 22.076004, 22.078493, 22.079741, 22.080984, 22.082479, 22.087959, 22.089703, 22.091944, 22.102406, 22.1171, 22.125568, 22.130548, 22.133289, 22.167162, 22.167412, 22.171894, 22.180861, 22.241385, 22.241385, 22.263302, 22.266291, 22.278994, 22.291447, 22.292442, 22.30365, 22.3039, 22.320089, 22.321335, 22.351221, 22.375879, 22.396303, 22.450102, 22.465794, 22.47974, 22.501657, 22.501907, 22.532791, 22.540512, 22.550226, 22.56517, 22.596802, 22.61573, 22.665545, 22.68248, 22.689953, 22.739765, 22.888956, 22.889206, 22.914112, 22.939018, 23.021212, 23.091698, 24.32333, 24.664783, 24.679243, 24.781961, 24.831326, 24.873709, 24.931549, 24.932049, 25.031178, 25.074764, 25.098425, 25.124577, 25.143505, 25.1689, 25.192074, 25.209288, 25.280592, 25.285225, 25.293058, 25.353392, 25.38236, 25.402758, 25.413494, 25.467579, 25.469784, 25.480045, 25.480045, 25.505474, 25.507969, 25.544254, 25.577278, 25.579123, 25.624453, 25.627193, 25.652597, 25.679497, 25.691202, 25.696684, 25.698425, 25.700418, 25.718889, 25.72238, 25.733349, 25.739023, 25.751476, 25.774237, 25.775139, 25.788198, 25.797056, 25.832174, 25.8389, 25.878948, 25.913855, 25.975, 25.998121, 26.002609, 26.035519, 26.0525, 26.053968, 26.054001, 26.065437, 26.067432, 26.091366, 26.103832, 26.103832, 26.117107, 26.117794, 26.156, 26.1565, 26.169153, 26.175636, 26.186098, 26.187601, 26.189596, 26.199499, 26.208046, 26.213032, 26.2365, 26.2505, 26.277855, 26.283339, 26.284336, 26.290319, 26.301001, 26.307772, 26.309767, 26.314501, 26.317745, 26.327717, 26.327717, 26.331305, 26.332205, 26.359631, 26.360626, 26.362621, 26.366112, 26.378, 26.378078, 26.389547, 26.392538, 26.4, 26.414478, 26.42, 26.421959, 26.422457, 26.425947, 26.427443, 26.430935, 26.451603, 26.452873, 26.454842, 26.468, 26.4685, 26.471823, 26.477306, 26.477804, 26.485285, 26.488464, 26.489773, 26.489773, 26.499247, 26.500669, 26.513706, 26.528, 26.536644, 26.538139, 26.549999, 26.554594, 26.562, 26.572046, 26.577032, 26.58, 26.58, 26.581022, 26.6005, 26.602463, 26.614929, 26.616425, 26.639999, 26.643999, 26.644878, 26.6465, 26.646841, 26.665501, 26.674767, 26.67676, 26.688499, 26.691717, 26.696186, 26.698999, 26.706179, 26.720346, 26.721636, 26.729115, 26.731607, 26.739088, 26.767509, 26.777981, 26.784605, 26.788952, 26.801416, 26.801914, 26.803286, 26.808895, 26.817499, 26.828342, 26.830338, 26.8325, 26.838814, 26.8395, 26.845297, 26.846792, 26.852776, 26.8605, 26.863001, 26.8685, 26.871225, 26.871225, 26.876211, 26.888, 26.888466, 26.892168, 26.897499, 26.900499, 26.906, 26.9105, 26.918352, 26.918501, 26.921249, 26.921499, 26.9245, 26.9265, 26.943501, 26.956989, 26.959, 26.962973, 26.968458, 26.969954, 26.975939, 26.977432, 26.9795, 26.982, 26.98242, 26.995501, 26.995884, 26.998875, 27.0, 27.00087, 27.006353, 27.0075, 27.04026, 27.055719, 27.075665, 27.075665, 27.082146, 27.083485, 27.086136, 27.093117, 27.104584, 27.1059, 27.135498, 27.143478, 27.168409, 27.174891, 27.200321, 27.235723, 27.245197, 27.259159, 27.26664, 27.28808, 27.337999, 27.349413, 27.354897, 27.365368, 27.372349, 27.387808, 27.393499, 27.414734, 27.424706, 27.424706, 27.444153, 27.472075, 27.47407, 27.505484, 27.509972, 27.5235, 27.537395, 27.549362, 27.574295, 27.574295, 27.592575, 27.599226, 27.599726, 27.636126, 27.636126, 27.654345, 27.681002, 27.681499, 27.698954, 27.702166, 27.721344, 27.723885, 27.732, 27.74625, 27.763775, 27.766268, 27.770161, 27.770908, 27.781227, 27.782366, 27.788706, 27.803165, 27.809649, 27.82361, 27.826603, 27.859013, 27.873524, 27.890924, 27.89292, 27.895441, 27.90391, 27.904388, 27.944778, 27.948767, 27.949764, 27.958241, 27.963226, 27.983171, 28.005611, 28.0065, 28.012093, 28.019974, 28.047373, 28.050985, 28.056587, 28.090378, 28.100849, 28.135256, 28.148718, 28.151211, 28.1695, 28.172651, 28.182125, 28.185616, 28.201075, 28.218027, 28.227501, 28.256001, 28.265396, 28.266893, 28.287836, 28.287836, 28.322241, 28.322241, 28.342516, 28.343512, 28.370661, 28.3741, 28.400028, 28.414488, 28.421469, 28.424461, 28.441914, 28.444407, 28.446899, 28.477758, 28.479254, 28.480806, 28.488285, 28.500751, 28.509228, 28.514214, 28.515211, 28.517206, 28.518106, 28.543015, 28.559589, 28.568565, 28.574051, 28.620224, 28.641365, 28.65, 28.653831, 28.665298, 28.667795, 28.670786, 28.672279, 28.717112, 28.721645, 28.724138, 28.726631, 28.730122, 28.767519, 28.779985, 28.784472, 28.803919, 28.813251, 28.81389, 28.836828, 28.853783, 28.860764, 28.891706, 28.897163, 28.914869, 28.920597, 28.920597, 28.921097, 28.938549, 28.941769, 28.950516, 28.970463, 28.970463, 28.983425, 28.993399, 28.995394, 29.041147, 29.050243, 29.056339, 29.081743, 29.087641, 29.087641, 29.099607, 29.108084, 29.111076, 29.119055, 29.155952, 29.169914, 29.174397, 29.185604, 29.206814, 29.213795, 29.247202, 29.249695, 29.262161, 29.26964, 29.297066, 29.319504, 29.322994, 29.356901, 29.36438, 29.369913, 29.371161, 29.394073, 29.40852, 29.439175, 29.439404, 29.455132, 29.494024, 29.4942, 29.506491, 29.568819, 29.580288, 29.609707, 29.613998, 29.740847, 29.75522, 29.778631, 29.798309, 29.864, 29.886726, 29.917362, 29.923092, 29.966179, 30.0, 30.019978, 30.021473, 30.045134, 30.056091, 30.082493, 30.085979, 30.118, 30.164, 30.181871, 30.230936, 30.261572, 30.262817, 30.278757, 30.279499, 30.284985, 30.346006, 30.360001, 30.394573, 30.418501, 30.442892, 30.485731, 30.517, 30.5175, 30.555471, 30.6245, 30.655001, 30.745501, 30.832001, 30.85, 30.987499, 31.049999, 31.061001, 31.102501, 31.267, 31.285, 31.334999, 31.35, 31.377001, 31.421, 31.440001, 31.488501, 31.5, 31.569, 31.6, 31.641001, 31.6415, 31.716499, 31.719999, 31.7735, 31.8395, 31.8895, 31.941999, 31.969999, 31.974001, 31.989, 32.0, 32.011501, 32.068001, 32.1045, 32.157501, 32.25, 32.334999, 32.349998, 32.450001, 32.462002, 32.6605, 32.7075, 32.733002, 32.7505, 32.760502, 32.772999, 32.830002, 32.84, 32.962002, 32.966099, 33.044498, 33.058998, 33.063499, 33.095001, 33.153999, 33.202, 33.205502, 33.392502, 33.459999, 33.549999, 33.616001, 33.75, 33.758499, 33.948502, 34.150002, 34.273499, 34.342999, 34.429501, 34.4305, 34.445999, 34.499001, 34.513, 34.524502, 34.535, 34.610001, 34.614498, 34.648998, 34.751499, 34.803001, 34.843498, 34.872501, 34.8815, 34.884998, 34.903999, 34.904499, 34.918999, 34.919998, 34.9235, 34.938499, 34.952999, 34.974998, 35.0005, 35.015999, 35.072498, 35.077499, 35.081001, 35.109001, 35.118, 35.165001, 35.181, 35.183498, 35.193501, 35.269001, 35.3265, 35.342999, 35.345001, 35.364498, 35.366501, 35.368999, 35.372501, 35.4025, 35.405998, 35.412998, 35.429001, 35.432499, 35.456501, 35.5, 35.525002, 35.553001, 35.5965, 35.599998, 35.683498, 35.692501, 35.745499, 35.7495, 35.779999, 35.786499, 35.7995, 35.805, 35.824001, 35.8255, 35.830502, 35.837502, 35.853001, 35.933998, 35.943001, 35.950001, 35.950001, 35.956001, 35.973499, 35.992001, 36.0, 36.037998, 36.078999, 36.084, 36.099998, 36.111, 36.135502, 36.140499, 36.143501, 36.143501, 36.170502, 36.179001, 36.18, 36.181, 36.198002, 36.2005, 36.220001, 36.245499, 36.271, 36.286499, 36.314999, 36.318501, 36.3405, 36.346001, 36.375, 36.379002, 36.4585, 36.463501, 36.4645, 36.473499, 36.494499, 36.5, 36.509998, 36.515499, 36.5425, 36.549999, 36.572498, 36.575001, 36.5765, 36.587002, 36.600498, 36.623001, 36.625, 36.726501, 36.7295, 36.788502, 36.822498, 36.825001, 36.8395, 36.866501, 36.873001, 36.900002, 36.900002, 36.914001, 36.93, 36.937, 36.952, 37.018002, 37.033501, 37.057999, 37.0895, 37.092999, 37.092999, 37.118, 37.150002, 37.151001, 37.198502, 37.2295, 37.268501, 37.306499, 37.322498, 37.3255, 37.3265, 37.348499, 37.352001, 37.355499, 37.407001, 37.423, 37.440498, 37.458, 37.462502, 37.477501, 37.5, 37.502998, 37.505001, 37.522999, 37.533001, 37.5825, 37.599998, 37.642502, 37.646, 37.650002, 37.654999, 37.6735, 37.699001, 37.7005, 37.7565, 37.759998, 37.769001, 37.779999, 37.827, 37.872002, 37.872501, 37.885502, 37.894501, 37.900002, 37.9585, 37.980499, 38.0, 38.022999, 38.049999, 38.054501, 38.120998, 38.130501, 38.144501, 38.213001, 38.223999, 38.2365, 38.300499, 38.334499, 38.346001, 38.349998, 38.350498, 38.359001, 38.362499, 38.386501, 38.3885, 38.434502, 38.437, 38.445, 38.450001, 38.450001, 38.462502, 38.466499, 38.474998, 38.475498, 38.487499, 38.503502, 38.505001, 38.511002, 38.528999, 38.568501, 38.5765, 38.611, 38.620998, 38.624001, 38.6315, 38.632999, 38.635502, 38.650501, 38.663502, 38.672501, 38.688999, 38.712502, 38.724998, 38.75, 38.773998, 38.775002, 38.801498, 38.816502, 38.830002, 38.866001, 38.885502, 38.892502, 38.91, 38.929501, 38.940498, 38.950001, 38.9655, 38.983002, 38.990002, 38.997002, 39.0, 39.0, 39.0, 39.0005, 39.014999, 39.055, 39.061001, 39.071999, 39.075001, 39.0825, 39.099998, 39.137001, 39.137501, 39.144501, 39.1665, 39.169998, 39.1875, 39.1875, 39.188, 39.224998, 39.25, 39.251999, 39.304001, 39.329498, 39.333, 39.392502, 39.417999, 39.511002, 39.534, 39.544998, 39.558498, 39.618, 39.685001, 39.689999, 39.695, 39.75, 39.763, 39.773499, 39.792, 39.838001, 39.842999, 39.867001, 39.869999, 39.911999, 39.984001, 39.985001, 40.02, 40.049999, 40.149502, 40.165001, 40.199501, 40.244999, 40.25, 40.256001, 40.290501, 40.317001, 40.32, 40.345501, 40.3475, 40.349998, 40.354, 40.356998, 40.362499, 40.374001, 40.393002, 40.4175, 40.475498, 40.584999, 40.733002, 40.799999, 40.834, 40.950001, 40.967999, 40.996498, 41.004002, 41.0205, 41.049999, 41.0965, 41.106998, 41.115002, 41.151001, 41.227501, 41.2355, 41.25, 41.2505, 41.269501, 41.280499, 41.3475, 41.369999, 41.386501, 41.397999, 41.432999, 41.432999, 41.442501, 41.448502, 41.460999, 41.480999, 41.506001, 41.528, 41.568001, 41.595501, 41.619999, 41.674999, 41.675499, 41.692501, 41.710999, 41.7355, 41.775501, 41.799999, 41.890499, 41.989498, 42.071999, 42.144001, 42.164001, 42.181999, 42.200001, 42.379501, 42.4515, 42.5005, 42.560001, 42.57, 42.580502, 43.25, 43.68, 43.711498, 45.088001, 45.097, 45.206001, 45.255001, 45.398499, 45.442501, 45.480999, 45.5, 45.515499, 45.533001, 45.609001, 45.636002, 45.743, 45.799999, 45.870998, 45.877499, 46.0005, 46.002499, 46.030499, 46.049999, 46.088501, 46.0965, 46.126499, 46.148998, 46.1745, 46.186001, 46.211498, 46.233002, 46.2645, 46.265999, 46.272499, 46.289001, 46.302502, 46.303501, 46.306, 46.337502, 46.3545, 46.387001, 46.387501, 46.4305, 46.432999, 46.450001, 46.452999, 46.470001, 46.477001, 46.495998, 46.5075, 46.516998, 46.533001, 46.5625, 46.573502, 46.5765, 46.586498, 46.588001, 46.598999, 46.618999, 46.629501, 46.647499, 46.650002, 46.653999, 46.676998, 46.698502, 46.712502, 46.75, 46.783501, 46.824501, 46.8475, 46.933998, 46.978001, 47.0, 47.0, 47.056499, 47.068001, 47.094501, 47.123001, 47.314499, 47.396, 47.498001, 47.589001, 47.595501, 47.599998, 47.599998, 47.648998, 47.650002, 47.681999, 47.690498, 47.700001, 47.734001, 47.774502, 47.841499, 47.849998, 47.849998, 47.866501, 47.875999, 47.935001, 47.995998, 47.999001, 48.112499, 48.334999, 48.391998, 48.418499, 48.447498, 48.473, 48.485001, 48.494999, 48.5, 48.515499, 48.611, 48.686001, 48.695, 48.75, 48.750999, 48.827499, 49.0, 49.0, 49.0, 49.0, 49.1175, 49.158001, 49.224998, 49.299999, 49.372501, 49.4505, 49.472, 49.476002, 49.5145, 49.588501, 49.599998, 49.605, 49.670502, 49.797001, 49.900002, 50.0, 50.075001, 50.423, 50.459499, 50.581501, 50.632999, 50.682999, 50.695499, 50.700001, 50.761002, 50.764999, 50.790001, 50.828499, 50.84, 50.845001, 50.857498, 50.8605, 50.862499, 50.906502, 50.950001, 50.960499, 51.0, 51.013, 51.0215, 51.088001, 51.105499, 51.1185, 51.125999, 51.129501, 51.140999, 51.165501, 51.171001, 51.251999, 51.276001, 51.304501, 51.321999, 51.323002, 51.359001, 51.363499, 51.399502, 51.404999, 51.449501, 51.475498, 51.5, 51.5005, 51.526001, 51.629501, 51.699501, 51.699501, 51.7005, 51.713001, 51.75, 51.752499, 51.775002, 51.793499, 51.838001, 51.849998, 51.851501, 51.8745, 51.8755, 51.9175, 51.973999, 51.981499, 52.0, 52.043999, 52.049999, 52.049999, 52.066502, 52.133999, 52.145, 52.164501, 52.2355, 52.2495, 52.25, 52.25, 52.299999, 52.299999, 52.306, 52.335999, 52.346001, 52.351501, 52.400002, 52.417, 52.438, 52.447498, 52.461498, 52.480999, 52.499001, 52.5, 52.508499, 52.531502, 52.548, 52.568501, 52.577, 52.580002, 52.599998, 52.653999, 52.730499, 52.75, 52.754501, 52.7705, 52.824501, 52.8255, 52.860001, 52.869499, 52.9035, 52.904999, 52.926998, 52.970501, 52.990501, 53.0005, 53.0555, 53.066002, 53.0695, 53.092999, 53.150002, 53.151501, 53.159, 53.2155, 53.244499, 53.247501, 53.2565, 53.275002, 53.304001, 53.377998, 53.382999, 53.400002, 53.4035, 53.421501, 53.450001, 53.470001, 53.575001, 53.589001, 53.5895, 53.633999, 53.646999, 53.648998, 53.686501, 53.699501, 53.702999, 53.757, 53.759998, 53.790001, 53.804001, 53.8055, 53.8195, 53.824001, 53.865501, 53.8675, 53.871498, 53.893002, 53.900002, 53.950001, 53.951, 53.953499, 53.973499, 53.994499, 54.0, 54.005501, 54.044498, 54.077, 54.0825, 54.094002, 54.099998, 54.123501, 54.178001, 54.181999, 54.200001, 54.25, 54.301498, 54.313999, 54.320999, 54.325001, 54.349998, 54.400002, 54.400002, 54.420502, 54.453499, 54.459499, 54.5, 54.5285, 54.529999, 54.569, 54.637001, 54.6525, 54.655499, 54.668499, 54.68, 54.699001, 54.700001, 54.799999, 54.8475, 54.855, 54.900002, 54.912998, 54.950001, 54.950001, 54.960999, 54.967499, 55.0, 55.0, 55.044998, 55.064499, 55.1045, 55.1115, 55.112, 55.120499, 55.150002, 55.153, 55.155998, 55.188499, 55.208, 55.212502, 55.2295, 55.279999, 55.287498, 55.314999, 55.323502, 55.34, 55.3475, 55.393501, 55.400002, 55.445499, 55.462002, 55.470001, 55.484501, 55.5, 55.526501, 55.542, 55.564999, 55.59, 55.59, 55.619999, 55.632, 55.632999, 55.632999, 55.765999, 55.777, 55.799999, 55.809502, 55.870499, 55.889999, 55.893501, 55.9025, 55.909, 55.93, 55.950748, 55.980499, 55.9995, 55.9995, 56.0, 56.0005, 56.067001, 56.091999, 56.099998, 56.099998, 56.116501, 56.151501, 56.157001, 56.179001, 56.242001, 56.244999, 56.2495, 56.251999, 56.258499, 56.283501, 56.299999, 56.311001, 56.323002, 56.323502, 56.336498, 56.375999, 56.389999, 56.400002, 56.504002, 56.553501, 56.554001, 56.561001, 56.566002, 56.570499, 56.591499, 56.595001, 56.6255, 56.672501, 56.700001, 56.785999, 56.791, 56.799999, 56.8605, 56.8745, 56.890999, 56.900002, 56.9785, 57.025002, 57.0495, 57.056, 57.062, 57.087002, 57.098, 57.108501, 57.162498, 57.18, 57.182499, 57.192501, 57.199501, 57.200001, 57.2225, 57.224998, 57.2295, 57.260502, 57.299999, 57.307499, 57.337502, 57.342999, 57.349499, 57.365002, 57.368, 57.4095, 57.424, 57.4245, 57.443001, 57.498001, 57.502998, 57.505501, 57.5485, 57.707001, 57.785999, 57.799999, 57.848999, 57.8545, 57.858501, 57.862999, 57.924999, 57.933498, 57.9515, 57.957001, 57.9925, 57.994499, 58.081501, 58.085499, 58.1245, 58.130501, 58.165501, 58.174999, 58.179501, 58.192501, 58.225498, 58.249001, 58.313, 58.375, 58.388, 58.391499, 58.4235, 58.5, 58.501999, 58.507, 58.5285, 58.536999, 58.573002, 58.577, 58.600498, 58.609501, 58.611, 58.626499, 58.636002, 58.682499, 58.7425, 58.744999, 58.754002, 58.765499, 58.807499, 58.815498, 58.824001, 58.835499, 58.851501, 58.866501, 58.912998, 58.950001, 58.955002, 58.960499, 58.977501, 58.9995, 59.0, 59.023499, 59.026501, 59.050499, 59.056, 59.099499, 59.141499, 59.165001, 59.205002, 59.25, 59.25, 59.2575, 59.275002, 59.314999, 59.336498, 59.348, 59.4025, 59.440498, 59.469501, 59.504501, 59.548, 59.549999, 59.5765, 59.593498, 59.594501, 59.599998, 59.657501, 59.668999, 59.689999, 59.703499, 59.725498, 59.7575, 59.762501, 59.765999, 59.766499, 59.799999, 59.827999, 59.8465, 59.848999, 59.8675, 59.879501, 59.899502, 59.924999, 59.926498, 59.929001, 59.967499, 59.994499, 60.0, 60.032249, 60.034, 60.036999, 60.101501, 60.170502, 60.198002, 60.200001, 60.213501, 60.220001, 60.25, 60.250999, 60.264999, 60.294998, 60.297001, 60.325001, 60.356998, 60.374001, 60.394501, 60.400002, 60.406502, 60.441002, 60.459, 60.5, 60.617001, 60.7015, 60.7495, 60.791, 60.799999, 60.900002, 60.950001, 61.0005, 61.02, 61.0485, 61.049999, 61.1105, 61.150002, 61.202, 61.203999, 61.215, 61.2365, 61.25, 61.25, 61.2705, 61.299999, 61.316002, 61.3755, 61.380001, 61.400002, 61.400501, 61.463001, 61.476002, 61.480999, 61.52, 61.567501, 61.603001, 61.650002, 61.655998, 61.749001, 61.759499, 61.7995, 61.848999, 61.849998, 61.872501, 61.956501, 61.959, 62.0, 62.023499, 62.052502, 62.058498, 62.064499, 62.098, 62.118, 62.150002, 62.150501, 62.211498, 62.254501, 62.277, 62.280499, 62.349998, 62.392502, 62.485001, 62.494999, 62.5345, 62.546501, 62.549999, 62.551498, 62.612999, 62.648499, 62.673, 63.0, 63.044998, 63.058498, 63.063999, 63.129501, 63.206001, 63.238499, 63.25, 63.450001, 63.549999, 63.549999, 63.577499, 63.700001, 63.705002, 63.772499, 63.811501, 63.822498, 63.853001, 63.875, 63.9785, 64.2425, 64.3965, 64.473, 64.644501, 64.703499, 64.713997, 64.800003, 64.875, 64.959, 65.0, 65.050003, 65.073997, 65.158997, 65.264, 65.280998, 65.350502, 65.356003, 65.411499, 65.492996, 65.586998, 65.75, 65.946999, 66.244003, 66.385002, 66.400002, 66.425003, 66.505501, 66.611, 66.671997, 66.750999, 66.896004, 66.902, 67.072998, 67.074997, 67.077499, 67.296997, 67.308502, 67.392998, 67.397499, 67.425003, 67.5, 67.5, 67.5, 67.510002, 67.542, 67.580498, 67.591003, 67.793503, 67.824997, 67.830002, 67.908997, 67.961502, 68.084503, 68.087502, 68.102997, 68.144501, 68.149498, 68.167503, 68.296997, 68.852501, 68.914001, 69.156502, 69.349854, 69.478996, 69.522003, 69.540001, 69.603996, 69.806999, 69.835503, 69.843002, 69.897003, 69.971001, 70.356003, 70.400002, 70.551498, 70.555, 70.658501, 70.847, 70.862503, 70.919502, 71.028503, 71.116997, 71.305496, 71.377998, 71.4245, 71.449997, 71.495003, 71.510498, 71.519997, 71.527496, 71.550003, 71.569504, 71.6315, 71.650002, 71.806503, 71.863503, 71.915001, 71.9505, 71.998001, 72.002998, 72.124001, 72.150002, 72.199997, 72.261002, 72.267998, 72.347, 72.358002, 72.372002, 72.458, 72.504501, 72.516502, 72.781998, 72.8535, 72.939003, 72.940002, 72.976997, 73.0755, 73.099998, 73.101501, 73.121002, 73.1455, 73.2145, 73.254501, 73.310501, 73.339996, 73.364998, 73.445, 73.464996, 73.519501, 73.587502, 73.710503, 73.716003, 73.778999, 73.828499, 73.956001, 74.002998, 74.213501, 74.278999, 74.332001, 74.359001, 74.382004, 74.5, 74.515503, 74.550003, 74.622002, 74.679497, 74.716003, 74.735001, 74.800003, 74.849998, 74.900497, 74.946503, 75.0, 75.0, 75.250504, 75.307503, 75.316002, 75.322502, 75.401497, 75.516998, 75.5905, 75.634499, 75.723999, 75.733498, 75.75, 75.763, 75.779999, 75.779999, 75.782997, 76.081001, 76.099998, 76.117996, 76.156502, 76.253502, 76.259003, 76.308998, 76.352501, 76.675499, 76.800003, 76.800003, 76.950249, 77.150002, 77.172501, 77.357498, 77.5, 77.665497, 77.777, 77.876503, 77.987, 78.025002, 78.031998, 78.292503, 78.348503, 78.666496, 78.851501, 78.929497, 79.023003, 79.1035, 79.186501, 79.349503, 79.652496, 79.698997, 79.783501, 80.400002, 81.212997, 81.250504, 81.303497, 81.407997, 81.588997, 81.6745, 81.831497, 82.394501, 82.683998, 83.605499, 83.688751, 85.1315, 85.485703, 85.510002, 85.514, 85.675499, 86.25, 86.345001, 86.405502, 86.525002, 86.554497, 86.720001, 86.721497, 86.75, 86.771004, 86.9095, 86.918999, 86.929001, 87.002998, 87.029999, 87.339996, 87.360001, 87.364998, 87.3815, 87.480003, 87.5, 87.5, 87.581749, 87.612503, 87.620003, 87.681, 87.695999, 87.697502, 87.709, 87.876999, 87.8815, 88.07, 88.100502, 88.153, 88.221001, 88.260498, 88.261497, 88.425499, 88.489998, 88.544998, 88.584999, 88.643997, 88.644501, 88.654503, 88.718498, 88.730003, 88.75, 88.847, 88.93, 89.050003, 89.059196, 89.160004, 89.195, 89.303497, 89.309998, 89.389503, 89.399002, 89.540001, 89.544998, 89.629997, 89.730003, 89.830002, 89.860001, 89.904999, 90.059998, 90.089996, 90.160004, 90.504997, 90.565002, 90.600502, 90.879997, 90.910004, 90.949997, 91.010002, 91.199997, 91.2005, 91.225998, 91.389999, 91.528, 91.572998, 91.933998, 92.129997, 92.196999, 92.308502, 92.339996, 92.400002, 92.5, 92.529999, 92.678497, 92.739998, 92.779999, 92.940002, 93.07, 93.089996, 93.239998, 93.540001, 93.540001, 93.900002, 94.126503, 94.309998, 94.360001, 94.404999, 94.442001, 94.489998, 94.660004, 94.709999, 94.739998, 94.783997, 94.900002, 95.010002, 95.07, 95.120003, 95.419998, 95.5, 95.540001, 95.540001, 95.589996, 95.690002, 95.739998, 95.779999, 95.93, 95.949997, 96.0, 96.033501, 96.127998, 96.160004, 96.57, 96.760002, 96.769997, 97.18, 97.199997, 97.199997, 97.220001, 97.339996, 97.559998, 97.730003, 97.860001, 98.019997, 98.019997, 98.07, 98.25, 98.269997, 98.279999, 98.459999, 98.464996, 98.610001, 98.669998, 98.745003, 99.010002, 99.050003, 99.129997, 99.300003, 99.370003, 99.449997, 99.519997, 99.550003, 99.669998, 99.739998, 99.815002, 99.849998, 99.910004, 100.059998, 100.540001, 100.625, 100.650002, 100.690002, 100.699997, 100.82, 100.839996, 101.040001, 101.059998, 101.168503, 101.250504, 101.393997, 101.400002, 101.440002, 101.5, 101.709999, 101.943001, 101.980003, 102.089996, 102.091499, 102.092003, 102.102501, 102.239998, 102.240501, 102.526001, 102.540001, 102.584999, 102.669998, 102.684998, 102.690002, 102.720001, 102.825996, 102.879997, 102.8815, 102.956001, 102.970001, 103.0, 103.050003, 103.114998, 103.268501, 103.300003, 103.349998, 103.360497, 103.372498, 103.444504, 103.5, 103.5, 103.510002, 103.587997, 103.629997, 103.650002, 103.655998, 103.703003, 103.801498, 103.809502, 103.927002, 103.940002, 103.949501, 104.214996, 104.25, 104.512497, 104.650002, 104.710503, 104.839996, 104.897499, 104.975502, 105.0, 105.010002, 105.056503, 105.139999, 105.141998, 105.218002, 105.230003, 105.295502, 105.32, 105.32, 105.43, 105.440002, 105.519501, 105.559998, 105.739998, 105.769997, 105.794998, 105.889999, 105.963501, 106.050003, 106.050499, 106.089996, 106.120003, 106.160004, 106.220001, 106.377502, 106.470001, 106.535004, 106.610001, 106.790001, 106.889999, 106.919998, 107.0, 107.389999, 107.389999, 107.43, 107.445999, 107.514503, 107.647003, 107.660004, 107.690002, 107.720001, 107.760002, 107.800003, 108.135002, 108.149498, 108.336998, 108.550003, 108.779999, 108.879997, 108.889999, 108.899498, 109.18, 109.199997, 109.599998, 109.702003, 109.788498, 110.050003, 110.103996, 110.499496, 110.779999, 110.825996, 111.029999, 111.125, 111.163002, 111.306503, 111.339996, 111.629997, 111.730003, 111.809998, 111.841003, 111.938004, 111.989998, 112.085503, 112.148499, 112.639, 112.78125, 112.800003, 112.834999, 112.949997, 112.962997, 113.054497, 113.073502, 113.079002, 113.085503, 113.220001, 113.303497, 113.3125, 113.400002, 113.440002, 113.602997, 113.710503, 113.758003, 113.848999, 113.898003, 113.906502, 114.059998, 114.092003, 114.1735, 114.188004, 114.262497, 114.32, 114.373001, 114.43, 114.449997, 114.591499, 114.593002, 114.598999, 114.661499, 114.845497, 114.931503, 115.089996, 115.150002, 115.150002, 115.237503, 115.384003, 115.394501, 115.466003, 115.518997, 115.529999, 115.648003, 115.809998, 115.860001, 115.9925, 115.996498, 116.008003, 116.040497, 116.099998, 116.339996, 116.341499, 116.350998, 116.402, 116.489998, 116.7425, 116.760002, 116.764999, 116.800003, 116.830002, 116.838501, 116.845299, 116.876503, 116.93, 117.0, 117.114998, 117.227501, 117.531998, 117.550003, 117.578003, 117.839996, 117.959999, 117.989998, 118.003502, 118.2995, 118.300003, 118.349998, 118.420998, 118.487, 118.650002, 118.744499, 118.934998, 119.07, 119.120003, 119.300003, 119.429497, 119.589996, 119.750999, 119.870003, 120.0, 120.059998, 120.089996, 120.136002, 120.18, 120.220497, 120.224503, 120.230003, 120.32, 120.357246, 120.516502, 120.639999, 120.641747, 120.660004, 120.870003, 120.889999, 120.93, 121.0, 121.098, 121.099998, 121.099998, 121.125999, 121.160004, 121.466003, 121.540001, 121.559998, 121.765503, 121.847, 121.879997, 121.879997, 121.926003, 122.040001, 122.080002, 122.120003, 122.209999, 122.32, 122.559998, 122.566002, 122.584999, 122.75, 123.235001, 123.394997, 123.5, 123.510002, 123.535004, 123.699997, 123.800003, 123.879997, 123.995003, 124.065002, 124.199997, 124.489998, 124.610001, 124.7005, 124.790001, 124.849747, 124.904999, 124.93, 124.974998, 125.0, 125.0, 125.129997, 125.209999, 125.523003, 125.650002, 125.653549, 125.669502, 125.705498, 125.739998, 126.027496, 126.059998, 126.246002, 126.247498, 126.250504, 126.290001, 126.449997, 126.522003, 126.550003, 126.599998, 126.699997, 126.772499, 126.8395, 126.957001, 127.0, 127.053497, 127.410004, 127.574997, 127.741501, 127.849998, 128.076996, 128.25, 128.369995, 128.435501, 128.626495, 128.944504, 129.059998, 129.130005, 129.201996, 129.279999, 129.350006, 129.449493, 129.509995, 129.600006, 129.833496, 129.839996, 129.850006, 129.985001, 130.0, 130.003998, 130.139999, 130.341003, 130.360001, 130.449997, 130.572998, 130.592499, 130.649506, 130.787003, 130.850006, 130.854996, 130.8815, 130.970001, 130.979996, 131.0, 131.078506, 131.155502, 131.283997, 131.360992, 131.399994, 131.462494, 131.589996, 131.641006, 131.800003, 131.901505, 131.904007, 131.970001, 132.080002, 132.190002, 132.423492, 132.5, 132.649994, 132.899994, 132.998001, 133.009995, 133.011993, 133.037506, 133.2845, 133.320999, 133.365494, 133.382507, 133.525497, 133.554504, 133.884003, 133.999496, 134.0, 134.197998, 134.324997, 134.479996, 134.608246, 134.625504, 134.727005, 135.098999, 135.259995, 135.467499, 135.484497, 135.511002, 135.570007, 135.699493, 135.9785, 136.0, 136.028503, 136.149994, 136.249496, 136.25, 136.294998, 136.3806, 136.430496, 136.5, 136.514008, 136.600006, 136.617996, 136.847504, 136.938507, 136.949005, 137.050003, 137.082993, 137.109695, 137.115494, 137.471497, 137.497498, 137.5, 137.712997, 137.75, 137.835007, 137.904999, 138.0, 138.079498, 138.180496, 138.190994, 138.25, 138.283005, 138.357498, 138.429993, 138.561996, 138.75, 138.810501, 138.863007, 138.991257, 138.998505, 139.000198, 139.088501, 139.138504, 139.161499, 139.272507, 139.5, 139.637497, 139.800003, 139.902496, 139.906006, 139.951996, 140.009995, 140.011002, 140.050507, 140.117004, 140.350998, 140.606003, 140.679596, 140.684494, 140.824493, 140.849747, 140.945999, 141.213501, 141.543503, 141.554504, 141.585495, 141.609497, 141.753998, 141.824005, 141.8405, 142.112503, 142.192001, 142.199997, 142.448502, 142.6185, 142.714493, 142.869995, 142.882996, 143.016998, 143.149994, 143.160507, 143.201004, 143.291504, 143.399506, 143.574005, 143.709, 143.759003, 143.798492, 144.100006, 144.145996, 144.160995, 144.181, 144.212494, 144.222504, 144.298492, 144.365997, 144.475494, 144.495499, 144.704498, 144.749496, 144.770004, 144.809402, 144.883499, 145.015503, 145.121002, 145.294998, 145.393494, 145.443497, 145.450256, 145.520004, 145.544006, 145.550507, 145.649994, 145.884506, 145.949493, 145.949997, 146.274994, 146.350006, 146.429504, 146.449997, 147.089493, 147.106995, 147.113007, 147.199997, 147.298996, 147.463501, 147.831497, 148.00975, 148.076996, 148.164993, 148.175995, 148.331497, 148.374496, 148.444, 149.100006, 149.145996, 149.170502, 149.229004, 149.3535, 149.746002, 150.0, 150.0, 150.141754, 151.0, 151.863495]\n"
     ]
    },
    {
     "data": {
      "text/plain": [
       "'Abomasnow'"
      ]
     },
     "execution_count": 31,
     "metadata": {},
     "output_type": "execute_result"
    }
   ],
   "source": [
    "print(len(pokemon))\n",
    "print(type(pokemon))\n",
    "print(list(pokemon))\n",
    "print(sorted(pokemon))\n",
    "print(type(sorted(pokemon)))\n",
    "print(sorted(google))\n",
    "dict(pokemon)\n",
    "\n",
    "max(google)\n",
    "min(google)\n",
    "\n",
    "max(pokemon)\n",
    "min(pokemon)"
   ]
  },
  {
   "cell_type": "markdown",
   "metadata": {},
   "source": [
    "## Check for Inclusion with Python's in Keyword\n",
    "____\n",
    "- The `in` keyword checks if a value exists within an object.\n",
    "- The `in` keyword will look for a value in the **Series's** index.\n",
    "- Use the `index` and `values` attributes to access \"nested\" objects within the **Series**.\n",
    "- Combine the `in` keyword with `values` to search within the **Series's** values."
   ]
  },
  {
   "cell_type": "markdown",
   "metadata": {},
   "source": [
    "`\"finding\" in series.values`\n",
    "\n",
    "`5 in series.index`"
   ]
  },
  {
   "cell_type": "code",
   "execution_count": 32,
   "metadata": {
    "tags": []
   },
   "outputs": [
    {
     "data": {
      "text/plain": [
       "0     Bulbasaur\n",
       "1       Ivysaur\n",
       "2      Venusaur\n",
       "3    Charmander\n",
       "4    Charmeleon\n",
       "Name: Name, dtype: object"
      ]
     },
     "execution_count": 32,
     "metadata": {},
     "output_type": "execute_result"
    }
   ],
   "source": [
    "pokemon = pd.read_csv(\"pokemon.csv\", usecols=[\"Name\"]).squeeze(\"columns\")\n",
    "google = pd.read_csv(\"google_stock_price.csv\", usecols=[\"Price\"]).squeeze(\"columns\")\n",
    "\n",
    "pokemon.head()"
   ]
  },
  {
   "cell_type": "code",
   "execution_count": 33,
   "metadata": {
    "tags": []
   },
   "outputs": [
    {
     "data": {
      "text/plain": [
       "False"
      ]
     },
     "execution_count": 33,
     "metadata": {},
     "output_type": "execute_result"
    }
   ],
   "source": [
    "\"car\" in \"racecar\"\n",
    "2 in [3, 2, 1]\n",
    "\n",
    "\"Bulbasaur\" in pokemon\n",
    "0 in pokemon\n",
    "5 in pokemon.index\n",
    "\n",
    "\"Bulbasaur\" in pokemon.values\n",
    "\"Pikachu\" in pokemon.values\n",
    "\"Nonsense\" in pokemon.values"
   ]
  },
  {
   "cell_type": "markdown",
   "metadata": {},
   "source": [
    "## The sort_values Method\n",
    "____\n",
    "- The `sort_values` method sorts a **Series** values in order.\n",
    "- By default, pandas applies an ascending sort (smallest to largest).\n",
    "- Customize the sort order with the `ascending` parameter.\n",
    "\n",
    "The syntax for sort_values is thus:\n",
    "```python\n",
    "series.sort_values(axis=0, ascending=True, inplace=False, kind='quicksort', na_position='last', ignore_index=False, key=None)\n",
    "```\n"
   ]
  },
  {
   "cell_type": "code",
   "execution_count": 34,
   "metadata": {
    "tags": []
   },
   "outputs": [
    {
     "data": {
      "text/plain": [
       "0    2.490664\n",
       "1    2.515820\n",
       "2    2.758411\n",
       "3    2.770615\n",
       "4    2.614201\n",
       "Name: Price, dtype: float64"
      ]
     },
     "execution_count": 34,
     "metadata": {},
     "output_type": "execute_result"
    }
   ],
   "source": [
    "pokemon = pd.read_csv(\"pokemon.csv\", usecols=[\"Name\"]).squeeze(\"columns\")\n",
    "google = pd.read_csv(\"google_stock_price.csv\", usecols=[\"Price\"]).squeeze(\"columns\")\n",
    "google.head()"
   ]
  },
  {
   "cell_type": "code",
   "execution_count": 35,
   "metadata": {
    "tags": []
   },
   "outputs": [
    {
     "data": {
      "text/plain": [
       "4395    151.863495\n",
       "4345    151.000000\n",
       "4346    150.141754\n",
       "4341    150.000000\n",
       "4336    150.000000\n",
       "Name: Price, dtype: float64"
      ]
     },
     "execution_count": 35,
     "metadata": {},
     "output_type": "execute_result"
    }
   ],
   "source": [
    "google.sort_values()\n",
    "google.sort_values(ascending=True)\n",
    "google.sort_values(ascending=False)\n",
    "google.sort_values(ascending=False).head()"
   ]
  },
  {
   "cell_type": "code",
   "execution_count": 36,
   "metadata": {
    "tags": []
   },
   "outputs": [
    {
     "data": {
      "text/plain": [
       "680    Aegislash\n",
       "616     Accelgor\n",
       "358        Absol\n",
       "62          Abra\n",
       "459    Abomasnow\n",
       "Name: Name, dtype: object"
      ]
     },
     "execution_count": 36,
     "metadata": {},
     "output_type": "execute_result"
    }
   ],
   "source": [
    "pokemon.sort_values()\n",
    "pokemon.sort_values(ascending=True)\n",
    "pokemon.sort_values(ascending=False)\n",
    "pokemon.sort_values(ascending=False).tail()"
   ]
  },
  {
   "cell_type": "markdown",
   "metadata": {},
   "source": [
    "## The sort_index Method\n",
    "____\n",
    "- The `sort_index` method sorts a **Series** by its index.\n",
    "- The `sort_index` method also accepts an `ascending` parameter to set sort order.\n",
    "\n",
    "The syntax for sort_index is thus:\n",
    "```python\n",
    "series.sort_index(axis=0, level=None, ascending=True, inplace=False, kind='quicksort', na_position='last', sort_remaining=True, ignore_index=False, key=None)\n",
    "```\n"
   ]
  },
  {
   "cell_type": "code",
   "execution_count": 37,
   "metadata": {
    "tags": []
   },
   "outputs": [
    {
     "data": {
      "text/plain": [
       "Name\n",
       "Bulbasaur     Grass, Poison\n",
       "Ivysaur       Grass, Poison\n",
       "Venusaur      Grass, Poison\n",
       "Charmander             Fire\n",
       "Charmeleon             Fire\n",
       "Name: Type, dtype: object"
      ]
     },
     "execution_count": 37,
     "metadata": {},
     "output_type": "execute_result"
    }
   ],
   "source": [
    "pokemon = pd.read_csv(\"pokemon.csv\", index_col=\"Name\").squeeze(\"columns\")\n",
    "pokemon.head()"
   ]
  },
  {
   "cell_type": "code",
   "execution_count": 38,
   "metadata": {
    "tags": []
   },
   "outputs": [
    {
     "data": {
      "text/plain": [
       "Name\n",
       "Abomasnow        Grass, Ice\n",
       "Abra                Psychic\n",
       "Absol                  Dark\n",
       "Accelgor                Bug\n",
       "Aegislash      Steel, Ghost\n",
       "                  ...      \n",
       "Zoroark                Dark\n",
       "Zorua                  Dark\n",
       "Zubat        Poison, Flying\n",
       "Zweilous       Dark, Dragon\n",
       "Zygarde      Dragon, Ground\n",
       "Name: Type, Length: 1010, dtype: object"
      ]
     },
     "execution_count": 38,
     "metadata": {},
     "output_type": "execute_result"
    }
   ],
   "source": [
    "pokemon.sort_index()"
   ]
  },
  {
   "cell_type": "code",
   "execution_count": 39,
   "metadata": {},
   "outputs": [
    {
     "data": {
      "text/plain": [
       "Name\n",
       "Abomasnow        Grass, Ice\n",
       "Abra                Psychic\n",
       "Absol                  Dark\n",
       "Accelgor                Bug\n",
       "Aegislash      Steel, Ghost\n",
       "                  ...      \n",
       "Zoroark                Dark\n",
       "Zorua                  Dark\n",
       "Zubat        Poison, Flying\n",
       "Zweilous       Dark, Dragon\n",
       "Zygarde      Dragon, Ground\n",
       "Name: Type, Length: 1010, dtype: object"
      ]
     },
     "execution_count": 39,
     "metadata": {},
     "output_type": "execute_result"
    }
   ],
   "source": [
    "pokemon.sort_index(ascending=True)"
   ]
  },
  {
   "cell_type": "code",
   "execution_count": 40,
   "metadata": {},
   "outputs": [
    {
     "data": {
      "text/plain": [
       "Name\n",
       "Zygarde      Dragon, Ground\n",
       "Zweilous       Dark, Dragon\n",
       "Zubat        Poison, Flying\n",
       "Zorua                  Dark\n",
       "Zoroark                Dark\n",
       "                  ...      \n",
       "Aegislash      Steel, Ghost\n",
       "Accelgor                Bug\n",
       "Absol                  Dark\n",
       "Abra                Psychic\n",
       "Abomasnow        Grass, Ice\n",
       "Name: Type, Length: 1010, dtype: object"
      ]
     },
     "execution_count": 40,
     "metadata": {},
     "output_type": "execute_result"
    }
   ],
   "source": [
    "pokemon.sort_index(ascending=False)"
   ]
  },
  {
   "cell_type": "markdown",
   "metadata": {},
   "source": [
    "## Extract Series Value by Index Position\n",
    "___\n",
    "- Use the `iloc` accessor to extract a **Series** value by its index position.\n",
    "- `iloc` is short for \"index location\".\n",
    "- Python's list slicing syntaxes (slices, slices from start, slices to end, etc.) are supported with **Series** objects.\n",
    "\n",
    "The syntax for iloc is thus:\n",
    "```python\n",
    "series.iloc[]\n",
    "```\n",
    "The value pass to `iloc` is the index position of the value you want to extract. it is zero-based, and must be an integer."
   ]
  },
  {
   "cell_type": "code",
   "execution_count": 41,
   "metadata": {
    "tags": []
   },
   "outputs": [
    {
     "data": {
      "text/plain": [
       "0     Bulbasaur\n",
       "1       Ivysaur\n",
       "2      Venusaur\n",
       "3    Charmander\n",
       "4    Charmeleon\n",
       "Name: Name, dtype: object"
      ]
     },
     "execution_count": 41,
     "metadata": {},
     "output_type": "execute_result"
    }
   ],
   "source": [
    "pokemon = pd.read_csv(\"pokemon.csv\", usecols=[\"Name\"]).squeeze(\"columns\")\n",
    "pokemon.head()"
   ]
  },
  {
   "cell_type": "code",
   "execution_count": 42,
   "metadata": {},
   "outputs": [
    {
     "data": {
      "text/plain": [
       "1002         Ting-Lu\n",
       "1003          Chi-Yu\n",
       "1004    Roaring Moon\n",
       "1005    Iron Valiant\n",
       "1006        Koraidon\n",
       "1007        Miraidon\n",
       "1008    Walking Wake\n",
       "1009     Iron Leaves\n",
       "Name: Name, dtype: object"
      ]
     },
     "execution_count": 42,
     "metadata": {},
     "output_type": "execute_result"
    }
   ],
   "source": [
    "pokemon.iloc[0]\n",
    "pokemon.iloc[500]\n",
    "\n",
    "# pokemon.iloc[1500]\n",
    "\n",
    "pokemon.iloc[[100, 200, 300]]\n",
    "\n",
    "# pokemon.iloc[[100, 200, 300, 1500]]\n",
    "\n",
    "pokemon.iloc[27:36]\n",
    "pokemon.iloc[0:7]\n",
    "pokemon.iloc[:7]\n",
    "\n",
    "pokemon.iloc[700:1010]\n",
    "pokemon.iloc[700:]\n",
    "pokemon.iloc[700:5000]\n",
    "\n",
    "pokemon.iloc[-1]\n",
    "pokemon.iloc[-10]\n",
    "\n",
    "pokemon.iloc[-10:-5]\n",
    "pokemon.iloc[-8:]"
   ]
  },
  {
   "cell_type": "code",
   "execution_count": 43,
   "metadata": {},
   "outputs": [
    {
     "data": {
      "text/plain": [
       "27    Sandslash\n",
       "28     Nidoran♀\n",
       "29     Nidorina\n",
       "30    Nidoqueen\n",
       "31     Nidoran♂\n",
       "32     Nidorino\n",
       "33     Nidoking\n",
       "34     Clefairy\n",
       "35     Clefable\n",
       "Name: Name, dtype: object"
      ]
     },
     "execution_count": 43,
     "metadata": {},
     "output_type": "execute_result"
    }
   ],
   "source": [
    "pokemon.iloc[27:36]"
   ]
  },
  {
   "cell_type": "markdown",
   "metadata": {},
   "source": [
    "## Extract Series Value by Index Label\n",
    "____\n",
    "- Use the `loc` accessor to extract a **Series** value by its index label.\n",
    "- Pass a list to extract multiple values by index label.\n",
    "- If one index label/position in the list does not exist, Pandas will raise an error.\n",
    "\n",
    "The syntax for loc is thus:\n",
    "```python\n",
    "series.loc[]\n",
    "```\n",
    "The value pass to `loc` is the index label of the value you want to extract. it is not zero-based, and can be a string or integer."
   ]
  },
  {
   "cell_type": "code",
   "execution_count": 44,
   "metadata": {
    "tags": []
   },
   "outputs": [
    {
     "data": {
      "text/plain": [
       "Name\n",
       "Bulbasaur     Grass, Poison\n",
       "Ivysaur       Grass, Poison\n",
       "Venusaur      Grass, Poison\n",
       "Charmander             Fire\n",
       "Charmeleon             Fire\n",
       "Name: Type, dtype: object"
      ]
     },
     "execution_count": 44,
     "metadata": {},
     "output_type": "execute_result"
    }
   ],
   "source": [
    "pokemon = pd.read_csv(\"pokemon.csv\", index_col=\"Name\").squeeze(\"columns\")\n",
    "pokemon.head()"
   ]
  },
  {
   "cell_type": "code",
   "execution_count": 45,
   "metadata": {
    "tags": []
   },
   "outputs": [
    {
     "data": {
      "text/plain": [
       "'Grass, Poison'"
      ]
     },
     "execution_count": 45,
     "metadata": {},
     "output_type": "execute_result"
    }
   ],
   "source": [
    "pokemon.loc[\"Bulbasaur\"]"
   ]
  },
  {
   "cell_type": "code",
   "execution_count": 46,
   "metadata": {
    "tags": []
   },
   "outputs": [
    {
     "data": {
      "text/plain": [
       "'Grass, Poison'"
      ]
     },
     "execution_count": 46,
     "metadata": {},
     "output_type": "execute_result"
    }
   ],
   "source": [
    "pokemon.iloc[0]"
   ]
  },
  {
   "cell_type": "code",
   "execution_count": 47,
   "metadata": {},
   "outputs": [
    {
     "data": {
      "text/plain": [
       "Name\n",
       "Charizard    Fire, Flying\n",
       "Jolteon          Electric\n",
       "Meowth             Normal\n",
       "Name: Type, dtype: object"
      ]
     },
     "execution_count": 47,
     "metadata": {},
     "output_type": "execute_result"
    }
   ],
   "source": [
    "pokemon.loc[\"Mewtwo\"]\n",
    "pokemon.loc[[\"Charizard\", \"Jolteon\", \"Meowth\"]]\n",
    "\n",
    "# pokemon.loc[\"Digimon\"]\n",
    "\n",
    "# pokemon.loc[[\"Pikachu\", \"Digimon\"]]"
   ]
  },
  {
   "cell_type": "markdown",
   "metadata": {},
   "source": [
    "## The get Method on a Series\n",
    "____\n",
    "- The `get` method extracts a **Series** value by index label. It is an alternative option to square brackets.\n",
    "- The `get` method's second argument sets the fallback value to return if the label/position does not exist.\n",
    "\n",
    "The syntax for get is thus:\n",
    "```python\n",
    "series.get(key, default=None)\n",
    "```\n",
    "We use the `key` parameter to pass the index label of the value we want to extract, and the `default` parameter to set a fallback value if the label does not exist. The get method is useful when we want to avoid raising an error if the index label does not exist."
   ]
  },
  {
   "cell_type": "code",
   "execution_count": 48,
   "metadata": {
    "tags": []
   },
   "outputs": [
    {
     "data": {
      "text/plain": [
       "Name\n",
       "Bulbasaur     Grass, Poison\n",
       "Ivysaur       Grass, Poison\n",
       "Venusaur      Grass, Poison\n",
       "Charmander             Fire\n",
       "Charmeleon             Fire\n",
       "Name: Type, dtype: object"
      ]
     },
     "execution_count": 48,
     "metadata": {},
     "output_type": "execute_result"
    }
   ],
   "source": [
    "pokemon = pd.read_csv(\"pokemon.csv\", index_col=\"Name\").squeeze(\"columns\")\n",
    "pokemon.head()"
   ]
  },
  {
   "cell_type": "code",
   "execution_count": 49,
   "metadata": {
    "tags": []
   },
   "outputs": [
    {
     "data": {
      "text/plain": [
       "'One of the values in the list was not found'"
      ]
     },
     "execution_count": 49,
     "metadata": {},
     "output_type": "execute_result"
    }
   ],
   "source": [
    "pokemon.get(\"Moltres\")\n",
    "pokemon.loc[\"Moltres\"]\n",
    "\n",
    "# pokemon.loc[\"Digimon\"]\n",
    "pokemon.get(\"Digimon\")\n",
    "pokemon.get(\"Digimon\", \"Nonexistent\")\n",
    "pokemon.get(\"Moltres\", \"Nonexistent\")\n",
    "\n",
    "pokemon.get([\"Moltres\", \"Digimon\"], \"One of the values in the list was not found\")"
   ]
  },
  {
   "cell_type": "markdown",
   "metadata": {
    "tags": []
   },
   "source": [
    "## Overwrite a Series Value\n",
    "____\n",
    "- Use the `loc/iloc` accessor to target an index label/position, then use an equal sign to provide a new value."
   ]
  },
  {
   "cell_type": "code",
   "execution_count": 50,
   "metadata": {},
   "outputs": [
    {
     "data": {
      "text/plain": [
       "0     Bulbasaur\n",
       "1       Ivysaur\n",
       "2      Venusaur\n",
       "3    Charmander\n",
       "4    Charmeleon\n",
       "Name: Name, dtype: object"
      ]
     },
     "execution_count": 50,
     "metadata": {},
     "output_type": "execute_result"
    }
   ],
   "source": [
    "pokemon = pd.read_csv(\"pokemon.csv\", usecols=[\"Name\"]).squeeze(\"columns\")\n",
    "pokemon.head()"
   ]
  },
  {
   "cell_type": "code",
   "execution_count": 51,
   "metadata": {},
   "outputs": [],
   "source": [
    "pokemon.iloc[0] = \"Borisaur\""
   ]
  },
  {
   "cell_type": "code",
   "execution_count": 52,
   "metadata": {},
   "outputs": [
    {
     "data": {
      "text/plain": [
       "0      Borisaur\n",
       "1       Ivysaur\n",
       "2      Venusaur\n",
       "3    Charmander\n",
       "4    Charmeleon\n",
       "Name: Name, dtype: object"
      ]
     },
     "execution_count": 52,
     "metadata": {},
     "output_type": "execute_result"
    }
   ],
   "source": [
    "pokemon.head()"
   ]
  },
  {
   "cell_type": "code",
   "execution_count": 53,
   "metadata": {},
   "outputs": [],
   "source": [
    "pokemon.iloc[[1, 2, 4]] = [\"Firemon\", \"Flamemon\", \"Blazemon\"]"
   ]
  },
  {
   "cell_type": "code",
   "execution_count": 54,
   "metadata": {},
   "outputs": [
    {
     "data": {
      "text/plain": [
       "0      Borisaur\n",
       "1       Firemon\n",
       "2      Flamemon\n",
       "3    Charmander\n",
       "4      Blazemon\n",
       "Name: Name, dtype: object"
      ]
     },
     "execution_count": 54,
     "metadata": {},
     "output_type": "execute_result"
    }
   ],
   "source": [
    "pokemon.head()"
   ]
  },
  {
   "cell_type": "code",
   "execution_count": 55,
   "metadata": {},
   "outputs": [
    {
     "data": {
      "text/plain": [
       "Name\n",
       "Bulbasaur     Grass, Poison\n",
       "Ivysaur       Grass, Poison\n",
       "Venusaur      Grass, Poison\n",
       "Charmander             Fire\n",
       "Charmeleon             Fire\n",
       "Name: Type, dtype: object"
      ]
     },
     "execution_count": 55,
     "metadata": {},
     "output_type": "execute_result"
    }
   ],
   "source": [
    "pokemon = pd.read_csv(\"pokemon.csv\", index_col=\"Name\").squeeze(\"columns\")\n",
    "pokemon.head()"
   ]
  },
  {
   "cell_type": "code",
   "execution_count": 56,
   "metadata": {},
   "outputs": [],
   "source": [
    "pokemon.loc[\"Bulbasaur\"] = \"Awesomeness\""
   ]
  },
  {
   "cell_type": "code",
   "execution_count": 57,
   "metadata": {},
   "outputs": [
    {
     "data": {
      "text/plain": [
       "Name\n",
       "Bulbasaur       Awesomeness\n",
       "Ivysaur       Grass, Poison\n",
       "Venusaur      Grass, Poison\n",
       "Charmander             Fire\n",
       "Charmeleon             Fire\n",
       "Name: Type, dtype: object"
      ]
     },
     "execution_count": 57,
     "metadata": {},
     "output_type": "execute_result"
    }
   ],
   "source": [
    "pokemon.head()"
   ]
  },
  {
   "cell_type": "code",
   "execution_count": 58,
   "metadata": {},
   "outputs": [],
   "source": [
    "pokemon.iloc[1] = \"Silly\""
   ]
  },
  {
   "cell_type": "code",
   "execution_count": 59,
   "metadata": {},
   "outputs": [
    {
     "data": {
      "text/plain": [
       "Name\n",
       "Bulbasaur       Awesomeness\n",
       "Ivysaur               Silly\n",
       "Venusaur      Grass, Poison\n",
       "Charmander             Fire\n",
       "Charmeleon             Fire\n",
       "Name: Type, dtype: object"
      ]
     },
     "execution_count": 59,
     "metadata": {},
     "output_type": "execute_result"
    }
   ],
   "source": [
    "pokemon.head()"
   ]
  },
  {
   "cell_type": "markdown",
   "metadata": {},
   "source": [
    "## The copy Method\n",
    "____\n",
    "- A **copy** is a duplicate/replica of an object.\n",
    "- Changes to a copy do not modify the original object.\n",
    "- A **view** is a different way of looking at the *same* data.\n",
    "- Changes to a view *do* modify the original object.\n",
    "- The `copy` method creates a copy of a pandas object.\n",
    "\n",
    "Thus, copy is independent of the original object, while view is dependent on the original object."
   ]
  },
  {
   "cell_type": "code",
   "execution_count": 60,
   "metadata": {
    "tags": []
   },
   "outputs": [],
   "source": [
    "pokemon_df = pd.read_csv(\"pokemon.csv\", usecols=[\"Name\"])\n",
    "pokemon_series = pokemon_df.squeeze(\"columns\").copy()"
   ]
  },
  {
   "cell_type": "code",
   "execution_count": 61,
   "metadata": {
    "tags": []
   },
   "outputs": [
    {
     "data": {
      "text/html": [
       "<div>\n",
       "<style scoped>\n",
       "    .dataframe tbody tr th:only-of-type {\n",
       "        vertical-align: middle;\n",
       "    }\n",
       "\n",
       "    .dataframe tbody tr th {\n",
       "        vertical-align: top;\n",
       "    }\n",
       "\n",
       "    .dataframe thead th {\n",
       "        text-align: right;\n",
       "    }\n",
       "</style>\n",
       "<table border=\"1\" class=\"dataframe\">\n",
       "  <thead>\n",
       "    <tr style=\"text-align: right;\">\n",
       "      <th></th>\n",
       "      <th>Name</th>\n",
       "    </tr>\n",
       "  </thead>\n",
       "  <tbody>\n",
       "    <tr>\n",
       "      <th>0</th>\n",
       "      <td>Bulbasaur</td>\n",
       "    </tr>\n",
       "    <tr>\n",
       "      <th>1</th>\n",
       "      <td>Ivysaur</td>\n",
       "    </tr>\n",
       "    <tr>\n",
       "      <th>2</th>\n",
       "      <td>Venusaur</td>\n",
       "    </tr>\n",
       "    <tr>\n",
       "      <th>3</th>\n",
       "      <td>Charmander</td>\n",
       "    </tr>\n",
       "    <tr>\n",
       "      <th>4</th>\n",
       "      <td>Charmeleon</td>\n",
       "    </tr>\n",
       "    <tr>\n",
       "      <th>...</th>\n",
       "      <td>...</td>\n",
       "    </tr>\n",
       "    <tr>\n",
       "      <th>1005</th>\n",
       "      <td>Iron Valiant</td>\n",
       "    </tr>\n",
       "    <tr>\n",
       "      <th>1006</th>\n",
       "      <td>Koraidon</td>\n",
       "    </tr>\n",
       "    <tr>\n",
       "      <th>1007</th>\n",
       "      <td>Miraidon</td>\n",
       "    </tr>\n",
       "    <tr>\n",
       "      <th>1008</th>\n",
       "      <td>Walking Wake</td>\n",
       "    </tr>\n",
       "    <tr>\n",
       "      <th>1009</th>\n",
       "      <td>Iron Leaves</td>\n",
       "    </tr>\n",
       "  </tbody>\n",
       "</table>\n",
       "<p>1010 rows × 1 columns</p>\n",
       "</div>"
      ],
      "text/plain": [
       "              Name\n",
       "0        Bulbasaur\n",
       "1          Ivysaur\n",
       "2         Venusaur\n",
       "3       Charmander\n",
       "4       Charmeleon\n",
       "...            ...\n",
       "1005  Iron Valiant\n",
       "1006      Koraidon\n",
       "1007      Miraidon\n",
       "1008  Walking Wake\n",
       "1009   Iron Leaves\n",
       "\n",
       "[1010 rows x 1 columns]"
      ]
     },
     "execution_count": 61,
     "metadata": {},
     "output_type": "execute_result"
    }
   ],
   "source": [
    "pokemon_df"
   ]
  },
  {
   "cell_type": "code",
   "execution_count": 62,
   "metadata": {
    "tags": []
   },
   "outputs": [],
   "source": [
    "pokemon_series[0] = \"Whatever\""
   ]
  },
  {
   "cell_type": "code",
   "execution_count": 63,
   "metadata": {
    "tags": []
   },
   "outputs": [
    {
     "data": {
      "text/plain": [
       "0      Whatever\n",
       "1       Ivysaur\n",
       "2      Venusaur\n",
       "3    Charmander\n",
       "4    Charmeleon\n",
       "Name: Name, dtype: object"
      ]
     },
     "execution_count": 63,
     "metadata": {},
     "output_type": "execute_result"
    }
   ],
   "source": [
    "pokemon_series.head()"
   ]
  },
  {
   "cell_type": "code",
   "execution_count": 64,
   "metadata": {
    "tags": []
   },
   "outputs": [
    {
     "data": {
      "text/html": [
       "<div>\n",
       "<style scoped>\n",
       "    .dataframe tbody tr th:only-of-type {\n",
       "        vertical-align: middle;\n",
       "    }\n",
       "\n",
       "    .dataframe tbody tr th {\n",
       "        vertical-align: top;\n",
       "    }\n",
       "\n",
       "    .dataframe thead th {\n",
       "        text-align: right;\n",
       "    }\n",
       "</style>\n",
       "<table border=\"1\" class=\"dataframe\">\n",
       "  <thead>\n",
       "    <tr style=\"text-align: right;\">\n",
       "      <th></th>\n",
       "      <th>Name</th>\n",
       "    </tr>\n",
       "  </thead>\n",
       "  <tbody>\n",
       "    <tr>\n",
       "      <th>0</th>\n",
       "      <td>Bulbasaur</td>\n",
       "    </tr>\n",
       "    <tr>\n",
       "      <th>1</th>\n",
       "      <td>Ivysaur</td>\n",
       "    </tr>\n",
       "    <tr>\n",
       "      <th>2</th>\n",
       "      <td>Venusaur</td>\n",
       "    </tr>\n",
       "    <tr>\n",
       "      <th>3</th>\n",
       "      <td>Charmander</td>\n",
       "    </tr>\n",
       "    <tr>\n",
       "      <th>4</th>\n",
       "      <td>Charmeleon</td>\n",
       "    </tr>\n",
       "    <tr>\n",
       "      <th>...</th>\n",
       "      <td>...</td>\n",
       "    </tr>\n",
       "    <tr>\n",
       "      <th>1005</th>\n",
       "      <td>Iron Valiant</td>\n",
       "    </tr>\n",
       "    <tr>\n",
       "      <th>1006</th>\n",
       "      <td>Koraidon</td>\n",
       "    </tr>\n",
       "    <tr>\n",
       "      <th>1007</th>\n",
       "      <td>Miraidon</td>\n",
       "    </tr>\n",
       "    <tr>\n",
       "      <th>1008</th>\n",
       "      <td>Walking Wake</td>\n",
       "    </tr>\n",
       "    <tr>\n",
       "      <th>1009</th>\n",
       "      <td>Iron Leaves</td>\n",
       "    </tr>\n",
       "  </tbody>\n",
       "</table>\n",
       "<p>1010 rows × 1 columns</p>\n",
       "</div>"
      ],
      "text/plain": [
       "              Name\n",
       "0        Bulbasaur\n",
       "1          Ivysaur\n",
       "2         Venusaur\n",
       "3       Charmander\n",
       "4       Charmeleon\n",
       "...            ...\n",
       "1005  Iron Valiant\n",
       "1006      Koraidon\n",
       "1007      Miraidon\n",
       "1008  Walking Wake\n",
       "1009   Iron Leaves\n",
       "\n",
       "[1010 rows x 1 columns]"
      ]
     },
     "execution_count": 64,
     "metadata": {},
     "output_type": "execute_result"
    }
   ],
   "source": [
    "pokemon_df"
   ]
  },
  {
   "cell_type": "markdown",
   "metadata": {},
   "source": [
    "## Math Methods on Series Objects\n",
    "____\n",
    "- The `count` method returns the number of values in the **Series**. It excludes missing values; the `size` attribute includes missing values.\n",
    "- The `sum` method adds together the **Series's** values.\n",
    "- The `product` method multiplies together the **Series's** values.\n",
    "- The `mean` method calculates the average of the **Series's** values.\n",
    "- The `std` method calculates the standard deviation of the **Series's** values.\n",
    "- The `max` method returns the largest value in the **Series**.\n",
    "- The `min` method returns the smallest value in the **Series**.\n",
    "- The `median` method returns the median of the **Series** (the value in the middle).\n",
    "- The `mode` method returns the mode of the **Series** (the most frequent alue).\n",
    "- The `describe` method returns a summary with various mathematical calculations."
   ]
  },
  {
   "cell_type": "code",
   "execution_count": 65,
   "metadata": {
    "tags": []
   },
   "outputs": [
    {
     "data": {
      "text/plain": [
       "0    2.490664\n",
       "1    2.515820\n",
       "2    2.758411\n",
       "3    2.770615\n",
       "4    2.614201\n",
       "Name: Price, dtype: float64"
      ]
     },
     "execution_count": 65,
     "metadata": {},
     "output_type": "execute_result"
    }
   ],
   "source": [
    "google = pd.read_csv(\"google_stock_price.csv\", usecols=[\"Price\"]).squeeze(\"columns\")\n",
    "google.head()"
   ]
  },
  {
   "cell_type": "code",
   "execution_count": 66,
   "metadata": {
    "tags": []
   },
   "outputs": [
    {
     "name": "stderr",
     "output_type": "stream",
     "text": [
      "/Users/teslim/anaconda3/envs/ml-zoomcamp/lib/python3.10/site-packages/numpy/core/_methods.py:53: RuntimeWarning: overflow encountered in reduce\n",
      "  return umr_prod(a, axis, dtype, out, keepdims, initial, where)\n"
     ]
    },
    {
     "data": {
      "text/plain": [
       "count    4793.000000\n",
       "mean       40.211377\n",
       "std        37.274753\n",
       "min         2.470490\n",
       "25%        12.767395\n",
       "50%        26.327717\n",
       "75%        56.311001\n",
       "max       151.863495\n",
       "Name: Price, dtype: float64"
      ]
     },
     "execution_count": 66,
     "metadata": {},
     "output_type": "execute_result"
    }
   ],
   "source": [
    "google.count()\n",
    "google.sum()\n",
    "google.product()\n",
    "pd.Series([1, 2, 3, 4]).product()\n",
    "google.mean()\n",
    "google.std()\n",
    "google.max()\n",
    "google.min()\n",
    "google.median()\n",
    "google.mode()\n",
    "pd.Series([1, 2, 2, 2, 3]).mode()\n",
    "\n",
    "google.describe()"
   ]
  },
  {
   "cell_type": "markdown",
   "metadata": {},
   "source": [
    "## Broadcasting\n",
    "____\n",
    "- **Broadcasting** describes the process of applying an arithmetic operation to an array (i.e., a **Series**).\n",
    "- We can combine mathematical operators with a **Series** to apply the mathematical operation to every value.\n",
    "- There are also methods to accomplish the same results (`add`, `sub`, `mul`, `div`, etc.)"
   ]
  },
  {
   "cell_type": "code",
   "execution_count": 67,
   "metadata": {
    "tags": []
   },
   "outputs": [
    {
     "data": {
      "text/plain": [
       "0    2.490664\n",
       "1    2.515820\n",
       "2    2.758411\n",
       "3    2.770615\n",
       "4    2.614201\n",
       "Name: Price, dtype: float64"
      ]
     },
     "execution_count": 67,
     "metadata": {},
     "output_type": "execute_result"
    }
   ],
   "source": [
    "google = pd.read_csv(\"google_stock_price.csv\", usecols=[\"Price\"]).squeeze(\"columns\")\n",
    "google.head()"
   ]
  },
  {
   "cell_type": "code",
   "execution_count": 68,
   "metadata": {
    "tags": []
   },
   "outputs": [
    {
     "data": {
      "text/plain": [
       "0        1.245332\n",
       "1        1.257910\n",
       "2        1.379206\n",
       "3        1.385307\n",
       "4        1.307100\n",
       "          ...    \n",
       "4788    66.040001\n",
       "4789    66.499000\n",
       "4790    67.785004\n",
       "4791    68.525002\n",
       "4792    69.214996\n",
       "Name: Price, Length: 4793, dtype: float64"
      ]
     },
     "execution_count": 68,
     "metadata": {},
     "output_type": "execute_result"
    }
   ],
   "source": [
    "google.add(10)\n",
    "google + 10\n",
    "\n",
    "google.sub(30)\n",
    "google - 30\n",
    "\n",
    "google.mul(1.25)\n",
    "google * 1.25\n",
    "1.25 * google\n",
    "\n",
    "google.div(2)\n",
    "google / 2"
   ]
  },
  {
   "cell_type": "markdown",
   "metadata": {},
   "source": [
    "## The value_counts Method\n",
    "____\n",
    "- The `value_counts` method returns the number of times each unique value occurs in the **Series**.\n",
    "- The `normalize` parameter returns the relative frequencies/percentages of the values instead of the counts."
   ]
  },
  {
   "cell_type": "code",
   "execution_count": 69,
   "metadata": {
    "tags": []
   },
   "outputs": [
    {
     "data": {
      "text/plain": [
       "Name\n",
       "Bulbasaur     Grass, Poison\n",
       "Ivysaur       Grass, Poison\n",
       "Venusaur      Grass, Poison\n",
       "Charmander             Fire\n",
       "Charmeleon             Fire\n",
       "Name: Type, dtype: object"
      ]
     },
     "execution_count": 69,
     "metadata": {},
     "output_type": "execute_result"
    }
   ],
   "source": [
    "pokemon = pd.read_csv(\"pokemon.csv\", index_col=\"Name\").squeeze(\"columns\")\n",
    "pokemon.head()"
   ]
  },
  {
   "cell_type": "code",
   "execution_count": 70,
   "metadata": {
    "tags": []
   },
   "outputs": [
    {
     "data": {
      "text/plain": [
       "Type\n",
       "Water               7.326733\n",
       "Normal              7.326733\n",
       "Grass               4.554455\n",
       "Psychic             3.861386\n",
       "Fire                3.564356\n",
       "                      ...   \n",
       "Fighting, Ice       0.099010\n",
       "Fire, Dragon        0.099010\n",
       "Normal, Dragon      0.099010\n",
       "Psychic, Steel      0.099010\n",
       "Fighting, Dragon    0.099010\n",
       "Name: proportion, Length: 200, dtype: float64"
      ]
     },
     "execution_count": 70,
     "metadata": {},
     "output_type": "execute_result"
    }
   ],
   "source": [
    "pokemon.value_counts()\n",
    "pokemon.value_counts(ascending=True)\n",
    "pokemon.value_counts(normalize=True)\n",
    "pokemon.value_counts(normalize=True) * 100"
   ]
  },
  {
   "cell_type": "code",
   "execution_count": 71,
   "metadata": {},
   "outputs": [
    {
     "data": {
      "text/plain": [
       "Type\n",
       "Water               74\n",
       "Normal              74\n",
       "Grass               46\n",
       "Psychic             39\n",
       "Fire                36\n",
       "                    ..\n",
       "Fighting, Ice        1\n",
       "Fire, Dragon         1\n",
       "Normal, Dragon       1\n",
       "Psychic, Steel       1\n",
       "Fighting, Dragon     1\n",
       "Name: count, Length: 200, dtype: int64"
      ]
     },
     "execution_count": 71,
     "metadata": {},
     "output_type": "execute_result"
    }
   ],
   "source": [
    "pokemon.value_counts()"
   ]
  },
  {
   "cell_type": "code",
   "execution_count": 72,
   "metadata": {},
   "outputs": [
    {
     "data": {
      "text/plain": [
       "Type\n",
       "Ice, Ghost           1\n",
       "Fire, Water          1\n",
       "Fighting, Flying     1\n",
       "Normal, Ground       1\n",
       "Dragon, Electric     1\n",
       "                    ..\n",
       "Fire                36\n",
       "Psychic             39\n",
       "Grass               46\n",
       "Normal              74\n",
       "Water               74\n",
       "Name: count, Length: 200, dtype: int64"
      ]
     },
     "execution_count": 72,
     "metadata": {},
     "output_type": "execute_result"
    }
   ],
   "source": [
    "pokemon.value_counts(ascending=True)"
   ]
  },
  {
   "cell_type": "code",
   "execution_count": 73,
   "metadata": {},
   "outputs": [
    {
     "data": {
      "text/plain": [
       "Type\n",
       "Water               0.073267\n",
       "Normal              0.073267\n",
       "Grass               0.045545\n",
       "Psychic             0.038614\n",
       "Fire                0.035644\n",
       "                      ...   \n",
       "Fighting, Ice       0.000990\n",
       "Fire, Dragon        0.000990\n",
       "Normal, Dragon      0.000990\n",
       "Psychic, Steel      0.000990\n",
       "Fighting, Dragon    0.000990\n",
       "Name: proportion, Length: 200, dtype: float64"
      ]
     },
     "execution_count": 73,
     "metadata": {},
     "output_type": "execute_result"
    }
   ],
   "source": [
    "pokemon.value_counts(normalize=True)"
   ]
  },
  {
   "cell_type": "code",
   "execution_count": 74,
   "metadata": {},
   "outputs": [
    {
     "data": {
      "text/plain": [
       "Type\n",
       "Water               7.326733\n",
       "Normal              7.326733\n",
       "Grass               4.554455\n",
       "Psychic             3.861386\n",
       "Fire                3.564356\n",
       "                      ...   \n",
       "Fighting, Ice       0.099010\n",
       "Fire, Dragon        0.099010\n",
       "Normal, Dragon      0.099010\n",
       "Psychic, Steel      0.099010\n",
       "Fighting, Dragon    0.099010\n",
       "Name: proportion, Length: 200, dtype: float64"
      ]
     },
     "execution_count": 74,
     "metadata": {},
     "output_type": "execute_result"
    }
   ],
   "source": [
    "pokemon.value_counts(normalize=True) * 100"
   ]
  },
  {
   "cell_type": "markdown",
   "metadata": {},
   "source": [
    "## The apply Method\n",
    "____\n",
    "- The `apply` method accepts a function. It invokes that function on every `Series` value.\n",
    "- The `apply` method is useful for custom calculations and data transformations.\n",
    "- The `apply` method is a more flexible alternative to broadcasting.\n",
    "\n",
    "The syntax for apply is thus:\n",
    "```python\n",
    "series.apply(func, convert_dtype=True, args=(), **kwds)\n",
    "```\n",
    "* The `func` parameter is the function we want to apply to the Series.    \n",
    "* The `convert_dtype` parameter specifies whether we want to convert the data type of the Series to the result of the function. \n",
    "* The `args` parameter is used to pass additional arguments to the function. \n",
    "* The `**kwds` parameter is used to pass additional keyword arguments to the function."
   ]
  },
  {
   "cell_type": "code",
   "execution_count": 75,
   "metadata": {
    "tags": []
   },
   "outputs": [
    {
     "data": {
      "text/plain": [
       "0     Bulbasaur\n",
       "1       Ivysaur\n",
       "2      Venusaur\n",
       "3    Charmander\n",
       "4    Charmeleon\n",
       "Name: Name, dtype: object"
      ]
     },
     "execution_count": 75,
     "metadata": {},
     "output_type": "execute_result"
    }
   ],
   "source": [
    "pokemon = pd.read_csv(\"pokemon.csv\", usecols=[\"Name\"]).squeeze(\"columns\")\n",
    "pokemon.head()"
   ]
  },
  {
   "cell_type": "code",
   "execution_count": 76,
   "metadata": {
    "tags": []
   },
   "outputs": [
    {
     "data": {
      "text/plain": [
       "0        9\n",
       "1        7\n",
       "2        8\n",
       "3       10\n",
       "4       10\n",
       "        ..\n",
       "1005    12\n",
       "1006     8\n",
       "1007     8\n",
       "1008    12\n",
       "1009    11\n",
       "Name: Name, Length: 1010, dtype: int64"
      ]
     },
     "execution_count": 76,
     "metadata": {},
     "output_type": "execute_result"
    }
   ],
   "source": [
    "pokemon.apply(len)"
   ]
  },
  {
   "cell_type": "code",
   "execution_count": 77,
   "metadata": {
    "tags": []
   },
   "outputs": [
    {
     "data": {
      "text/plain": [
       "0       2\n",
       "1       1\n",
       "2       1\n",
       "3       2\n",
       "4       1\n",
       "       ..\n",
       "1005    2\n",
       "1006    1\n",
       "1007    1\n",
       "1008    2\n",
       "1009    1\n",
       "Name: Name, Length: 1010, dtype: int64"
      ]
     },
     "execution_count": 77,
     "metadata": {},
     "output_type": "execute_result"
    }
   ],
   "source": [
    "def count_of_a(pokemon):\n",
    "    return pokemon.count(\"a\")\n",
    "\n",
    "pokemon.apply(count_of_a)"
   ]
  },
  {
   "cell_type": "markdown",
   "metadata": {},
   "source": [
    "## The map Method\n",
    "____\n",
    "- The `map` method \"maps\" or connects each **Series** values to another value.\n",
    "- We can pass the method a dictionary or a **Series**. Both types connects keys to values.\n",
    "- The `map` method uses our argument to connect or bridge together the values."
   ]
  },
  {
   "cell_type": "code",
   "execution_count": 78,
   "metadata": {
    "tags": []
   },
   "outputs": [
    {
     "data": {
      "text/plain": [
       "Name\n",
       "Bulbasaur          Grass, Poison\n",
       "Ivysaur            Grass, Poison\n",
       "Venusaur           Grass, Poison\n",
       "Charmander                  Fire\n",
       "Charmeleon                  Fire\n",
       "                      ...       \n",
       "Iron Valiant     Fairy, Fighting\n",
       "Koraidon        Fighting, Dragon\n",
       "Miraidon        Electric, Dragon\n",
       "Walking Wake       Water, Dragon\n",
       "Iron Leaves       Grass, Psychic\n",
       "Name: Type, Length: 1010, dtype: object"
      ]
     },
     "execution_count": 78,
     "metadata": {},
     "output_type": "execute_result"
    }
   ],
   "source": [
    "pokemon = pd.read_csv(\"pokemon.csv\", index_col=\"Name\").squeeze(\"columns\")\n",
    "pokemon"
   ]
  },
  {
   "cell_type": "code",
   "execution_count": 79,
   "metadata": {
    "tags": []
   },
   "outputs": [
    {
     "data": {
      "text/plain": [
       "Grass              10\n",
       "Fire               15\n",
       "Water              15\n",
       "Fairy, Fighting    20\n",
       "Grass, Psychic     50\n",
       "dtype: int64"
      ]
     },
     "execution_count": 79,
     "metadata": {},
     "output_type": "execute_result"
    }
   ],
   "source": [
    "attack_powers = pd.Series({\n",
    "    \"Grass\": 10,\n",
    "    \"Fire\": 15,\n",
    "    \"Water\": 15,\n",
    "    \"Fairy, Fighting\": 20,\n",
    "    \"Grass, Psychic\": 50\n",
    "})\n",
    "\n",
    "attack_powers"
   ]
  },
  {
   "cell_type": "code",
   "execution_count": 80,
   "metadata": {
    "tags": []
   },
   "outputs": [
    {
     "data": {
      "text/plain": [
       "Name\n",
       "Bulbasaur        NaN\n",
       "Ivysaur          NaN\n",
       "Venusaur         NaN\n",
       "Charmander      15.0\n",
       "Charmeleon      15.0\n",
       "                ... \n",
       "Iron Valiant    20.0\n",
       "Koraidon         NaN\n",
       "Miraidon         NaN\n",
       "Walking Wake     NaN\n",
       "Iron Leaves     50.0\n",
       "Name: Type, Length: 1010, dtype: float64"
      ]
     },
     "execution_count": 80,
     "metadata": {},
     "output_type": "execute_result"
    }
   ],
   "source": [
    "pokemon.map(attack_powers)"
   ]
  }
 ],
 "metadata": {
  "anaconda-cloud": {},
  "kernelspec": {
   "display_name": "Python 3 (ipykernel)",
   "language": "python",
   "name": "python3"
  },
  "language_info": {
   "codemirror_mode": {
    "name": "ipython",
    "version": 3
   },
   "file_extension": ".py",
   "mimetype": "text/x-python",
   "name": "python",
   "nbconvert_exporter": "python",
   "pygments_lexer": "ipython3",
   "version": "3.10.13"
  }
 },
 "nbformat": 4,
 "nbformat_minor": 4
}
