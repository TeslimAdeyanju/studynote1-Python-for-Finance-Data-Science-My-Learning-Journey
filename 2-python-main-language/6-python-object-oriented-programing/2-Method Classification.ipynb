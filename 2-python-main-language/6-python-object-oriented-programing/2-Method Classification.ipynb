{
 "cells": [
  {
   "cell_type": "markdown",
   "metadata": {},
   "source": [
    "# METHODS"
   ]
  },
  {
   "cell_type": "markdown",
   "metadata": {},
   "source": [
    "### Introduction \n",
    "___"
   ]
  },
  {
   "cell_type": "markdown",
   "metadata": {},
   "source": [
    "In Object-oriented programming, Inside a method, we can define the following three types.\n",
    "\n",
    "1. Class method \n",
    "2. Instance method \n",
    "3. Static method "
   ]
  },
  {
   "cell_type": "markdown",
   "metadata": {},
   "source": [
    "### 1.0 Class Method\n",
    "___"
   ]
  },
  {
   "cell_type": "markdown",
   "metadata": {},
   "source": [
    "#### Introduction\n",
    "\n",
    "Class methods are methods that are called on the class itself, not on a specific object instance. Therefore, it belongs to a class level, and all class instances share a class method.\n",
    "\n",
    "* A class method is bound to the class and not the object of the class. It can access only class variables.\n",
    "\n",
    "* It can modify the class state by changing the value of a class variable that would apply across all the class objects.\n",
    "\n",
    "In method implementation, if we use only class variables, we should declare such methods as class methods. The class method has a `cls` as the first parameter, which refers to the class.\n",
    "\n",
    "Class methods are used when we are dealing with factory methods. Factory methods are those methods that return a class object for different use cases. Thus, factory methods create concrete implementations of a common interface.\n",
    "\n",
    "The class method can be called using `ClassName.method_name()` as well as by using an object of the class.\n",
    "\n",
    "\n",
    "**How To Define Class Method**\n",
    "- Any method we create in a class will automatically be created as an instance method. We must explicitly tell Python that it is a class method using the `@classmethod` decorator or `classmethod()` function.\n",
    "\n",
    "- Class methods are defined inside a class, and it is pretty similar to defining a regular function. Like, inside an instance method, we use the `self` keyword to access or modify the instance variables. Same inside the class method, we use the `cls` keyword as a first parameter to access class variables. Therefore the class method gives us control of changing the class state.\n",
    "\n",
    "- You may use a variable named differently for cls, but it is discouraged since self is the recommended convention in Python.\n",
    "\n",
    "- The class method can only access the class attributes, not the instance attributes\n",
    "\n",
    "There are two ways to define class methods depending on the programming language:\n",
    "\n",
    "1. Using a `decorator`: This is the preferred way in modern programming languages like Python.\n",
    "\n",
    "2. Using the `classmethod()` function (legacy syntax):This method is considered less common and sometimes discouraged"
   ]
  },
  {
   "cell_type": "markdown",
   "metadata": {},
   "source": [
    "#### Type1: Create Class Method Using @classmethod Decorator\n",
    "___"
   ]
  },
  {
   "cell_type": "markdown",
   "metadata": {},
   "source": [
    "\n",
    "To make a method as class method, add `@classmethod` decorator before the method definition, and add `cls` as the first parameter to the method.\n",
    "\n",
    "The `@classmethod` decorator is a built-in function decorator. In Python, we use the @classmethod decorator to declare a method as a class method. The @classmethod decorator is an expression that gets evaluated after our function is defined.\n",
    "___\n",
    "\n",
    "Herein is the syntax: \n"
   ]
  },
  {
   "cell_type": "code",
   "execution_count": 1,
   "metadata": {},
   "outputs": [
    {
     "name": "stdout",
     "output_type": "stream",
     "text": [
      "Instance attributes:\n",
      "Attribute 1: instance_value1\n",
      "Attribute 2: instance_value2\n",
      "\n",
      "Class attributes before modification:\n",
      "Class Attribute 1: value1\n",
      "Class Attribute 2: value2\n",
      "\n",
      "Class attributes after modification:\n",
      "Class Attribute 1: new_value1\n",
      "Class Attribute 2: new_value2\n"
     ]
    }
   ],
   "source": [
    "class ClassName:\n",
    "    # Class attributes\n",
    "    class_attribute1 = 'value1'\n",
    "    class_attribute2 = 'value2'\n",
    "\n",
    "    # Constructor method (initializer) to define instance attributes\n",
    "    def __init__(self, attribute1, attribute2):\n",
    "        # Instance attributes\n",
    "        self.attribute1 = attribute1\n",
    "        self.attribute2 = attribute2\n",
    "\n",
    "    # Class method to modify class attributes\n",
    "    @classmethod\n",
    "    def modify_class_attributes(cls, new_value1, new_value2):\n",
    "        cls.class_attribute1 = new_value1\n",
    "        cls.class_attribute2 = new_value2\n",
    "\n",
    "# Creating an object of the ClassName class\n",
    "obj = ClassName(\"instance_value1\", \"instance_value2\")\n",
    "\n",
    "# Accessing instance attributes\n",
    "print(\"Instance attributes:\")\n",
    "print(\"Attribute 1:\", obj.attribute1)\n",
    "print(\"Attribute 2:\", obj.attribute2)\n",
    "\n",
    "# Accessing class attributes\n",
    "print(\"\\nClass attributes before modification:\")\n",
    "print(\"Class Attribute 1:\", ClassName.class_attribute1)\n",
    "print(\"Class Attribute 2:\", ClassName.class_attribute2)\n",
    "\n",
    "# Modifying class attributes using the class method\n",
    "ClassName.modify_class_attributes(\"new_value1\", \"new_value2\")\n",
    "\n",
    "# Accessing class attributes after modification\n",
    "print(\"\\nClass attributes after modification:\")\n",
    "print(\"Class Attribute 1:\", ClassName.class_attribute1)\n",
    "print(\"Class Attribute 2:\", ClassName.class_attribute2)"
   ]
  },
  {
   "cell_type": "code",
   "execution_count": 2,
   "metadata": {},
   "outputs": [
    {
     "name": "stdout",
     "output_type": "stream",
     "text": [
      "Instance attributes:\n",
      "  Title: The Adventure\n",
      "  Author: John Smith\n",
      "  Pages: 350\n",
      "\n",
      "Class attributes before modification:\n",
      "  Default Pages: 200\n",
      "  Genre: Mystery\n",
      "\n",
      "Class attributes after modification:\n",
      "  Default Pages: 200\n",
      "  Genre: Science Fiction\n",
      "\n",
      "Book2 details:\n",
      "  Title: The Discovery\n",
      "  Author: Jane Doe\n",
      "  Pages: 200\n"
     ]
    }
   ],
   "source": [
    "class Book:\n",
    "    # Class attributes (shared by all Book instances)\n",
    "    default_pages = 200\n",
    "    genre = \"Mystery\"  # You can change this to a different default genre\n",
    "\n",
    "    # Constructor method (initializer) to define instance attributes\n",
    "    def __init__(self, title, author, pages = None):\n",
    "        # Instance attributes\n",
    "        self.title = title\n",
    "        self.author = author\n",
    "        self.pages = pages or Book.default_pages  # Use default_pages if not provided\n",
    "\n",
    "    # Class method to modify class attributes\n",
    "    @classmethod\n",
    "    def set_genre(cls, new_genre):\n",
    "        cls.genre = new_genre\n",
    "\n",
    "# Creating an object of the Book class\n",
    "book1 = Book(\"The Adventure\", \"John Smith\", 350)\n",
    "\n",
    "# Accessing instance attributes\n",
    "print(\"Instance attributes:\")\n",
    "print(f\"  Title: {book1.title}\")\n",
    "print(f\"  Author: {book1.author}\")\n",
    "print(f\"  Pages: {book1.pages}\")\n",
    "\n",
    "# Accessing class attributes\n",
    "print(\"\\nClass attributes before modification:\")\n",
    "print(f\"  Default Pages: {Book.default_pages}\")\n",
    "print(f\"  Genre: {Book.genre}\")\n",
    "\n",
    "# Modifying class attributes using the class method\n",
    "Book.set_genre(\"Science Fiction\")\n",
    "\n",
    "# Accessing class attributes after modification\n",
    "print(\"\\nClass attributes after modification:\")\n",
    "print(f\"  Default Pages: {Book.default_pages}\")  # This remains unchanged\n",
    "print(f\"  Genre: {Book.genre}\")\n",
    "\n",
    "# Creating another Book object with default pages using class attribute\n",
    "book2 = Book(\"The Discovery\", \"Jane Doe\")\n",
    "\n",
    "# Print book2 details\n",
    "print(\"\\nBook2 details:\")\n",
    "print(f\"  Title: {book2.title}\")\n",
    "print(f\"  Author: {book2.author}\")\n",
    "print(f\"  Pages: {book2.pages}\")  # Uses default_pages (200)\n"
   ]
  },
  {
   "cell_type": "code",
   "execution_count": 3,
   "metadata": {},
   "outputs": [
    {
     "name": "stdout",
     "output_type": "stream",
     "text": [
      "Current stock quantity: 189\n"
     ]
    }
   ],
   "source": [
    "class Product:\n",
    "    Inventory = 100  # Default quantity in stock\n",
    "\n",
    "    @classmethod\n",
    "    def updated_stock(cls, new_stock):\n",
    "        cls.Inventory = new_stock\n",
    "\n",
    "# Calling class method to modify stock quantity\n",
    "Product.updated_stock(189)\n",
    "\n",
    "# Accessing class variable\n",
    "print(\"Current stock quantity:\", Product.Inventory)\n"
   ]
  },
  {
   "cell_type": "markdown",
   "metadata": {},
   "source": [
    "The provided Python code defines a class named `Product` and uses a class method to update a class variable.\n",
    "\n",
    "The `Product` class is defined with a class variable `stock`, which is initialized to 100. Class variables are shared by all instances of a class and the class itself. They are defined within the class but outside any of the class's methods.\n",
    "\n",
    "The `updated_stock` method is a class method, as indicated by the `@classmethod` decorator. Class methods can modify class state that applies across all instances of the class. They can't modify a particular instance's state. The first parameter of a class method, traditionally named `cls`, is a reference to the class itself, not an instance of the class.\n",
    "\n",
    "The `updated_stock` method takes a parameter `new_stock` and assigns its value to the class variable `stock`. This effectively updates the `stock` value for the `Product` class and all its instances.\n",
    "\n",
    "The class method `updated_stock` is then called on the `Product` class (not an instance of the class) with the argument 150. This updates the `stock` class variable to 150.\n",
    "\n",
    "Finally, the `print` statement prints the current value of the `stock` class variable, which is now 150. This is done by accessing the class variable directly on the class using dot notation."
   ]
  },
  {
   "cell_type": "code",
   "execution_count": null,
   "metadata": {},
   "outputs": [],
   "source": [
    "class  Student:\n",
    "    school_name = 'Lagos School'\n",
    "\n",
    "    def __init__(self, name, age):\n",
    "        self.name = name\n",
    "        self.age = age\n",
    "\n",
    "    @classmethod\n",
    "    def change_school(cls, school_name):\n",
    "        # class_name.class_variable\n",
    "        cls.school_name = school_name\n",
    "\n",
    "    # calling class method to change school name\n",
    "Student.change_school('United Kingdom School')\n",
    "\n",
    "# Accessing class variable\n",
    "print(\"School name:\", Student.school_name)\n"
   ]
  },
  {
   "cell_type": "code",
   "execution_count": 12,
   "metadata": {},
   "outputs": [
    {
     "name": "stdout",
     "output_type": "stream",
     "text": [
      "Shop Name: MyShop\n",
      "Total Sales: 7800\n"
     ]
    }
   ],
   "source": [
    "class Shop:\n",
    "    # Class attributes\n",
    "    shop_name = \"MyShop\"\n",
    "    total_sales = 0\n",
    "\n",
    "    # Constructor method (initializer) to define instance attributes\n",
    "    def __init__(self, item_name, price):\n",
    "        # Instance attributes\n",
    "        self.item_name = item_name\n",
    "        self.price = price\n",
    "\n",
    "    # Class method to update total sales\n",
    "    @classmethod\n",
    "    def update_sales(cls, sale_amount):\n",
    "        cls.total_sales += sale_amount\n",
    "\n",
    "# Creating shop items\n",
    "item1 = Shop(\"Laptop\", 1200)\n",
    "item2 = Shop(\"Phone\", 800)\n",
    "item3 = Shop(\"Headphones\", 100)\n",
    "\n",
    "# Simulating sales\n",
    "item1_sale = 3 * item1.price\n",
    "item2_sale = 5 * item2.price\n",
    "item3_sale = 2 * item3.price\n",
    "\n",
    "# Updating total sales using class method\n",
    "Shop.update_sales(item1_sale + item2_sale + item3_sale)\n",
    "\n",
    "# Printing shop information\n",
    "print(\"Shop Name:\", Shop.shop_name)\n",
    "print(\"Total Sales:\", Shop.total_sales)\n"
   ]
  },
  {
   "cell_type": "markdown",
   "metadata": {},
   "source": [
    "The provided Python code defines a class named [`Shop`](command:_github.copilot.openSymbolFromReferences?%5B%7B%22%24mid%22%3A1%2C%22fsPath%22%3A%22%2FUsers%2Fteslim%2FLibrary%2FCloudStorage%2FOneDrive-TeslimUthmanAdeyanju%2FTeSlim_Data_Scientist%2F03_Python%2FTeslim_python_study_note%2FTeslim_Python_BOOK%2F06-Object%20Oriented%20Programing%2F1.%20Classess_and_Objects.ipynb%22%2C%22path%22%3A%22%2FUsers%2Fteslim%2FLibrary%2FCloudStorage%2FOneDrive-TeslimUthmanAdeyanju%2FTeSlim_Data_Scientist%2F03_Python%2FTeslim_python_study_note%2FTeslim_Python_BOOK%2F06-Object%20Oriented%20Programing%2F1.%20Classess_and_Objects.ipynb%22%2C%22scheme%22%3A%22vscode-notebook-cell%22%2C%22fragment%22%3A%22Y103sZmlsZQ%3D%3D%22%7D%2C%7B%22line%22%3A0%2C%22character%22%3A6%7D%5D \"/Users/teslim/Library/CloudStorage/OneDrive-TeslimUthmanAdeyanju/TeSlim_Data_Scientist/03_Python/Teslim_python_study_note/Teslim_Python_BOOK/06-Object Oriented Programing/1. Classess_and_Objects.ipynb\") and simulates sales of items in the shop.\n",
    "\n",
    "The [`Shop`](command:_github.copilot.openSymbolFromReferences?%5B%7B%22%24mid%22%3A1%2C%22fsPath%22%3A%22%2FUsers%2Fteslim%2FLibrary%2FCloudStorage%2FOneDrive-TeslimUthmanAdeyanju%2FTeSlim_Data_Scientist%2F03_Python%2FTeslim_python_study_note%2FTeslim_Python_BOOK%2F06-Object%20Oriented%20Programing%2F1.%20Classess_and_Objects.ipynb%22%2C%22path%22%3A%22%2FUsers%2Fteslim%2FLibrary%2FCloudStorage%2FOneDrive-TeslimUthmanAdeyanju%2FTeSlim_Data_Scientist%2F03_Python%2FTeslim_python_study_note%2FTeslim_Python_BOOK%2F06-Object%20Oriented%20Programing%2F1.%20Classess_and_Objects.ipynb%22%2C%22scheme%22%3A%22vscode-notebook-cell%22%2C%22fragment%22%3A%22Y103sZmlsZQ%3D%3D%22%7D%2C%7B%22line%22%3A0%2C%22character%22%3A6%7D%5D \"/Users/teslim/Library/CloudStorage/OneDrive-TeslimUthmanAdeyanju/TeSlim_Data_Scientist/03_Python/Teslim_python_study_note/Teslim_Python_BOOK/06-Object Oriented Programing/1. Classess_and_Objects.ipynb\") class has two class attributes: [`shop_name`](command:_github.copilot.openSymbolFromReferences?%5B%7B%22%24mid%22%3A1%2C%22fsPath%22%3A%22%2FUsers%2Fteslim%2FLibrary%2FCloudStorage%2FOneDrive-TeslimUthmanAdeyanju%2FTeSlim_Data_Scientist%2F03_Python%2FTeslim_python_study_note%2FTeslim_Python_BOOK%2F06-Object%20Oriented%20Programing%2F1.%20Classess_and_Objects.ipynb%22%2C%22path%22%3A%22%2FUsers%2Fteslim%2FLibrary%2FCloudStorage%2FOneDrive-TeslimUthmanAdeyanju%2FTeSlim_Data_Scientist%2F03_Python%2FTeslim_python_study_note%2FTeslim_Python_BOOK%2F06-Object%20Oriented%20Programing%2F1.%20Classess_and_Objects.ipynb%22%2C%22scheme%22%3A%22vscode-notebook-cell%22%2C%22fragment%22%3A%22Y103sZmlsZQ%3D%3D%22%7D%2C%7B%22line%22%3A2%2C%22character%22%3A4%7D%5D \"/Users/teslim/Library/CloudStorage/OneDrive-TeslimUthmanAdeyanju/TeSlim_Data_Scientist/03_Python/Teslim_python_study_note/Teslim_Python_BOOK/06-Object Oriented Programing/1. Classess_and_Objects.ipynb\") and [`total_sales`](command:_github.copilot.openSymbolFromReferences?%5B%7B%22%24mid%22%3A1%2C%22fsPath%22%3A%22%2FUsers%2Fteslim%2FLibrary%2FCloudStorage%2FOneDrive-TeslimUthmanAdeyanju%2FTeSlim_Data_Scientist%2F03_Python%2FTeslim_python_study_note%2FTeslim_Python_BOOK%2F06-Object%20Oriented%20Programing%2F1.%20Classess_and_Objects.ipynb%22%2C%22path%22%3A%22%2FUsers%2Fteslim%2FLibrary%2FCloudStorage%2FOneDrive-TeslimUthmanAdeyanju%2FTeSlim_Data_Scientist%2F03_Python%2FTeslim_python_study_note%2FTeslim_Python_BOOK%2F06-Object%20Oriented%20Programing%2F1.%20Classess_and_Objects.ipynb%22%2C%22scheme%22%3A%22vscode-notebook-cell%22%2C%22fragment%22%3A%22Y103sZmlsZQ%3D%3D%22%7D%2C%7B%22line%22%3A3%2C%22character%22%3A4%7D%5D \"/Users/teslim/Library/CloudStorage/OneDrive-TeslimUthmanAdeyanju/TeSlim_Data_Scientist/03_Python/Teslim_python_study_note/Teslim_Python_BOOK/06-Object Oriented Programing/1. Classess_and_Objects.ipynb\"). Class attributes are shared by all instances of a class and the class itself. They are defined within the class but outside any of the class's methods. [`shop_name`](command:_github.copilot.openSymbolFromReferences?%5B%7B%22%24mid%22%3A1%2C%22fsPath%22%3A%22%2FUsers%2Fteslim%2FLibrary%2FCloudStorage%2FOneDrive-TeslimUthmanAdeyanju%2FTeSlim_Data_Scientist%2F03_Python%2FTeslim_python_study_note%2FTeslim_Python_BOOK%2F06-Object%20Oriented%20Programing%2F1.%20Classess_and_Objects.ipynb%22%2C%22path%22%3A%22%2FUsers%2Fteslim%2FLibrary%2FCloudStorage%2FOneDrive-TeslimUthmanAdeyanju%2FTeSlim_Data_Scientist%2F03_Python%2FTeslim_python_study_note%2FTeslim_Python_BOOK%2F06-Object%20Oriented%20Programing%2F1.%20Classess_and_Objects.ipynb%22%2C%22scheme%22%3A%22vscode-notebook-cell%22%2C%22fragment%22%3A%22Y103sZmlsZQ%3D%3D%22%7D%2C%7B%22line%22%3A2%2C%22character%22%3A4%7D%5D \"/Users/teslim/Library/CloudStorage/OneDrive-TeslimUthmanAdeyanju/TeSlim_Data_Scientist/03_Python/Teslim_python_study_note/Teslim_Python_BOOK/06-Object Oriented Programing/1. Classess_and_Objects.ipynb\") is set to \"MyShop\" and [`total_sales`](command:_github.copilot.openSymbolFromReferences?%5B%7B%22%24mid%22%3A1%2C%22fsPath%22%3A%22%2FUsers%2Fteslim%2FLibrary%2FCloudStorage%2FOneDrive-TeslimUthmanAdeyanju%2FTeSlim_Data_Scientist%2F03_Python%2FTeslim_python_study_note%2FTeslim_Python_BOOK%2F06-Object%20Oriented%20Programing%2F1.%20Classess_and_Objects.ipynb%22%2C%22path%22%3A%22%2FUsers%2Fteslim%2FLibrary%2FCloudStorage%2FOneDrive-TeslimUthmanAdeyanju%2FTeSlim_Data_Scientist%2F03_Python%2FTeslim_python_study_note%2FTeslim_Python_BOOK%2F06-Object%20Oriented%20Programing%2F1.%20Classess_and_Objects.ipynb%22%2C%22scheme%22%3A%22vscode-notebook-cell%22%2C%22fragment%22%3A%22Y103sZmlsZQ%3D%3D%22%7D%2C%7B%22line%22%3A3%2C%22character%22%3A4%7D%5D \"/Users/teslim/Library/CloudStorage/OneDrive-TeslimUthmanAdeyanju/TeSlim_Data_Scientist/03_Python/Teslim_python_study_note/Teslim_Python_BOOK/06-Object Oriented Programing/1. Classess_and_Objects.ipynb\") is initialized to 0.\n",
    "\n",
    "The [`__init__`](command:_github.copilot.openSymbolFromReferences?%5B%7B%22%24mid%22%3A1%2C%22fsPath%22%3A%22%2FUsers%2Fteslim%2FLibrary%2FCloudStorage%2FOneDrive-TeslimUthmanAdeyanju%2FTeSlim_Data_Scientist%2F03_Python%2FTeslim_python_study_note%2FTeslim_Python_BOOK%2F06-Object%20Oriented%20Programing%2F1.%20Classess_and_Objects.ipynb%22%2C%22path%22%3A%22%2FUsers%2Fteslim%2FLibrary%2FCloudStorage%2FOneDrive-TeslimUthmanAdeyanju%2FTeSlim_Data_Scientist%2F03_Python%2FTeslim_python_study_note%2FTeslim_Python_BOOK%2F06-Object%20Oriented%20Programing%2F1.%20Classess_and_Objects.ipynb%22%2C%22scheme%22%3A%22vscode-notebook-cell%22%2C%22fragment%22%3A%22Y103sZmlsZQ%3D%3D%22%7D%2C%7B%22line%22%3A6%2C%22character%22%3A8%7D%5D \"/Users/teslim/Library/CloudStorage/OneDrive-TeslimUthmanAdeyanju/TeSlim_Data_Scientist/03_Python/Teslim_python_study_note/Teslim_Python_BOOK/06-Object Oriented Programing/1. Classess_and_Objects.ipynb\") method is a special method in Python classes, known as a constructor. This method is automatically called when an object of the class is created. It defines two instance attributes: [`item_name`](command:_github.copilot.openSymbolFromReferences?%5B%7B%22%24mid%22%3A1%2C%22fsPath%22%3A%22%2FUsers%2Fteslim%2FLibrary%2FCloudStorage%2FOneDrive-TeslimUthmanAdeyanju%2FTeSlim_Data_Scientist%2F03_Python%2FTeslim_python_study_note%2FTeslim_Python_BOOK%2F06-Object%20Oriented%20Programing%2F1.%20Classess_and_Objects.ipynb%22%2C%22path%22%3A%22%2FUsers%2Fteslim%2FLibrary%2FCloudStorage%2FOneDrive-TeslimUthmanAdeyanju%2FTeSlim_Data_Scientist%2F03_Python%2FTeslim_python_study_note%2FTeslim_Python_BOOK%2F06-Object%20Oriented%20Programing%2F1.%20Classess_and_Objects.ipynb%22%2C%22scheme%22%3A%22vscode-notebook-cell%22%2C%22fragment%22%3A%22Y103sZmlsZQ%3D%3D%22%7D%2C%7B%22line%22%3A6%2C%22character%22%3A23%7D%5D \"/Users/teslim/Library/CloudStorage/OneDrive-TeslimUthmanAdeyanju/TeSlim_Data_Scientist/03_Python/Teslim_python_study_note/Teslim_Python_BOOK/06-Object Oriented Programing/1. Classess_and_Objects.ipynb\") and [`price`](command:_github.copilot.openSymbolFromReferences?%5B%7B%22%24mid%22%3A1%2C%22fsPath%22%3A%22%2FUsers%2Fteslim%2FLibrary%2FCloudStorage%2FOneDrive-TeslimUthmanAdeyanju%2FTeSlim_Data_Scientist%2F03_Python%2FTeslim_python_study_note%2FTeslim_Python_BOOK%2F06-Object%20Oriented%20Programing%2F1.%20Classess_and_Objects.ipynb%22%2C%22path%22%3A%22%2FUsers%2Fteslim%2FLibrary%2FCloudStorage%2FOneDrive-TeslimUthmanAdeyanju%2FTeSlim_Data_Scientist%2F03_Python%2FTeslim_python_study_note%2FTeslim_Python_BOOK%2F06-Object%20Oriented%20Programing%2F1.%20Classess_and_Objects.ipynb%22%2C%22scheme%22%3A%22vscode-notebook-cell%22%2C%22fragment%22%3A%22Y103sZmlsZQ%3D%3D%22%7D%2C%7B%22line%22%3A6%2C%22character%22%3A34%7D%5D \"/Users/teslim/Library/CloudStorage/OneDrive-TeslimUthmanAdeyanju/TeSlim_Data_Scientist/03_Python/Teslim_python_study_note/Teslim_Python_BOOK/06-Object Oriented Programing/1. Classess_and_Objects.ipynb\").\n",
    "\n",
    "The [`update_sales`](command:_github.copilot.openSymbolFromReferences?%5B%7B%22%24mid%22%3A1%2C%22fsPath%22%3A%22%2FUsers%2Fteslim%2FLibrary%2FCloudStorage%2FOneDrive-TeslimUthmanAdeyanju%2FTeSlim_Data_Scientist%2F03_Python%2FTeslim_python_study_note%2FTeslim_Python_BOOK%2F06-Object%20Oriented%20Programing%2F1.%20Classess_and_Objects.ipynb%22%2C%22path%22%3A%22%2FUsers%2Fteslim%2FLibrary%2FCloudStorage%2FOneDrive-TeslimUthmanAdeyanju%2FTeSlim_Data_Scientist%2F03_Python%2FTeslim_python_study_note%2FTeslim_Python_BOOK%2F06-Object%20Oriented%20Programing%2F1.%20Classess_and_Objects.ipynb%22%2C%22scheme%22%3A%22vscode-notebook-cell%22%2C%22fragment%22%3A%22Y103sZmlsZQ%3D%3D%22%7D%2C%7B%22line%22%3A13%2C%22character%22%3A8%7D%5D \"/Users/teslim/Library/CloudStorage/OneDrive-TeslimUthmanAdeyanju/TeSlim_Data_Scientist/03_Python/Teslim_python_study_note/Teslim_Python_BOOK/06-Object Oriented Programing/1. Classess_and_Objects.ipynb\") method is a class method, as indicated by the `@classmethod` decorator. Class methods can modify class state that applies across all instances of the class. They can't modify a particular instance's state. The [`update_sales`](command:_github.copilot.openSymbolFromReferences?%5B%7B%22%24mid%22%3A1%2C%22fsPath%22%3A%22%2FUsers%2Fteslim%2FLibrary%2FCloudStorage%2FOneDrive-TeslimUthmanAdeyanju%2FTeSlim_Data_Scientist%2F03_Python%2FTeslim_python_study_note%2FTeslim_Python_BOOK%2F06-Object%20Oriented%20Programing%2F1.%20Classess_and_Objects.ipynb%22%2C%22path%22%3A%22%2FUsers%2Fteslim%2FLibrary%2FCloudStorage%2FOneDrive-TeslimUthmanAdeyanju%2FTeSlim_Data_Scientist%2F03_Python%2FTeslim_python_study_note%2FTeslim_Python_BOOK%2F06-Object%20Oriented%20Programing%2F1.%20Classess_and_Objects.ipynb%22%2C%22scheme%22%3A%22vscode-notebook-cell%22%2C%22fragment%22%3A%22Y103sZmlsZQ%3D%3D%22%7D%2C%7B%22line%22%3A13%2C%22character%22%3A8%7D%5D \"/Users/teslim/Library/CloudStorage/OneDrive-TeslimUthmanAdeyanju/TeSlim_Data_Scientist/03_Python/Teslim_python_study_note/Teslim_Python_BOOK/06-Object Oriented Programing/1. Classess_and_Objects.ipynb\") method takes a parameter [`sale_amount`](command:_github.copilot.openSymbolFromReferences?%5B%7B%22%24mid%22%3A1%2C%22fsPath%22%3A%22%2FUsers%2Fteslim%2FLibrary%2FCloudStorage%2FOneDrive-TeslimUthmanAdeyanju%2FTeSlim_Data_Scientist%2F03_Python%2FTeslim_python_study_note%2FTeslim_Python_BOOK%2F06-Object%20Oriented%20Programing%2F1.%20Classess_and_Objects.ipynb%22%2C%22path%22%3A%22%2FUsers%2Fteslim%2FLibrary%2FCloudStorage%2FOneDrive-TeslimUthmanAdeyanju%2FTeSlim_Data_Scientist%2F03_Python%2FTeslim_python_study_note%2FTeslim_Python_BOOK%2F06-Object%20Oriented%20Programing%2F1.%20Classess_and_Objects.ipynb%22%2C%22scheme%22%3A%22vscode-notebook-cell%22%2C%22fragment%22%3A%22Y103sZmlsZQ%3D%3D%22%7D%2C%7B%22line%22%3A13%2C%22character%22%3A26%7D%5D \"/Users/teslim/Library/CloudStorage/OneDrive-TeslimUthmanAdeyanju/TeSlim_Data_Scientist/03_Python/Teslim_python_study_note/Teslim_Python_BOOK/06-Object Oriented Programing/1. Classess_and_Objects.ipynb\") and adds its value to the class variable [`total_sales`](command:_github.copilot.openSymbolFromReferences?%5B%7B%22%24mid%22%3A1%2C%22fsPath%22%3A%22%2FUsers%2Fteslim%2FLibrary%2FCloudStorage%2FOneDrive-TeslimUthmanAdeyanju%2FTeSlim_Data_Scientist%2F03_Python%2FTeslim_python_study_note%2FTeslim_Python_BOOK%2F06-Object%20Oriented%20Programing%2F1.%20Classess_and_Objects.ipynb%22%2C%22path%22%3A%22%2FUsers%2Fteslim%2FLibrary%2FCloudStorage%2FOneDrive-TeslimUthmanAdeyanju%2FTeSlim_Data_Scientist%2F03_Python%2FTeslim_python_study_note%2FTeslim_Python_BOOK%2F06-Object%20Oriented%20Programing%2F1.%20Classess_and_Objects.ipynb%22%2C%22scheme%22%3A%22vscode-notebook-cell%22%2C%22fragment%22%3A%22Y103sZmlsZQ%3D%3D%22%7D%2C%7B%22line%22%3A3%2C%22character%22%3A4%7D%5D \"/Users/teslim/Library/CloudStorage/OneDrive-TeslimUthmanAdeyanju/TeSlim_Data_Scientist/03_Python/Teslim_python_study_note/Teslim_Python_BOOK/06-Object Oriented Programing/1. Classess_and_Objects.ipynb\").\n",
    "\n",
    "Three instances of the [`Shop`](command:_github.copilot.openSymbolFromReferences?%5B%7B%22%24mid%22%3A1%2C%22fsPath%22%3A%22%2FUsers%2Fteslim%2FLibrary%2FCloudStorage%2FOneDrive-TeslimUthmanAdeyanju%2FTeSlim_Data_Scientist%2F03_Python%2FTeslim_python_study_note%2FTeslim_Python_BOOK%2F06-Object%20Oriented%20Programing%2F1.%20Classess_and_Objects.ipynb%22%2C%22path%22%3A%22%2FUsers%2Fteslim%2FLibrary%2FCloudStorage%2FOneDrive-TeslimUthmanAdeyanju%2FTeSlim_Data_Scientist%2F03_Python%2FTeslim_python_study_note%2FTeslim_Python_BOOK%2F06-Object%20Oriented%20Programing%2F1.%20Classess_and_Objects.ipynb%22%2C%22scheme%22%3A%22vscode-notebook-cell%22%2C%22fragment%22%3A%22Y103sZmlsZQ%3D%3D%22%7D%2C%7B%22line%22%3A0%2C%22character%22%3A6%7D%5D \"/Users/teslim/Library/CloudStorage/OneDrive-TeslimUthmanAdeyanju/TeSlim_Data_Scientist/03_Python/Teslim_python_study_note/Teslim_Python_BOOK/06-Object Oriented Programing/1. Classess_and_Objects.ipynb\") class are created, representing different items: a laptop, a phone, and headphones. Each instance is created with an item name and a price.\n",
    "\n",
    "Sales are then simulated by multiplying the price of each item by a quantity. The total sales amount is calculated by adding up the sales of each item.\n",
    "\n",
    "The [`update_sales`](command:_github.copilot.openSymbolFromReferences?%5B%7B%22%24mid%22%3A1%2C%22fsPath%22%3A%22%2FUsers%2Fteslim%2FLibrary%2FCloudStorage%2FOneDrive-TeslimUthmanAdeyanju%2FTeSlim_Data_Scientist%2F03_Python%2FTeslim_python_study_note%2FTeslim_Python_BOOK%2F06-Object%20Oriented%20Programing%2F1.%20Classess_and_Objects.ipynb%22%2C%22path%22%3A%22%2FUsers%2Fteslim%2FLibrary%2FCloudStorage%2FOneDrive-TeslimUthmanAdeyanju%2FTeSlim_Data_Scientist%2F03_Python%2FTeslim_python_study_note%2FTeslim_Python_BOOK%2F06-Object%20Oriented%20Programing%2F1.%20Classess_and_Objects.ipynb%22%2C%22scheme%22%3A%22vscode-notebook-cell%22%2C%22fragment%22%3A%22Y103sZmlsZQ%3D%3D%22%7D%2C%7B%22line%22%3A13%2C%22character%22%3A8%7D%5D \"/Users/teslim/Library/CloudStorage/OneDrive-TeslimUthmanAdeyanju/TeSlim_Data_Scientist/03_Python/Teslim_python_study_note/Teslim_Python_BOOK/06-Object Oriented Programing/1. Classess_and_Objects.ipynb\") class method is then called on the [`Shop`](command:_github.copilot.openSymbolFromReferences?%5B%7B%22%24mid%22%3A1%2C%22fsPath%22%3A%22%2FUsers%2Fteslim%2FLibrary%2FCloudStorage%2FOneDrive-TeslimUthmanAdeyanju%2FTeSlim_Data_Scientist%2F03_Python%2FTeslim_python_study_note%2FTeslim_Python_BOOK%2F06-Object%20Oriented%20Programing%2F1.%20Classess_and_Objects.ipynb%22%2C%22path%22%3A%22%2FUsers%2Fteslim%2FLibrary%2FCloudStorage%2FOneDrive-TeslimUthmanAdeyanju%2FTeSlim_Data_Scientist%2F03_Python%2FTeslim_python_study_note%2FTeslim_Python_BOOK%2F06-Object%20Oriented%20Programing%2F1.%20Classess_and_Objects.ipynb%22%2C%22scheme%22%3A%22vscode-notebook-cell%22%2C%22fragment%22%3A%22Y103sZmlsZQ%3D%3D%22%7D%2C%7B%22line%22%3A0%2C%22character%22%3A6%7D%5D \"/Users/teslim/Library/CloudStorage/OneDrive-TeslimUthmanAdeyanju/TeSlim_Data_Scientist/03_Python/Teslim_python_study_note/Teslim_Python_BOOK/06-Object Oriented Programing/1. Classess_and_Objects.ipynb\") class with the total sales amount as an argument. This updates the [`total_sales`](command:_github.copilot.openSymbolFromReferences?%5B%7B%22%24mid%22%3A1%2C%22fsPath%22%3A%22%2FUsers%2Fteslim%2FLibrary%2FCloudStorage%2FOneDrive-TeslimUthmanAdeyanju%2FTeSlim_Data_Scientist%2F03_Python%2FTeslim_python_study_note%2FTeslim_Python_BOOK%2F06-Object%20Oriented%20Programing%2F1.%20Classess_and_Objects.ipynb%22%2C%22path%22%3A%22%2FUsers%2Fteslim%2FLibrary%2FCloudStorage%2FOneDrive-TeslimUthmanAdeyanju%2FTeSlim_Data_Scientist%2F03_Python%2FTeslim_python_study_note%2FTeslim_Python_BOOK%2F06-Object%20Oriented%20Programing%2F1.%20Classess_and_Objects.ipynb%22%2C%22scheme%22%3A%22vscode-notebook-cell%22%2C%22fragment%22%3A%22Y103sZmlsZQ%3D%3D%22%7D%2C%7B%22line%22%3A3%2C%22character%22%3A4%7D%5D \"/Users/teslim/Library/CloudStorage/OneDrive-TeslimUthmanAdeyanju/TeSlim_Data_Scientist/03_Python/Teslim_python_study_note/Teslim_Python_BOOK/06-Object Oriented Programing/1. Classess_and_Objects.ipynb\") class variable.\n",
    "\n",
    "Finally, the [`print`](command:_github.copilot.openSymbolFromReferences?%5B%7B%22%24mid%22%3A1%2C%22external%22%3A%22file%3A%2F%2F%2FUsers%2Fteslim%2F.vscode%2Fextensions%2Fms-python.vscode-pylance-2024.4.1%2Fdist%2Ftypeshed-fallback%2Fstdlib%2Fbuiltins.pyi%22%2C%22path%22%3A%22%2FUsers%2Fteslim%2F.vscode%2Fextensions%2Fms-python.vscode-pylance-2024.4.1%2Fdist%2Ftypeshed-fallback%2Fstdlib%2Fbuiltins.pyi%22%2C%22scheme%22%3A%22file%22%7D%2C%7B%22line%22%3A1569%2C%22character%22%3A4%7D%5D \"../../../../.vscode/extensions/ms-python.vscode-pylance-2024.4.1/dist/typeshed-fallback/stdlib/builtins.pyi\") statements display the shop name and the total sales. This is done by accessing the class variables directly on the class using dot notation."
   ]
  },
  {
   "cell_type": "code",
   "execution_count": 10,
   "metadata": {},
   "outputs": [],
   "source": [
    "from datetime import date\n",
    "\n",
    "class Student:\n",
    "    def __init__(self, name, age):\n",
    "        self.name = name\n",
    "        self.age = age\n",
    "\n",
    "    @classmethod\n",
    "    def calculate_age(cls, name, birth_year):\n",
    "        # calculate age an set it as a age\n",
    "        # return new object\n",
    "        return cls(name, date.today().year - birth_year)\n",
    "\n",
    "    def show(self):\n",
    "        print(self.name + \"'s age is: \" + str(self.age))\n",
    "\n",
    "std1 = Student('Teslim', 40)\n",
    "\n",
    "\n",
    "\n"
   ]
  },
  {
   "cell_type": "code",
   "execution_count": 7,
   "metadata": {},
   "outputs": [
    {
     "name": "stdout",
     "output_type": "stream",
     "text": [
      "Teslim's age is: 40\n"
     ]
    }
   ],
   "source": [
    "std1.show()"
   ]
  },
  {
   "cell_type": "code",
   "execution_count": 9,
   "metadata": {},
   "outputs": [
    {
     "name": "stdout",
     "output_type": "stream",
     "text": [
      "Adeyanju's age is: 40\n"
     ]
    }
   ],
   "source": [
    "# create new object using the factory method\n",
    "std2 = Student.calculate_age(\"Adeyanju\", 1985)\n",
    "std2.show()"
   ]
  },
  {
   "cell_type": "markdown",
   "metadata": {},
   "source": [
    "#### Type 2: Create Class Method Using `classmethod()` function\n",
    "___"
   ]
  },
  {
   "cell_type": "markdown",
   "metadata": {},
   "source": [
    "Apart from a decorator, the built-in function `classmethod()` is used to convert a normal method into a class method. The `classmethod()` is an inbuilt function in Python, which returns a class method for a given function.\n",
    "The syntax for the `classmethod()` is thus:\n",
    "\n",
    "```Python \n",
    "class ClassName:\n",
    "    # Class attributes\n",
    "    class_attribute1 = 'value1'\n",
    "\n",
    "    def function_name(cls, arguments):\n",
    "        # Function body using cls.class_attribute1\n",
    "        print(\"This a class method\", cls.class_attribute1)\n",
    "       \n",
    "\n",
    "# Convert the function to a class method using classmethod()\n",
    "ClassName.function_name = classmethod(ClassName.function_name)\n",
    "\n",
    "\n",
    "```\n",
    "\n",
    "`function_name`: This is the name you give to your function that will become a class method.\n",
    "\n",
    "`cls`: This is the first parameter of the function, which refers to the class itself. You can use it to access class attributes or methods.\n",
    "\n",
    "`arguments`: These are any additional arguments your function may take.\n",
    "\n",
    "`classmethod(function_name)`: This line converts the regular function into a class method.\n",
    "\n",
    "\n",
    "Note: The method you want to convert as a class method must accept class `(cls)` as the first argument, just like an instance method receives the instance (self).\n",
    "\n",
    "As we know, the class method is bound to class rather than an object. So we can call the class method both by calling class and object.\n",
    "\n",
    "A `classmethod()` function is the older way to create the class method in Python. In a newer version of Python, we should use the @classmethod decorator to create a class method.\n",
    "\n",
    "Example: Create class method using `classmethod()` function"
   ]
  },
  {
   "cell_type": "code",
   "execution_count": 49,
   "metadata": {},
   "outputs": [
    {
     "name": "stdout",
     "output_type": "stream",
     "text": [
      "Accessing class attribute: value1\n"
     ]
    }
   ],
   "source": [
    "class ClassName:\n",
    "    # Class attributes\n",
    "    class_attribute1 = 'value1'\n",
    "\n",
    "    def function_name(cls, arguments):\n",
    "        # Function body using cls.class_attribute1\n",
    "        print(f\"Accessing class attribute: {cls.class_attribute1}\")\n",
    "        # You can perform operations on the class or its attributes here\n",
    "\n",
    "# Convert the function to a class method using classmethod()\n",
    "ClassName.function_name = classmethod(ClassName.function_name)\n",
    "\n",
    "# Call the class method\n",
    "ClassName.function_name(\"arguments\")\n"
   ]
  },
  {
   "cell_type": "code",
   "execution_count": 50,
   "metadata": {},
   "outputs": [
    {
     "name": "stdout",
     "output_type": "stream",
     "text": [
      "School Name is : ABC School\n"
     ]
    }
   ],
   "source": [
    "class School:\n",
    "    # class variable\n",
    "    name = 'ABC School'\n",
    "\n",
    "    def school_name(cls):\n",
    "        print('School Name is :', cls.name)\n",
    "\n",
    "# create class method\n",
    "School.school_name = classmethod(School.school_name)\n",
    "\n",
    "# call class method\n",
    "School.school_name()\n"
   ]
  },
  {
   "cell_type": "markdown",
   "metadata": {},
   "source": [
    "#### Access Class Attributes in Class Methods\n",
    "___"
   ]
  },
  {
   "cell_type": "markdown",
   "metadata": {},
   "source": [
    "Using the class method, we can only access or modify the class variables (attributes). Let’s see how to access and modify the class variables in the class method.\n",
    "\n",
    "Class variables are shared by all instances of a class. Using the class method we can modify the class state by changing the value of a class attributes that would apply across all the class objects"
   ]
  },
  {
   "cell_type": "code",
   "execution_count": null,
   "metadata": {},
   "outputs": [],
   "source": [
    "class Student:\n",
    "    # Class attributes\n",
    "    school_name = 'Isolo School'\n",
    "\n",
    "    # Constructor\n",
    "    def __init__(self, name, age):\n",
    "        # Instance variables\n",
    "        self.name = name\n",
    "        self.age = age\n",
    "\n",
    "  # Class method to modify class attributes\n",
    "    @classmethod\n",
    "    def change_school(cls, school_name):\n",
    "        cls.school_name = school_name\n",
    "\n",
    "# Modifying class attributes using the class method\n",
    "Student.change_school('Andover School')\n",
    "\n",
    "print(\"The update record of the school name\", Student.school_name)\n"
   ]
  },
  {
   "cell_type": "markdown",
   "metadata": {},
   "source": [
    "Looking back to the modification we can carry out with the Class attributes, we might rush to conclude that the direct modification on the class attributes and using the decorator are actually the same, however, they both serve different purpose. \n",
    "\n",
    "A review of the two process will share more light on their differences. "
   ]
  },
  {
   "cell_type": "code",
   "execution_count": null,
   "metadata": {},
   "outputs": [],
   "source": [
    "# Using the direct modification on the class attributes instead of using the decorator.\n",
    "\n",
    "class Student:\n",
    "    # Class attributes\n",
    "    school_name = 'Isolo School'\n",
    "\n",
    "    # Constructor\n",
    "    def __init__(self, name, age):\n",
    "        # Instance variables\n",
    "        self.name = name\n",
    "        self.age = age\n",
    "\n",
    "# Access and modify class variable\n",
    "Student.school_name = \"Andover School\"\n",
    "\n",
    "# Print the updated value\n",
    "print(\"The update record of the school name\", Student.school_name)"
   ]
  },
  {
   "cell_type": "markdown",
   "metadata": {},
   "source": [
    "**Thier Differences:(Using a Class Method  vs Direct Modification:)**\n",
    "\n",
    "* The first approach uses a class method (change_school) to modify the class attribute. This approach is more explicit and encapsulated, as it provides a dedicated method for modifying class attributes. It follows the principle of encapsulation and maintains better control over how class attributes are modified.\n",
    "\n",
    "* The second approach directly modifies the class attribute outside of any method. While this approach is simpler and may seem more straightforward, it lacks the explicitness and encapsulation provided by the class method approach. It's easier to overlook or accidentally modify class attributes in unintended ways when directly modifying them like this.\n",
    "\n",
    "\n",
    "**Better Choice:***\n",
    "\n",
    "The first approach, using a class method, is generally considered the better choice. It promotes encapsulation and maintains better control over how class attributes are modified. It provides a clear interface for modifying class attributes and helps ensure that modifications are done in a controlled manner. Additionally, it allows for easier maintenance and modification of the code in the future. Therefore, using a class method to modify class attributes is often preferred over direct modification.\n",
    "\n",
    "\n",
    "The \"better\" approach depends on the specific requirements and design of your program. However, generally speaking, using class methods to modify class variables is often considered a better approach for several reasons:\n",
    "\n",
    "1. Encapsulation: Using class methods provides a clearer interface for modifying class variables. It encapsulates the logic for modifying the variable within a method, making the code easier to understand and maintain.\n",
    "\n",
    "2. Flexibility: Class methods allow for more flexibility in the implementation. You can include additional logic, such as validation or error handling, within the method. This helps ensure that modifications to the class variable are done in a controlled manner.\n",
    "\n",
    "3. Consistency: Using class methods promotes consistency in the codebase. If you have multiple places where you need to modify the same class variable, you can use the same class method throughout the codebase, ensuring uniformity and reducing the chances of errors or inconsistencies.\n",
    "\n",
    "4. Ease of Refactoring: If you later need to change how the class variable is modified, using class methods makes it easier to refactor the code. You only need to update the implementation of the class method, rather than searching for and updating every occurrence of direct assignments to the class variable.\n",
    "\n",
    "\n",
    "\n",
    "**Encapsulation**\n",
    "\n",
    "Encapsulation is one of the fundamental concepts in object-oriented programming (OOP) that involves bundling the data (attributes) and methods (functions) that operate on the data into a single unit, called a class. It aims to restrict access to certain components of an object and only expose the necessary interfaces for interacting with the object.\n",
    "\n",
    "In simpler terms, encapsulation helps in hiding the internal state of an object from the outside world and preventing direct access to it. Instead, access to the internal state is controlled through well-defined methods.\n",
    "\n",
    "Here are some key points about encapsulation:\n",
    "\n",
    "1. Data Hiding: Encapsulation allows you to hide the internal state of an object by making its attributes private or protected. Private attributes cannot be accessed from outside the class, while protected attributes have limited access.\n",
    "\n",
    "2. Access Control: Encapsulation enables you to control the access to the data and methods of a class. You can define which parts of the class are accessible from outside and which are not.\n",
    "\n",
    "3. Information Hiding: Encapsulation promotes information hiding by exposing only the necessary information about an object's behavior, while hiding its implementation details. This helps in reducing complexity and making the code more maintainable.\n",
    "\n",
    "4. Modularity: Encapsulation encourages modularity by organizing related data and behaviors into a single unit (class). This improves code organization and makes it easier to manage and maintain.\n",
    "\n",
    "5. Security: Encapsulation enhances security by preventing unauthorized access to sensitive data and ensuring that data is accessed and modified only through controlled interfaces.\n",
    "\n",
    "In summary, encapsulation is a key principle of OOP that promotes data hiding, access control, information hiding, modularity, and security. It helps in creating well-structured, maintainable, and secure code by encapsulating the implementation details within classes and exposing only the necessary interfaces to the outside world.\n"
   ]
  },
  {
   "cell_type": "code",
   "execution_count": null,
   "metadata": {},
   "outputs": [],
   "source": [
    "a = list()"
   ]
  },
  {
   "cell_type": "markdown",
   "metadata": {},
   "source": [
    "### 2.0 Instance Method\n",
    "___"
   ]
  },
  {
   "cell_type": "markdown",
   "metadata": {},
   "source": [
    "#### Introduction \n",
    "\n",
    "An instance method is a function that's defined within a class and is specifically tied to instances (or objects) of that class. In simpler terms, it's a special kind of function that operates on a particular object's data.\n",
    "\n",
    "Here are some key points about instance methods:\n",
    "\n",
    "* Instance methods can access and modify both instance variables and class variables. \n",
    "\n",
    "* Requires an object: Unlike regular functions, you can't call an instance method directly. You need to create an object (an instance) of the class first, and then use that object to call the method.\n",
    "\n",
    "* Operates on object's data: Instance methods typically have access to the object's attributes (data) and can manipulate them. This allows them to perform actions specific to that particular object.\n",
    "\n",
    "* Common use cases: Instance methods are essential for defining the behavior of objects. They handle tasks like modifying the object's state, performing calculations based on its data, or interacting with other objects.\n",
    "\n",
    "\n",
    "\n",
    "\n",
    "Here's an analogy: Think of a class as a blueprint for creating houses. An instance method would be like a specific function designed for a particular house, like a \"turn on lights\" method. You would need a built house (the object) to use this function.\n",
    "\n",
    "\n",
    "When we create a class in Python, instance methods are used regularly. To work with an instance method, we use the self keyword. We use the self keyword as the first parameter to a method. The self refers to the current object."
   ]
  },
  {
   "cell_type": "markdown",
   "metadata": {},
   "source": [
    "#### How to Create an Instance Method\n",
    "___"
   ]
  },
  {
   "cell_type": "markdown",
   "metadata": {},
   "source": [
    "\n",
    "\n",
    "To create an instance method in Python, you define a function within a class and include `self` as the first parameter. This parameter represents the instance (object) that the method is called on. You can then use self to access the object's attributes and perform operations specific to that object. Instance variables are not shared between objects. Instead, every object has its copy of the instance attribute. Using the instance method, we can access or modify the calling object’s attributes. Instance methods are defined inside a class, and it is pretty similar to defining a regular function.\n",
    "\n",
    "* Use the def keyword to define an instance method in Python.\n",
    "* Use self as the first parameter in the instance method when defining it. The self parameter refers to the current object.\n",
    "* Using the self parameter to access or modify the current object attributes.\n",
    "\n",
    "You may use a variable named differently for self, but it is discouraged since self is the recommended convention in Python.\n",
    "\n",
    "The syntax for defining an instance method in Python is as follows:\n",
    "\n",
    "```Python\n",
    "class ClassName:\n",
    "      # Class attributes\n",
    "        class_attribute1 = 'value1'\n",
    "\n",
    "        # constructor\n",
    "        def __init__(self, arguments1, arguments2):\n",
    "            # Instance attributes\n",
    "            self.arguments1 = arguments1\n",
    "            self.arguments2 = arguments2\n",
    "\n",
    "        # Instance method\n",
    "        def instance_method(self, arguments):\n",
    "            # Function body using self.arguments1, self.arguments2, self.class_attribute1\n",
    "            \n",
    "            \n",
    "            # Accessing instance attributes\n",
    "            print(f\"Accessing instance attribute: {self.arguments1}\")\n",
    "            print(f\"Accessing class attribute: {self.class_attribute1}\")\n",
    "            # You can perform operations on the instance or its attributes here\n",
    "``` \n"
   ]
  },
  {
   "cell_type": "markdown",
   "metadata": {},
   "source": [
    "The selected code is a Python class named `ClassName`. This class has one class attribute, a constructor, and an instance method.\n",
    "\n",
    "The class attribute `class_attribute1` is defined with the value 'value1'. Class attributes are attributes that have the same value for all class instances. They are defined directly beneath the class declaration, before the constructor.\n",
    "\n",
    "The `__init__` method is a special method in Python, known as a constructor. This method is automatically called when an object is instantiated from the class. In this case, the constructor takes three arguments: `self`, `arguments1`, and `arguments2`. The `self` parameter is a reference to the current instance of the class and is used to access variables and methods associated with that instance. `arguments1` and `arguments2` are presumably passed in when the class is instantiated. These arguments are used to set the instance attributes `self.arguments1` and `self.arguments2`.\n",
    "\n",
    "Instance attributes are attributes that are specific to each instance of the class. They are defined within a method and have `self` before them (e.g., `self.arguments1`).\n",
    "\n",
    "The `instance_method` is a method that can access and modify the instance attributes and class attributes. It takes `self` and `arguments` as parameters. The `self` parameter allows the method to access the attributes and other methods within the class. The `arguments` parameter is presumably used within the method. The method prints the value of `self.arguments1` (an instance attribute) and `self.class_attribute1` (a class attribute) to the console. You can perform operations on the instance or its attributes within this method."
   ]
  },
  {
   "cell_type": "code",
   "execution_count": 26,
   "metadata": {},
   "outputs": [],
   "source": [
    "class Student:\n",
    "    # constructor\n",
    "    def __init__(self, name, age):\n",
    "        # Instance variable\n",
    "        self.name = name\n",
    "        self.age = age\n",
    "\n",
    "    # instance method to access instance variable\n",
    "    def show(self):\n",
    "        print('This is my Name:', self.name, 'The Age:', self.age)"
   ]
  },
  {
   "cell_type": "markdown",
   "metadata": {},
   "source": [
    "#### Calling An Instance Method\n",
    "___\n",
    "\n"
   ]
  },
  {
   "cell_type": "markdown",
   "metadata": {},
   "source": [
    "Before calling an instance method, you need to create an object of the class. You can then use that object to call the method. The `instance method` is called using the object followed by a dot `(.)` and the method name, along with any required arguments.\n"
   ]
  },
  {
   "cell_type": "code",
   "execution_count": 27,
   "metadata": {},
   "outputs": [
    {
     "name": "stdout",
     "output_type": "stream",
     "text": [
      "This is my Name: Teslim The Age: 14\n",
      "This is my Name: Uthman The Age: 16\n"
     ]
    }
   ],
   "source": [
    "class Student:\n",
    "\n",
    "    # constructor\n",
    "    def __init__(self, name, age):\n",
    "        # Instance variable\n",
    "        self.name = name\n",
    "        self.age = age\n",
    "\n",
    "    # instance method access instance variable\n",
    "    def info_detail(self):\n",
    "        print('This is my Name:', self.name, 'The Age:', self.age)\n",
    "\n",
    "# create first object\n",
    "std1 = Student(\"Teslim\", 14)\n",
    "std2 = Student(\"Uthman\", 16)\n",
    "\n",
    "\n",
    "# call instance method\n",
    "std1.info_detail()\n",
    "std2.info_detail()\n"
   ]
  },
  {
   "cell_type": "code",
   "execution_count": 28,
   "metadata": {},
   "outputs": [
    {
     "name": "stdout",
     "output_type": "stream",
     "text": [
      "Teslim is one if the great member that have contributed 5000\n",
      "The school name is Isolo Secondary School\n"
     ]
    }
   ],
   "source": [
    "class ISSI:\n",
    "    # class attributes \n",
    "    School = \"Isolo Secondary School\"\n",
    "    \n",
    "    # constructor \n",
    "    def __init__(self, name, contribution):\n",
    "        self.name = name \n",
    "        self.contribution = contribution\n",
    "        \n",
    "    # Instance method \n",
    "    def info_detail(self):\n",
    "        print(self.name, \"is one if the great member that have contributed\", self.contribution)\n",
    "        print(\"The school name is\", ISSI.School)\n",
    "\n",
    "# Create an Object \n",
    "Membership_1 = ISSI(\"Teslim\", 5000)\n",
    "Membership_2 = ISSI(\"Uthman\", 7000)\n",
    "\n",
    "# Calling the instance method \n",
    "Membership_1.info_detail()"
   ]
  },
  {
   "cell_type": "code",
   "execution_count": 31,
   "metadata": {},
   "outputs": [
    {
     "name": "stdout",
     "output_type": "stream",
     "text": [
      "Product: T-Shirt\n",
      "Regular Price: $70.00\n",
      "Discounted Price (10%): $63.00\n",
      "Enough stock available for 5 items.\n",
      "Updated stock quantity: 15\n"
     ]
    }
   ],
   "source": [
    "class Product:\n",
    "    # Class attributes\n",
    "    discount_rate = 0.1\n",
    " \n",
    "# Constructor method    \n",
    "    def __init__(self, name, price, stock_quantity = 0):\n",
    "      # Instance attributes\n",
    "        self.name = name\n",
    "        self.price = price\n",
    "        self.stock_quantity = stock_quantity\n",
    "\n",
    "# Instance method to calculate discounted price\n",
    "    def calculate_discount_price(self, discount_percent):\n",
    "        \"\"\"\n",
    "        This instance method calculates the discounted price of the product.\n",
    "        Args: \n",
    "            discount_percent: The percentage discount to apply.\n",
    "        Returns:\n",
    "            The discounted price of the product.\n",
    "        \"\"\"\n",
    "        discount = self.price * (discount_percent / 100)\n",
    "        return self.price - discount\n",
    "    \n",
    "# Instance method to check stock availability\n",
    "    def check_stock_availability(self, desired_quantity):\n",
    "        \"\"\"\n",
    "        This instance method checks if there is enough stock to fulfill an order.\n",
    "\n",
    "        Args:\n",
    "            desired_quantity: The desired quantity of the product.\n",
    "\n",
    "        Returns:\n",
    "            True if there is enough stock, False otherwise.\n",
    "        \"\"\"\n",
    "\n",
    "        return self.stock_quantity >= desired_quantity\n",
    "\n",
    "# instance method to update stock quantity\n",
    "    def update_stock(self, quantity_change):\n",
    "        \"\"\"\n",
    "        This instance method updates the product's stock quantity.\n",
    "\n",
    "        Args:\n",
    "            quantity_change: The amount to add or remove from the stock (positive for adding, negative for removing).\n",
    "        \"\"\"\n",
    "\n",
    "        self.stock_quantity += quantity_change\n",
    "\n",
    "# Create a product object\n",
    "product1 = Product(\"T-Shirt\", 70.00, 10)\n",
    "\n",
    "\n",
    "# Calculate discounted price (assuming 10% discount)\n",
    "discounted_price = product1.calculate_discount_price(10)\n",
    "print(f\"Product: {product1.name}\")\n",
    "print(f\"Regular Price: ${product1.price:.2f}\")\n",
    "print(f\"Discounted Price (10%): ${discounted_price:.2f}\")\n",
    "\n",
    "\n",
    "# Check stock availability for 5 items\n",
    "if product1.check_stock_availability(5):\n",
    "    print(\"Enough stock available for 5 items.\")\n",
    "else:\n",
    "    print(\"Insufficient stock for 5 items.\")\n",
    "\n",
    "# Update stock by adding 5 items\n",
    "product1.update_stock(5)\n",
    "print(f\"Updated stock quantity: {product1.stock_quantity}\")\n"
   ]
  },
  {
   "cell_type": "markdown",
   "metadata": {},
   "source": [
    "####  Modify Instance Attributes in Instance Methods\n",
    "___"
   ]
  },
  {
   "cell_type": "markdown",
   "metadata": {},
   "source": [
    "modify the instance attributes in the instance method. Instance attributes are specific to each instance of the class, and you can modify them within the instance method using the `self` keyword. This allows you to update the state of the object based on the method's logic.\n",
    "\n",
    "Here's an example of how to modify instance attributes in an instance method:\n",
    "\n",
    "```Python\n",
    "class ClassName:\n",
    "    \n",
    "    # Constructor\n",
    "    def __init__(self, attribute1, attribute2):\n",
    "        self.attribute1 = attribute1\n",
    "        self.attribute2 = attribute2\n",
    "\n",
    "    # instance method to show the attributes\n",
    "    def show_attributes(self):\n",
    "        print(f\"Attribute 1: {self.attribute1}\")\n",
    "        print(f\"Attribute 2: {self.attribute2}\")\n",
    "\n",
    "    # Instance method to update the attribute\n",
    "    def update_attribute(self, new_value, attribute_name):\n",
    "        self.attribute1 = new_value\n",
    "        self.attribute2 = new_value\n",
    "\n",
    "\n",
    "# Create an object of the class\n",
    "obj = ClassName('attribute1', 'attribute2')\n",
    "\n",
    "# Print the initial value of the attribute\n",
    "print(obj.attribute1)  # Output: initial_value\n",
    "\n",
    "# Call the instance method to update the attribute\n",
    "obj.update_attribute('new_value')\n"
   ]
  },
  {
   "cell_type": "markdown",
   "metadata": {},
   "source": [
    "Let’s create the instance method update() method to modify the student age and roll number when student data details change."
   ]
  },
  {
   "cell_type": "code",
   "execution_count": 4,
   "metadata": {},
   "outputs": [
    {
     "name": "stdout",
     "output_type": "stream",
     "text": [
      "class VIII\n",
      "Roll Number: 2000010202 Name: Emma Age: 14\n",
      "\n",
      "class IX\n",
      "Roll Number: 70000035123 Name: Emma Age: 15\n"
     ]
    }
   ],
   "source": [
    "class Student:\n",
    "    def __init__(self, roll_no, name, age):\n",
    "        # Instance variable\n",
    "        self.roll_no = roll_no\n",
    "        self.name = name\n",
    "        self.age = age\n",
    "\n",
    "    # instance method access instance variable\n",
    "    def show(self):\n",
    "        print('Roll Number:', self.roll_no, 'Name:', self.name, 'Age:', self.age)\n",
    "\n",
    "    # instance method to modify instance variable\n",
    "    def update(self, roll_number, age):\n",
    "        self.roll_no = roll_number\n",
    "        self.age = age\n",
    "\n",
    "# create object\n",
    "print('class VIII')\n",
    "stud = Student(2000010202, \"Emma\", 14)\n",
    "# call instance method\n",
    "stud.show()\n",
    "\n",
    "print()\n",
    "      \n",
    "# Modify instance variables\n",
    "print('class IX')\n",
    "stud.update(70000035123, 15)\n",
    "stud.show()"
   ]
  },
  {
   "cell_type": "markdown",
   "metadata": {},
   "source": [
    "#### Create Instance attributes in Instance Method\n",
    "___"
   ]
  },
  {
   "cell_type": "markdown",
   "metadata": {},
   "source": [
    "Untill now we have seen how to modify the instance attributes in the instance method. Now let's see how to create the instance attributes in the instance method. Instance attributes are specific to each instance of the class, and you can create them within the instance method using the `self` keyword. This allows you to define new attributes for the object based on the method's logic.\n",
    "\n",
    "Here's an example of how to create instance attributes in an instance method:\n",
    "\n",
    "```Python\n",
    "class ClassName:\n",
    "    \n",
    "    # Constructor\n",
    "    def __init__(self, attribute1, attribute2):\n",
    "        self.attribute1 = attribute1\n",
    "        self.attribute2 = attribute2\n",
    "\n",
    "    # instance method to show the attributes\n",
    "    def show_attributes(self):\n",
    "        print(f\"Attribute 1: {self.attribute1}\")\n",
    "        print(f\"Attribute 2: {self.attribute2}\")\n",
    "\n",
    "    # Instance method to create a new attribute\n",
    "    def create_attribute(self, new_attribute, value):\n",
    "        self.new_attribute = value"
   ]
  },
  {
   "cell_type": "code",
   "execution_count": 36,
   "metadata": {},
   "outputs": [
    {
     "name": "stdout",
     "output_type": "stream",
     "text": [
      "T-Shirt\n",
      "20.0\n",
      "Shirt\n",
      "25.0\n"
     ]
    }
   ],
   "source": [
    "class ClassName:\n",
    "    \n",
    "    # Constructor\n",
    "    def __init__(self, name, price):\n",
    "        self.name = name\n",
    "        self.price = price\n",
    "\n",
    "    # instance method to show the product details\n",
    "    def show_product_details(self):\n",
    "        print(f\"Product Name: {self.name}\")\n",
    "        print(f\"Product Price: {self.price}\")\n",
    "\n",
    "    # Instance method to update the product details\n",
    "    def update_product_details(self, new_name, new_price):\n",
    "        self.name = new_name\n",
    "        self.price = new_price\n",
    "\n",
    "\n",
    "# Create an object of the class\n",
    "obj = ClassName('T-Shirt', 20.0)\n",
    "\n",
    "# Print the initial product details\n",
    "print(obj.name)  # Output: T-Shirt\n",
    "print(obj.price)  # Output: 20.0\n",
    "\n",
    "# Call the instance method to update the product details\n",
    "obj.update_product_details('Shirt', 25.0)\n",
    "\n",
    "# Print the updated product details\n",
    "print(obj.name)  # Output: Shirt\n",
    "print(obj.price)  # Output: 25.0\n"
   ]
  },
  {
   "cell_type": "code",
   "execution_count": 37,
   "metadata": {},
   "outputs": [
    {
     "name": "stdout",
     "output_type": "stream",
     "text": [
      "Roll Number: 20 Name: Emma Age: 14 Marks: 75\n"
     ]
    }
   ],
   "source": [
    "class Student:\n",
    "    def __init__(self, roll_no, name, age):\n",
    "        # Instance variable\n",
    "        self.roll_no = roll_no\n",
    "        self.name = name\n",
    "        self.age = age\n",
    "\n",
    "    # instance method to add instance variable\n",
    "    def add_marks(self, marks):\n",
    "        # add new attribute to current object\n",
    "        self.marks = marks\n",
    "\n",
    "# create object\n",
    "stud = Student(20, \"Emma\", 14)\n",
    "# call instance method\n",
    "stud.add_marks(75)\n",
    "\n",
    "# display object\n",
    "print('Roll Number:', stud.roll_no, 'Name:', stud.name, 'Age:', stud.age, 'Marks:', stud.marks)"
   ]
  },
  {
   "cell_type": "code",
   "execution_count": 7,
   "metadata": {},
   "outputs": [
    {
     "name": "stdout",
     "output_type": "stream",
     "text": [
      "STUDENT 1: Basic Record\n",
      "--------------------------------------------------\n",
      "Roll Number: 2024001 Name: Emma Age: 17\n",
      "Roll Number: 2024001 Name: Emma Age: 17 GPA: 3.8 Scholarship: Merit Scholarship Amount: $5000\n",
      "\n",
      "\n",
      "STUDENT 2 & 3: Multiple Records\n",
      "--------------------------------------------------\n",
      "\n",
      "Student 2: Michael - GPA: 3.5 - Scholarship: Need-Based Scholarship - Amount: $8000\n",
      "Student 3: Sofia - GPA: 3.9 - Scholarship: Full Scholarship - Amount: $15000\n",
      "\n",
      "==================================================\n",
      "SCHOLARSHIP SUMMARY\n",
      "==================================================\n",
      "Total Scholarships Awarded: $28,000\n",
      "==================================================\n"
     ]
    }
   ],
   "source": [
    "\"\"\"\n",
    "Instance Attributes: Creating Attributes Outside __init__()\n",
    "\n",
    "Instance attributes can be defined in any instance method, \n",
    "not just in the constructor.\n",
    "\"\"\"\n",
    "\n",
    "class Student:\n",
    "    def __init__(self, roll_no, name, age):\n",
    "        # Instance variables defined in constructor\n",
    "        self.roll_no = roll_no\n",
    "        self.name = name\n",
    "        self.age = age\n",
    "    \n",
    "    # Instance method to add GPA (created outside __init__)\n",
    "    def add_gpa(self, gpa):\n",
    "        self.gpa = gpa\n",
    "    \n",
    "    # Instance method to add scholarship info (created outside __init__)\n",
    "    def add_scholarship(self, scholarship_type, amount):\n",
    "        self.scholarship_type = scholarship_type\n",
    "        self.scholarship_amount = amount\n",
    "\n",
    "\n",
    "# ============================================\n",
    "# EXAMPLE 1: Simple Scholarship Update\n",
    "# ============================================\n",
    "print('STUDENT 1: Basic Record')\n",
    "print('-' * 50)\n",
    "\n",
    "# Create object with basic attributes\n",
    "student1 = Student(2024001, \"Emma\", 17)\n",
    "\n",
    "# Display before adding scholarship info\n",
    "print('Roll Number:', student1.roll_no, 'Name:', student1.name, 'Age:', student1.age)\n",
    "\n",
    "# Add GPA attribute\n",
    "student1.add_gpa(3.8)\n",
    "\n",
    "# Add scholarship attributes\n",
    "student1.add_scholarship(\"Merit Scholarship\", 5000)\n",
    "\n",
    "# Display after adding scholarship info\n",
    "print('Roll Number:', student1.roll_no, 'Name:', student1.name, 'Age:', student1.age, \n",
    "      'GPA:', student1.gpa, 'Scholarship:', student1.scholarship_type, \n",
    "      'Amount: $' + str(student1.scholarship_amount))\n",
    "\n",
    "\n",
    "# ============================================\n",
    "# EXAMPLE 2: Multiple Students\n",
    "# ============================================\n",
    "print('\\n\\nSTUDENT 2 & 3: Multiple Records')\n",
    "print('-' * 50)\n",
    "\n",
    "# Create two more students\n",
    "student2 = Student(2024002, \"Michael\", 16)\n",
    "student3 = Student(2024003, \"Sofia\", 17)\n",
    "\n",
    "# Add scholarship info for student 2\n",
    "student2.add_gpa(3.5)\n",
    "student2.add_scholarship(\"Need-Based Scholarship\", 8000)\n",
    "\n",
    "# Add scholarship info for student 3\n",
    "student3.add_gpa(3.9)\n",
    "student3.add_scholarship(\"Full Scholarship\", 15000)\n",
    "\n",
    "# Display all students\n",
    "print('\\nStudent 2:', student2.name, '- GPA:', student2.gpa, \n",
    "      '- Scholarship:', student2.scholarship_type, '- Amount: $' + str(student2.scholarship_amount))\n",
    "\n",
    "print('Student 3:', student3.name, '- GPA:', student3.gpa, \n",
    "      '- Scholarship:', student3.scholarship_type, '- Amount: $' + str(student3.scholarship_amount))\n",
    "\n",
    "\n",
    "# Summary\n",
    "print('\\n' + '=' * 50)\n",
    "print('SCHOLARSHIP SUMMARY')\n",
    "print('=' * 50)\n",
    "total = student1.scholarship_amount + student2.scholarship_amount + student3.scholarship_amount\n",
    "print(f'Total Scholarships Awarded: ${total:,}')\n",
    "print('=' * 50)"
   ]
  },
  {
   "cell_type": "markdown",
   "metadata": {},
   "source": [
    "#### Dynamically Add Instance Method to a Object\n",
    "___"
   ]
  },
  {
   "cell_type": "markdown",
   "metadata": {},
   "source": [
    "Dynamically adding an instance method to an object in Python involves creating a new method function and assigning it to the object's instance dictionary. This allows you to add new methods to an object at runtime, providing flexibility and customization in your code.\n",
    "\n",
    "Python, being a dynamic language, allows you to modify object behavior at runtime. This can be helpful in certain situations:\n",
    "\n",
    "* Modifying Classes from Different Files: When you don't have access to modify the original class definition (e.g., it's in a different file you can't change).\n",
    "\n",
    "* Extending Functionality: Extending a class's functionality at runtime without altering its core structure, especially if multiple systems share the base structure.\n",
    "\n",
    "\n",
    " However, it's important to use this technique judiciously, as it can make code harder to understand and maintain. In most cases, it's preferable to extend the class definition itself if possible.\n",
    "\n",
    "Here's an example of how to dynamically add an instance method to an object in Python:\n",
    " \n",
    "Example:\n",
    "Let's say we have a Student class with a basic structure:\n",
    "\n"
   ]
  },
  {
   "cell_type": "code",
   "execution_count": 42,
   "metadata": {},
   "outputs": [],
   "source": [
    "class Student:\n",
    "    def __init__(self, name, age):\n",
    "        self.name = name\n",
    "        self.age = age\n",
    "\n",
    "    def display(self):\n",
    "        print(\"The Student name is confirmed tobe:\", self.name, \"and their age is:\", self.age)\n"
   ]
  },
  {
   "cell_type": "markdown",
   "metadata": {},
   "source": [
    "Now, we want to dynamically add a method `academic()` to a specific instance of Student: The followings are the steps to follow:\n",
    "___\n",
    "1. **Import types Module:**  \n",
    "Import the `types` module, which provides the `MethodType` class used for creating methods.\n",
    "\n",
    "\n",
    "2. **Define the New Method:**    \n",
    "Write the function you want to add as an instance method. This function should take the object (self) as its first argument:\n",
    "\n",
    "```Python\n",
    "def dynamic_name(self):\n",
    "    print(f\"Hello, {self.name}! Welcome aboard.\")\n",
    "```\n",
    "\n",
    "3. **Create a MethodType Object:** \n",
    "\n",
    "Use `types.MethodType` to create a method object that associates the function with the specific instance you want to add it to:\n",
    "\n",
    "   ```Python\n",
    "   dynamic_name_method = types.MethodType(dynamic_name, object_instance)\n",
    "   ```\n",
    "Replace object_instance with the actual object you're adding the method to.\n",
    "\n",
    "4. **Assign the Method to the Object:**  \n",
    "Set an attribute on the object instance with the method object's name:\n",
    "    \n",
    "```Python\n",
    "object_instance.new_method_name = new_method_name\n",
    "```\n"
   ]
  },
  {
   "cell_type": "code",
   "execution_count": 46,
   "metadata": {},
   "outputs": [
    {
     "name": "stdout",
     "output_type": "stream",
     "text": [
      "Alice is being confirm as the best academic of the year!\n"
     ]
    }
   ],
   "source": [
    "# import the types module\n",
    "import types\n",
    "\n",
    "# Create a object of the Student class\n",
    "student1 = Student(\"Alice\", 20)\n",
    "\n",
    "# Define the method to be added dynamically\n",
    "def academic(self):\n",
    "    print(self.name, \"is being confirm as the best academic of the year!\")\n",
    "\n",
    "\n",
    "# create a methodtype object\n",
    "academic_method = types.MethodType(academic, student1)\n",
    "\n",
    "# Add the method to the student1 object using the methodtype object\n",
    "student1.academic_method = academic_method\n",
    "\n",
    "# Call the dynamically added method\n",
    "student1.academic_method()"
   ]
  },
  {
   "cell_type": "code",
   "execution_count": 8,
   "metadata": {},
   "outputs": [
    {
     "name": "stdout",
     "output_type": "stream",
     "text": [
      "Alice has been recognized as the best academic of the year!\n"
     ]
    }
   ],
   "source": [
    "import types\n",
    "\n",
    "# Original class definition\n",
    "class Student:\n",
    "    def __init__(self, name, age):\n",
    "        self.name = name\n",
    "        self.age = age\n",
    "\n",
    "    def display(self):\n",
    "        print(\"The student name is:\", self.name, \"and age is:\", self.age)\n",
    "\n",
    "# Create a Student object\n",
    "student1 = Student(\"Alice\", 20)\n",
    "\n",
    "# Define a new function that will serve as the method\n",
    "def academic(self):\n",
    "    print(self.name, \"has been recognized as the best academic of the year!\")\n",
    "\n",
    "# Bind the function to student1 using MethodType\n",
    "academic_method = types.MethodType(academic, student1)\n",
    "\n",
    "# Attach the method to the student1 object\n",
    "student1.academic = academic_method\n",
    "\n",
    "# You can now call the new method on this instance\n",
    "student1.academic()\n",
    "\n"
   ]
  },
  {
   "cell_type": "markdown",
   "metadata": {},
   "source": [
    "#### Dynamically Delete Instance Methods\n",
    "___"
   ]
  },
  {
   "cell_type": "markdown",
   "metadata": {},
   "source": [
    "We can dynamically delete the instance method from the class. In Python, there are two ways to delete method:\n",
    "\n",
    "* By using the del operator\n",
    "* By using delattr() method\n",
    "\n",
    "The del operator is used to delete the method from the class. The syntax of the del operator is:\n",
    "\n",
    "```Python\n",
    "del object.method_name\n",
    "```\n",
    "\n",
    "The delattr() method is used to delete the method from the class. The syntax of the delattr() method is:\n",
    "\n",
    "```Python\n",
    "delattr(object, 'method_name')\n",
    "```\n"
   ]
  },
  {
   "cell_type": "markdown",
   "metadata": {},
   "source": [
    "* By using the del operator: The `del` operator removes the instance method added by class.\n",
    "\n",
    "Example: In this example, we will delete an instance method named percentage() from a Student class. If you try to access it after removing it, you’ll get an Attribute Error."
   ]
  },
  {
   "cell_type": "code",
   "execution_count": 3,
   "metadata": {},
   "outputs": [
    {
     "name": "stdout",
     "output_type": "stream",
     "text": [
      "Name: Emma Age: 14\n",
      "Percentage: 64.5\n"
     ]
    }
   ],
   "source": [
    "class Student:\n",
    "    # constructor\n",
    "    def __init__(self, name, age):\n",
    "        self.name = name\n",
    "        self.age = age\n",
    "\n",
    "    # instance method\n",
    "    def show(self):\n",
    "        print('Name:', self.name, 'Age:', self.age)\n",
    "\n",
    "    # instance method\n",
    "    def percentage(self, sub1, sub2):\n",
    "        print('Percentage:', (sub1 + sub2) / 2)\n",
    "\n",
    "emma = Student('Emma', 14)\n",
    "emma.show()\n",
    "emma.percentage(67, 62)\n",
    "\n",
    "\n",
    "# Again calling percentage() method\n",
    "# It will raise error\n",
    "# emma.percentage(67, 62)\n"
   ]
  },
  {
   "cell_type": "code",
   "execution_count": 4,
   "metadata": {},
   "outputs": [],
   "source": [
    "# Deleting the percentage() method\n",
    "del Student.percentage"
   ]
  },
  {
   "cell_type": "markdown",
   "metadata": {},
   "source": [
    "* By using the `delattr()` method: \n",
    "\n",
    "The `delattr()` is used to delete the named attribute from the object with the prior permission of the object. Use the following syntax to delete the instance method."
   ]
  },
  {
   "cell_type": "code",
   "execution_count": 5,
   "metadata": {},
   "outputs": [
    {
     "name": "stdout",
     "output_type": "stream",
     "text": [
      "Name: Emma Age: 14\n"
     ]
    },
    {
     "ename": "AttributeError",
     "evalue": "'Student' object has no attribute 'percentage'",
     "output_type": "error",
     "traceback": [
      "\u001b[0;31m---------------------------------------------------------------------------\u001b[0m",
      "\u001b[0;31mAttributeError\u001b[0m                            Traceback (most recent call last)",
      "Cell \u001b[0;32mIn[5], line 3\u001b[0m\n\u001b[1;32m      1\u001b[0m emma \u001b[38;5;241m=\u001b[39m Student(\u001b[38;5;124m'\u001b[39m\u001b[38;5;124mEmma\u001b[39m\u001b[38;5;124m'\u001b[39m, \u001b[38;5;241m14\u001b[39m)\n\u001b[1;32m      2\u001b[0m emma\u001b[38;5;241m.\u001b[39mshow()\n\u001b[0;32m----> 3\u001b[0m emma\u001b[38;5;241m.\u001b[39mpercentage(\u001b[38;5;241m67\u001b[39m, \u001b[38;5;241m62\u001b[39m)\n\u001b[1;32m      5\u001b[0m \u001b[38;5;66;03m# delete instance method percentage() using delattr()\u001b[39;00m\n\u001b[1;32m      6\u001b[0m \u001b[38;5;28mdelattr\u001b[39m(emma, \u001b[38;5;124m'\u001b[39m\u001b[38;5;124mpercentage\u001b[39m\u001b[38;5;124m'\u001b[39m)\n",
      "\u001b[0;31mAttributeError\u001b[0m: 'Student' object has no attribute 'percentage'"
     ]
    }
   ],
   "source": [
    "emma = Student('Emma', 14)\n",
    "emma.show()\n",
    "emma.percentage(67, 62)\n",
    "\n",
    "# delete instance method percentage() using delattr()\n",
    "delattr(emma, 'percentage')\n",
    "emma.show()\n",
    "\n",
    "# Again calling percentage() method\n",
    "# It will raise error\n",
    "emma.percentage(67, 62)"
   ]
  },
  {
   "cell_type": "markdown",
   "metadata": {},
   "source": [
    "### 3.0 Static Method\n",
    "___"
   ]
  },
  {
   "cell_type": "markdown",
   "metadata": {},
   "source": [
    "#### Introduction \n",
    "\n",
    "In simple terms, a Python static method is a function that belongs to a class but doesn't access or modify any specific instance or class variables. It's like a standalone function that is defined within a class for organizational purposes.\n",
    "\n",
    "Here's a breakdown:\n",
    "\n",
    "1. Standalone Function: Unlike instance methods (which operate on specific instances of a class) and class methods (which operate on the class itself), a static method doesn't depend on any instance or class data. It's just a regular function that happens to be defined inside a class.\n",
    "\n",
    "2. No Access to Instance or Class Data: Static methods don't have access to the instance (self) or class (cls) parameters. They work independently of any specific instance or class context.\n",
    "\n",
    "3. Utility Functions: They are often used for general-purpose operations or helper functions that don't need to interact with instance or class attributes."
   ]
  },
  {
   "cell_type": "markdown",
   "metadata": {},
   "source": [
    "#### How to Create a Static Method\n",
    "___\n",
    "\n",
    "Any method we create in a class will automatically be created as an instance method. We must explicitly tell Python that it is a static method using the `@staticmethod` decorator or `staticmethod()` function.\n",
    "\n",
    "Static methods are defined inside a class, and it is pretty similar to defining a regular `function`. Thus, There are two ways to define a static method in Python:\n",
    "\n",
    "1. Using the `@staticmethod` decorator: The `@staticmethod` decorator is used to define a static method in Python. It is placed above the method definition to indicate that the method is a static method.\n",
    "\n",
    "2. Using the `staticmethod()` function: The `staticmethod()` function is used to define a static method in Python. It takes a function as an argument and returns a static method object.\n",
    "\n",
    "The static method can be called using `ClassName.method_name()` as well as by using an object of the class."
   ]
  },
  {
   "cell_type": "markdown",
   "metadata": {},
   "source": [
    "#### Create Static Method Using @staticmethod Decorator\n",
    "___"
   ]
  },
  {
   "cell_type": "markdown",
   "metadata": {},
   "source": [
    "To make a method a static method, add @staticmethod decorator before the method definition.\n",
    "\n",
    "The @staticmethod decorator is a built-in function decorator in Python to declare a method as a static method. It is an expression that gets evaluated after our function is defined.\n",
    "\n",
    "The syntax for defining a static method using the @staticmethod decorator is as follows:\n",
    "\n",
    "```Python   \n",
    "class ClassName:\n",
    "    \n",
    "    @staticmethod\n",
    "    def static_method(arguments):\n",
    "        # Function body\n",
    "        print(\"This is a static method\")\n",
    "\n",
    "\n",
    "# Call the static method using the class name   \n",
    "ClassName.static_method(arguments)\n",
    "```"
   ]
  },
  {
   "cell_type": "code",
   "execution_count": 6,
   "metadata": {},
   "outputs": [
    {
     "name": "stdout",
     "output_type": "stream",
     "text": [
      "8\n",
      "15\n"
     ]
    }
   ],
   "source": [
    "class MathOperations:\n",
    "    @staticmethod\n",
    "    def add(x, y):\n",
    "        return x + y\n",
    "\n",
    "    @staticmethod\n",
    "    def multiply(x, y):\n",
    "        return x * y\n",
    "\n",
    "# You can call static methods directly from the class\n",
    "print(MathOperations.add(5, 3))       # Output: 8\n",
    "print(MathOperations.multiply(5, 3))  # Output: 15\n"
   ]
  },
  {
   "cell_type": "markdown",
   "metadata": {},
   "source": [
    "The selected code is a Python class named [`MathOperations`](command:_github.copilot.openSymbolFromReferences?%5B%7B%22%24mid%22%3A1%2C%22fsPath%22%3A%22%2FUsers%2Fteslim%2FLibrary%2FCloudStorage%2FOneDrive-TeslimUthmanAdeyanju%2FTeSlim_Data_Scientist%2F03_Python%2FTeslim_python_study_note%2FTeslim_Python_BOOK%2F06-Object%20Oriented%20Programing%2F2-Method%20Classification.ipynb%22%2C%22path%22%3A%22%2FUsers%2Fteslim%2FLibrary%2FCloudStorage%2FOneDrive-TeslimUthmanAdeyanju%2FTeSlim_Data_Scientist%2F03_Python%2FTeslim_python_study_note%2FTeslim_Python_BOOK%2F06-Object%20Oriented%20Programing%2F2-Method%20Classification.ipynb%22%2C%22scheme%22%3A%22vscode-notebook-cell%22%2C%22fragment%22%3A%22Y116sZmlsZQ%3D%3D%22%7D%2C%7B%22line%22%3A0%2C%22character%22%3A6%7D%5D \"/Users/teslim/Library/CloudStorage/OneDrive-TeslimUthmanAdeyanju/TeSlim_Data_Scientist/03_Python/Teslim_python_study_note/Teslim_Python_BOOK/06-Object Oriented Programing/2-Method Classification.ipynb\") that contains two static methods: [`add`](command:_github.copilot.openSymbolFromReferences?%5B%7B%22%24mid%22%3A1%2C%22fsPath%22%3A%22%2FUsers%2Fteslim%2FLibrary%2FCloudStorage%2FOneDrive-TeslimUthmanAdeyanju%2FTeSlim_Data_Scientist%2F03_Python%2FTeslim_python_study_note%2FTeslim_Python_BOOK%2F06-Object%20Oriented%20Programing%2F2-Method%20Classification.ipynb%22%2C%22path%22%3A%22%2FUsers%2Fteslim%2FLibrary%2FCloudStorage%2FOneDrive-TeslimUthmanAdeyanju%2FTeSlim_Data_Scientist%2F03_Python%2FTeslim_python_study_note%2FTeslim_Python_BOOK%2F06-Object%20Oriented%20Programing%2F2-Method%20Classification.ipynb%22%2C%22scheme%22%3A%22vscode-notebook-cell%22%2C%22fragment%22%3A%22Y116sZmlsZQ%3D%3D%22%7D%2C%7B%22line%22%3A2%2C%22character%22%3A8%7D%5D \"/Users/teslim/Library/CloudStorage/OneDrive-TeslimUthmanAdeyanju/TeSlim_Data_Scientist/03_Python/Teslim_python_study_note/Teslim_Python_BOOK/06-Object Oriented Programing/2-Method Classification.ipynb\") and [`multiply`](command:_github.copilot.openSymbolFromReferences?%5B%7B%22%24mid%22%3A1%2C%22fsPath%22%3A%22%2FUsers%2Fteslim%2FLibrary%2FCloudStorage%2FOneDrive-TeslimUthmanAdeyanju%2FTeSlim_Data_Scientist%2F03_Python%2FTeslim_python_study_note%2FTeslim_Python_BOOK%2F06-Object%20Oriented%20Programing%2F2-Method%20Classification.ipynb%22%2C%22path%22%3A%22%2FUsers%2Fteslim%2FLibrary%2FCloudStorage%2FOneDrive-TeslimUthmanAdeyanju%2FTeSlim_Data_Scientist%2F03_Python%2FTeslim_python_study_note%2FTeslim_Python_BOOK%2F06-Object%20Oriented%20Programing%2F2-Method%20Classification.ipynb%22%2C%22scheme%22%3A%22vscode-notebook-cell%22%2C%22fragment%22%3A%22Y116sZmlsZQ%3D%3D%22%7D%2C%7B%22line%22%3A6%2C%22character%22%3A8%7D%5D \"/Users/teslim/Library/CloudStorage/OneDrive-TeslimUthmanAdeyanju/TeSlim_Data_Scientist/03_Python/Teslim_python_study_note/Teslim_Python_BOOK/06-Object Oriented Programing/2-Method Classification.ipynb\").\n",
    "\n",
    "Static methods in Python are methods that belong to a class rather than an instance of the class. They can't access or modify the class's instance state. They are defined using the `@staticmethod` decorator and do not take a `self` parameter. \n",
    "\n",
    "The [`add`](command:_github.copilot.openSymbolFromReferences?%5B%7B%22%24mid%22%3A1%2C%22fsPath%22%3A%22%2FUsers%2Fteslim%2FLibrary%2FCloudStorage%2FOneDrive-TeslimUthmanAdeyanju%2FTeSlim_Data_Scientist%2F03_Python%2FTeslim_python_study_note%2FTeslim_Python_BOOK%2F06-Object%20Oriented%20Programing%2F2-Method%20Classification.ipynb%22%2C%22path%22%3A%22%2FUsers%2Fteslim%2FLibrary%2FCloudStorage%2FOneDrive-TeslimUthmanAdeyanju%2FTeSlim_Data_Scientist%2F03_Python%2FTeslim_python_study_note%2FTeslim_Python_BOOK%2F06-Object%20Oriented%20Programing%2F2-Method%20Classification.ipynb%22%2C%22scheme%22%3A%22vscode-notebook-cell%22%2C%22fragment%22%3A%22Y116sZmlsZQ%3D%3D%22%7D%2C%7B%22line%22%3A2%2C%22character%22%3A8%7D%5D \"/Users/teslim/Library/CloudStorage/OneDrive-TeslimUthmanAdeyanju/TeSlim_Data_Scientist/03_Python/Teslim_python_study_note/Teslim_Python_BOOK/06-Object Oriented Programing/2-Method Classification.ipynb\") method takes two arguments, [`x`](command:_github.copilot.openSymbolFromReferences?%5B%7B%22%24mid%22%3A1%2C%22fsPath%22%3A%22%2FUsers%2Fteslim%2FLibrary%2FCloudStorage%2FOneDrive-TeslimUthmanAdeyanju%2FTeSlim_Data_Scientist%2F03_Python%2FTeslim_python_study_note%2FTeslim_Python_BOOK%2F06-Object%20Oriented%20Programing%2F2-Method%20Classification.ipynb%22%2C%22path%22%3A%22%2FUsers%2Fteslim%2FLibrary%2FCloudStorage%2FOneDrive-TeslimUthmanAdeyanju%2FTeSlim_Data_Scientist%2F03_Python%2FTeslim_python_study_note%2FTeslim_Python_BOOK%2F06-Object%20Oriented%20Programing%2F2-Method%20Classification.ipynb%22%2C%22scheme%22%3A%22vscode-notebook-cell%22%2C%22fragment%22%3A%22Y116sZmlsZQ%3D%3D%22%7D%2C%7B%22line%22%3A2%2C%22character%22%3A12%7D%5D \"/Users/teslim/Library/CloudStorage/OneDrive-TeslimUthmanAdeyanju/TeSlim_Data_Scientist/03_Python/Teslim_python_study_note/Teslim_Python_BOOK/06-Object Oriented Programing/2-Method Classification.ipynb\") and [`y`](command:_github.copilot.openSymbolFromReferences?%5B%7B%22%24mid%22%3A1%2C%22fsPath%22%3A%22%2FUsers%2Fteslim%2FLibrary%2FCloudStorage%2FOneDrive-TeslimUthmanAdeyanju%2FTeSlim_Data_Scientist%2F03_Python%2FTeslim_python_study_note%2FTeslim_Python_BOOK%2F06-Object%20Oriented%20Programing%2F2-Method%20Classification.ipynb%22%2C%22path%22%3A%22%2FUsers%2Fteslim%2FLibrary%2FCloudStorage%2FOneDrive-TeslimUthmanAdeyanju%2FTeSlim_Data_Scientist%2F03_Python%2FTeslim_python_study_note%2FTeslim_Python_BOOK%2F06-Object%20Oriented%20Programing%2F2-Method%20Classification.ipynb%22%2C%22scheme%22%3A%22vscode-notebook-cell%22%2C%22fragment%22%3A%22Y116sZmlsZQ%3D%3D%22%7D%2C%7B%22line%22%3A2%2C%22character%22%3A15%7D%5D \"/Users/teslim/Library/CloudStorage/OneDrive-TeslimUthmanAdeyanju/TeSlim_Data_Scientist/03_Python/Teslim_python_study_note/Teslim_Python_BOOK/06-Object Oriented Programing/2-Method Classification.ipynb\"), and returns their sum. Similarly, the [`multiply`](command:_github.copilot.openSymbolFromReferences?%5B%7B%22%24mid%22%3A1%2C%22fsPath%22%3A%22%2FUsers%2Fteslim%2FLibrary%2FCloudStorage%2FOneDrive-TeslimUthmanAdeyanju%2FTeSlim_Data_Scientist%2F03_Python%2FTeslim_python_study_note%2FTeslim_Python_BOOK%2F06-Object%20Oriented%20Programing%2F2-Method%20Classification.ipynb%22%2C%22path%22%3A%22%2FUsers%2Fteslim%2FLibrary%2FCloudStorage%2FOneDrive-TeslimUthmanAdeyanju%2FTeSlim_Data_Scientist%2F03_Python%2FTeslim_python_study_note%2FTeslim_Python_BOOK%2F06-Object%20Oriented%20Programing%2F2-Method%20Classification.ipynb%22%2C%22scheme%22%3A%22vscode-notebook-cell%22%2C%22fragment%22%3A%22Y116sZmlsZQ%3D%3D%22%7D%2C%7B%22line%22%3A6%2C%22character%22%3A8%7D%5D \"/Users/teslim/Library/CloudStorage/OneDrive-TeslimUthmanAdeyanju/TeSlim_Data_Scientist/03_Python/Teslim_python_study_note/Teslim_Python_BOOK/06-Object Oriented Programing/2-Method Classification.ipynb\") method takes two arguments, [`x`](command:_github.copilot.openSymbolFromReferences?%5B%7B%22%24mid%22%3A1%2C%22fsPath%22%3A%22%2FUsers%2Fteslim%2FLibrary%2FCloudStorage%2FOneDrive-TeslimUthmanAdeyanju%2FTeSlim_Data_Scientist%2F03_Python%2FTeslim_python_study_note%2FTeslim_Python_BOOK%2F06-Object%20Oriented%20Programing%2F2-Method%20Classification.ipynb%22%2C%22path%22%3A%22%2FUsers%2Fteslim%2FLibrary%2FCloudStorage%2FOneDrive-TeslimUthmanAdeyanju%2FTeSlim_Data_Scientist%2F03_Python%2FTeslim_python_study_note%2FTeslim_Python_BOOK%2F06-Object%20Oriented%20Programing%2F2-Method%20Classification.ipynb%22%2C%22scheme%22%3A%22vscode-notebook-cell%22%2C%22fragment%22%3A%22Y116sZmlsZQ%3D%3D%22%7D%2C%7B%22line%22%3A2%2C%22character%22%3A12%7D%5D \"/Users/teslim/Library/CloudStorage/OneDrive-TeslimUthmanAdeyanju/TeSlim_Data_Scientist/03_Python/Teslim_python_study_note/Teslim_Python_BOOK/06-Object Oriented Programing/2-Method Classification.ipynb\") and [`y`](command:_github.copilot.openSymbolFromReferences?%5B%7B%22%24mid%22%3A1%2C%22fsPath%22%3A%22%2FUsers%2Fteslim%2FLibrary%2FCloudStorage%2FOneDrive-TeslimUthmanAdeyanju%2FTeSlim_Data_Scientist%2F03_Python%2FTeslim_python_study_note%2FTeslim_Python_BOOK%2F06-Object%20Oriented%20Programing%2F2-Method%20Classification.ipynb%22%2C%22path%22%3A%22%2FUsers%2Fteslim%2FLibrary%2FCloudStorage%2FOneDrive-TeslimUthmanAdeyanju%2FTeSlim_Data_Scientist%2F03_Python%2FTeslim_python_study_note%2FTeslim_Python_BOOK%2F06-Object%20Oriented%20Programing%2F2-Method%20Classification.ipynb%22%2C%22scheme%22%3A%22vscode-notebook-cell%22%2C%22fragment%22%3A%22Y116sZmlsZQ%3D%3D%22%7D%2C%7B%22line%22%3A2%2C%22character%22%3A15%7D%5D \"/Users/teslim/Library/CloudStorage/OneDrive-TeslimUthmanAdeyanju/TeSlim_Data_Scientist/03_Python/Teslim_python_study_note/Teslim_Python_BOOK/06-Object Oriented Programing/2-Method Classification.ipynb\"), and returns their product.\n",
    "\n",
    "Static methods can be called directly on the class, without creating an instance of the class. This is demonstrated in the last two lines of the code. The [`add`](command:_github.copilot.openSymbolFromReferences?%5B%7B%22%24mid%22%3A1%2C%22fsPath%22%3A%22%2FUsers%2Fteslim%2FLibrary%2FCloudStorage%2FOneDrive-TeslimUthmanAdeyanju%2FTeSlim_Data_Scientist%2F03_Python%2FTeslim_python_study_note%2FTeslim_Python_BOOK%2F06-Object%20Oriented%20Programing%2F2-Method%20Classification.ipynb%22%2C%22path%22%3A%22%2FUsers%2Fteslim%2FLibrary%2FCloudStorage%2FOneDrive-TeslimUthmanAdeyanju%2FTeSlim_Data_Scientist%2F03_Python%2FTeslim_python_study_note%2FTeslim_Python_BOOK%2F06-Object%20Oriented%20Programing%2F2-Method%20Classification.ipynb%22%2C%22scheme%22%3A%22vscode-notebook-cell%22%2C%22fragment%22%3A%22Y116sZmlsZQ%3D%3D%22%7D%2C%7B%22line%22%3A2%2C%22character%22%3A8%7D%5D \"/Users/teslim/Library/CloudStorage/OneDrive-TeslimUthmanAdeyanju/TeSlim_Data_Scientist/03_Python/Teslim_python_study_note/Teslim_Python_BOOK/06-Object Oriented Programing/2-Method Classification.ipynb\") method is called with arguments `5` and `3`, and the result is printed to the console. The [`multiply`](command:_github.copilot.openSymbolFromReferences?%5B%7B%22%24mid%22%3A1%2C%22fsPath%22%3A%22%2FUsers%2Fteslim%2FLibrary%2FCloudStorage%2FOneDrive-TeslimUthmanAdeyanju%2FTeSlim_Data_Scientist%2F03_Python%2FTeslim_python_study_note%2FTeslim_Python_BOOK%2F06-Object%20Oriented%20Programing%2F2-Method%20Classification.ipynb%22%2C%22path%22%3A%22%2FUsers%2Fteslim%2FLibrary%2FCloudStorage%2FOneDrive-TeslimUthmanAdeyanju%2FTeSlim_Data_Scientist%2F03_Python%2FTeslim_python_study_note%2FTeslim_Python_BOOK%2F06-Object%20Oriented%20Programing%2F2-Method%20Classification.ipynb%22%2C%22scheme%22%3A%22vscode-notebook-cell%22%2C%22fragment%22%3A%22Y116sZmlsZQ%3D%3D%22%7D%2C%7B%22line%22%3A6%2C%22character%22%3A8%7D%5D \"/Users/teslim/Library/CloudStorage/OneDrive-TeslimUthmanAdeyanju/TeSlim_Data_Scientist/03_Python/Teslim_python_study_note/Teslim_Python_BOOK/06-Object Oriented Programing/2-Method Classification.ipynb\") method is also called with arguments `5` and `3`, and the result is printed. \n",
    "\n",
    "In this case, [`MathOperations.add(5, 3)`](command:_github.copilot.openSymbolFromReferences?%5B%7B%22%24mid%22%3A1%2C%22fsPath%22%3A%22%2FUsers%2Fteslim%2FLibrary%2FCloudStorage%2FOneDrive-TeslimUthmanAdeyanju%2FTeSlim_Data_Scientist%2F03_Python%2FTeslim_python_study_note%2FTeslim_Python_BOOK%2F06-Object%20Oriented%20Programing%2F2-Method%20Classification.ipynb%22%2C%22path%22%3A%22%2FUsers%2Fteslim%2FLibrary%2FCloudStorage%2FOneDrive-TeslimUthmanAdeyanju%2FTeSlim_Data_Scientist%2F03_Python%2FTeslim_python_study_note%2FTeslim_Python_BOOK%2F06-Object%20Oriented%20Programing%2F2-Method%20Classification.ipynb%22%2C%22scheme%22%3A%22vscode-notebook-cell%22%2C%22fragment%22%3A%22Y116sZmlsZQ%3D%3D%22%7D%2C%7B%22line%22%3A0%2C%22character%22%3A6%7D%5D \"/Users/teslim/Library/CloudStorage/OneDrive-TeslimUthmanAdeyanju/TeSlim_Data_Scientist/03_Python/Teslim_python_study_note/Teslim_Python_BOOK/06-Object Oriented Programing/2-Method Classification.ipynb\") returns `8` and [`MathOperations.multiply(5, 3)`](command:_github.copilot.openSymbolFromReferences?%5B%7B%22%24mid%22%3A1%2C%22fsPath%22%3A%22%2FUsers%2Fteslim%2FLibrary%2FCloudStorage%2FOneDrive-TeslimUthmanAdeyanju%2FTeSlim_Data_Scientist%2F03_Python%2FTeslim_python_study_note%2FTeslim_Python_BOOK%2F06-Object%20Oriented%20Programing%2F2-Method%20Classification.ipynb%22%2C%22path%22%3A%22%2FUsers%2Fteslim%2FLibrary%2FCloudStorage%2FOneDrive-TeslimUthmanAdeyanju%2FTeSlim_Data_Scientist%2F03_Python%2FTeslim_python_study_note%2FTeslim_Python_BOOK%2F06-Object%20Oriented%20Programing%2F2-Method%20Classification.ipynb%22%2C%22scheme%22%3A%22vscode-notebook-cell%22%2C%22fragment%22%3A%22Y116sZmlsZQ%3D%3D%22%7D%2C%7B%22line%22%3A0%2C%22character%22%3A6%7D%5D \"/Users/teslim/Library/CloudStorage/OneDrive-TeslimUthmanAdeyanju/TeSlim_Data_Scientist/03_Python/Teslim_python_study_note/Teslim_Python_BOOK/06-Object Oriented Programing/2-Method Classification.ipynb\") returns `15`."
   ]
  },
  {
   "cell_type": "markdown",
   "metadata": {},
   "source": [
    "Sure, here's another example of a class with static methods. This time, the class is called `StringOperations` and it has two static methods: `concatenate` and `repeat`.\n",
    "\n"
   ]
  },
  {
   "cell_type": "code",
   "execution_count": null,
   "metadata": {},
   "outputs": [],
   "source": [
    "class StringOperations:\n",
    "    @staticmethod\n",
    "    def concatenate(str1, str2):\n",
    "        return str1 + str2\n",
    "\n",
    "    @staticmethod\n",
    "    def repeat(str, times):\n",
    "        return str * times\n",
    "\n",
    "# You can call static methods directly from the class\n",
    "print(StringOperations.concatenate(\"Hello\", \" World\"))  # Output: \"Hello World\"\n",
    "print(StringOperations.repeat(\"Hello\", 3))  # Output: \"HelloHelloHello\""
   ]
  },
  {
   "cell_type": "code",
   "execution_count": 10,
   "metadata": {},
   "outputs": [
    {
     "name": "stdout",
     "output_type": "stream",
     "text": [
      "Completed task_1\n",
      "Completed task_2\n",
      "Completed task_3\n",
      "\n",
      "Completed task_1\n"
     ]
    }
   ],
   "source": [
    "class Employee(object):\n",
    "    \"\"\"\n",
    "    A class representing an employee.\n",
    "\n",
    "    Attributes:\n",
    "        name (str): The name of the employee.\n",
    "        salary (float): The salary of the employee.\n",
    "        project_name (str): The name of the project the employee is working on.\n",
    "    \"\"\"\n",
    "\n",
    "    def __init__(self, name, salary, project_name):\n",
    "        self.name = name\n",
    "        self.salary = salary\n",
    "        self.project_name = project_name\n",
    "\n",
    "    @staticmethod\n",
    "    def gather_requirement(project_name):\n",
    "        \"\"\"\n",
    "        Gather the requirements for a given project.\n",
    "\n",
    "        Args:\n",
    "            project_name (str): The name of the project.\n",
    "\n",
    "        Returns:\n",
    "            list: A list of requirements for the project.\n",
    "        \"\"\"\n",
    "        if project_name == 'ABC Project':\n",
    "            requirement = ['task_1', 'task_2', 'task_3']\n",
    "        else:\n",
    "            requirement = ['task_1']\n",
    "        return requirement\n",
    "\n",
    "    def work(self):\n",
    "        \"\"\"\n",
    "        Perform work for the employee's project.\n",
    "\n",
    "        Calls the `gather_requirement` static method to get the project requirements\n",
    "        and prints each completed task.\n",
    "        \"\"\"\n",
    "        requirement = self.gather_requirement(self.project_name)\n",
    "        for task in requirement:\n",
    "            print('Completed', task)\n",
    "\n",
    "emp1 = Employee('Kelly', 12000, 'ABC Project')\n",
    "emp1.work()\n",
    "\n",
    "print()\n",
    "\n",
    "emp2 = Employee('John', 10000, 'XYZ Project')\n",
    "emp2.work()"
   ]
  },
  {
   "cell_type": "markdown",
   "metadata": {},
   "source": [
    "**Static Method (gather_requirement):**\n",
    "\n",
    "* The `gather_requirement` method is decorated with `@staticmethod`. This makes it a static method associated with the `Employee` class.\n",
    "\n",
    "* Static methods don't require creating an object (employee instance) to be called. They are called using the class name followed by a dot.\n",
    "\n",
    "* This method takes one argument, `project_name`. It checks if the project name matches \"ABC Project.\" If it does, it returns a list of requirements (tasks) for that project. Otherwise, it returns a basic list with just \"task_1.\"\n",
    "\n",
    "\n",
    "**Instance Method (work):**  \n",
    "\n",
    "* The `work` method is an instance method because it's defined within the class and doesn't use the `@staticmethod` decorator.\n",
    "\n",
    "* This method can be called on an employee object (instance).\n",
    "\n",
    "* Inside the work method:\n",
    "    1. It calls the static method `gather_requirement` using `self.gather_requirement(self.project_name)`. This retrieves the requirements based on the employee's project (stored in `self.project_name`).\n",
    "\n",
    "    2. It iterates through the returned list of requirements (`requirement`) and prints a message for each task, indicating completion.\n",
    "\n",
    "**Creating Employees and Calling Methods:**  \n",
    "\n",
    "* Two employee objects are created: `emp1` (Kelly) for \"ABC Project\" and `emp2` (John) for \"XYZ Project.\"\n",
    "\n",
    "* The `work` method is called on each employee object (`emp1.work()` and `emp2.work()`).\n",
    "\n",
    "Output:\n",
    "\n",
    "1. When `emp1.work()` is called, it retrieves the requirements for \"ABC Project\" (all three tasks) and prints completion messages for each.\n",
    "\n",
    "2. When `emp2.work()` is called, it retrieves the default requirement list (just \"task_1\") for other projects and prints a completion message for that task.\n",
    "\n",
    "\n",
    "In summary, this code demonstrates how to use static methods within a class. The gather_requirement method acts like a helper function that doesn't depend on specific employee data but is related to the concept of projects within the Employee class. The work method showcases how an instance method can utilize a static method to perform its work based on the object's data."
   ]
  },
  {
   "cell_type": "markdown",
   "metadata": {},
   "source": [
    "#### Create Static Method Using `staticmethod()` Function\n",
    "___"
   ]
  },
  {
   "cell_type": "markdown",
   "metadata": {},
   "source": [
    "Using the `staticmethod()` function is another way to define a static method in Python. The `staticmethod()` function takes a function as an argument and returns a static method object.\n",
    "\n",
    "The sytnax for defining a static method using the `staticmethod()` function is as follows:\n",
    "\n",
    "```Python\n",
    "class ClassName:\n",
    "    \n",
    "    def static_method(arguments):\n",
    "        # Function body\n",
    "        print(\"This is a static method\")\n",
    "```\n",
    "\n",
    "You should only use staticmethod() function to define static method if you have to support older versions of Python (2.2 and 2.3). Otherwise, it is recommended to use the @staticmethod decorator.\n",
    "\n",
    "The `staticmethod()` approach is helpful when you need a reference to a function from a class body and you want to avoid the automatic transformation to the instance method."
   ]
  },
  {
   "cell_type": "code",
   "execution_count": 1,
   "metadata": {},
   "outputs": [
    {
     "name": "stdout",
     "output_type": "stream",
     "text": [
      "Inside static method 10\n"
     ]
    }
   ],
   "source": [
    "class Employee:\n",
    "    def sample(x):\n",
    "        print('Inside static method', x)\n",
    "\n",
    "# convert to static method\n",
    "Employee.sample = staticmethod(Employee.sample)\n",
    "# call static method\n",
    "Employee.sample(10)"
   ]
  },
  {
   "cell_type": "markdown",
   "metadata": {},
   "source": [
    "#### Call Static Method from Another Method\n",
    "___"
   ]
  },
  {
   "cell_type": "markdown",
   "metadata": {},
   "source": [
    "You can call a static method from another method within the same class. This can be useful when you have a utility method that is relevant to the class but doesn't need access to instance or class variables. Here's an example to illustrate how to call a static method from another method in Python:"
   ]
  },
  {
   "cell_type": "code",
   "execution_count": null,
   "metadata": {},
   "outputs": [],
   "source": []
  },
  {
   "cell_type": "code",
   "execution_count": 2,
   "metadata": {},
   "outputs": [
    {
     "name": "stdout",
     "output_type": "stream",
     "text": [
      "Sum: 8\n",
      "Product: 15\n"
     ]
    }
   ],
   "source": [
    "class MathOperations:\n",
    "    @staticmethod\n",
    "    def add(x, y):\n",
    "        return x + y\n",
    "\n",
    "    @staticmethod\n",
    "    def multiply(x, y):\n",
    "        return x * y\n",
    "\n",
    "    @staticmethod\n",
    "    def calculate_sum_and_product(x, y):\n",
    "        # Call the static methods from within another method\n",
    "        sum_result = MathOperations.add(x, y)\n",
    "        product_result = MathOperations.multiply(x, y)\n",
    "        return sum_result, product_result\n",
    "\n",
    "# Call the method that internally calls the static methods\n",
    "sum_result, product_result = MathOperations.calculate_sum_and_product(5, 3)\n",
    "\n",
    "print(\"Sum:\", sum_result)       # Output: 8\n",
    "print(\"Product:\", product_result)  # Output: 15\n"
   ]
  },
  {
   "cell_type": "markdown",
   "metadata": {},
   "source": [
    "In this example:\n",
    "\n",
    "* The MathOperations class has three static methods: add, multiply, and calculate_sum_and_product.\n",
    "* The calculate_sum_and_product method calls the add and multiply static methods to calculate both the sum and the product of two numbers.\n",
    "* When calculate_sum_and_product is called with arguments 5 and 3, it internally calls add(5, 3) and multiply(5, 3), returning the results."
   ]
  },
  {
   "cell_type": "code",
   "execution_count": 3,
   "metadata": {},
   "outputs": [
    {
     "name": "stdout",
     "output_type": "stream",
     "text": [
      "static method 1\n"
     ]
    }
   ],
   "source": [
    "class Test :\n",
    "    @staticmethod\n",
    "    def static_method_1():\n",
    "        print('static method 1')\n",
    "\n",
    "    @staticmethod\n",
    "    def static_method_2() :\n",
    "        Test.static_method_1()\n",
    "\n",
    "    @classmethod\n",
    "    def class_method_1(cls) :\n",
    "        cls.static_method_2()\n",
    "\n",
    "# call class method\n",
    "Test.class_method_1()"
   ]
  },
  {
   "cell_type": "markdown",
   "metadata": {},
   "source": [
    "#### Advantages of a Static Method\n",
    "___"
   ]
  },
  {
   "cell_type": "markdown",
   "metadata": {},
   "source": [
    "Here, the static method has the following advantages\n",
    "\n",
    "1. **Consume Less memory:** Instance methods are object too, and creating them has a cost. Having a static method avoids that. Let’s assume you have ten employee objects and if you create gather_requirement() as a instance method then Python have to create a ten copies of this method (seperate for each object) which will consume more memeory. On the other hand static method has only one copy per class.\n",
    "\n",
    "```python\n",
    "\n",
    "kelly = Employee('Kelly', 12000, 'ABC Project')\n",
    "jessa = Employee('Jessa', 7000, 'XYZ Project')\n",
    "\n",
    "# false\n",
    "# because seperate copy of instance method is created for each object\n",
    "print(kelly.work is jessa.work)\n",
    "\n",
    "# True\n",
    "# because only one copy is created\n",
    "# kelly and jess objects share the same methods\n",
    "print(kelly.gather_requirement is jessa.gather_requirement)\n",
    "\n",
    "# True\n",
    "print(kelly.gather_requirement is Employee.gather_requirement)\n",
    "```\n",
    "\n",
    "2. **To Write Utility functions:** Static methods have limited use because they don’t have access to the attributes of an object (instance variables) and class attributes (class variables). However, they can be helpful in utility such as conversion form one type to another. The parameters provided are enough to operate.\n",
    "\n",
    "3. **Readabiltity:** Seeing the @staticmethod at the top of the method, we know that the method does not depend on the object’s state or the class state."
   ]
  }
 ],
 "metadata": {
  "kernelspec": {
   "display_name": "Python (machine-learning-env)",
   "language": "python",
   "name": "machine-learning-env"
  },
  "language_info": {
   "codemirror_mode": {
    "name": "ipython",
    "version": 3
   },
   "file_extension": ".py",
   "mimetype": "text/x-python",
   "name": "python",
   "nbconvert_exporter": "python",
   "pygments_lexer": "ipython3",
   "version": "3.10.13"
  }
 },
 "nbformat": 4,
 "nbformat_minor": 2
}
