{
 "cells": [
  {
   "cell_type": "markdown",
   "id": "0edd7d24",
   "metadata": {},
   "source": [
    "# Series df[series] "
   ]
  },
  {
   "cell_type": "code",
   "execution_count": 1,
   "id": "37caeb4c",
   "metadata": {},
   "outputs": [],
   "source": [
    "import pandas as pd"
   ]
  },
  {
   "cell_type": "markdown",
   "id": "5c98a543",
   "metadata": {},
   "source": [
    "## 1. Pandas Series: Series Structure"
   ]
  },
  {
   "cell_type": "code",
   "execution_count": 25,
   "id": "0349411a",
   "metadata": {},
   "outputs": [
    {
     "name": "stdout",
     "output_type": "stream",
     "text": [
      "   survived  pclass     sex   age  sibsp  parch     fare embarked  class  \\\n",
      "0         0       3    male  22.0      1      0   7.2500        S  Third   \n",
      "1         1       1  female  38.0      1      0  71.2833        C  First   \n",
      "2         1       3  female  26.0      0      0   7.9250        S  Third   \n",
      "3         1       1  female  35.0      1      0  53.1000        S  First   \n",
      "4         0       3    male  35.0      0      0   8.0500        S  Third   \n",
      "\n",
      "     who  adult_male deck  embark_town alive  alone  \n",
      "0    man        True  NaN  Southampton    no  False  \n",
      "1  woman       False    C    Cherbourg   yes  False  \n",
      "2  woman       False  NaN  Southampton   yes   True  \n",
      "3  woman       False    C  Southampton   yes  False  \n",
      "4    man        True  NaN  Southampton    no   True  \n"
     ]
    }
   ],
   "source": [
    "import pandas as pd\n",
    "import seaborn as sns\n",
    "\n",
    "# Load dataset\n",
    "df = sns.load_dataset('titanic')\n",
    "print(df.head())"
   ]
  },
  {
   "cell_type": "markdown",
   "id": "7d56eaca",
   "metadata": {},
   "source": [
    "### 1. Basic Series Properties"
   ]
  },
  {
   "cell_type": "code",
   "execution_count": 26,
   "id": "5fd7f5ff",
   "metadata": {},
   "outputs": [
    {
     "data": {
      "text/plain": [
       "RangeIndex(start=0, stop=891, step=1)"
      ]
     },
     "execution_count": 26,
     "metadata": {},
     "output_type": "execute_result"
    }
   ],
   "source": [
    "df['age'].index"
   ]
  },
  {
   "cell_type": "code",
   "execution_count": 27,
   "id": "f9199459",
   "metadata": {},
   "outputs": [
    {
     "data": {
      "text/plain": [
       "'age'"
      ]
     },
     "execution_count": 27,
     "metadata": {},
     "output_type": "execute_result"
    }
   ],
   "source": [
    "df['age'].name"
   ]
  },
  {
   "cell_type": "code",
   "execution_count": 28,
   "id": "d92f1c8c",
   "metadata": {},
   "outputs": [
    {
     "data": {
      "text/plain": [
       "dtype('float64')"
      ]
     },
     "execution_count": 28,
     "metadata": {},
     "output_type": "execute_result"
    }
   ],
   "source": [
    "df['age'].dtype"
   ]
  },
  {
   "cell_type": "code",
   "execution_count": 29,
   "id": "a162852b",
   "metadata": {},
   "outputs": [
    {
     "data": {
      "text/plain": [
       "dtype('float64')"
      ]
     },
     "execution_count": 29,
     "metadata": {},
     "output_type": "execute_result"
    }
   ],
   "source": [
    "df['age'].dtypes"
   ]
  },
  {
   "cell_type": "code",
   "execution_count": 30,
   "id": "963735dd",
   "metadata": {},
   "outputs": [
    {
     "data": {
      "text/plain": [
       "(891,)"
      ]
     },
     "execution_count": 30,
     "metadata": {},
     "output_type": "execute_result"
    }
   ],
   "source": [
    "df['age'].shape"
   ]
  },
  {
   "cell_type": "code",
   "execution_count": 31,
   "id": "be3682c1",
   "metadata": {},
   "outputs": [
    {
     "data": {
      "text/plain": [
       "1"
      ]
     },
     "execution_count": 31,
     "metadata": {},
     "output_type": "execute_result"
    }
   ],
   "source": [
    "df['age'].ndim"
   ]
  },
  {
   "cell_type": "code",
   "execution_count": 32,
   "id": "7490c92f",
   "metadata": {},
   "outputs": [
    {
     "data": {
      "text/plain": [
       "891"
      ]
     },
     "execution_count": 32,
     "metadata": {},
     "output_type": "execute_result"
    }
   ],
   "source": [
    "df['age'].size"
   ]
  },
  {
   "cell_type": "code",
   "execution_count": 33,
   "id": "89b8d4ee",
   "metadata": {},
   "outputs": [
    {
     "data": {
      "text/plain": [
       "array([22., 38., 26., 35., 35.])"
      ]
     },
     "execution_count": 33,
     "metadata": {},
     "output_type": "execute_result"
    }
   ],
   "source": [
    "df['age'].values[:5]"
   ]
  },
  {
   "cell_type": "code",
   "execution_count": 34,
   "id": "5e79385e",
   "metadata": {},
   "outputs": [
    {
     "data": {
      "text/plain": [
       "<NumpyExtensionArray>\n",
       "[np.float64(22.0), np.float64(38.0), np.float64(26.0), np.float64(35.0),\n",
       " np.float64(35.0)]\n",
       "Length: 5, dtype: float64"
      ]
     },
     "execution_count": 34,
     "metadata": {},
     "output_type": "execute_result"
    }
   ],
   "source": [
    "df['age'].array[:5]"
   ]
  },
  {
   "cell_type": "markdown",
   "id": "44528242",
   "metadata": {},
   "source": [
    "### 2. Boolean Checks"
   ]
  },
  {
   "cell_type": "code",
   "execution_count": 35,
   "id": "5b5c128a",
   "metadata": {},
   "outputs": [
    {
     "data": {
      "text/plain": [
       "False"
      ]
     },
     "execution_count": 35,
     "metadata": {},
     "output_type": "execute_result"
    }
   ],
   "source": [
    "df['age'].empty"
   ]
  },
  {
   "cell_type": "code",
   "execution_count": 36,
   "id": "8c42be54",
   "metadata": {},
   "outputs": [
    {
     "data": {
      "text/plain": [
       "True"
      ]
     },
     "execution_count": 36,
     "metadata": {},
     "output_type": "execute_result"
    }
   ],
   "source": [
    "df['age'].hasnans"
   ]
  },
  {
   "cell_type": "code",
   "execution_count": 37,
   "id": "678da09b",
   "metadata": {},
   "outputs": [
    {
     "data": {
      "text/plain": [
       "np.int64(177)"
      ]
     },
     "execution_count": 37,
     "metadata": {},
     "output_type": "execute_result"
    }
   ],
   "source": [
    "df['age'].isna().sum()"
   ]
  },
  {
   "cell_type": "markdown",
   "id": "dda7f21c",
   "metadata": {},
   "source": [
    "### 3. Advanced Attributes (Less Common)"
   ]
  },
  {
   "cell_type": "code",
   "execution_count": 38,
   "id": "575c0523",
   "metadata": {},
   "outputs": [
    {
     "data": {
      "text/plain": [
       "<Flags(allows_duplicate_labels=True)>"
      ]
     },
     "execution_count": 38,
     "metadata": {},
     "output_type": "execute_result"
    }
   ],
   "source": [
    "df['age'].flags"
   ]
  },
  {
   "cell_type": "code",
   "execution_count": 39,
   "id": "eb89a99c",
   "metadata": {},
   "outputs": [
    {
     "data": {
      "text/plain": [
       "0      22.0\n",
       "1      38.0\n",
       "2      26.0\n",
       "3      35.0\n",
       "4      35.0\n",
       "       ... \n",
       "886    27.0\n",
       "887    19.0\n",
       "888     NaN\n",
       "889    26.0\n",
       "890    32.0\n",
       "Name: age, Length: 891, dtype: float64"
      ]
     },
     "execution_count": 39,
     "metadata": {},
     "output_type": "execute_result"
    }
   ],
   "source": [
    "df['age'].set_flags(allows_duplicate_labels=False)"
   ]
  },
  {
   "cell_type": "code",
   "execution_count": 40,
   "id": "93dd2a2f",
   "metadata": {},
   "outputs": [
    {
     "data": {
      "text/plain": [
       "{}"
      ]
     },
     "execution_count": 40,
     "metadata": {},
     "output_type": "execute_result"
    }
   ],
   "source": [
    "df['age'].attrs"
   ]
  },
  {
   "cell_type": "markdown",
   "id": "2f8d598f",
   "metadata": {},
   "source": [
    "## 2. Pandas Series: Access & Selection"
   ]
  },
  {
   "cell_type": "markdown",
   "id": "234f1bfd",
   "metadata": {},
   "source": [
    "### 1. Label-Based & Positional Access"
   ]
  },
  {
   "cell_type": "code",
   "execution_count": 41,
   "id": "3a373b4b",
   "metadata": {},
   "outputs": [
    {
     "data": {
      "text/plain": [
       "np.float64(22.0)"
      ]
     },
     "execution_count": 41,
     "metadata": {},
     "output_type": "execute_result"
    }
   ],
   "source": [
    "\n",
    "df['age'].at[0]\n"
   ]
  },
  {
   "cell_type": "code",
   "execution_count": 42,
   "id": "d08c1173",
   "metadata": {},
   "outputs": [
    {
     "data": {
      "text/plain": [
       "np.float64(4.0)"
      ]
     },
     "execution_count": 42,
     "metadata": {},
     "output_type": "execute_result"
    }
   ],
   "source": [
    "df['age'].iat[10]"
   ]
  },
  {
   "cell_type": "code",
   "execution_count": 43,
   "id": "b0a4a2d6",
   "metadata": {},
   "outputs": [
    {
     "data": {
      "text/plain": [
       "10      4.0\n",
       "11     58.0\n",
       "12     20.0\n",
       "13     39.0\n",
       "14     14.0\n",
       "       ... \n",
       "886    27.0\n",
       "887    19.0\n",
       "888     NaN\n",
       "889    26.0\n",
       "890    32.0\n",
       "Name: age, Length: 881, dtype: float64"
      ]
     },
     "execution_count": 43,
     "metadata": {},
     "output_type": "execute_result"
    }
   ],
   "source": [
    "df['age'].iloc[10:]"
   ]
  },
  {
   "cell_type": "code",
   "execution_count": 44,
   "id": "c00078d9",
   "metadata": {},
   "outputs": [
    {
     "data": {
      "text/plain": [
       "np.float64(22.0)"
      ]
     },
     "execution_count": 44,
     "metadata": {},
     "output_type": "execute_result"
    }
   ],
   "source": [
    "df.loc[0, 'age']"
   ]
  },
  {
   "cell_type": "code",
   "execution_count": 45,
   "id": "75ffe728",
   "metadata": {},
   "outputs": [
    {
     "name": "stdout",
     "output_type": "stream",
     "text": [
      "0     22.0\n",
      "2     26.0\n",
      "15    55.0\n",
      "6     54.0\n",
      "10     4.0\n",
      "11    58.0\n",
      "Name: age, dtype: float64\n"
     ]
    }
   ],
   "source": [
    "print(df.loc[[0,2,15,6,10,11], 'age'])"
   ]
  },
  {
   "cell_type": "code",
   "execution_count": 46,
   "id": "12ca2822",
   "metadata": {},
   "outputs": [
    {
     "data": {
      "text/plain": [
       "age     22.0\n",
       "fare    7.25\n",
       "sex     male\n",
       "Name: 0, dtype: object"
      ]
     },
     "execution_count": 46,
     "metadata": {},
     "output_type": "execute_result"
    }
   ],
   "source": [
    "df.loc[0, ['age', 'fare', 'sex']]"
   ]
  },
  {
   "cell_type": "code",
   "execution_count": 47,
   "id": "84a6bc58",
   "metadata": {},
   "outputs": [
    {
     "data": {
      "text/html": [
       "<div>\n",
       "<style scoped>\n",
       "    .dataframe tbody tr th:only-of-type {\n",
       "        vertical-align: middle;\n",
       "    }\n",
       "\n",
       "    .dataframe tbody tr th {\n",
       "        vertical-align: top;\n",
       "    }\n",
       "\n",
       "    .dataframe thead th {\n",
       "        text-align: right;\n",
       "    }\n",
       "</style>\n",
       "<table border=\"1\" class=\"dataframe\">\n",
       "  <thead>\n",
       "    <tr style=\"text-align: right;\">\n",
       "      <th></th>\n",
       "      <th>sex</th>\n",
       "      <th>age</th>\n",
       "      <th>fare</th>\n",
       "    </tr>\n",
       "  </thead>\n",
       "  <tbody>\n",
       "    <tr>\n",
       "      <th>1</th>\n",
       "      <td>female</td>\n",
       "      <td>38.0</td>\n",
       "      <td>71.2833</td>\n",
       "    </tr>\n",
       "    <tr>\n",
       "      <th>3</th>\n",
       "      <td>female</td>\n",
       "      <td>35.0</td>\n",
       "      <td>53.1000</td>\n",
       "    </tr>\n",
       "    <tr>\n",
       "      <th>5</th>\n",
       "      <td>male</td>\n",
       "      <td>NaN</td>\n",
       "      <td>8.4583</td>\n",
       "    </tr>\n",
       "  </tbody>\n",
       "</table>\n",
       "</div>"
      ],
      "text/plain": [
       "      sex   age     fare\n",
       "1  female  38.0  71.2833\n",
       "3  female  35.0  53.1000\n",
       "5    male   NaN   8.4583"
      ]
     },
     "execution_count": 47,
     "metadata": {},
     "output_type": "execute_result"
    }
   ],
   "source": [
    "df.loc[[1, 3, 5], ['sex', 'age', 'fare']]"
   ]
  },
  {
   "cell_type": "code",
   "execution_count": 48,
   "id": "3a45b20c",
   "metadata": {},
   "outputs": [
    {
     "data": {
      "text/html": [
       "<div>\n",
       "<style scoped>\n",
       "    .dataframe tbody tr th:only-of-type {\n",
       "        vertical-align: middle;\n",
       "    }\n",
       "\n",
       "    .dataframe tbody tr th {\n",
       "        vertical-align: top;\n",
       "    }\n",
       "\n",
       "    .dataframe thead th {\n",
       "        text-align: right;\n",
       "    }\n",
       "</style>\n",
       "<table border=\"1\" class=\"dataframe\">\n",
       "  <thead>\n",
       "    <tr style=\"text-align: right;\">\n",
       "      <th></th>\n",
       "      <th>age</th>\n",
       "      <th>sibsp</th>\n",
       "      <th>parch</th>\n",
       "      <th>fare</th>\n",
       "    </tr>\n",
       "  </thead>\n",
       "  <tbody>\n",
       "    <tr>\n",
       "      <th>0</th>\n",
       "      <td>22.0</td>\n",
       "      <td>1</td>\n",
       "      <td>0</td>\n",
       "      <td>7.2500</td>\n",
       "    </tr>\n",
       "    <tr>\n",
       "      <th>1</th>\n",
       "      <td>38.0</td>\n",
       "      <td>1</td>\n",
       "      <td>0</td>\n",
       "      <td>71.2833</td>\n",
       "    </tr>\n",
       "    <tr>\n",
       "      <th>2</th>\n",
       "      <td>26.0</td>\n",
       "      <td>0</td>\n",
       "      <td>0</td>\n",
       "      <td>7.9250</td>\n",
       "    </tr>\n",
       "    <tr>\n",
       "      <th>3</th>\n",
       "      <td>35.0</td>\n",
       "      <td>1</td>\n",
       "      <td>0</td>\n",
       "      <td>53.1000</td>\n",
       "    </tr>\n",
       "    <tr>\n",
       "      <th>4</th>\n",
       "      <td>35.0</td>\n",
       "      <td>0</td>\n",
       "      <td>0</td>\n",
       "      <td>8.0500</td>\n",
       "    </tr>\n",
       "  </tbody>\n",
       "</table>\n",
       "</div>"
      ],
      "text/plain": [
       "    age  sibsp  parch     fare\n",
       "0  22.0      1      0   7.2500\n",
       "1  38.0      1      0  71.2833\n",
       "2  26.0      0      0   7.9250\n",
       "3  35.0      1      0  53.1000\n",
       "4  35.0      0      0   8.0500"
      ]
     },
     "execution_count": 48,
     "metadata": {},
     "output_type": "execute_result"
    }
   ],
   "source": [
    "df.loc[0:4, 'age':'fare']"
   ]
  },
  {
   "cell_type": "markdown",
   "id": "faeac444",
   "metadata": {},
   "source": [
    "### 2. Value Retrieval & Conversion"
   ]
  },
  {
   "cell_type": "code",
   "execution_count": 49,
   "id": "9a9c4fb5",
   "metadata": {},
   "outputs": [
    {
     "data": {
      "text/html": [
       "<div>\n",
       "<style scoped>\n",
       "    .dataframe tbody tr th:only-of-type {\n",
       "        vertical-align: middle;\n",
       "    }\n",
       "\n",
       "    .dataframe tbody tr th {\n",
       "        vertical-align: top;\n",
       "    }\n",
       "\n",
       "    .dataframe thead th {\n",
       "        text-align: right;\n",
       "    }\n",
       "</style>\n",
       "<table border=\"1\" class=\"dataframe\">\n",
       "  <thead>\n",
       "    <tr style=\"text-align: right;\">\n",
       "      <th></th>\n",
       "      <th>survived</th>\n",
       "      <th>pclass</th>\n",
       "      <th>sex</th>\n",
       "      <th>age</th>\n",
       "      <th>sibsp</th>\n",
       "      <th>parch</th>\n",
       "      <th>fare</th>\n",
       "      <th>embarked</th>\n",
       "      <th>class</th>\n",
       "      <th>who</th>\n",
       "      <th>adult_male</th>\n",
       "      <th>deck</th>\n",
       "      <th>embark_town</th>\n",
       "      <th>alive</th>\n",
       "      <th>alone</th>\n",
       "    </tr>\n",
       "  </thead>\n",
       "  <tbody>\n",
       "    <tr>\n",
       "      <th>0</th>\n",
       "      <td>0</td>\n",
       "      <td>3</td>\n",
       "      <td>male</td>\n",
       "      <td>22.0</td>\n",
       "      <td>1</td>\n",
       "      <td>0</td>\n",
       "      <td>7.2500</td>\n",
       "      <td>S</td>\n",
       "      <td>Third</td>\n",
       "      <td>man</td>\n",
       "      <td>True</td>\n",
       "      <td>NaN</td>\n",
       "      <td>Southampton</td>\n",
       "      <td>no</td>\n",
       "      <td>False</td>\n",
       "    </tr>\n",
       "    <tr>\n",
       "      <th>1</th>\n",
       "      <td>1</td>\n",
       "      <td>1</td>\n",
       "      <td>female</td>\n",
       "      <td>38.0</td>\n",
       "      <td>1</td>\n",
       "      <td>0</td>\n",
       "      <td>71.2833</td>\n",
       "      <td>C</td>\n",
       "      <td>First</td>\n",
       "      <td>woman</td>\n",
       "      <td>False</td>\n",
       "      <td>C</td>\n",
       "      <td>Cherbourg</td>\n",
       "      <td>yes</td>\n",
       "      <td>False</td>\n",
       "    </tr>\n",
       "    <tr>\n",
       "      <th>2</th>\n",
       "      <td>1</td>\n",
       "      <td>3</td>\n",
       "      <td>female</td>\n",
       "      <td>26.0</td>\n",
       "      <td>0</td>\n",
       "      <td>0</td>\n",
       "      <td>7.9250</td>\n",
       "      <td>S</td>\n",
       "      <td>Third</td>\n",
       "      <td>woman</td>\n",
       "      <td>False</td>\n",
       "      <td>NaN</td>\n",
       "      <td>Southampton</td>\n",
       "      <td>yes</td>\n",
       "      <td>True</td>\n",
       "    </tr>\n",
       "    <tr>\n",
       "      <th>3</th>\n",
       "      <td>1</td>\n",
       "      <td>1</td>\n",
       "      <td>female</td>\n",
       "      <td>35.0</td>\n",
       "      <td>1</td>\n",
       "      <td>0</td>\n",
       "      <td>53.1000</td>\n",
       "      <td>S</td>\n",
       "      <td>First</td>\n",
       "      <td>woman</td>\n",
       "      <td>False</td>\n",
       "      <td>C</td>\n",
       "      <td>Southampton</td>\n",
       "      <td>yes</td>\n",
       "      <td>False</td>\n",
       "    </tr>\n",
       "    <tr>\n",
       "      <th>4</th>\n",
       "      <td>0</td>\n",
       "      <td>3</td>\n",
       "      <td>male</td>\n",
       "      <td>35.0</td>\n",
       "      <td>0</td>\n",
       "      <td>0</td>\n",
       "      <td>8.0500</td>\n",
       "      <td>S</td>\n",
       "      <td>Third</td>\n",
       "      <td>man</td>\n",
       "      <td>True</td>\n",
       "      <td>NaN</td>\n",
       "      <td>Southampton</td>\n",
       "      <td>no</td>\n",
       "      <td>True</td>\n",
       "    </tr>\n",
       "    <tr>\n",
       "      <th>...</th>\n",
       "      <td>...</td>\n",
       "      <td>...</td>\n",
       "      <td>...</td>\n",
       "      <td>...</td>\n",
       "      <td>...</td>\n",
       "      <td>...</td>\n",
       "      <td>...</td>\n",
       "      <td>...</td>\n",
       "      <td>...</td>\n",
       "      <td>...</td>\n",
       "      <td>...</td>\n",
       "      <td>...</td>\n",
       "      <td>...</td>\n",
       "      <td>...</td>\n",
       "      <td>...</td>\n",
       "    </tr>\n",
       "    <tr>\n",
       "      <th>886</th>\n",
       "      <td>0</td>\n",
       "      <td>2</td>\n",
       "      <td>male</td>\n",
       "      <td>27.0</td>\n",
       "      <td>0</td>\n",
       "      <td>0</td>\n",
       "      <td>13.0000</td>\n",
       "      <td>S</td>\n",
       "      <td>Second</td>\n",
       "      <td>man</td>\n",
       "      <td>True</td>\n",
       "      <td>NaN</td>\n",
       "      <td>Southampton</td>\n",
       "      <td>no</td>\n",
       "      <td>True</td>\n",
       "    </tr>\n",
       "    <tr>\n",
       "      <th>887</th>\n",
       "      <td>1</td>\n",
       "      <td>1</td>\n",
       "      <td>female</td>\n",
       "      <td>19.0</td>\n",
       "      <td>0</td>\n",
       "      <td>0</td>\n",
       "      <td>30.0000</td>\n",
       "      <td>S</td>\n",
       "      <td>First</td>\n",
       "      <td>woman</td>\n",
       "      <td>False</td>\n",
       "      <td>B</td>\n",
       "      <td>Southampton</td>\n",
       "      <td>yes</td>\n",
       "      <td>True</td>\n",
       "    </tr>\n",
       "    <tr>\n",
       "      <th>888</th>\n",
       "      <td>0</td>\n",
       "      <td>3</td>\n",
       "      <td>female</td>\n",
       "      <td>NaN</td>\n",
       "      <td>1</td>\n",
       "      <td>2</td>\n",
       "      <td>23.4500</td>\n",
       "      <td>S</td>\n",
       "      <td>Third</td>\n",
       "      <td>woman</td>\n",
       "      <td>False</td>\n",
       "      <td>NaN</td>\n",
       "      <td>Southampton</td>\n",
       "      <td>no</td>\n",
       "      <td>False</td>\n",
       "    </tr>\n",
       "    <tr>\n",
       "      <th>889</th>\n",
       "      <td>1</td>\n",
       "      <td>1</td>\n",
       "      <td>male</td>\n",
       "      <td>26.0</td>\n",
       "      <td>0</td>\n",
       "      <td>0</td>\n",
       "      <td>30.0000</td>\n",
       "      <td>C</td>\n",
       "      <td>First</td>\n",
       "      <td>man</td>\n",
       "      <td>True</td>\n",
       "      <td>C</td>\n",
       "      <td>Cherbourg</td>\n",
       "      <td>yes</td>\n",
       "      <td>True</td>\n",
       "    </tr>\n",
       "    <tr>\n",
       "      <th>890</th>\n",
       "      <td>0</td>\n",
       "      <td>3</td>\n",
       "      <td>male</td>\n",
       "      <td>32.0</td>\n",
       "      <td>0</td>\n",
       "      <td>0</td>\n",
       "      <td>7.7500</td>\n",
       "      <td>Q</td>\n",
       "      <td>Third</td>\n",
       "      <td>man</td>\n",
       "      <td>True</td>\n",
       "      <td>NaN</td>\n",
       "      <td>Queenstown</td>\n",
       "      <td>no</td>\n",
       "      <td>True</td>\n",
       "    </tr>\n",
       "  </tbody>\n",
       "</table>\n",
       "<p>891 rows × 15 columns</p>\n",
       "</div>"
      ],
      "text/plain": [
       "     survived  pclass     sex   age  sibsp  parch     fare embarked   class  \\\n",
       "0           0       3    male  22.0      1      0   7.2500        S   Third   \n",
       "1           1       1  female  38.0      1      0  71.2833        C   First   \n",
       "2           1       3  female  26.0      0      0   7.9250        S   Third   \n",
       "3           1       1  female  35.0      1      0  53.1000        S   First   \n",
       "4           0       3    male  35.0      0      0   8.0500        S   Third   \n",
       "..        ...     ...     ...   ...    ...    ...      ...      ...     ...   \n",
       "886         0       2    male  27.0      0      0  13.0000        S  Second   \n",
       "887         1       1  female  19.0      0      0  30.0000        S   First   \n",
       "888         0       3  female   NaN      1      2  23.4500        S   Third   \n",
       "889         1       1    male  26.0      0      0  30.0000        C   First   \n",
       "890         0       3    male  32.0      0      0   7.7500        Q   Third   \n",
       "\n",
       "       who  adult_male deck  embark_town alive  alone  \n",
       "0      man        True  NaN  Southampton    no  False  \n",
       "1    woman       False    C    Cherbourg   yes  False  \n",
       "2    woman       False  NaN  Southampton   yes   True  \n",
       "3    woman       False    C  Southampton   yes  False  \n",
       "4      man        True  NaN  Southampton    no   True  \n",
       "..     ...         ...  ...          ...   ...    ...  \n",
       "886    man        True  NaN  Southampton    no   True  \n",
       "887  woman       False    B  Southampton   yes   True  \n",
       "888  woman       False  NaN  Southampton    no  False  \n",
       "889    man        True    C    Cherbourg   yes   True  \n",
       "890    man        True  NaN   Queenstown    no   True  \n",
       "\n",
       "[891 rows x 15 columns]"
      ]
     },
     "execution_count": 49,
     "metadata": {},
     "output_type": "execute_result"
    }
   ],
   "source": [
    "df"
   ]
  },
  {
   "cell_type": "code",
   "execution_count": 50,
   "id": "621ed763",
   "metadata": {},
   "outputs": [
    {
     "data": {
      "text/plain": [
       "np.float64(22.0)"
      ]
     },
     "execution_count": 50,
     "metadata": {},
     "output_type": "execute_result"
    }
   ],
   "source": [
    "df['age'].get(0)  "
   ]
  },
  {
   "cell_type": "code",
   "execution_count": 51,
   "id": "b221ede1",
   "metadata": {},
   "outputs": [
    {
     "data": {
      "text/plain": [
       "np.float64(7.925)"
      ]
     },
     "execution_count": 51,
     "metadata": {},
     "output_type": "execute_result"
    }
   ],
   "source": [
    "df['fare'].get(2)"
   ]
  },
  {
   "cell_type": "code",
   "execution_count": 52,
   "id": "7eb54298",
   "metadata": {},
   "outputs": [
    {
     "data": {
      "text/plain": [
       "22.0"
      ]
     },
     "execution_count": 52,
     "metadata": {},
     "output_type": "execute_result"
    }
   ],
   "source": [
    "df['age'].iloc[[0]].item()"
   ]
  },
  {
   "cell_type": "code",
   "execution_count": 53,
   "id": "dab5e7e8",
   "metadata": {},
   "outputs": [
    {
     "data": {
      "text/plain": [
       "<NumpyExtensionArray>\n",
       "[   np.float64(7.25), np.float64(71.2833),   np.float64(7.925),\n",
       "    np.float64(53.1),    np.float64(8.05),  np.float64(8.4583),\n",
       " np.float64(51.8625),  np.float64(21.075), np.float64(11.1333),\n",
       " np.float64(30.0708)]\n",
       "Length: 10, dtype: float64"
      ]
     },
     "execution_count": 53,
     "metadata": {},
     "output_type": "execute_result"
    }
   ],
   "source": [
    "df['fare'].array[:10]"
   ]
  },
  {
   "cell_type": "code",
   "execution_count": 54,
   "id": "1a9a1f88",
   "metadata": {},
   "outputs": [
    {
     "data": {
      "text/plain": [
       "<bound method Series.items of 0      22.0\n",
       "1      38.0\n",
       "2      26.0\n",
       "3      35.0\n",
       "4      35.0\n",
       "       ... \n",
       "886    27.0\n",
       "887    19.0\n",
       "888     NaN\n",
       "889    26.0\n",
       "890    32.0\n",
       "Name: age, Length: 891, dtype: float64>"
      ]
     },
     "execution_count": 54,
     "metadata": {},
     "output_type": "execute_result"
    }
   ],
   "source": [
    "df['age'].items"
   ]
  },
  {
   "cell_type": "code",
   "execution_count": 55,
   "id": "9eacc99f",
   "metadata": {},
   "outputs": [
    {
     "name": "stdout",
     "output_type": "stream",
     "text": [
      "0 22.0\n",
      "1 38.0\n",
      "2 26.0\n",
      "3 35.0\n",
      "4 35.0\n"
     ]
    }
   ],
   "source": [
    "for i, val in df['age'].items():\n",
    "    print(i, val)\n",
    "    if i >= 4:\n",
    "        break"
   ]
  },
  {
   "cell_type": "code",
   "execution_count": 56,
   "id": "c30de95b",
   "metadata": {},
   "outputs": [
    {
     "ename": "AttributeError",
     "evalue": "'Series' object has no attribute 'iter'",
     "output_type": "error",
     "traceback": [
      "\u001b[0;31m---------------------------------------------------------------------------\u001b[0m",
      "\u001b[0;31mAttributeError\u001b[0m                            Traceback (most recent call last)",
      "\u001b[0;32m/var/folders/v9/v9j8bf6j2r5cr97thvfgxxyh0000gn/T/ipykernel_94266/878450098.py\u001b[0m in \u001b[0;36m?\u001b[0;34m()\u001b[0m\n\u001b[0;32m----> 1\u001b[0;31m \u001b[0mdf\u001b[0m\u001b[0;34m[\u001b[0m\u001b[0;34m'age'\u001b[0m\u001b[0;34m]\u001b[0m\u001b[0;34m.\u001b[0m\u001b[0miter\u001b[0m\u001b[0;34m(\u001b[0m\u001b[0;34m)\u001b[0m\u001b[0;34m\u001b[0m\u001b[0;34m\u001b[0m\u001b[0m\n\u001b[0m",
      "\u001b[0;32m~/anaconda3/envs/financial-ml-env/lib/python3.11/site-packages/pandas/core/generic.py\u001b[0m in \u001b[0;36m?\u001b[0;34m(self, name)\u001b[0m\n\u001b[1;32m   6295\u001b[0m             \u001b[0;32mand\u001b[0m \u001b[0mname\u001b[0m \u001b[0;32mnot\u001b[0m \u001b[0;32min\u001b[0m \u001b[0mself\u001b[0m\u001b[0;34m.\u001b[0m\u001b[0m_accessors\u001b[0m\u001b[0;34m\u001b[0m\u001b[0;34m\u001b[0m\u001b[0m\n\u001b[1;32m   6296\u001b[0m             \u001b[0;32mand\u001b[0m \u001b[0mself\u001b[0m\u001b[0;34m.\u001b[0m\u001b[0m_info_axis\u001b[0m\u001b[0;34m.\u001b[0m\u001b[0m_can_hold_identifiers_and_holds_name\u001b[0m\u001b[0;34m(\u001b[0m\u001b[0mname\u001b[0m\u001b[0;34m)\u001b[0m\u001b[0;34m\u001b[0m\u001b[0;34m\u001b[0m\u001b[0m\n\u001b[1;32m   6297\u001b[0m         ):\n\u001b[1;32m   6298\u001b[0m             \u001b[0;32mreturn\u001b[0m \u001b[0mself\u001b[0m\u001b[0;34m[\u001b[0m\u001b[0mname\u001b[0m\u001b[0;34m]\u001b[0m\u001b[0;34m\u001b[0m\u001b[0;34m\u001b[0m\u001b[0m\n\u001b[0;32m-> 6299\u001b[0;31m         \u001b[0;32mreturn\u001b[0m \u001b[0mobject\u001b[0m\u001b[0;34m.\u001b[0m\u001b[0m__getattribute__\u001b[0m\u001b[0;34m(\u001b[0m\u001b[0mself\u001b[0m\u001b[0;34m,\u001b[0m \u001b[0mname\u001b[0m\u001b[0;34m)\u001b[0m\u001b[0;34m\u001b[0m\u001b[0;34m\u001b[0m\u001b[0m\n\u001b[0m",
      "\u001b[0;31mAttributeError\u001b[0m: 'Series' object has no attribute 'iter'"
     ]
    }
   ],
   "source": [
    "df['age'].iter()"
   ]
  },
  {
   "cell_type": "markdown",
   "id": "50e85b86",
   "metadata": {},
   "source": []
  },
  {
   "cell_type": "markdown",
   "id": "ac9625ec",
   "metadata": {},
   "source": []
  },
  {
   "cell_type": "markdown",
   "id": "64e23e41",
   "metadata": {},
   "source": [
    "### 3. Data Removal & Iteration"
   ]
  },
  {
   "cell_type": "markdown",
   "id": "7c0da024",
   "metadata": {},
   "source": []
  },
  {
   "cell_type": "markdown",
   "id": "5c0947ce",
   "metadata": {},
   "source": []
  },
  {
   "cell_type": "markdown",
   "id": "4d6e1dfe",
   "metadata": {},
   "source": [
    "### 4. Advanced Selection"
   ]
  },
  {
   "cell_type": "code",
   "execution_count": 58,
   "id": "e54be034",
   "metadata": {},
   "outputs": [
    {
     "data": {
      "text/html": [
       "<div>\n",
       "<style scoped>\n",
       "    .dataframe tbody tr th:only-of-type {\n",
       "        vertical-align: middle;\n",
       "    }\n",
       "\n",
       "    .dataframe tbody tr th {\n",
       "        vertical-align: top;\n",
       "    }\n",
       "\n",
       "    .dataframe thead th {\n",
       "        text-align: right;\n",
       "    }\n",
       "</style>\n",
       "<table border=\"1\" class=\"dataframe\">\n",
       "  <thead>\n",
       "    <tr style=\"text-align: right;\">\n",
       "      <th></th>\n",
       "      <th>survived</th>\n",
       "      <th>pclass</th>\n",
       "      <th>sex</th>\n",
       "      <th>age</th>\n",
       "      <th>sibsp</th>\n",
       "      <th>parch</th>\n",
       "      <th>fare</th>\n",
       "      <th>embarked</th>\n",
       "      <th>class</th>\n",
       "      <th>who</th>\n",
       "      <th>adult_male</th>\n",
       "      <th>deck</th>\n",
       "      <th>embark_town</th>\n",
       "      <th>alive</th>\n",
       "      <th>alone</th>\n",
       "    </tr>\n",
       "  </thead>\n",
       "  <tbody>\n",
       "    <tr>\n",
       "      <th>0</th>\n",
       "      <td>0</td>\n",
       "      <td>3</td>\n",
       "      <td>male</td>\n",
       "      <td>22.0</td>\n",
       "      <td>1</td>\n",
       "      <td>0</td>\n",
       "      <td>7.2500</td>\n",
       "      <td>S</td>\n",
       "      <td>Third</td>\n",
       "      <td>man</td>\n",
       "      <td>True</td>\n",
       "      <td>NaN</td>\n",
       "      <td>Southampton</td>\n",
       "      <td>no</td>\n",
       "      <td>False</td>\n",
       "    </tr>\n",
       "    <tr>\n",
       "      <th>1</th>\n",
       "      <td>1</td>\n",
       "      <td>1</td>\n",
       "      <td>female</td>\n",
       "      <td>38.0</td>\n",
       "      <td>1</td>\n",
       "      <td>0</td>\n",
       "      <td>71.2833</td>\n",
       "      <td>C</td>\n",
       "      <td>First</td>\n",
       "      <td>woman</td>\n",
       "      <td>False</td>\n",
       "      <td>C</td>\n",
       "      <td>Cherbourg</td>\n",
       "      <td>yes</td>\n",
       "      <td>False</td>\n",
       "    </tr>\n",
       "    <tr>\n",
       "      <th>2</th>\n",
       "      <td>1</td>\n",
       "      <td>3</td>\n",
       "      <td>female</td>\n",
       "      <td>26.0</td>\n",
       "      <td>0</td>\n",
       "      <td>0</td>\n",
       "      <td>7.9250</td>\n",
       "      <td>S</td>\n",
       "      <td>Third</td>\n",
       "      <td>woman</td>\n",
       "      <td>False</td>\n",
       "      <td>NaN</td>\n",
       "      <td>Southampton</td>\n",
       "      <td>yes</td>\n",
       "      <td>True</td>\n",
       "    </tr>\n",
       "    <tr>\n",
       "      <th>3</th>\n",
       "      <td>1</td>\n",
       "      <td>1</td>\n",
       "      <td>female</td>\n",
       "      <td>35.0</td>\n",
       "      <td>1</td>\n",
       "      <td>0</td>\n",
       "      <td>53.1000</td>\n",
       "      <td>S</td>\n",
       "      <td>First</td>\n",
       "      <td>woman</td>\n",
       "      <td>False</td>\n",
       "      <td>C</td>\n",
       "      <td>Southampton</td>\n",
       "      <td>yes</td>\n",
       "      <td>False</td>\n",
       "    </tr>\n",
       "    <tr>\n",
       "      <th>4</th>\n",
       "      <td>0</td>\n",
       "      <td>3</td>\n",
       "      <td>male</td>\n",
       "      <td>35.0</td>\n",
       "      <td>0</td>\n",
       "      <td>0</td>\n",
       "      <td>8.0500</td>\n",
       "      <td>S</td>\n",
       "      <td>Third</td>\n",
       "      <td>man</td>\n",
       "      <td>True</td>\n",
       "      <td>NaN</td>\n",
       "      <td>Southampton</td>\n",
       "      <td>no</td>\n",
       "      <td>True</td>\n",
       "    </tr>\n",
       "    <tr>\n",
       "      <th>...</th>\n",
       "      <td>...</td>\n",
       "      <td>...</td>\n",
       "      <td>...</td>\n",
       "      <td>...</td>\n",
       "      <td>...</td>\n",
       "      <td>...</td>\n",
       "      <td>...</td>\n",
       "      <td>...</td>\n",
       "      <td>...</td>\n",
       "      <td>...</td>\n",
       "      <td>...</td>\n",
       "      <td>...</td>\n",
       "      <td>...</td>\n",
       "      <td>...</td>\n",
       "      <td>...</td>\n",
       "    </tr>\n",
       "    <tr>\n",
       "      <th>886</th>\n",
       "      <td>0</td>\n",
       "      <td>2</td>\n",
       "      <td>male</td>\n",
       "      <td>27.0</td>\n",
       "      <td>0</td>\n",
       "      <td>0</td>\n",
       "      <td>13.0000</td>\n",
       "      <td>S</td>\n",
       "      <td>Second</td>\n",
       "      <td>man</td>\n",
       "      <td>True</td>\n",
       "      <td>NaN</td>\n",
       "      <td>Southampton</td>\n",
       "      <td>no</td>\n",
       "      <td>True</td>\n",
       "    </tr>\n",
       "    <tr>\n",
       "      <th>887</th>\n",
       "      <td>1</td>\n",
       "      <td>1</td>\n",
       "      <td>female</td>\n",
       "      <td>19.0</td>\n",
       "      <td>0</td>\n",
       "      <td>0</td>\n",
       "      <td>30.0000</td>\n",
       "      <td>S</td>\n",
       "      <td>First</td>\n",
       "      <td>woman</td>\n",
       "      <td>False</td>\n",
       "      <td>B</td>\n",
       "      <td>Southampton</td>\n",
       "      <td>yes</td>\n",
       "      <td>True</td>\n",
       "    </tr>\n",
       "    <tr>\n",
       "      <th>888</th>\n",
       "      <td>0</td>\n",
       "      <td>3</td>\n",
       "      <td>female</td>\n",
       "      <td>NaN</td>\n",
       "      <td>1</td>\n",
       "      <td>2</td>\n",
       "      <td>23.4500</td>\n",
       "      <td>S</td>\n",
       "      <td>Third</td>\n",
       "      <td>woman</td>\n",
       "      <td>False</td>\n",
       "      <td>NaN</td>\n",
       "      <td>Southampton</td>\n",
       "      <td>no</td>\n",
       "      <td>False</td>\n",
       "    </tr>\n",
       "    <tr>\n",
       "      <th>889</th>\n",
       "      <td>1</td>\n",
       "      <td>1</td>\n",
       "      <td>male</td>\n",
       "      <td>26.0</td>\n",
       "      <td>0</td>\n",
       "      <td>0</td>\n",
       "      <td>30.0000</td>\n",
       "      <td>C</td>\n",
       "      <td>First</td>\n",
       "      <td>man</td>\n",
       "      <td>True</td>\n",
       "      <td>C</td>\n",
       "      <td>Cherbourg</td>\n",
       "      <td>yes</td>\n",
       "      <td>True</td>\n",
       "    </tr>\n",
       "    <tr>\n",
       "      <th>890</th>\n",
       "      <td>0</td>\n",
       "      <td>3</td>\n",
       "      <td>male</td>\n",
       "      <td>32.0</td>\n",
       "      <td>0</td>\n",
       "      <td>0</td>\n",
       "      <td>7.7500</td>\n",
       "      <td>Q</td>\n",
       "      <td>Third</td>\n",
       "      <td>man</td>\n",
       "      <td>True</td>\n",
       "      <td>NaN</td>\n",
       "      <td>Queenstown</td>\n",
       "      <td>no</td>\n",
       "      <td>True</td>\n",
       "    </tr>\n",
       "  </tbody>\n",
       "</table>\n",
       "<p>891 rows × 15 columns</p>\n",
       "</div>"
      ],
      "text/plain": [
       "     survived  pclass     sex   age  sibsp  parch     fare embarked   class  \\\n",
       "0           0       3    male  22.0      1      0   7.2500        S   Third   \n",
       "1           1       1  female  38.0      1      0  71.2833        C   First   \n",
       "2           1       3  female  26.0      0      0   7.9250        S   Third   \n",
       "3           1       1  female  35.0      1      0  53.1000        S   First   \n",
       "4           0       3    male  35.0      0      0   8.0500        S   Third   \n",
       "..        ...     ...     ...   ...    ...    ...      ...      ...     ...   \n",
       "886         0       2    male  27.0      0      0  13.0000        S  Second   \n",
       "887         1       1  female  19.0      0      0  30.0000        S   First   \n",
       "888         0       3  female   NaN      1      2  23.4500        S   Third   \n",
       "889         1       1    male  26.0      0      0  30.0000        C   First   \n",
       "890         0       3    male  32.0      0      0   7.7500        Q   Third   \n",
       "\n",
       "       who  adult_male deck  embark_town alive  alone  \n",
       "0      man        True  NaN  Southampton    no  False  \n",
       "1    woman       False    C    Cherbourg   yes  False  \n",
       "2    woman       False  NaN  Southampton   yes   True  \n",
       "3    woman       False    C  Southampton   yes  False  \n",
       "4      man        True  NaN  Southampton    no   True  \n",
       "..     ...         ...  ...          ...   ...    ...  \n",
       "886    man        True  NaN  Southampton    no   True  \n",
       "887  woman       False    B  Southampton   yes   True  \n",
       "888  woman       False  NaN  Southampton    no  False  \n",
       "889    man        True    C    Cherbourg   yes   True  \n",
       "890    man        True  NaN   Queenstown    no   True  \n",
       "\n",
       "[891 rows x 15 columns]"
      ]
     },
     "execution_count": 58,
     "metadata": {},
     "output_type": "execute_result"
    }
   ],
   "source": [
    "df"
   ]
  },
  {
   "cell_type": "code",
   "execution_count": 60,
   "id": "08c9377d",
   "metadata": {},
   "outputs": [
    {
     "data": {
      "text/plain": [
       "0      22.0\n",
       "1      38.0\n",
       "2      26.0\n",
       "3      35.0\n",
       "4      35.0\n",
       "       ... \n",
       "886    27.0\n",
       "887    19.0\n",
       "888     NaN\n",
       "889    26.0\n",
       "890    32.0\n",
       "Name: age, Length: 891, dtype: float64"
      ]
     },
     "execution_count": 60,
     "metadata": {},
     "output_type": "execute_result"
    }
   ],
   "source": [
    "df['age']"
   ]
  },
  {
   "cell_type": "code",
   "execution_count": 62,
   "id": "0f2d0bf8",
   "metadata": {},
   "outputs": [
    {
     "data": {
      "text/plain": [
       "0      122.0\n",
       "1      138.0\n",
       "2      126.0\n",
       "3      135.0\n",
       "4      135.0\n",
       "       ...  \n",
       "886    127.0\n",
       "887    119.0\n",
       "888      NaN\n",
       "889    126.0\n",
       "890    132.0\n",
       "Name: age, Length: 891, dtype: float64"
      ]
     },
     "execution_count": 62,
     "metadata": {},
     "output_type": "execute_result"
    }
   ],
   "source": [
    "df['age'].add(100)"
   ]
  },
  {
   "cell_type": "code",
   "execution_count": 63,
   "id": "5df86b19",
   "metadata": {},
   "outputs": [
    {
     "data": {
      "text/plain": [
       "0      4.4\n",
       "1      7.6\n",
       "2      5.2\n",
       "3      7.0\n",
       "4      7.0\n",
       "      ... \n",
       "886    5.4\n",
       "887    3.8\n",
       "888    NaN\n",
       "889    5.2\n",
       "890    6.4\n",
       "Name: age, Length: 891, dtype: float64"
      ]
     },
     "execution_count": 63,
     "metadata": {},
     "output_type": "execute_result"
    }
   ],
   "source": [
    "df['age'].div(5)"
   ]
  },
  {
   "cell_type": "code",
   "execution_count": 64,
   "id": "ade4d77b",
   "metadata": {},
   "outputs": [
    {
     "data": {
      "text/plain": [
       "0      4.4\n",
       "1      7.6\n",
       "2      5.2\n",
       "3      7.0\n",
       "4      7.0\n",
       "      ... \n",
       "886    5.4\n",
       "887    3.8\n",
       "888    NaN\n",
       "889    5.2\n",
       "890    6.4\n",
       "Name: age, Length: 891, dtype: float64"
      ]
     },
     "execution_count": 64,
     "metadata": {},
     "output_type": "execute_result"
    }
   ],
   "source": [
    "df['age'].truediv(5)"
   ]
  },
  {
   "cell_type": "code",
   "execution_count": 65,
   "id": "0007d235",
   "metadata": {},
   "outputs": [
    {
     "data": {
      "text/plain": [
       "0      122.0\n",
       "1      138.0\n",
       "2      126.0\n",
       "3      135.0\n",
       "4      135.0\n",
       "       ...  \n",
       "886    127.0\n",
       "887    119.0\n",
       "888      NaN\n",
       "889    126.0\n",
       "890    132.0\n",
       "Name: age, Length: 891, dtype: float64"
      ]
     },
     "execution_count": 65,
     "metadata": {},
     "output_type": "execute_result"
    }
   ],
   "source": [
    "df['age'].radd(100)"
   ]
  },
  {
   "cell_type": "code",
   "execution_count": 66,
   "id": "f1ec457a",
   "metadata": {},
   "outputs": [
    {
     "data": {
      "text/html": [
       "<div>\n",
       "<style scoped>\n",
       "    .dataframe tbody tr th:only-of-type {\n",
       "        vertical-align: middle;\n",
       "    }\n",
       "\n",
       "    .dataframe tbody tr th {\n",
       "        vertical-align: top;\n",
       "    }\n",
       "\n",
       "    .dataframe thead th {\n",
       "        text-align: right;\n",
       "    }\n",
       "</style>\n",
       "<table border=\"1\" class=\"dataframe\">\n",
       "  <thead>\n",
       "    <tr style=\"text-align: right;\">\n",
       "      <th></th>\n",
       "      <th>survived</th>\n",
       "      <th>pclass</th>\n",
       "      <th>sex</th>\n",
       "      <th>age</th>\n",
       "      <th>sibsp</th>\n",
       "      <th>parch</th>\n",
       "      <th>fare</th>\n",
       "      <th>embarked</th>\n",
       "      <th>class</th>\n",
       "      <th>who</th>\n",
       "      <th>adult_male</th>\n",
       "      <th>deck</th>\n",
       "      <th>embark_town</th>\n",
       "      <th>alive</th>\n",
       "      <th>alone</th>\n",
       "    </tr>\n",
       "  </thead>\n",
       "  <tbody>\n",
       "    <tr>\n",
       "      <th>0</th>\n",
       "      <td>0</td>\n",
       "      <td>3</td>\n",
       "      <td>male</td>\n",
       "      <td>22.0</td>\n",
       "      <td>1</td>\n",
       "      <td>0</td>\n",
       "      <td>7.2500</td>\n",
       "      <td>S</td>\n",
       "      <td>Third</td>\n",
       "      <td>man</td>\n",
       "      <td>True</td>\n",
       "      <td>NaN</td>\n",
       "      <td>Southampton</td>\n",
       "      <td>no</td>\n",
       "      <td>False</td>\n",
       "    </tr>\n",
       "    <tr>\n",
       "      <th>1</th>\n",
       "      <td>1</td>\n",
       "      <td>1</td>\n",
       "      <td>female</td>\n",
       "      <td>38.0</td>\n",
       "      <td>1</td>\n",
       "      <td>0</td>\n",
       "      <td>71.2833</td>\n",
       "      <td>C</td>\n",
       "      <td>First</td>\n",
       "      <td>woman</td>\n",
       "      <td>False</td>\n",
       "      <td>C</td>\n",
       "      <td>Cherbourg</td>\n",
       "      <td>yes</td>\n",
       "      <td>False</td>\n",
       "    </tr>\n",
       "    <tr>\n",
       "      <th>2</th>\n",
       "      <td>1</td>\n",
       "      <td>3</td>\n",
       "      <td>female</td>\n",
       "      <td>26.0</td>\n",
       "      <td>0</td>\n",
       "      <td>0</td>\n",
       "      <td>7.9250</td>\n",
       "      <td>S</td>\n",
       "      <td>Third</td>\n",
       "      <td>woman</td>\n",
       "      <td>False</td>\n",
       "      <td>NaN</td>\n",
       "      <td>Southampton</td>\n",
       "      <td>yes</td>\n",
       "      <td>True</td>\n",
       "    </tr>\n",
       "    <tr>\n",
       "      <th>3</th>\n",
       "      <td>1</td>\n",
       "      <td>1</td>\n",
       "      <td>female</td>\n",
       "      <td>35.0</td>\n",
       "      <td>1</td>\n",
       "      <td>0</td>\n",
       "      <td>53.1000</td>\n",
       "      <td>S</td>\n",
       "      <td>First</td>\n",
       "      <td>woman</td>\n",
       "      <td>False</td>\n",
       "      <td>C</td>\n",
       "      <td>Southampton</td>\n",
       "      <td>yes</td>\n",
       "      <td>False</td>\n",
       "    </tr>\n",
       "    <tr>\n",
       "      <th>4</th>\n",
       "      <td>0</td>\n",
       "      <td>3</td>\n",
       "      <td>male</td>\n",
       "      <td>35.0</td>\n",
       "      <td>0</td>\n",
       "      <td>0</td>\n",
       "      <td>8.0500</td>\n",
       "      <td>S</td>\n",
       "      <td>Third</td>\n",
       "      <td>man</td>\n",
       "      <td>True</td>\n",
       "      <td>NaN</td>\n",
       "      <td>Southampton</td>\n",
       "      <td>no</td>\n",
       "      <td>True</td>\n",
       "    </tr>\n",
       "    <tr>\n",
       "      <th>...</th>\n",
       "      <td>...</td>\n",
       "      <td>...</td>\n",
       "      <td>...</td>\n",
       "      <td>...</td>\n",
       "      <td>...</td>\n",
       "      <td>...</td>\n",
       "      <td>...</td>\n",
       "      <td>...</td>\n",
       "      <td>...</td>\n",
       "      <td>...</td>\n",
       "      <td>...</td>\n",
       "      <td>...</td>\n",
       "      <td>...</td>\n",
       "      <td>...</td>\n",
       "      <td>...</td>\n",
       "    </tr>\n",
       "    <tr>\n",
       "      <th>886</th>\n",
       "      <td>0</td>\n",
       "      <td>2</td>\n",
       "      <td>male</td>\n",
       "      <td>27.0</td>\n",
       "      <td>0</td>\n",
       "      <td>0</td>\n",
       "      <td>13.0000</td>\n",
       "      <td>S</td>\n",
       "      <td>Second</td>\n",
       "      <td>man</td>\n",
       "      <td>True</td>\n",
       "      <td>NaN</td>\n",
       "      <td>Southampton</td>\n",
       "      <td>no</td>\n",
       "      <td>True</td>\n",
       "    </tr>\n",
       "    <tr>\n",
       "      <th>887</th>\n",
       "      <td>1</td>\n",
       "      <td>1</td>\n",
       "      <td>female</td>\n",
       "      <td>19.0</td>\n",
       "      <td>0</td>\n",
       "      <td>0</td>\n",
       "      <td>30.0000</td>\n",
       "      <td>S</td>\n",
       "      <td>First</td>\n",
       "      <td>woman</td>\n",
       "      <td>False</td>\n",
       "      <td>B</td>\n",
       "      <td>Southampton</td>\n",
       "      <td>yes</td>\n",
       "      <td>True</td>\n",
       "    </tr>\n",
       "    <tr>\n",
       "      <th>888</th>\n",
       "      <td>0</td>\n",
       "      <td>3</td>\n",
       "      <td>female</td>\n",
       "      <td>NaN</td>\n",
       "      <td>1</td>\n",
       "      <td>2</td>\n",
       "      <td>23.4500</td>\n",
       "      <td>S</td>\n",
       "      <td>Third</td>\n",
       "      <td>woman</td>\n",
       "      <td>False</td>\n",
       "      <td>NaN</td>\n",
       "      <td>Southampton</td>\n",
       "      <td>no</td>\n",
       "      <td>False</td>\n",
       "    </tr>\n",
       "    <tr>\n",
       "      <th>889</th>\n",
       "      <td>1</td>\n",
       "      <td>1</td>\n",
       "      <td>male</td>\n",
       "      <td>26.0</td>\n",
       "      <td>0</td>\n",
       "      <td>0</td>\n",
       "      <td>30.0000</td>\n",
       "      <td>C</td>\n",
       "      <td>First</td>\n",
       "      <td>man</td>\n",
       "      <td>True</td>\n",
       "      <td>C</td>\n",
       "      <td>Cherbourg</td>\n",
       "      <td>yes</td>\n",
       "      <td>True</td>\n",
       "    </tr>\n",
       "    <tr>\n",
       "      <th>890</th>\n",
       "      <td>0</td>\n",
       "      <td>3</td>\n",
       "      <td>male</td>\n",
       "      <td>32.0</td>\n",
       "      <td>0</td>\n",
       "      <td>0</td>\n",
       "      <td>7.7500</td>\n",
       "      <td>Q</td>\n",
       "      <td>Third</td>\n",
       "      <td>man</td>\n",
       "      <td>True</td>\n",
       "      <td>NaN</td>\n",
       "      <td>Queenstown</td>\n",
       "      <td>no</td>\n",
       "      <td>True</td>\n",
       "    </tr>\n",
       "  </tbody>\n",
       "</table>\n",
       "<p>891 rows × 15 columns</p>\n",
       "</div>"
      ],
      "text/plain": [
       "     survived  pclass     sex   age  sibsp  parch     fare embarked   class  \\\n",
       "0           0       3    male  22.0      1      0   7.2500        S   Third   \n",
       "1           1       1  female  38.0      1      0  71.2833        C   First   \n",
       "2           1       3  female  26.0      0      0   7.9250        S   Third   \n",
       "3           1       1  female  35.0      1      0  53.1000        S   First   \n",
       "4           0       3    male  35.0      0      0   8.0500        S   Third   \n",
       "..        ...     ...     ...   ...    ...    ...      ...      ...     ...   \n",
       "886         0       2    male  27.0      0      0  13.0000        S  Second   \n",
       "887         1       1  female  19.0      0      0  30.0000        S   First   \n",
       "888         0       3  female   NaN      1      2  23.4500        S   Third   \n",
       "889         1       1    male  26.0      0      0  30.0000        C   First   \n",
       "890         0       3    male  32.0      0      0   7.7500        Q   Third   \n",
       "\n",
       "       who  adult_male deck  embark_town alive  alone  \n",
       "0      man        True  NaN  Southampton    no  False  \n",
       "1    woman       False    C    Cherbourg   yes  False  \n",
       "2    woman       False  NaN  Southampton   yes   True  \n",
       "3    woman       False    C  Southampton   yes  False  \n",
       "4      man        True  NaN  Southampton    no   True  \n",
       "..     ...         ...  ...          ...   ...    ...  \n",
       "886    man        True  NaN  Southampton    no   True  \n",
       "887  woman       False    B  Southampton   yes   True  \n",
       "888  woman       False  NaN  Southampton    no  False  \n",
       "889    man        True    C    Cherbourg   yes   True  \n",
       "890    man        True  NaN   Queenstown    no   True  \n",
       "\n",
       "[891 rows x 15 columns]"
      ]
     },
     "execution_count": 66,
     "metadata": {},
     "output_type": "execute_result"
    }
   ],
   "source": [
    "df"
   ]
  },
  {
   "cell_type": "code",
   "execution_count": 68,
   "id": "8794b056",
   "metadata": {},
   "outputs": [
    {
     "name": "stdout",
     "output_type": "stream",
     "text": [
      "0      12.0\n",
      "1      28.0\n",
      "2      16.0\n",
      "3      25.0\n",
      "4      25.0\n",
      "       ... \n",
      "886    17.0\n",
      "887     9.0\n",
      "888     NaN\n",
      "889    16.0\n",
      "890    22.0\n",
      "Name: age, Length: 891, dtype: float64\n",
      "0     -12.0\n",
      "1     -28.0\n",
      "2     -16.0\n",
      "3     -25.0\n",
      "4     -25.0\n",
      "       ... \n",
      "886   -17.0\n",
      "887    -9.0\n",
      "888     NaN\n",
      "889   -16.0\n",
      "890   -22.0\n",
      "Name: age, Length: 891, dtype: float64\n"
     ]
    }
   ],
   "source": [
    "print(df['age'].sub(10))\n",
    "print(df['age'].rsub(10))"
   ]
  },
  {
   "cell_type": "code",
   "execution_count": 76,
   "id": "e4cfeb7e",
   "metadata": {},
   "outputs": [
    {
     "data": {
      "text/html": [
       "<div>\n",
       "<style scoped>\n",
       "    .dataframe tbody tr th:only-of-type {\n",
       "        vertical-align: middle;\n",
       "    }\n",
       "\n",
       "    .dataframe tbody tr th {\n",
       "        vertical-align: top;\n",
       "    }\n",
       "\n",
       "    .dataframe thead th {\n",
       "        text-align: right;\n",
       "    }\n",
       "</style>\n",
       "<table border=\"1\" class=\"dataframe\">\n",
       "  <thead>\n",
       "    <tr style=\"text-align: right;\">\n",
       "      <th></th>\n",
       "      <th>survived</th>\n",
       "      <th>pclass</th>\n",
       "      <th>sex</th>\n",
       "      <th>age</th>\n",
       "      <th>sibsp</th>\n",
       "      <th>parch</th>\n",
       "      <th>fare</th>\n",
       "      <th>embarked</th>\n",
       "      <th>class</th>\n",
       "      <th>who</th>\n",
       "      <th>adult_male</th>\n",
       "      <th>deck</th>\n",
       "      <th>embark_town</th>\n",
       "      <th>alive</th>\n",
       "      <th>alone</th>\n",
       "    </tr>\n",
       "  </thead>\n",
       "  <tbody>\n",
       "    <tr>\n",
       "      <th>125</th>\n",
       "      <td>1</td>\n",
       "      <td>3</td>\n",
       "      <td>male</td>\n",
       "      <td>12.0</td>\n",
       "      <td>1</td>\n",
       "      <td>0</td>\n",
       "      <td>11.2417</td>\n",
       "      <td>C</td>\n",
       "      <td>Third</td>\n",
       "      <td>child</td>\n",
       "      <td>False</td>\n",
       "      <td>NaN</td>\n",
       "      <td>Cherbourg</td>\n",
       "      <td>yes</td>\n",
       "      <td>False</td>\n",
       "    </tr>\n",
       "  </tbody>\n",
       "</table>\n",
       "</div>"
      ],
      "text/plain": [
       "     survived  pclass   sex   age  sibsp  parch     fare embarked  class  \\\n",
       "125         1       3  male  12.0      1      0  11.2417        C  Third   \n",
       "\n",
       "       who  adult_male deck embark_town alive  alone  \n",
       "125  child       False  NaN   Cherbourg   yes  False  "
      ]
     },
     "execution_count": 76,
     "metadata": {},
     "output_type": "execute_result"
    }
   ],
   "source": [
    "a = df[df['age'].eq(12)]\n",
    "a"
   ]
  },
  {
   "cell_type": "markdown",
   "id": "21087fda",
   "metadata": {},
   "source": [
    "## 3. Pandas Series:Math Operations"
   ]
  },
  {
   "cell_type": "markdown",
   "id": "5979e42b",
   "metadata": {},
   "source": []
  },
  {
   "cell_type": "markdown",
   "id": "a1507575",
   "metadata": {},
   "source": []
  },
  {
   "cell_type": "markdown",
   "id": "5befcb88",
   "metadata": {},
   "source": [
    "## 4. Pandas Series: Statistical Summaries"
   ]
  },
  {
   "cell_type": "markdown",
   "id": "1e871d8a",
   "metadata": {},
   "source": []
  },
  {
   "cell_type": "markdown",
   "id": "b4ebe782",
   "metadata": {},
   "source": []
  },
  {
   "cell_type": "markdown",
   "id": "274c6875",
   "metadata": {},
   "source": [
    "## 5. Pandas Series: Cumulative, Ranking & Rolling"
   ]
  },
  {
   "cell_type": "markdown",
   "id": "fa942c5c",
   "metadata": {},
   "source": []
  },
  {
   "cell_type": "markdown",
   "id": "15d4ed1e",
   "metadata": {},
   "source": []
  },
  {
   "cell_type": "markdown",
   "id": "5fc18b52",
   "metadata": {},
   "source": [
    "## 6. Pandas Series: Advanced Statistics"
   ]
  },
  {
   "cell_type": "markdown",
   "id": "9e07260c",
   "metadata": {},
   "source": []
  },
  {
   "cell_type": "markdown",
   "id": "0ef15e8a",
   "metadata": {},
   "source": []
  },
  {
   "cell_type": "markdown",
   "id": "445b1a3b",
   "metadata": {},
   "source": []
  },
  {
   "cell_type": "markdown",
   "id": "25c288af",
   "metadata": {},
   "source": [
    "## 7. Pandas Series: Missing Data Handling"
   ]
  },
  {
   "cell_type": "markdown",
   "id": "523a65fe",
   "metadata": {},
   "source": []
  },
  {
   "cell_type": "markdown",
   "id": "79c79048",
   "metadata": {},
   "source": []
  },
  {
   "cell_type": "markdown",
   "id": "057b4a73",
   "metadata": {},
   "source": []
  },
  {
   "cell_type": "markdown",
   "id": "aff280b1",
   "metadata": {},
   "source": [
    "## 8. Pandas Series: Conditional Logic & Boolean Masking"
   ]
  },
  {
   "cell_type": "markdown",
   "id": "66092a6f",
   "metadata": {},
   "source": []
  },
  {
   "cell_type": "markdown",
   "id": "187ad64f",
   "metadata": {},
   "source": []
  },
  {
   "cell_type": "markdown",
   "id": "b395562b",
   "metadata": {},
   "source": []
  },
  {
   "cell_type": "markdown",
   "id": "0fd0e293",
   "metadata": {},
   "source": []
  },
  {
   "cell_type": "markdown",
   "id": "b4027cf5",
   "metadata": {},
   "source": [
    "## 9. Pandas Series: Type Conversion & Copying"
   ]
  },
  {
   "cell_type": "markdown",
   "id": "4d761c73",
   "metadata": {},
   "source": []
  },
  {
   "cell_type": "markdown",
   "id": "f974ef71",
   "metadata": {},
   "source": []
  },
  {
   "cell_type": "markdown",
   "id": "8f9a6611",
   "metadata": {},
   "source": [
    "## 10. Pandas Series: Function Mapping & Transformation"
   ]
  },
  {
   "cell_type": "markdown",
   "id": "e0af473c",
   "metadata": {},
   "source": []
  },
  {
   "cell_type": "markdown",
   "id": "4e5a425b",
   "metadata": {},
   "source": []
  },
  {
   "cell_type": "markdown",
   "id": "f75687d5",
   "metadata": {},
   "source": [
    "## 11. Pandas Series: Time Series Handling"
   ]
  },
  {
   "cell_type": "markdown",
   "id": "dc02ef81",
   "metadata": {},
   "source": []
  },
  {
   "cell_type": "markdown",
   "id": "96e86f39",
   "metadata": {},
   "source": [
    "## 12. Pandas Series: String Operations"
   ]
  },
  {
   "cell_type": "markdown",
   "id": "082e9f74",
   "metadata": {},
   "source": []
  },
  {
   "cell_type": "markdown",
   "id": "2191c416",
   "metadata": {},
   "source": []
  },
  {
   "cell_type": "markdown",
   "id": "d88cb961",
   "metadata": {},
   "source": [
    "## 13. Pandas Series: Categoricals "
   ]
  },
  {
   "cell_type": "markdown",
   "id": "aafda060",
   "metadata": {},
   "source": []
  },
  {
   "cell_type": "markdown",
   "id": "4603d425",
   "metadata": {},
   "source": []
  },
  {
   "cell_type": "markdown",
   "id": "7e559285",
   "metadata": {},
   "source": [
    "## 14. Pandas Series: Sparse Data Handling"
   ]
  },
  {
   "cell_type": "code",
   "execution_count": 2,
   "id": "03a19c4d",
   "metadata": {},
   "outputs": [],
   "source": [
    "import pandas as pd\n",
    "import numpy as np\n",
    "\n",
    "# Create a dense series with mostly zeros\n",
    "dense_series = pd.Series([0, 0, 0, 5, 0, 0, 8, 0, 0, 0])\n",
    "\n",
    "# Convert to sparse format\n",
    "sparse_series = dense_series.astype('Sparse[int]')"
   ]
  },
  {
   "cell_type": "code",
   "execution_count": 3,
   "id": "734a15c4",
   "metadata": {},
   "outputs": [
    {
     "data": {
      "application/vnd.microsoft.datawrangler.viewer.v0+json": {
       "columns": [
        {
         "name": "index",
         "rawType": "int64",
         "type": "integer"
        },
        {
         "name": "0",
         "rawType": "int64",
         "type": "integer"
        }
       ],
       "ref": "d660dc92-0704-4bd3-9046-96e4e1450197",
       "rows": [
        [
         "0",
         "0"
        ],
        [
         "1",
         "0"
        ],
        [
         "2",
         "0"
        ],
        [
         "3",
         "5"
        ],
        [
         "4",
         "0"
        ],
        [
         "5",
         "0"
        ],
        [
         "6",
         "8"
        ],
        [
         "7",
         "0"
        ],
        [
         "8",
         "0"
        ],
        [
         "9",
         "0"
        ]
       ],
       "shape": {
        "columns": 1,
        "rows": 10
       }
      },
      "text/plain": [
       "0    0\n",
       "1    0\n",
       "2    0\n",
       "3    5\n",
       "4    0\n",
       "5    0\n",
       "6    8\n",
       "7    0\n",
       "8    0\n",
       "9    0\n",
       "dtype: int64"
      ]
     },
     "execution_count": 3,
     "metadata": {},
     "output_type": "execute_result"
    }
   ],
   "source": [
    "dense_series "
   ]
  },
  {
   "cell_type": "code",
   "execution_count": 4,
   "id": "28ba1c42",
   "metadata": {},
   "outputs": [
    {
     "data": {
      "application/vnd.microsoft.datawrangler.viewer.v0+json": {
       "columns": [
        {
         "name": "index",
         "rawType": "int64",
         "type": "integer"
        },
        {
         "name": "0",
         "rawType": "Sparse[int64, 0]",
         "type": "unknown"
        }
       ],
       "ref": "c40cf23c-0fb9-4dd6-bf28-df6ecb730948",
       "rows": [
        [
         "0",
         "0"
        ],
        [
         "1",
         "0"
        ],
        [
         "2",
         "0"
        ],
        [
         "3",
         "5"
        ],
        [
         "4",
         "0"
        ],
        [
         "5",
         "0"
        ],
        [
         "6",
         "8"
        ],
        [
         "7",
         "0"
        ],
        [
         "8",
         "0"
        ],
        [
         "9",
         "0"
        ]
       ],
       "shape": {
        "columns": 1,
        "rows": 10
       }
      },
      "text/plain": [
       "0    0\n",
       "1    0\n",
       "2    0\n",
       "3    5\n",
       "4    0\n",
       "5    0\n",
       "6    8\n",
       "7    0\n",
       "8    0\n",
       "9    0\n",
       "dtype: Sparse[int64, 0]"
      ]
     },
     "execution_count": 4,
     "metadata": {},
     "output_type": "execute_result"
    }
   ],
   "source": [
    "sparse_series"
   ]
  },
  {
   "cell_type": "code",
   "execution_count": 5,
   "id": "3ac8edbe",
   "metadata": {},
   "outputs": [
    {
     "data": {
      "text/plain": [
       "pandas.core.series.Series"
      ]
     },
     "execution_count": 5,
     "metadata": {},
     "output_type": "execute_result"
    }
   ],
   "source": [
    "type(sparse_series)"
   ]
  },
  {
   "cell_type": "code",
   "execution_count": 6,
   "id": "3b7cb094",
   "metadata": {},
   "outputs": [],
   "source": [
    "# Series with mostly -1 values\n",
    "data = pd.Series([-1, -1, 42, -1, -1, 99])\n",
    "\n",
    "# Create a SparseDtype with custom fill_value\n",
    "from pandas import SparseDtype\n",
    "sparse_dtype = SparseDtype(int, fill_value=-1)\n",
    "\n",
    "# Specify fill_value using the SparseDtype\n",
    "sparse_with_fill = data.astype(sparse_dtype)"
   ]
  },
  {
   "cell_type": "code",
   "execution_count": 7,
   "id": "001234b0",
   "metadata": {},
   "outputs": [
    {
     "data": {
      "application/vnd.microsoft.datawrangler.viewer.v0+json": {
       "columns": [
        {
         "name": "index",
         "rawType": "int64",
         "type": "integer"
        },
        {
         "name": "0",
         "rawType": "Sparse[int64, -1]",
         "type": "unknown"
        }
       ],
       "ref": "4ad36a6f-da5d-4eb4-8cfa-24da9f42c70c",
       "rows": [
        [
         "0",
         "-1"
        ],
        [
         "1",
         "-1"
        ],
        [
         "2",
         "42"
        ],
        [
         "3",
         "-1"
        ],
        [
         "4",
         "-1"
        ],
        [
         "5",
         "99"
        ]
       ],
       "shape": {
        "columns": 1,
        "rows": 6
       }
      },
      "text/plain": [
       "0    -1\n",
       "1    -1\n",
       "2    42\n",
       "3    -1\n",
       "4    -1\n",
       "5    99\n",
       "dtype: Sparse[int64, -1]"
      ]
     },
     "execution_count": 7,
     "metadata": {},
     "output_type": "execute_result"
    }
   ],
   "source": [
    "sparse_with_fill"
   ]
  },
  {
   "cell_type": "code",
   "execution_count": 8,
   "id": "e7c885d0",
   "metadata": {},
   "outputs": [
    {
     "name": "stdout",
     "output_type": "stream",
     "text": [
      "2\n",
      "0.2\n",
      "0\n",
      "[5 8]\n"
     ]
    }
   ],
   "source": [
    "# Number of non-fill values\n",
    "print(sparse_series.sparse.npoints)  # Output: 2\n",
    "\n",
    "# Density ratio (non-fill/total)\n",
    "print(sparse_series.sparse.density)  # Output: 0.2\n",
    "\n",
    "# The fill value being used\n",
    "print(sparse_series.sparse.fill_value)  # Output: 0\n",
    "\n",
    "# Access just the non-fill values\n",
    "print(sparse_series.sparse.sp_values)  # Output: [5 8]"
   ]
  },
  {
   "cell_type": "code",
   "execution_count": 9,
   "id": "586de3bb",
   "metadata": {},
   "outputs": [
    {
     "name": "stdout",
     "output_type": "stream",
     "text": [
      "Dense memory: 8.0 MB\n",
      "Sparse memory: 0.0 MB\n"
     ]
    }
   ],
   "source": [
    "# Create large sparse and dense series\n",
    "large_dense = pd.Series([0]*1_000_000 + [1, 2, 3])\n",
    "large_sparse = large_dense.astype('Sparse[int]')\n",
    "\n",
    "print(f\"Dense memory: {large_dense.memory_usage(deep=True)/1e6:.1f} MB\")\n",
    "print(f\"Sparse memory: {large_sparse.memory_usage(deep=True)/1e6:.1f} MB\")"
   ]
  },
  {
   "cell_type": "code",
   "execution_count": 10,
   "id": "bf99a76a",
   "metadata": {},
   "outputs": [
    {
     "name": "stdout",
     "output_type": "stream",
     "text": [
      "0     0\n",
      "1     0\n",
      "2     0\n",
      "3    10\n",
      "4     0\n",
      "5     0\n",
      "6    16\n",
      "7     0\n",
      "8     0\n",
      "9     0\n",
      "dtype: Sparse[int64, 0]\n",
      "\n",
      "0    0.000000\n",
      "1    0.000000\n",
      "2    0.000000\n",
      "3    2.236068\n",
      "4    0.000000\n",
      "5    0.000000\n",
      "6    2.828427\n",
      "7    0.000000\n",
      "8    0.000000\n",
      "9    0.000000\n",
      "dtype: Sparse[float64, 0.0]\n"
     ]
    }
   ],
   "source": [
    "# Sparse-aware operations maintain sparsity\n",
    "doubled = sparse_series * 2  # Still sparse\n",
    "print(doubled)\n",
    "print()\n",
    "\n",
    "# Operations may auto-convert to dense when needed\n",
    "sqrt_values = np.sqrt(sparse_series)  # Becomes dense\n",
    "print(sqrt_values)\n",
    "\n"
   ]
  },
  {
   "cell_type": "code",
   "execution_count": 13,
   "id": "ae95d92d",
   "metadata": {},
   "outputs": [
    {
     "name": "stdout",
     "output_type": "stream",
     "text": [
      "Method 1 result:\n",
      "  (3, 0)\t5\n",
      "  (6, 0)\t8\n",
      "\n",
      "Method 2 result:\n",
      "  (3, 0)\t5\n",
      "  (6, 0)\t8\n"
     ]
    }
   ],
   "source": [
    "from scipy.sparse import csr_matrix\n",
    "import numpy as np\n",
    "\n",
    "# Method 1: Convert sparse values and indices directly to CSR format\n",
    "indices = np.array([i for i, val in enumerate(sparse_series) if val != sparse_series.sparse.fill_value])\n",
    "values = sparse_series.sparse.sp_values\n",
    "sparse_matrix = csr_matrix((values, (indices, np.zeros_like(indices))), \n",
    "\t\t\t\t\t\t   shape=(len(sparse_series), 1))\n",
    "\n",
    "# Method 2: Alternative approach using scipy directly\n",
    "sparse_array = csr_matrix(sparse_series.to_numpy()[:, np.newaxis])\n",
    "\n",
    "print(\"Method 1 result:\")\n",
    "print(sparse_matrix)\n",
    "print(\"\\nMethod 2 result:\")\n",
    "print(sparse_array)"
   ]
  },
  {
   "cell_type": "markdown",
   "id": "7a5bf11d",
   "metadata": {},
   "source": []
  },
  {
   "cell_type": "markdown",
   "id": "4adffe06",
   "metadata": {},
   "source": [
    "## 15. Pandas Series: Export & Conversion"
   ]
  },
  {
   "cell_type": "markdown",
   "id": "53635a20",
   "metadata": {},
   "source": []
  },
  {
   "cell_type": "markdown",
   "id": "e35cd4e2",
   "metadata": {},
   "source": []
  },
  {
   "cell_type": "markdown",
   "id": "5239a9be",
   "metadata": {},
   "source": [
    "## 16. Pandas Series: Advanced & Utility Methods"
   ]
  },
  {
   "cell_type": "code",
   "execution_count": 17,
   "id": "aef10e8f",
   "metadata": {},
   "outputs": [
    {
     "name": "stdout",
     "output_type": "stream",
     "text": [
      "Original Series:\n",
      "Series 1:\n",
      " A    10\n",
      "B    20\n",
      "C    30\n",
      "D    40\n",
      "Name: Sales_Q1, dtype: int64\n",
      "\n",
      "Series 2:\n",
      " B    15\n",
      "C    25\n",
      "E    35\n",
      "Name: Sales_Q2, dtype: int64\n"
     ]
    }
   ],
   "source": [
    "import pandas as pd\n",
    "import numpy as np\n",
    "\n",
    "# Create sample data with different indices\n",
    "series1 = pd.Series([10, 20, 30, 40], index=['A', 'B', 'C', 'D'], name='Sales_Q1')\n",
    "series2 = pd.Series([15, 25, 35], index=['B', 'C', 'E'], name='Sales_Q2')\n",
    "\n",
    "print(\"Original Series:\")\n",
    "print(\"Series 1:\\n\", series1)\n",
    "print(\"\\nSeries 2:\\n\", series2)"
   ]
  },
  {
   "cell_type": "code",
   "execution_count": 15,
   "id": "7f332f43",
   "metadata": {},
   "outputs": [
    {
     "name": "stdout",
     "output_type": "stream",
     "text": [
      "\n",
      "1. Outer Join Alignment:\n",
      "Aligned Series 1:\n",
      " A    10.0\n",
      "B    20.0\n",
      "C    30.0\n",
      "D    40.0\n",
      "E     NaN\n",
      "Name: Sales_Q1, dtype: float64\n",
      "Aligned Series 2:\n",
      " A     NaN\n",
      "B    15.0\n",
      "C    25.0\n",
      "D     NaN\n",
      "E    35.0\n",
      "Name: Sales_Q2, dtype: float64\n"
     ]
    }
   ],
   "source": [
    "# Example 1: Outer join (default) - includes all indices\n",
    "aligned_s1, aligned_s2 = series1.align(series2, join='outer')\n",
    "print(\"\\n1. Outer Join Alignment:\")\n",
    "print(\"Aligned Series 1:\\n\", aligned_s1)\n",
    "print(\"Aligned Series 2:\\n\", aligned_s2)"
   ]
  }
 ],
 "metadata": {
  "kernelspec": {
   "display_name": "machine-learning-env",
   "language": "python",
   "name": "python3"
  },
  "language_info": {
   "codemirror_mode": {
    "name": "ipython",
    "version": 3
   },
   "file_extension": ".py",
   "mimetype": "text/x-python",
   "name": "python",
   "nbconvert_exporter": "python",
   "pygments_lexer": "ipython3",
   "version": "3.10.13"
  }
 },
 "nbformat": 4,
 "nbformat_minor": 5
}
