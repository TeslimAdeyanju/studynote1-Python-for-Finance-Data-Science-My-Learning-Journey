{
 "cells": [
  {
   "cell_type": "markdown",
   "id": "953f78eb",
   "metadata": {},
   "source": [
    "# DataFrames I"
   ]
  },
  {
   "cell_type": "code",
   "execution_count": 1,
   "id": "b098a2b1",
   "metadata": {},
   "outputs": [],
   "source": [
    "import pandas as pd"
   ]
  },
  {
   "cell_type": "markdown",
   "id": "a0d5e19f",
   "metadata": {},
   "source": [
    "## Methods and Attributes between Series and DataFrames\n",
    "____\n",
    "- A **DataFrame** is a 2-dimensional table consisting of rows and columns.\n",
    "- Pandas uses a `NaN` designation for cells that have a missing value. It is short for \"not a number\". Most operations on `NaN` values will produce `NaN` values.\n",
    "- Like with a **Series**, Pandas assigns an index position/label to each **DataFrame** row.\n",
    "- The **DataFrame** and **Series** have common and exclusive methods/attributes.\n",
    "- The `hasnans` attribute exists only a **Series**. The `columns` attribute exists only on a **DataFrame**.\n",
    "- Some methods/attributes will return different types of data.\n",
    "- The `info` method returns a summary of the pandas object."
   ]
  },
  {
   "cell_type": "code",
   "execution_count": null,
   "id": "a0f61f9e-50bf-43e8-bcb5-15e7bbf35369",
   "metadata": {},
   "outputs": [],
   "source": [
    "nba = pd.read_csv(\"nba.csv\")\n",
    "nba"
   ]
  },
  {
   "cell_type": "code",
   "execution_count": null,
   "id": "596e9443-20f1-479e-89c7-d80169a5a60f",
   "metadata": {},
   "outputs": [],
   "source": [
    "s = pd.Series([1, 2, 3, 4, 5])\n",
    "s"
   ]
  },
  {
   "cell_type": "code",
   "execution_count": null,
   "id": "ab3396a6-7c23-4e27-8738-91f209f6f610",
   "metadata": {},
   "outputs": [],
   "source": [
    "nba.head()\n",
    "nba.head(n=5)\n",
    "nba.head(8)\n",
    "\n",
    "nba.tail()\n",
    "nba.tail(n=7)\n",
    "nba.tail(1)"
   ]
  },
  {
   "cell_type": "code",
   "execution_count": null,
   "id": "fdad99e0-2ff6-43e3-bebb-5543cb5e91a3",
   "metadata": {},
   "outputs": [],
   "source": [
    "s.index\n",
    "nba.index"
   ]
  },
  {
   "cell_type": "code",
   "execution_count": null,
   "id": "02a7aa10-8161-4f5e-ad59-91f6f8266782",
   "metadata": {},
   "outputs": [],
   "source": [
    "s.values\n",
    "nba.values"
   ]
  },
  {
   "cell_type": "code",
   "execution_count": null,
   "id": "0916f365-76be-4cce-bc1e-4957edbc0f97",
   "metadata": {},
   "outputs": [],
   "source": [
    "s.shape\n",
    "nba.shape"
   ]
  },
  {
   "cell_type": "code",
   "execution_count": null,
   "id": "57ffa4ed-ec8a-4b81-81c3-e72324e514bd",
   "metadata": {},
   "outputs": [],
   "source": [
    "s.dtypes\n",
    "nba.dtypes"
   ]
  },
  {
   "cell_type": "code",
   "execution_count": null,
   "id": "29e89392-c9d0-4c86-8a18-939eb3c3c8b2",
   "metadata": {},
   "outputs": [],
   "source": [
    "s.hasnans\n",
    "# nba.hasnans"
   ]
  },
  {
   "cell_type": "code",
   "execution_count": null,
   "id": "d415ecf2-31ee-4e3a-b7f7-bb77d105b062",
   "metadata": {},
   "outputs": [],
   "source": [
    "nba.columns\n",
    "# s.columns"
   ]
  },
  {
   "cell_type": "code",
   "execution_count": null,
   "id": "021f5d45-c92b-4097-bce8-1d3b40500db1",
   "metadata": {},
   "outputs": [],
   "source": [
    "s.axes\n",
    "nba.axes"
   ]
  },
  {
   "cell_type": "code",
   "execution_count": null,
   "id": "b39a11b1-524c-4751-9ac4-9c994909f68f",
   "metadata": {},
   "outputs": [],
   "source": [
    "s.info()"
   ]
  },
  {
   "cell_type": "code",
   "execution_count": null,
   "id": "ddc675f2-9edb-491c-9470-bb5c9b70b6eb",
   "metadata": {},
   "outputs": [],
   "source": [
    "nba.info()"
   ]
  },
  {
   "cell_type": "code",
   "execution_count": null,
   "id": "081d24dc-852e-48e4-9d8b-e52f868aa541",
   "metadata": {},
   "outputs": [],
   "source": [
    "nba.tail()"
   ]
  },
  {
   "cell_type": "markdown",
   "id": "62207b08",
   "metadata": {},
   "source": [
    "## Differences between Shared Methods\n",
    "___\n",
    "- The `sum` method adds a **Series's** values.\n",
    "- On a **DataFrame**, the `sum` method defaults to adding the values by traversing the index (row values).\n",
    "- The `axis` parameter customizes the direction that we add across. Pass `\"columns\"` or `1` to add \"across\" the columns."
   ]
  },
  {
   "cell_type": "code",
   "execution_count": null,
   "id": "04fb2051-2756-4f17-9672-faad84f290f3",
   "metadata": {},
   "outputs": [],
   "source": [
    "revenue = pd.read_csv(\"revenue.csv\", index_col=\"Date\")\n",
    "revenue"
   ]
  },
  {
   "cell_type": "code",
   "execution_count": null,
   "id": "583fc4c9-7d6d-4d88-a520-bc3433e442aa",
   "metadata": {},
   "outputs": [],
   "source": [
    "s = pd.Series([1, 2, 3])\n",
    "s.sum(axis=\"index\")"
   ]
  },
  {
   "cell_type": "markdown",
   "id": "95e30dce",
   "metadata": {},
   "source": [
    "The sum method takes a parameter called `axis` which defaults to `0`. This parameter is used to add the values in a specific direction. If you pass `axis=1`, the method will add the values across the columns. The syntax is `df.sum(axis=1)`."
   ]
  },
  {
   "cell_type": "code",
   "execution_count": null,
   "id": "463a501f-8af3-49e0-93a3-a35327fd3b73",
   "metadata": {},
   "outputs": [],
   "source": [
    "# The revenue DataFrame has only one axis, so the axis parameter is not needed\n",
    "revenue.sum()\n",
    "revenue.sum(axis=\"index\")\n",
    "revenue.sum(axis=\"columns\")"
   ]
  },
  {
   "cell_type": "code",
   "execution_count": null,
   "id": "b5a376f2",
   "metadata": {},
   "outputs": [],
   "source": [
    "# Setting the sum to be calculated on the rows. This is the same as axis=0\n",
    "revenue.sum(axis=\"index\")"
   ]
  },
  {
   "cell_type": "code",
   "execution_count": null,
   "id": "c890d234",
   "metadata": {},
   "outputs": [],
   "source": [
    "revenue.sum(axis=0)"
   ]
  },
  {
   "cell_type": "code",
   "execution_count": null,
   "id": "f8418708",
   "metadata": {},
   "outputs": [],
   "source": [
    "# Setting the sum to be calculated on the columns. This is the same as axis=1\n",
    "revenue.sum(axis=\"columns\")"
   ]
  },
  {
   "cell_type": "code",
   "execution_count": null,
   "id": "795dbdcd",
   "metadata": {},
   "outputs": [],
   "source": [
    "revenue.sum(axis=1)"
   ]
  },
  {
   "cell_type": "code",
   "execution_count": null,
   "id": "d2962977",
   "metadata": {},
   "outputs": [],
   "source": [
    "# if we want to sum all the values in the columns we can use the sum method\n",
    "revenue.sum().sum()"
   ]
  },
  {
   "cell_type": "markdown",
   "id": "b55398f0",
   "metadata": {},
   "source": [
    "## Select One Column from a DataFrame\n",
    "____\n",
    "- We can use attribute syntax (`df.column_name`) to select a column from a **DataFrame**. The syntax will not work if the column name has spaces.\n",
    "- We can also use square bracket syntax (`df[\"column name\"]`) which will work for any column name.\n",
    "- Pandas extracts a column from a **DataFrame** as a **Series**.\n",
    "- The **Series** is a view, so changes to the **Series** *will* affect the **DataFrame**.\n",
    "- Pandas will display a warning if you mutate the **Series**. Use the `copy` method to create a duplicate."
   ]
  },
  {
   "cell_type": "code",
   "execution_count": null,
   "id": "95716d00-dcc4-44fe-9d38-39ab0a2ce782",
   "metadata": {},
   "outputs": [],
   "source": [
    "nba = pd.read_csv(\"nba.csv\")\n",
    "nba.head()"
   ]
  },
  {
   "cell_type": "code",
   "execution_count": null,
   "id": "5be97bda-a164-4435-a662-7c241b1de4d6",
   "metadata": {},
   "outputs": [],
   "source": [
    "nba.Team\n",
    "nba.Salary\n",
    "nba.Name\n",
    "# nba.name\n",
    "type(nba.Name)"
   ]
  },
  {
   "cell_type": "code",
   "execution_count": null,
   "id": "572b9d22-8105-4246-9f35-306d5357da86",
   "metadata": {},
   "outputs": [],
   "source": [
    "nba[\"Team\"]\n",
    "nba[\"Salary\"]"
   ]
  },
  {
   "cell_type": "code",
   "execution_count": null,
   "id": "a3c83066-dbb5-4fea-85c0-f96ae33cb106",
   "metadata": {},
   "outputs": [],
   "source": [
    "names = nba[\"Name\"].copy()\n",
    "names"
   ]
  },
  {
   "cell_type": "code",
   "execution_count": 33,
   "id": "5eb8fb06-8ffc-4492-8d0f-d4912ae9e0af",
   "metadata": {},
   "outputs": [],
   "source": [
    "names.iloc[0] = \"Whatever\""
   ]
  },
  {
   "cell_type": "code",
   "execution_count": null,
   "id": "659e7912-76fa-457d-a8b2-a5911d837fae",
   "metadata": {},
   "outputs": [],
   "source": [
    "names.head()"
   ]
  },
  {
   "cell_type": "code",
   "execution_count": null,
   "id": "b5772ac4-2470-4113-a0b8-9c0046ba4c3a",
   "metadata": {},
   "outputs": [],
   "source": [
    "nba.head()"
   ]
  },
  {
   "cell_type": "markdown",
   "id": "771e31d7",
   "metadata": {},
   "source": [
    "## Select Multiple Columns from a DataFrame\n",
    "____\n",
    "- Use square brackets with a list of names to extract multiple **DataFrame** columns.\n",
    "- Pandas stores the result in a new **DataFrame** (a copy)."
   ]
  },
  {
   "cell_type": "code",
   "execution_count": null,
   "id": "46886e4d-002e-432c-bbd6-4365c56882b3",
   "metadata": {},
   "outputs": [],
   "source": [
    "nba = pd.read_csv(\"nba.csv\")\n",
    "nba.head()"
   ]
  },
  {
   "cell_type": "code",
   "execution_count": null,
   "id": "771c1a66-b619-4b3d-a3be-23c25caafd47",
   "metadata": {},
   "outputs": [],
   "source": [
    "nba[[\"Name\", \"Team\"]]\n",
    "nba[[\"Team\", \"Name\"]]\n",
    "\n",
    "nba[[\"Salary\", \"Team\", \"Name\"]]\n",
    "\n",
    "columns_to_select = [\"Salary\", \"Team\", \"Name\"]\n",
    "nba[columns_to_select]"
   ]
  },
  {
   "cell_type": "code",
   "execution_count": null,
   "id": "83a3498c",
   "metadata": {},
   "outputs": [],
   "source": [
    "nba[columns_to_select].info()"
   ]
  },
  {
   "cell_type": "markdown",
   "id": "7a5e932e",
   "metadata": {},
   "source": [
    "## Add New Column to DataFrame\n",
    "____\n",
    "- Use square bracket extraction syntax with an equal sign to add a new **Series** to a **DataFrame**.\n",
    "- The `insert` method allows us to insert an element at a specific column index.\n",
    "- On the right-hand side, we can reference an existing **DataFrame** column and perform a broadcasting operation on it to create the new **Series**."
   ]
  },
  {
   "cell_type": "code",
   "execution_count": null,
   "id": "14418ecb-5a16-4dd1-83cc-19cdd533f421",
   "metadata": {},
   "outputs": [],
   "source": [
    "nba = pd.read_csv(\"nba.csv\")\n",
    "nba.head()"
   ]
  },
  {
   "cell_type": "code",
   "execution_count": 52,
   "id": "c66ca9b8-5989-48c8-bda2-0946f0ef27ba",
   "metadata": {},
   "outputs": [],
   "source": [
    "nba[\"Sport\"] = \"Basketball\""
   ]
  },
  {
   "cell_type": "markdown",
   "id": "360d804e",
   "metadata": {},
   "source": [
    "The insert method takes three parameters: the index of the column, the name of the column, and the values to insert. The syntax is:\n",
    "\n",
    "`df.insert(loc=column_index, column='column_name', value=values, allow_duplicates=False)`"
   ]
  },
  {
   "cell_type": "code",
   "execution_count": null,
   "id": "7471cc75-63aa-40f1-8cf0-2690c5376d23",
   "metadata": {
    "scrolled": true
   },
   "outputs": [],
   "source": [
    "# nba.insert(loc=3, column=\"Sport\", value=\"Basketball\")\n",
    "nba"
   ]
  },
  {
   "cell_type": "code",
   "execution_count": 53,
   "id": "decd61b6-ad7c-4862-bf6f-d35017be53f9",
   "metadata": {},
   "outputs": [],
   "source": [
    "nba[\"Salary\"] * 2\n",
    "nba[\"Salary\"].mul(2)\n",
    "\n",
    "nba[\"Salary Doubled\"] = nba[\"Salary\"].mul(2)"
   ]
  },
  {
   "cell_type": "code",
   "execution_count": null,
   "id": "964db4fe-194c-43d0-836a-88fd261bef20",
   "metadata": {},
   "outputs": [],
   "source": [
    "nba"
   ]
  },
  {
   "cell_type": "code",
   "execution_count": 55,
   "id": "0adba0cc-4a40-402e-b560-68324e40395b",
   "metadata": {},
   "outputs": [],
   "source": [
    "nba[\"Salary\"] - 5000000\n",
    "nba[\"Salary\"].sub(5000000)\n",
    "\n",
    "nba[\"New Salary\"] = nba[\"Salary\"].sub(5000000)"
   ]
  },
  {
   "cell_type": "code",
   "execution_count": null,
   "id": "fc21c80f-c8d6-4f68-b764-04d21716795c",
   "metadata": {},
   "outputs": [],
   "source": [
    "nba"
   ]
  },
  {
   "cell_type": "markdown",
   "id": "d98d7a8c",
   "metadata": {},
   "source": [
    "## A Review of the value_counts Method\n",
    "- The `value_counts` method counts the number of times that each unique value occurs in a **Series**.\n",
    "\n",
    "- The syntax is `s.value_counts()`. \n",
    "- Note that it can take a `normalize` parameter that will return the relative frequencies of the unique values. The `dropna` parameter will exclude missing values from the count.\n",
    "\n",
    "- The method returns a **Series** with the unique values as the index and the counts as the values."
   ]
  },
  {
   "cell_type": "code",
   "execution_count": null,
   "id": "20b6a7fd-deb2-4095-a09f-3ab98aaed441",
   "metadata": {},
   "outputs": [],
   "source": [
    "nba = pd.read_csv(\"nba.csv\")\n",
    "nba.head()"
   ]
  },
  {
   "cell_type": "code",
   "execution_count": null,
   "id": "04702b40-777a-4da3-84d0-bc5709eb269d",
   "metadata": {},
   "outputs": [],
   "source": [
    "nba[\"Team\"].value_counts()\n",
    "\n",
    "nba[\"Position\"].value_counts()\n",
    "nba[\"Position\"].value_counts(normalize=True)\n",
    "nba[\"Position\"].value_counts(normalize=True) * 100\n",
    "\n",
    "nba[\"Salary\"].value_counts()"
   ]
  },
  {
   "cell_type": "markdown",
   "id": "695a7ffa",
   "metadata": {},
   "source": [
    "## Drop Rows with Missing Values\n",
    "- Pandas uses a `NaN` designation for cells that have a missing value.\n",
    "- The `dropna` method deletes rows with missing values. Its default behavior is to remove a row if it has *any* missing values.\n",
    "- Pass the `how` parameter an argument of \"all\" to delete rows where all the values are `NaN`.\n",
    "- The `subset` parameters customizes/limits the columns that pandas will use to drop rows with missing values.\n",
    "\n",
    "The `dropna` method takes two parameters: `how` and `subset`. The `how` parameter defaults to `any` and can take the values `any` or `all`. The `subset` parameter takes a list of column names to consider when dropping rows. The syntax is:\n",
    "\n",
    "`df.dropna(how='any', subset=['column_name'])`\n",
    "\n"
   ]
  },
  {
   "cell_type": "code",
   "execution_count": null,
   "id": "541d51d1-9c34-4b8a-b65a-b7f736b951f4",
   "metadata": {},
   "outputs": [],
   "source": [
    "nba = pd.read_csv(\"nba.csv\")\n",
    "nba"
   ]
  },
  {
   "cell_type": "code",
   "execution_count": null,
   "id": "08ec7d63-8bcb-46f8-aa30-b2e04e93e8c3",
   "metadata": {},
   "outputs": [],
   "source": [
    "nba.dropna()\n",
    "nba.dropna(how=\"any\")\n",
    "\n",
    "nba.dropna(how=\"all\")\n",
    "\n",
    "nba.dropna(subset=[\"College\"])\n",
    "nba.dropna(subset=[\"College\", \"Salary\"])"
   ]
  },
  {
   "cell_type": "markdown",
   "id": "8d33a3d7",
   "metadata": {},
   "source": [
    "## Fill in Missing Values with the fillna Method\n",
    "- The `fillna` method replaces missing `NaN` values with its argument.\n",
    "- The `fillna` method is available on both **DataFrames** and **Series**.\n",
    "- An extracted **Series** is a view on the original **DataFrame**, but the `fillna` method returns a copy.\n",
    "\n",
    "\n",
    "The syntax is `df.fillna(value=fill_value)`. The `value` parameter is the value that will replace the missing values. The method returns a copy of the **DataFrame** with the missing values replaced."
   ]
  },
  {
   "cell_type": "code",
   "execution_count": null,
   "id": "6d087355-37b8-4348-a223-b0ae4435162e",
   "metadata": {},
   "outputs": [],
   "source": [
    "nba = pd.read_csv(\"nba.csv\").dropna(how=\"all\")\n",
    "nba"
   ]
  },
  {
   "cell_type": "code",
   "execution_count": null,
   "id": "74f0392f-eb9e-4306-82f6-862311030faa",
   "metadata": {},
   "outputs": [],
   "source": [
    "nba.fillna(0)\n",
    "\n",
    "nba[\"Salary\"] = nba[\"Salary\"].fillna(0)"
   ]
  },
  {
   "cell_type": "code",
   "execution_count": null,
   "id": "ff8ffa8c-1868-4444-8455-fb513c3078c2",
   "metadata": {},
   "outputs": [],
   "source": [
    "nba"
   ]
  },
  {
   "cell_type": "code",
   "execution_count": null,
   "id": "735dab76-188e-4389-a13d-9008696a8e8b",
   "metadata": {},
   "outputs": [],
   "source": [
    "nba[\"College\"] = nba[\"College\"].fillna(value=\"Unknown\")"
   ]
  },
  {
   "cell_type": "code",
   "execution_count": null,
   "id": "1ca94c54-9618-44b1-bbcd-dea486f8cd51",
   "metadata": {},
   "outputs": [],
   "source": [
    "nba"
   ]
  },
  {
   "cell_type": "markdown",
   "id": "bc7be33b",
   "metadata": {},
   "source": [
    "## The astype Method I\n",
    "- The `astype` method converts a **Series's** values to a specified type.\n",
    "- Pass in the specified type as either a string or the core Python data type.\n",
    "- Pandas cannot convert `NaN` values to numeric types, so we need to eliminate/replace them before we perform the conversion.\n",
    "- The `dtypes` attribute returns a **Series** with the **DataFrame's** columns and their types."
   ]
  },
  {
   "cell_type": "code",
   "execution_count": null,
   "id": "38f6a68b-abb9-4e32-81b5-6402a2b25eba",
   "metadata": {},
   "outputs": [],
   "source": [
    "nba = pd.read_csv(\"nba.csv\").dropna(how=\"all\")\n",
    "nba[\"Salary\"] = nba[\"Salary\"].fillna(0)\n",
    "nba[\"Weight\"] = nba[\"Weight\"].fillna(0)\n",
    "nba"
   ]
  },
  {
   "cell_type": "code",
   "execution_count": null,
   "id": "9e3ac701-31cf-413b-8987-986c4e20c095",
   "metadata": {},
   "outputs": [],
   "source": [
    "nba.dtypes"
   ]
  },
  {
   "cell_type": "code",
   "execution_count": null,
   "id": "ece08955-111c-4a7f-8590-0ce5cd458359",
   "metadata": {},
   "outputs": [],
   "source": [
    "nba[\"Salary\"].astype(\"int\")\n",
    "nba[\"Salary\"].astype(int)\n",
    "\n",
    "nba[\"Salary\"] = nba[\"Salary\"].astype(int)"
   ]
  },
  {
   "cell_type": "code",
   "execution_count": null,
   "id": "7ec15d0f-5534-4d28-84b5-8475f37a6b19",
   "metadata": {},
   "outputs": [],
   "source": [
    "nba[\"Weight\"] = nba[\"Weight\"].astype(int)"
   ]
  },
  {
   "cell_type": "code",
   "execution_count": null,
   "id": "63a268dc-62b4-4f3d-9eb9-39350338fce5",
   "metadata": {},
   "outputs": [],
   "source": [
    "nba"
   ]
  },
  {
   "cell_type": "markdown",
   "id": "3f6381c2",
   "metadata": {},
   "source": [
    "## The astype Method II\n",
    "- The `category` type is ideal for columns with a limited number of unique values.\n",
    "- The `nunique` method will return a **Series** with the number of unique values in each column.\n",
    "- With categories, pandas does not create a separate value in memory for each \"cell\". Rather, the cells point to a single copy for each unique value."
   ]
  },
  {
   "cell_type": "code",
   "execution_count": null,
   "id": "e8017ea4-a4b9-4068-a0f7-ed86f51fc51f",
   "metadata": {},
   "outputs": [],
   "source": [
    "nba = pd.read_csv(\"nba.csv\").dropna(how =\"all\")\n",
    "nba.tail()"
   ]
  },
  {
   "cell_type": "code",
   "execution_count": null,
   "id": "153dcfe2-77c5-44f7-8b9a-60b50fd78626",
   "metadata": {},
   "outputs": [],
   "source": [
    "nba[\"Team\"].nunique()\n",
    "nba.nunique()"
   ]
  },
  {
   "cell_type": "code",
   "execution_count": null,
   "id": "59b034e0-5fd8-458a-b43c-e9074bb02e29",
   "metadata": {},
   "outputs": [],
   "source": [
    "nba.info()"
   ]
  },
  {
   "cell_type": "code",
   "execution_count": null,
   "id": "3e452a13-d256-4506-9225-a1b6fae39ced",
   "metadata": {},
   "outputs": [],
   "source": [
    "nba[\"Position\"] = nba[\"Position\"].astype(\"category\")"
   ]
  },
  {
   "cell_type": "code",
   "execution_count": null,
   "id": "87f37d8d-a73e-45aa-a166-455b5dcd9fbf",
   "metadata": {},
   "outputs": [],
   "source": [
    "nba[\"Team\"] = nba[\"Team\"].astype(\"category\")"
   ]
  },
  {
   "cell_type": "code",
   "execution_count": null,
   "id": "85e5a7ad-1877-4d58-a6f9-103d2e8dd4fe",
   "metadata": {},
   "outputs": [],
   "source": [
    "30/36"
   ]
  },
  {
   "cell_type": "markdown",
   "id": "8c9851d8",
   "metadata": {},
   "source": [
    "## Sort a DataFrame with the sort_values Method I\n",
    "- The `sort_values` method sorts a **DataFrame** by the values in one or more columns. The default sort is an ascending one (alphabetical for strings).\n",
    "- The first parameter (`by`) expects the column(s) to sort by.\n",
    "- If sorting by a single column, pass a string with its name.\n",
    "- The `ascending` parameter customizes the sort order.\n",
    "- The `na_position` parameter customizes where pandas places `NaN` values."
   ]
  },
  {
   "cell_type": "code",
   "execution_count": null,
   "id": "8cdda111-6a2d-43a1-b098-8dbefe3fbe57",
   "metadata": {},
   "outputs": [],
   "source": [
    "nba = pd.read_csv(\"nba.csv\")\n",
    "nba.tail()"
   ]
  },
  {
   "cell_type": "code",
   "execution_count": null,
   "id": "4f9a8e76-6d45-456a-b7ee-da279ca4b846",
   "metadata": {},
   "outputs": [],
   "source": [
    "nba.sort_values(\"Name\")\n",
    "nba.sort_values(by=\"Name\")\n",
    "nba.sort_values(by=\"Name\", ascending=True)\n",
    "nba.sort_values(by=\"Name\", ascending=False)\n",
    "\n",
    "nba.sort_values(\"Salary\")\n",
    "nba.sort_values(\"Salary\", ascending=False)\n",
    "nba.sort_values(\"Salary\", na_position=\"last\")\n",
    "nba.sort_values(\"Salary\", na_position=\"first\")\n",
    "nba.sort_values(\"Salary\", na_position=\"first\", ascending=False)"
   ]
  },
  {
   "cell_type": "markdown",
   "id": "086886da",
   "metadata": {},
   "source": [
    "## Sort a DataFrame with the sort_values Method II\n",
    "- To sort by multiple columns, pass the `by` parameter a list of column names. Pandas will sort in the specified column order (first to last).\n",
    "- Pass the `ascending` parameter a Boolean to sort all columns in a consistent order (all ascending or all descending).\n",
    "- Pass `ascending` a list to customize the sort order *per* column. The `ascending` list length must match the `by` list."
   ]
  },
  {
   "cell_type": "code",
   "execution_count": null,
   "id": "b666d298-1fee-4372-8775-91353dd0caa6",
   "metadata": {},
   "outputs": [],
   "source": [
    "nba = pd.read_csv(\"nba.csv\")\n",
    "nba.tail()"
   ]
  },
  {
   "cell_type": "code",
   "execution_count": null,
   "id": "da2a2d40-9c78-499a-a0cf-42750443ea54",
   "metadata": {},
   "outputs": [],
   "source": [
    "nba.sort_values([\"Team\", \"Name\"])\n",
    "nba.sort_values(by=[\"Team\", \"Name\"])\n",
    "nba.sort_values(by=[\"Team\", \"Name\"], ascending=True)\n",
    "nba.sort_values(by=[\"Team\", \"Name\"], ascending=False)\n",
    "\n",
    "nba.sort_values(by=[\"Team\", \"Name\"], ascending=[True, False])\n",
    "\n",
    "nba.sort_values([\"Position\", \"Salary\"])\n",
    "nba.sort_values([\"Position\", \"Salary\"], ascending=True)\n",
    "nba.sort_values([\"Position\", \"Salary\"], ascending=False)\n",
    "nba.sort_values([\"Position\", \"Salary\"], ascending=[True, False])\n",
    "nba.sort_values([\"Position\", \"Salary\"], ascending=[False, True])\n",
    "\n",
    "nba = nba.sort_values([\"Position\", \"Salary\"], ascending=[False, True])\n",
    "nba"
   ]
  },
  {
   "cell_type": "markdown",
   "id": "0439e26b",
   "metadata": {},
   "source": [
    "## Sort a DataFrame by its Index\n",
    "- The `sort_index` method sorts the **DataFrame** by its index positions/labels."
   ]
  },
  {
   "cell_type": "code",
   "execution_count": null,
   "id": "b429f999-e4fc-4c1e-84ba-167da47ed5eb",
   "metadata": {},
   "outputs": [],
   "source": [
    "nba = pd.read_csv(\"nba.csv\")\n",
    "nba = nba.sort_values([\"Team\", \"Name\"])\n",
    "nba"
   ]
  },
  {
   "cell_type": "code",
   "execution_count": null,
   "id": "89f28797-2194-44ed-ad24-bff2bd2a92b2",
   "metadata": {},
   "outputs": [],
   "source": [
    "nba.sort_index()\n",
    "nba.sort_index(ascending=True)\n",
    "nba.sort_index(ascending=False)\n",
    "\n",
    "nba = nba.sort_index(ascending=False)"
   ]
  },
  {
   "cell_type": "code",
   "execution_count": null,
   "id": "d4b9a049-502b-4af4-8723-a77832cab037",
   "metadata": {},
   "outputs": [],
   "source": [
    "nba"
   ]
  },
  {
   "cell_type": "markdown",
   "id": "093e0239",
   "metadata": {},
   "source": [
    "## Rank Values with the rank Method\n",
    "- The `rank` method assigns a numeric ranking to each **Series** value.\n",
    "- Pandas will assign the same rank to equal values and create a \"gap\" in the dataset for the ranks."
   ]
  },
  {
   "cell_type": "code",
   "execution_count": 5,
   "id": "8765d174",
   "metadata": {},
   "outputs": [
    {
     "data": {
      "text/html": [
       "<div>\n",
       "<style scoped>\n",
       "    .dataframe tbody tr th:only-of-type {\n",
       "        vertical-align: middle;\n",
       "    }\n",
       "\n",
       "    .dataframe tbody tr th {\n",
       "        vertical-align: top;\n",
       "    }\n",
       "\n",
       "    .dataframe thead th {\n",
       "        text-align: right;\n",
       "    }\n",
       "</style>\n",
       "<table border=\"1\" class=\"dataframe\">\n",
       "  <thead>\n",
       "    <tr style=\"text-align: right;\">\n",
       "      <th></th>\n",
       "      <th>Name</th>\n",
       "      <th>Team</th>\n",
       "      <th>Position</th>\n",
       "      <th>Height</th>\n",
       "      <th>Weight</th>\n",
       "      <th>College</th>\n",
       "      <th>Salary</th>\n",
       "    </tr>\n",
       "  </thead>\n",
       "  <tbody>\n",
       "    <tr>\n",
       "      <th>0</th>\n",
       "      <td>Saddiq Bey</td>\n",
       "      <td>Atlanta Hawks</td>\n",
       "      <td>F</td>\n",
       "      <td>6-7</td>\n",
       "      <td>215.0</td>\n",
       "      <td>Villanova</td>\n",
       "      <td>4556983</td>\n",
       "    </tr>\n",
       "    <tr>\n",
       "      <th>1</th>\n",
       "      <td>Bogdan Bogdanovic</td>\n",
       "      <td>Atlanta Hawks</td>\n",
       "      <td>G</td>\n",
       "      <td>6-5</td>\n",
       "      <td>225.0</td>\n",
       "      <td>Fenerbahce</td>\n",
       "      <td>18700000</td>\n",
       "    </tr>\n",
       "    <tr>\n",
       "      <th>2</th>\n",
       "      <td>Kobe Bufkin</td>\n",
       "      <td>Atlanta Hawks</td>\n",
       "      <td>G</td>\n",
       "      <td>6-5</td>\n",
       "      <td>195.0</td>\n",
       "      <td>Michigan</td>\n",
       "      <td>4094244</td>\n",
       "    </tr>\n",
       "    <tr>\n",
       "      <th>3</th>\n",
       "      <td>Clint Capela</td>\n",
       "      <td>Atlanta Hawks</td>\n",
       "      <td>C</td>\n",
       "      <td>6-10</td>\n",
       "      <td>256.0</td>\n",
       "      <td>Elan Chalon</td>\n",
       "      <td>20616000</td>\n",
       "    </tr>\n",
       "    <tr>\n",
       "      <th>4</th>\n",
       "      <td>Bruno Fernando</td>\n",
       "      <td>Atlanta Hawks</td>\n",
       "      <td>F-C</td>\n",
       "      <td>6-10</td>\n",
       "      <td>240.0</td>\n",
       "      <td>Maryland</td>\n",
       "      <td>2581522</td>\n",
       "    </tr>\n",
       "    <tr>\n",
       "      <th>...</th>\n",
       "      <td>...</td>\n",
       "      <td>...</td>\n",
       "      <td>...</td>\n",
       "      <td>...</td>\n",
       "      <td>...</td>\n",
       "      <td>...</td>\n",
       "      <td>...</td>\n",
       "    </tr>\n",
       "    <tr>\n",
       "      <th>586</th>\n",
       "      <td>Jordan Poole</td>\n",
       "      <td>Washington Wizards</td>\n",
       "      <td>G</td>\n",
       "      <td>6-4</td>\n",
       "      <td>194.0</td>\n",
       "      <td>Michigan</td>\n",
       "      <td>27955357</td>\n",
       "    </tr>\n",
       "    <tr>\n",
       "      <th>587</th>\n",
       "      <td>Ryan Rollins</td>\n",
       "      <td>Washington Wizards</td>\n",
       "      <td>G</td>\n",
       "      <td>6-3</td>\n",
       "      <td>180.0</td>\n",
       "      <td>Toledo</td>\n",
       "      <td>1719864</td>\n",
       "    </tr>\n",
       "    <tr>\n",
       "      <th>588</th>\n",
       "      <td>Landry Shamet</td>\n",
       "      <td>Washington Wizards</td>\n",
       "      <td>G</td>\n",
       "      <td>6-4</td>\n",
       "      <td>190.0</td>\n",
       "      <td>Wichita State</td>\n",
       "      <td>10250000</td>\n",
       "    </tr>\n",
       "    <tr>\n",
       "      <th>589</th>\n",
       "      <td>Tristan Vukcevic</td>\n",
       "      <td>Washington Wizards</td>\n",
       "      <td>F</td>\n",
       "      <td>6-10</td>\n",
       "      <td>220.0</td>\n",
       "      <td>Real Madrid</td>\n",
       "      <td>0</td>\n",
       "    </tr>\n",
       "    <tr>\n",
       "      <th>590</th>\n",
       "      <td>Delon Wright</td>\n",
       "      <td>Washington Wizards</td>\n",
       "      <td>G</td>\n",
       "      <td>6-5</td>\n",
       "      <td>185.0</td>\n",
       "      <td>Utah</td>\n",
       "      <td>8195122</td>\n",
       "    </tr>\n",
       "  </tbody>\n",
       "</table>\n",
       "<p>591 rows × 7 columns</p>\n",
       "</div>"
      ],
      "text/plain": [
       "                  Name                Team Position Height  Weight  \\\n",
       "0           Saddiq Bey       Atlanta Hawks        F    6-7   215.0   \n",
       "1    Bogdan Bogdanovic       Atlanta Hawks        G    6-5   225.0   \n",
       "2          Kobe Bufkin       Atlanta Hawks        G    6-5   195.0   \n",
       "3         Clint Capela       Atlanta Hawks        C   6-10   256.0   \n",
       "4       Bruno Fernando       Atlanta Hawks      F-C   6-10   240.0   \n",
       "..                 ...                 ...      ...    ...     ...   \n",
       "586       Jordan Poole  Washington Wizards        G    6-4   194.0   \n",
       "587       Ryan Rollins  Washington Wizards        G    6-3   180.0   \n",
       "588      Landry Shamet  Washington Wizards        G    6-4   190.0   \n",
       "589   Tristan Vukcevic  Washington Wizards        F   6-10   220.0   \n",
       "590       Delon Wright  Washington Wizards        G    6-5   185.0   \n",
       "\n",
       "           College    Salary  \n",
       "0        Villanova   4556983  \n",
       "1       Fenerbahce  18700000  \n",
       "2         Michigan   4094244  \n",
       "3      Elan Chalon  20616000  \n",
       "4         Maryland   2581522  \n",
       "..             ...       ...  \n",
       "586       Michigan  27955357  \n",
       "587         Toledo   1719864  \n",
       "588  Wichita State  10250000  \n",
       "589    Real Madrid         0  \n",
       "590           Utah   8195122  \n",
       "\n",
       "[591 rows x 7 columns]"
      ]
     },
     "execution_count": 5,
     "metadata": {},
     "output_type": "execute_result"
    }
   ],
   "source": [
    "nba = pd.read_csv(\"nba.csv\").dropna(how=\"all\")\n",
    "nba[\"Salary\"] = nba[\"Salary\"].fillna(0).astype(int)\n",
    "nba"
   ]
  },
  {
   "cell_type": "code",
   "execution_count": 6,
   "id": "dcdb7a22-55d9-45cc-a919-83957bf52823",
   "metadata": {},
   "outputs": [],
   "source": [
    "nba[\"Salary\"].rank()\n",
    "nba[\"Salary\"].rank(ascending=True)\n",
    "nba[\"Salary\"].rank(ascending=False).astype(int)\n",
    "\n",
    "nba[\"Salary Rank\"] = nba[\"Salary\"].rank(ascending=False).astype(int)"
   ]
  },
  {
   "cell_type": "code",
   "execution_count": 7,
   "id": "bbf0e745-976d-4a51-8780-c33e01470991",
   "metadata": {},
   "outputs": [
    {
     "data": {
      "text/html": [
       "<div>\n",
       "<style scoped>\n",
       "    .dataframe tbody tr th:only-of-type {\n",
       "        vertical-align: middle;\n",
       "    }\n",
       "\n",
       "    .dataframe tbody tr th {\n",
       "        vertical-align: top;\n",
       "    }\n",
       "\n",
       "    .dataframe thead th {\n",
       "        text-align: right;\n",
       "    }\n",
       "</style>\n",
       "<table border=\"1\" class=\"dataframe\">\n",
       "  <thead>\n",
       "    <tr style=\"text-align: right;\">\n",
       "      <th></th>\n",
       "      <th>Name</th>\n",
       "      <th>Team</th>\n",
       "      <th>Position</th>\n",
       "      <th>Height</th>\n",
       "      <th>Weight</th>\n",
       "      <th>College</th>\n",
       "      <th>Salary</th>\n",
       "      <th>Salary Rank</th>\n",
       "    </tr>\n",
       "  </thead>\n",
       "  <tbody>\n",
       "    <tr>\n",
       "      <th>175</th>\n",
       "      <td>Stephen Curry</td>\n",
       "      <td>Golden State Warriors</td>\n",
       "      <td>G</td>\n",
       "      <td>6-2</td>\n",
       "      <td>185.0</td>\n",
       "      <td>Davidson</td>\n",
       "      <td>51915615</td>\n",
       "      <td>1</td>\n",
       "    </tr>\n",
       "    <tr>\n",
       "      <th>461</th>\n",
       "      <td>Kevin Durant</td>\n",
       "      <td>Phoenix Suns</td>\n",
       "      <td>F</td>\n",
       "      <td>6-10</td>\n",
       "      <td>240.0</td>\n",
       "      <td>Texas</td>\n",
       "      <td>47649433</td>\n",
       "      <td>2</td>\n",
       "    </tr>\n",
       "    <tr>\n",
       "      <th>261</th>\n",
       "      <td>LeBron James</td>\n",
       "      <td>Los Angeles Lakers</td>\n",
       "      <td>F</td>\n",
       "      <td>6-9</td>\n",
       "      <td>250.0</td>\n",
       "      <td>St. Vincent-St. Mary HS (OH)</td>\n",
       "      <td>47607350</td>\n",
       "      <td>4</td>\n",
       "    </tr>\n",
       "    <tr>\n",
       "      <th>145</th>\n",
       "      <td>Nikola Jokic</td>\n",
       "      <td>Denver Nuggets</td>\n",
       "      <td>C</td>\n",
       "      <td>6-11</td>\n",
       "      <td>284.0</td>\n",
       "      <td>Mega Basket</td>\n",
       "      <td>47607350</td>\n",
       "      <td>4</td>\n",
       "    </tr>\n",
       "    <tr>\n",
       "      <th>436</th>\n",
       "      <td>Joel Embiid</td>\n",
       "      <td>Philadelphia 76ers</td>\n",
       "      <td>C-F</td>\n",
       "      <td>7-0</td>\n",
       "      <td>280.0</td>\n",
       "      <td>Kansas</td>\n",
       "      <td>47607350</td>\n",
       "      <td>4</td>\n",
       "    </tr>\n",
       "    <tr>\n",
       "      <th>456</th>\n",
       "      <td>Bradley Beal</td>\n",
       "      <td>Phoenix Suns</td>\n",
       "      <td>G</td>\n",
       "      <td>6-4</td>\n",
       "      <td>207.0</td>\n",
       "      <td>Florida</td>\n",
       "      <td>46741590</td>\n",
       "      <td>6</td>\n",
       "    </tr>\n",
       "    <tr>\n",
       "      <th>480</th>\n",
       "      <td>Damian Lillard</td>\n",
       "      <td>Portland Trail Blazers</td>\n",
       "      <td>G</td>\n",
       "      <td>6-2</td>\n",
       "      <td>195.0</td>\n",
       "      <td>Weber State</td>\n",
       "      <td>45640084</td>\n",
       "      <td>8</td>\n",
       "    </tr>\n",
       "    <tr>\n",
       "      <th>316</th>\n",
       "      <td>Giannis Antetokounmpo</td>\n",
       "      <td>Milwaukee Bucks</td>\n",
       "      <td>F</td>\n",
       "      <td>7-0</td>\n",
       "      <td>243.0</td>\n",
       "      <td>Filathlitikos</td>\n",
       "      <td>45640084</td>\n",
       "      <td>8</td>\n",
       "    </tr>\n",
       "    <tr>\n",
       "      <th>241</th>\n",
       "      <td>Kawhi Leonard</td>\n",
       "      <td>Los Angeles Clippers</td>\n",
       "      <td>F</td>\n",
       "      <td>6-7</td>\n",
       "      <td>225.0</td>\n",
       "      <td>San Diego State</td>\n",
       "      <td>45640084</td>\n",
       "      <td>8</td>\n",
       "    </tr>\n",
       "    <tr>\n",
       "      <th>239</th>\n",
       "      <td>Paul George</td>\n",
       "      <td>Los Angeles Clippers</td>\n",
       "      <td>F</td>\n",
       "      <td>6-8</td>\n",
       "      <td>220.0</td>\n",
       "      <td>Fresno State</td>\n",
       "      <td>45640084</td>\n",
       "      <td>8</td>\n",
       "    </tr>\n",
       "  </tbody>\n",
       "</table>\n",
       "</div>"
      ],
      "text/plain": [
       "                      Name                    Team Position Height  Weight  \\\n",
       "175          Stephen Curry   Golden State Warriors        G    6-2   185.0   \n",
       "461           Kevin Durant            Phoenix Suns        F   6-10   240.0   \n",
       "261           LeBron James      Los Angeles Lakers        F    6-9   250.0   \n",
       "145           Nikola Jokic          Denver Nuggets        C   6-11   284.0   \n",
       "436            Joel Embiid      Philadelphia 76ers      C-F    7-0   280.0   \n",
       "456           Bradley Beal            Phoenix Suns        G    6-4   207.0   \n",
       "480         Damian Lillard  Portland Trail Blazers        G    6-2   195.0   \n",
       "316  Giannis Antetokounmpo         Milwaukee Bucks        F    7-0   243.0   \n",
       "241          Kawhi Leonard    Los Angeles Clippers        F    6-7   225.0   \n",
       "239            Paul George    Los Angeles Clippers        F    6-8   220.0   \n",
       "\n",
       "                          College    Salary  Salary Rank  \n",
       "175                      Davidson  51915615            1  \n",
       "461                         Texas  47649433            2  \n",
       "261  St. Vincent-St. Mary HS (OH)  47607350            4  \n",
       "145                   Mega Basket  47607350            4  \n",
       "436                        Kansas  47607350            4  \n",
       "456                       Florida  46741590            6  \n",
       "480                   Weber State  45640084            8  \n",
       "316                 Filathlitikos  45640084            8  \n",
       "241               San Diego State  45640084            8  \n",
       "239                  Fresno State  45640084            8  "
      ]
     },
     "execution_count": 7,
     "metadata": {},
     "output_type": "execute_result"
    }
   ],
   "source": [
    "nba.sort_values(\"Salary\", ascending=False).head(10)"
   ]
  },
  {
   "cell_type": "code",
   "execution_count": null,
   "id": "f4118c87-2691-4662-96ff-513a626eaa32",
   "metadata": {},
   "outputs": [],
   "source": [
    "nba.fillna()"
   ]
  },
  {
   "cell_type": "code",
   "execution_count": null,
   "id": "b0f520ff-71ed-4924-8479-dba05a5a5782",
   "metadata": {},
   "outputs": [],
   "source": []
  },
  {
   "cell_type": "code",
   "execution_count": null,
   "id": "2811a88c",
   "metadata": {},
   "outputs": [],
   "source": []
  }
 ],
 "metadata": {
  "kernelspec": {
   "display_name": "data-science-env",
   "language": "python",
   "name": "python3"
  },
  "language_info": {
   "codemirror_mode": {
    "name": "ipython",
    "version": 3
   },
   "file_extension": ".py",
   "mimetype": "text/x-python",
   "name": "python",
   "nbconvert_exporter": "python",
   "pygments_lexer": "ipython3",
   "version": "3.12.6"
  }
 },
 "nbformat": 4,
 "nbformat_minor": 5
}
